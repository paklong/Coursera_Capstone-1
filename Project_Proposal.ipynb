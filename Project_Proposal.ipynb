{
 "cells": [
  {
   "cell_type": "markdown",
   "metadata": {},
   "source": [
    "# Capstone Project Proposal\n",
    "# Relocation Support\n",
    "### Sidclay da Silva\n",
    "### June 2020\n",
    "---"
   ]
  },
  {
   "cell_type": "markdown",
   "metadata": {},
   "source": [
    "### Introduction\n",
    "\n",
    "This notebook contains the project proposal as the Week 4 peer-graded assignment for the Course IBM Applied Data Science Capstone on Coursera, which requires define a problem for the captsone project. The project should make use of the API Foursquare.\n",
    "\n",
    "---"
   ]
  },
  {
   "cell_type": "markdown",
   "metadata": {},
   "source": [
    "### Problem description\n",
    "\n",
    "In our globalised world it is quite common people moving around the take good opportunities, what could be a better position in their companies, new job offer, chance to learn from different cultures or improvements in their quality life.\n",
    "\n",
    "People who has already been in the situation of relocating to a unknown place, somentimes abroad, may have experienced the confusion and doubts to choose a place to live, near to work place or school? Near city downtown or peripheria? Decisions like this normally are also not comming alone, there are lots of stressing tasks to perform, all together.\n",
    "\n",
    "My proposal for this project is to provide support to relocators, or relocation service providers, with the task of choosing a place to live. Using the relocator profile, e.g. family components and life style, and a target geographic location, e.g. new work place, a rank of different places will be provided to the relocator, giving some directions to support during the evaluation process of choosing a place to live.\n",
    "\n",
    "---"
   ]
  },
  {
   "cell_type": "markdown",
   "metadata": {},
   "source": [
    "### Data description\n",
    "\n",
    "The data in this project will include:\n",
    "\n",
    "* __Relocator profile__:\n",
    "\n",
    "    Information required to rank the places according to the relocator preferences, for this project it will be arbitrary defined.\n",
    "    \n",
    "    \n",
    "* __Target location__:\n",
    "\n",
    "    Relocator should define a target location to rank the places, for this project it will be arbitrary defined.\n",
    "    \n",
    "    \n",
    "* __Neighborhoods__:\n",
    "    \n",
    "    Based on the target location a collection of neighborhoods should be created. The internet can be used to search for the neighborhoods using scrape techniques.\n",
    "    \n",
    "    \n",
    "* __Venues__:\n",
    "\n",
    "    For each collected neighborhood a collections of venues should be created, they will be used to rank the neighborhoods. The API Foursquare should be used to collect the venues and their information.\n",
    "    \n",
    "        \n",
    "* __Neighborhoods Rank__:\n",
    "\n",
    "    The rank is going to be created using the venues information in comparison with the relocator profile.\n",
    "    "
   ]
  },
  {
   "cell_type": "code",
   "execution_count": null,
   "metadata": {},
   "outputs": [],
   "source": []
  }
 ],
 "metadata": {
  "kernelspec": {
   "display_name": "Python 3",
   "language": "python",
   "name": "python3"
  },
  "language_info": {
   "codemirror_mode": {
    "name": "ipython",
    "version": 3
   },
   "file_extension": ".py",
   "mimetype": "text/x-python",
   "name": "python",
   "nbconvert_exporter": "python",
   "pygments_lexer": "ipython3",
   "version": "3.8.3"
  }
 },
 "nbformat": 4,
 "nbformat_minor": 4
}
