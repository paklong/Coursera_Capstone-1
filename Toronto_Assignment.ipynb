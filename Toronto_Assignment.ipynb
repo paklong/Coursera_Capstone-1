{
 "cells": [
  {
   "cell_type": "markdown",
   "metadata": {},
   "source": [
    "# IBM Applied Data Science Capstone\n",
    "## Peer-graded Assignment\n",
    "## Segmenting and Clustering Neighborhoods in Toronto\n",
    "### Sidclay da Silva\n",
    "### June 2020\n",
    "---"
   ]
  },
  {
   "cell_type": "markdown",
   "metadata": {},
   "source": [
    "### Introduction\n",
    "\n",
    "This notebook contains the Peer-graded Assignment for the Week 3 for the Course IBM Applied Data Science Capstone on Coursera, which requires to explore, segment, and cluster the neighborhoods in the city of Toronto. In short words, the assignment is composed of three main tasks as following:\n",
    "\n",
    "1. Build a dataframe with the Toronto Postal Codes from a web page.\n",
    "1. Include the coordinates for each neighborhood in the dataframe.\n",
    "1. Explore, cluster and display the neighborhoods clusters on a map.\n",
    "\n",
    "Most of the code could be groupped having shorter notebook, but the objective is to clarify each step, for this reason the code has been broken with Markdown explanations.\n",
    "The tool of my choice to perform this assignment was a Jupyter Notebook on Jupyter Lab. The notebook is going to be available in a GitHub repository allowing peers to grade it.\n",
    "\n",
    "---"
   ]
  },
  {
   "cell_type": "markdown",
   "metadata": {},
   "source": [
    "### Task 1 - Build a dataframe with the Toronto Postal Codes from a web page"
   ]
  },
  {
   "cell_type": "markdown",
   "metadata": {},
   "source": [
    "Import required libraries. For this task the __Requests__ library will be used to send web request, and __BeautifulSoup__ to parse the data from the web."
   ]
  },
  {
   "cell_type": "code",
   "execution_count": 3,
   "metadata": {},
   "outputs": [],
   "source": [
    "import pandas as pd\n",
    "import numpy as np\n",
    "import requests\n",
    "from bs4 import BeautifulSoup"
   ]
  },
  {
   "cell_type": "markdown",
   "metadata": {},
   "source": [
    "Send request to the provided URL and check if data was successfully loaded."
   ]
  },
  {
   "cell_type": "code",
   "execution_count": 4,
   "metadata": {},
   "outputs": [
    {
     "name": "stdout",
     "output_type": "stream",
     "text": [
      "Data loaded, status 200\n"
     ]
    }
   ],
   "source": [
    "# send a request to the URL and store the response\n",
    "raw = requests.get('https://en.wikipedia.org/wiki/List_of_postal_codes_of_Canada:_M')\n",
    "\n",
    "# check if data was loaded [status 200 means success]\n",
    "if raw:\n",
    "    print('Data loaded, status', raw.status_code)\n",
    "else:\n",
    "    print('Error loading data', raw.status_code)"
   ]
  },
  {
   "cell_type": "markdown",
   "metadata": {},
   "source": [
    "Parse the raw data from web using __BeautifulSoup__. The provided page on _Wikipedia_ contains more tables than the required __Toroto Postal Code table__, but it will be the only one to be loaded. The __tag table__ will be used to load only tables from the parsed data, and the __index 0__ will be used to select only the first table, which is the required for this assignment."
   ]
  },
  {
   "cell_type": "code",
   "execution_count": 5,
   "metadata": {},
   "outputs": [],
   "source": [
    "# parse the raw data\n",
    "par = BeautifulSoup(raw.text, 'html.parser')\n",
    "\n",
    "# load only the first table from parsed data [tag 'table' / index 0]\n",
    "par_table = par.findAll('table')[0]"
   ]
  },
  {
   "cell_type": "markdown",
   "metadata": {},
   "source": [
    "Check the number of columns and their headers. The headers will be used to name the dataframe columns, the __tag th__ will be used to select them when runnig a loop."
   ]
  },
  {
   "cell_type": "code",
   "execution_count": 6,
   "metadata": {},
   "outputs": [
    {
     "name": "stdout",
     "output_type": "stream",
     "text": [
      "The source table has 3 columns\n"
     ]
    },
    {
     "data": {
      "text/plain": [
       "[<th>Postal Code\n",
       " </th>,\n",
       " <th>Borough\n",
       " </th>,\n",
       " <th>Neighborhood\n",
       " </th>]"
      ]
     },
     "execution_count": 6,
     "metadata": {},
     "output_type": "execute_result"
    }
   ],
   "source": [
    "# print the number of columns and the columns' headers\n",
    "print('The source table has {} columns'.format(len(par_table.find_all('th'))))\n",
    "par_table.find_all('th')"
   ]
  },
  {
   "cell_type": "markdown",
   "metadata": {},
   "source": [
    "Store the the columns' headers in a list."
   ]
  },
  {
   "cell_type": "code",
   "execution_count": 7,
   "metadata": {},
   "outputs": [
    {
     "data": {
      "text/plain": [
       "['Postal Code\\n', 'Borough\\n', 'Neighborhood\\n']"
      ]
     },
     "execution_count": 7,
     "metadata": {},
     "output_type": "execute_result"
    }
   ],
   "source": [
    "# define a empty list object\n",
    "headers = list()\n",
    "\n",
    "# run a loop to append the headers to the list [tag 'th']\n",
    "for h in par_table.find_all('th'):\n",
    "    headers.append(h.get_text())\n",
    "\n",
    "# check the headers\n",
    "headers"
   ]
  },
  {
   "cell_type": "markdown",
   "metadata": {},
   "source": [
    "Unfortunatelly the *get_text()* also returned unwanted characters, suchs as __'\\n'__, they wiil be removed as the blank spaces between words, to be used as dataframe column names."
   ]
  },
  {
   "cell_type": "code",
   "execution_count": 8,
   "metadata": {},
   "outputs": [
    {
     "data": {
      "text/plain": [
       "['PostalCode', 'Borough', 'Neighborhood']"
      ]
     },
     "execution_count": 8,
     "metadata": {},
     "output_type": "execute_result"
    }
   ],
   "source": [
    "# run a loop to remove the '\\n' from headers\n",
    "for i, h in enumerate(headers):\n",
    "    headers[i] = h.replace('\\n','')\n",
    "\n",
    "# run a loop to remove the blank spaces between words\n",
    "for i, h in enumerate(headers):\n",
    "    headers[i] = h.replace(' ','')\n",
    "\n",
    "# check the clean headers\n",
    "headers"
   ]
  },
  {
   "cell_type": "markdown",
   "metadata": {},
   "source": [
    "Create an empty dataframe using the table headers as column names."
   ]
  },
  {
   "cell_type": "code",
   "execution_count": 9,
   "metadata": {},
   "outputs": [
    {
     "data": {
      "text/html": [
       "<div>\n",
       "<style scoped>\n",
       "    .dataframe tbody tr th:only-of-type {\n",
       "        vertical-align: middle;\n",
       "    }\n",
       "\n",
       "    .dataframe tbody tr th {\n",
       "        vertical-align: top;\n",
       "    }\n",
       "\n",
       "    .dataframe thead th {\n",
       "        text-align: right;\n",
       "    }\n",
       "</style>\n",
       "<table border=\"1\" class=\"dataframe\">\n",
       "  <thead>\n",
       "    <tr style=\"text-align: right;\">\n",
       "      <th></th>\n",
       "      <th>PostalCode</th>\n",
       "      <th>Borough</th>\n",
       "      <th>Neighborhood</th>\n",
       "    </tr>\n",
       "  </thead>\n",
       "  <tbody>\n",
       "  </tbody>\n",
       "</table>\n",
       "</div>"
      ],
      "text/plain": [
       "Empty DataFrame\n",
       "Columns: [PostalCode, Borough, Neighborhood]\n",
       "Index: []"
      ]
     },
     "execution_count": 9,
     "metadata": {},
     "output_type": "execute_result"
    }
   ],
   "source": [
    "pcode = pd.DataFrame(columns=headers)\n",
    "pcode.reset_index()\n",
    "pcode"
   ]
  },
  {
   "cell_type": "markdown",
   "metadata": {},
   "source": [
    "Before populating the dataframe with the postal code data, first check how many rows the tables contains, excluding the header, the __tag tr__ will be used for this."
   ]
  },
  {
   "cell_type": "code",
   "execution_count": 10,
   "metadata": {},
   "outputs": [
    {
     "name": "stdout",
     "output_type": "stream",
     "text": [
      "The source table has 180 rows\n"
     ]
    }
   ],
   "source": [
    "# print the number of rows the table contains\n",
    "print('The source table has {} rows'.format(len(par_table.find_all('tr'))-1))"
   ]
  },
  {
   "cell_type": "markdown",
   "metadata": {},
   "source": [
    "Populate the dataframe can be done running a nested loop. The first level will run by row, the __tag tr__ will be used to identify them,  for each row the second level will run on column, the __tag td__ will be used as identification. The data will be stored temporary in a list, then after reading each row, the list will stored into the dataframe, in case of Borough is not assigned the complete row will be ignored."
   ]
  },
  {
   "cell_type": "code",
   "execution_count": 11,
   "metadata": {},
   "outputs": [
    {
     "name": "stdout",
     "output_type": "stream",
     "text": [
      "Dataframe populated.\n"
     ]
    }
   ],
   "source": [
    "# run a loop by row [tag 'tr']\n",
    "for i, row in enumerate(par_table.find_all('tr')):\n",
    "    # skip the first row [headers]\n",
    "    if i > 0:\n",
    "        # create an empty list\n",
    "        d = list()\n",
    "        \n",
    "        # run a loop by column for the current row [tag 'td']\n",
    "        for column in row.find_all('td'):\n",
    "            # append the text of current cell to the list, already removing the '\\n'\n",
    "            d.append(column.get_text().replace('\\n',''))\n",
    "\n",
    "        # if Borough is not 'not assigned' then store the list into the dataframe \n",
    "        if d[1].lower()!='not assigned':\n",
    "            pcode = pcode.append(pd.Series(d, index = pcode.columns), ignore_index=True)\n",
    "            \n",
    "# inform when it is finished\n",
    "print('Dataframe populated.')"
   ]
  },
  {
   "cell_type": "markdown",
   "metadata": {},
   "source": [
    "Check the first 10 observations in the dataframe."
   ]
  },
  {
   "cell_type": "code",
   "execution_count": 12,
   "metadata": {},
   "outputs": [
    {
     "data": {
      "text/html": [
       "<div>\n",
       "<style scoped>\n",
       "    .dataframe tbody tr th:only-of-type {\n",
       "        vertical-align: middle;\n",
       "    }\n",
       "\n",
       "    .dataframe tbody tr th {\n",
       "        vertical-align: top;\n",
       "    }\n",
       "\n",
       "    .dataframe thead th {\n",
       "        text-align: right;\n",
       "    }\n",
       "</style>\n",
       "<table border=\"1\" class=\"dataframe\">\n",
       "  <thead>\n",
       "    <tr style=\"text-align: right;\">\n",
       "      <th></th>\n",
       "      <th>PostalCode</th>\n",
       "      <th>Borough</th>\n",
       "      <th>Neighborhood</th>\n",
       "    </tr>\n",
       "  </thead>\n",
       "  <tbody>\n",
       "    <tr>\n",
       "      <th>0</th>\n",
       "      <td>M3A</td>\n",
       "      <td>North York</td>\n",
       "      <td>Parkwoods</td>\n",
       "    </tr>\n",
       "    <tr>\n",
       "      <th>1</th>\n",
       "      <td>M4A</td>\n",
       "      <td>North York</td>\n",
       "      <td>Victoria Village</td>\n",
       "    </tr>\n",
       "    <tr>\n",
       "      <th>2</th>\n",
       "      <td>M5A</td>\n",
       "      <td>Downtown Toronto</td>\n",
       "      <td>Regent Park, Harbourfront</td>\n",
       "    </tr>\n",
       "    <tr>\n",
       "      <th>3</th>\n",
       "      <td>M6A</td>\n",
       "      <td>North York</td>\n",
       "      <td>Lawrence Manor, Lawrence Heights</td>\n",
       "    </tr>\n",
       "    <tr>\n",
       "      <th>4</th>\n",
       "      <td>M7A</td>\n",
       "      <td>Downtown Toronto</td>\n",
       "      <td>Queen's Park, Ontario Provincial Government</td>\n",
       "    </tr>\n",
       "    <tr>\n",
       "      <th>5</th>\n",
       "      <td>M9A</td>\n",
       "      <td>Etobicoke</td>\n",
       "      <td>Islington Avenue, Humber Valley Village</td>\n",
       "    </tr>\n",
       "    <tr>\n",
       "      <th>6</th>\n",
       "      <td>M1B</td>\n",
       "      <td>Scarborough</td>\n",
       "      <td>Malvern, Rouge</td>\n",
       "    </tr>\n",
       "    <tr>\n",
       "      <th>7</th>\n",
       "      <td>M3B</td>\n",
       "      <td>North York</td>\n",
       "      <td>Don Mills</td>\n",
       "    </tr>\n",
       "    <tr>\n",
       "      <th>8</th>\n",
       "      <td>M4B</td>\n",
       "      <td>East York</td>\n",
       "      <td>Parkview Hill, Woodbine Gardens</td>\n",
       "    </tr>\n",
       "    <tr>\n",
       "      <th>9</th>\n",
       "      <td>M5B</td>\n",
       "      <td>Downtown Toronto</td>\n",
       "      <td>Garden District, Ryerson</td>\n",
       "    </tr>\n",
       "  </tbody>\n",
       "</table>\n",
       "</div>"
      ],
      "text/plain": [
       "  PostalCode           Borough                                 Neighborhood\n",
       "0        M3A        North York                                    Parkwoods\n",
       "1        M4A        North York                             Victoria Village\n",
       "2        M5A  Downtown Toronto                    Regent Park, Harbourfront\n",
       "3        M6A        North York             Lawrence Manor, Lawrence Heights\n",
       "4        M7A  Downtown Toronto  Queen's Park, Ontario Provincial Government\n",
       "5        M9A         Etobicoke      Islington Avenue, Humber Valley Village\n",
       "6        M1B       Scarborough                               Malvern, Rouge\n",
       "7        M3B        North York                                    Don Mills\n",
       "8        M4B         East York              Parkview Hill, Woodbine Gardens\n",
       "9        M5B  Downtown Toronto                     Garden District, Ryerson"
      ]
     },
     "execution_count": 12,
     "metadata": {},
     "output_type": "execute_result"
    }
   ],
   "source": [
    "pcode.head(10)"
   ]
  },
  {
   "cell_type": "markdown",
   "metadata": {},
   "source": [
    "Quick resume of the data."
   ]
  },
  {
   "cell_type": "code",
   "execution_count": 13,
   "metadata": {},
   "outputs": [
    {
     "name": "stdout",
     "output_type": "stream",
     "text": [
      "There are 103 unique postal codes.\n",
      "There are 10 unique boroughs.\n"
     ]
    }
   ],
   "source": [
    "print('There are {} unique postal codes.'.format(len(pcode['PostalCode'].unique())))\n",
    "print('There are {} unique boroughs.'.format(len(pcode['Borough'].unique())))"
   ]
  },
  {
   "cell_type": "markdown",
   "metadata": {},
   "source": [
    "Check how many observations the dataframe contains."
   ]
  },
  {
   "cell_type": "code",
   "execution_count": 15,
   "metadata": {},
   "outputs": [
    {
     "data": {
      "text/plain": [
       "(103, 3)"
      ]
     },
     "execution_count": 15,
     "metadata": {},
     "output_type": "execute_result"
    }
   ],
   "source": [
    "pcode.shape"
   ]
  },
  {
   "cell_type": "markdown",
   "metadata": {},
   "source": [
    "This completes the __Task 1__.\n",
    "\n",
    "---"
   ]
  },
  {
   "cell_type": "markdown",
   "metadata": {},
   "source": [
    "### Task 2. Include the coordinates for each neighborhood in the dataframe."
   ]
  },
  {
   "cell_type": "markdown",
   "metadata": {},
   "source": [
    "Import required library. For this task the __PGeocode__ will be used to get the coordinates, latitude and longitude."
   ]
  },
  {
   "cell_type": "code",
   "execution_count": 16,
   "metadata": {},
   "outputs": [],
   "source": [
    "import pgeocode"
   ]
  },
  {
   "cell_type": "markdown",
   "metadata": {},
   "source": [
    "Get the coordinates for each neighborhood in the Toronto Postal Code dataframe. It will be accomplished using the __query_postal_code__ from __pgeocode__, which only requires a list of target postal codes as input. Its output is a Pandas Data Frame containing among others latitude and longitude information."
   ]
  },
  {
   "cell_type": "code",
   "execution_count": 17,
   "metadata": {},
   "outputs": [
    {
     "name": "stdout",
     "output_type": "stream",
     "text": [
      "Coordinates loaded.\n"
     ]
    }
   ],
   "source": [
    "# define the user agent\n",
    "geol = pgeocode.Nominatim('ca')\n",
    "\n",
    "# get the geo data\n",
    "loct = geol.query_postal_code(pcode['PostalCode'].tolist())\n",
    "\n",
    "# inform when it is finished\n",
    "print('Coordinates loaded.')"
   ]
  },
  {
   "cell_type": "markdown",
   "metadata": {},
   "source": [
    "Check the first 10 returned observations."
   ]
  },
  {
   "cell_type": "code",
   "execution_count": 18,
   "metadata": {},
   "outputs": [
    {
     "data": {
      "text/html": [
       "<div>\n",
       "<style scoped>\n",
       "    .dataframe tbody tr th:only-of-type {\n",
       "        vertical-align: middle;\n",
       "    }\n",
       "\n",
       "    .dataframe tbody tr th {\n",
       "        vertical-align: top;\n",
       "    }\n",
       "\n",
       "    .dataframe thead th {\n",
       "        text-align: right;\n",
       "    }\n",
       "</style>\n",
       "<table border=\"1\" class=\"dataframe\">\n",
       "  <thead>\n",
       "    <tr style=\"text-align: right;\">\n",
       "      <th></th>\n",
       "      <th>postal_code</th>\n",
       "      <th>country code</th>\n",
       "      <th>place_name</th>\n",
       "      <th>state_name</th>\n",
       "      <th>state_code</th>\n",
       "      <th>county_name</th>\n",
       "      <th>county_code</th>\n",
       "      <th>community_name</th>\n",
       "      <th>community_code</th>\n",
       "      <th>latitude</th>\n",
       "      <th>longitude</th>\n",
       "      <th>accuracy</th>\n",
       "    </tr>\n",
       "  </thead>\n",
       "  <tbody>\n",
       "    <tr>\n",
       "      <th>0</th>\n",
       "      <td>M3A</td>\n",
       "      <td>CA</td>\n",
       "      <td>North York (York Heights / Victoria Village / ...</td>\n",
       "      <td>Ontario</td>\n",
       "      <td>ON</td>\n",
       "      <td>North York</td>\n",
       "      <td>NaN</td>\n",
       "      <td>NaN</td>\n",
       "      <td>NaN</td>\n",
       "      <td>43.7545</td>\n",
       "      <td>-79.3300</td>\n",
       "      <td>1.0</td>\n",
       "    </tr>\n",
       "    <tr>\n",
       "      <th>1</th>\n",
       "      <td>M4A</td>\n",
       "      <td>CA</td>\n",
       "      <td>North York (Sweeney Park / Wigmore Park)</td>\n",
       "      <td>Ontario</td>\n",
       "      <td>ON</td>\n",
       "      <td>NaN</td>\n",
       "      <td>NaN</td>\n",
       "      <td>NaN</td>\n",
       "      <td>NaN</td>\n",
       "      <td>43.7276</td>\n",
       "      <td>-79.3148</td>\n",
       "      <td>6.0</td>\n",
       "    </tr>\n",
       "    <tr>\n",
       "      <th>2</th>\n",
       "      <td>M5A</td>\n",
       "      <td>CA</td>\n",
       "      <td>Downtown Toronto (Regent Park / Port of Toronto)</td>\n",
       "      <td>Ontario</td>\n",
       "      <td>ON</td>\n",
       "      <td>Toronto</td>\n",
       "      <td>8133394.0</td>\n",
       "      <td>NaN</td>\n",
       "      <td>NaN</td>\n",
       "      <td>43.6555</td>\n",
       "      <td>-79.3626</td>\n",
       "      <td>6.0</td>\n",
       "    </tr>\n",
       "    <tr>\n",
       "      <th>3</th>\n",
       "      <td>M6A</td>\n",
       "      <td>CA</td>\n",
       "      <td>North York (Lawrence Manor / Lawrence Heights)</td>\n",
       "      <td>Ontario</td>\n",
       "      <td>ON</td>\n",
       "      <td>North York</td>\n",
       "      <td>NaN</td>\n",
       "      <td>NaN</td>\n",
       "      <td>NaN</td>\n",
       "      <td>43.7223</td>\n",
       "      <td>-79.4504</td>\n",
       "      <td>6.0</td>\n",
       "    </tr>\n",
       "    <tr>\n",
       "      <th>4</th>\n",
       "      <td>M7A</td>\n",
       "      <td>CA</td>\n",
       "      <td>Queen's Park Ontario Provincial Government</td>\n",
       "      <td>Ontario</td>\n",
       "      <td>ON</td>\n",
       "      <td>NaN</td>\n",
       "      <td>NaN</td>\n",
       "      <td>NaN</td>\n",
       "      <td>NaN</td>\n",
       "      <td>43.6641</td>\n",
       "      <td>-79.3889</td>\n",
       "      <td>NaN</td>\n",
       "    </tr>\n",
       "    <tr>\n",
       "      <th>5</th>\n",
       "      <td>M9A</td>\n",
       "      <td>CA</td>\n",
       "      <td>Etobicoke (Islington Avenue)</td>\n",
       "      <td>Ontario</td>\n",
       "      <td>ON</td>\n",
       "      <td>Etobicoke</td>\n",
       "      <td>NaN</td>\n",
       "      <td>NaN</td>\n",
       "      <td>NaN</td>\n",
       "      <td>43.6662</td>\n",
       "      <td>-79.5282</td>\n",
       "      <td>6.0</td>\n",
       "    </tr>\n",
       "    <tr>\n",
       "      <th>6</th>\n",
       "      <td>M1B</td>\n",
       "      <td>CA</td>\n",
       "      <td>Scarborough (Malvern / Rouge River)</td>\n",
       "      <td>Ontario</td>\n",
       "      <td>ON</td>\n",
       "      <td>Scarborough</td>\n",
       "      <td>NaN</td>\n",
       "      <td>NaN</td>\n",
       "      <td>NaN</td>\n",
       "      <td>43.8113</td>\n",
       "      <td>-79.1930</td>\n",
       "      <td>6.0</td>\n",
       "    </tr>\n",
       "    <tr>\n",
       "      <th>7</th>\n",
       "      <td>M3B</td>\n",
       "      <td>CA</td>\n",
       "      <td>Don Mills North</td>\n",
       "      <td>Ontario</td>\n",
       "      <td>ON</td>\n",
       "      <td>Don Mills</td>\n",
       "      <td>NaN</td>\n",
       "      <td>NaN</td>\n",
       "      <td>NaN</td>\n",
       "      <td>43.7450</td>\n",
       "      <td>-79.3590</td>\n",
       "      <td>4.0</td>\n",
       "    </tr>\n",
       "    <tr>\n",
       "      <th>8</th>\n",
       "      <td>M4B</td>\n",
       "      <td>CA</td>\n",
       "      <td>East York (Parkview Hill / Woodbine Gardens)</td>\n",
       "      <td>Ontario</td>\n",
       "      <td>ON</td>\n",
       "      <td>East York</td>\n",
       "      <td>NaN</td>\n",
       "      <td>NaN</td>\n",
       "      <td>NaN</td>\n",
       "      <td>43.7063</td>\n",
       "      <td>-79.3094</td>\n",
       "      <td>6.0</td>\n",
       "    </tr>\n",
       "    <tr>\n",
       "      <th>9</th>\n",
       "      <td>M5B</td>\n",
       "      <td>CA</td>\n",
       "      <td>Downtown Toronto (Ryerson)</td>\n",
       "      <td>Ontario</td>\n",
       "      <td>ON</td>\n",
       "      <td>Toronto</td>\n",
       "      <td>8133394.0</td>\n",
       "      <td>NaN</td>\n",
       "      <td>NaN</td>\n",
       "      <td>43.6572</td>\n",
       "      <td>-79.3783</td>\n",
       "      <td>6.0</td>\n",
       "    </tr>\n",
       "  </tbody>\n",
       "</table>\n",
       "</div>"
      ],
      "text/plain": [
       "  postal_code country code                                         place_name  \\\n",
       "0         M3A           CA  North York (York Heights / Victoria Village / ...   \n",
       "1         M4A           CA           North York (Sweeney Park / Wigmore Park)   \n",
       "2         M5A           CA   Downtown Toronto (Regent Park / Port of Toronto)   \n",
       "3         M6A           CA     North York (Lawrence Manor / Lawrence Heights)   \n",
       "4         M7A           CA         Queen's Park Ontario Provincial Government   \n",
       "5         M9A           CA                       Etobicoke (Islington Avenue)   \n",
       "6         M1B           CA                Scarborough (Malvern / Rouge River)   \n",
       "7         M3B           CA                                    Don Mills North   \n",
       "8         M4B           CA       East York (Parkview Hill / Woodbine Gardens)   \n",
       "9         M5B           CA                         Downtown Toronto (Ryerson)   \n",
       "\n",
       "  state_name state_code  county_name  county_code community_name  \\\n",
       "0    Ontario         ON  North York           NaN            NaN   \n",
       "1    Ontario         ON          NaN          NaN            NaN   \n",
       "2    Ontario         ON      Toronto    8133394.0            NaN   \n",
       "3    Ontario         ON  North York           NaN            NaN   \n",
       "4    Ontario         ON          NaN          NaN            NaN   \n",
       "5    Ontario         ON    Etobicoke          NaN            NaN   \n",
       "6    Ontario         ON  Scarborough          NaN            NaN   \n",
       "7    Ontario         ON   Don Mills           NaN            NaN   \n",
       "8    Ontario         ON   East York           NaN            NaN   \n",
       "9    Ontario         ON      Toronto    8133394.0            NaN   \n",
       "\n",
       "   community_code  latitude  longitude  accuracy  \n",
       "0             NaN   43.7545   -79.3300       1.0  \n",
       "1             NaN   43.7276   -79.3148       6.0  \n",
       "2             NaN   43.6555   -79.3626       6.0  \n",
       "3             NaN   43.7223   -79.4504       6.0  \n",
       "4             NaN   43.6641   -79.3889       NaN  \n",
       "5             NaN   43.6662   -79.5282       6.0  \n",
       "6             NaN   43.8113   -79.1930       6.0  \n",
       "7             NaN   43.7450   -79.3590       4.0  \n",
       "8             NaN   43.7063   -79.3094       6.0  \n",
       "9             NaN   43.6572   -79.3783       6.0  "
      ]
     },
     "execution_count": 18,
     "metadata": {},
     "output_type": "execute_result"
    }
   ],
   "source": [
    "loct.head(10)"
   ]
  },
  {
   "cell_type": "markdown",
   "metadata": {},
   "source": [
    "Update the Toronto Postal Code dataframe with the coordinates. It will be done by simply adding the two returned columns, latitude and ongitude, at the end of the Toronto Postal Code dataframe."
   ]
  },
  {
   "cell_type": "code",
   "execution_count": 19,
   "metadata": {},
   "outputs": [
    {
     "name": "stdout",
     "output_type": "stream",
     "text": [
      "Coordinates added to the dataframe.\n"
     ]
    }
   ],
   "source": [
    "# add the two returned columns to the dataframe\n",
    "pcode['Latitude'] = loct.latitude\n",
    "pcode['Longitude'] = loct.longitude\n",
    "\n",
    "print('Coordinates added to the dataframe.')"
   ]
  },
  {
   "cell_type": "markdown",
   "metadata": {},
   "source": [
    "Check the first 10 observations in the dataframe."
   ]
  },
  {
   "cell_type": "code",
   "execution_count": 20,
   "metadata": {},
   "outputs": [
    {
     "data": {
      "text/html": [
       "<div>\n",
       "<style scoped>\n",
       "    .dataframe tbody tr th:only-of-type {\n",
       "        vertical-align: middle;\n",
       "    }\n",
       "\n",
       "    .dataframe tbody tr th {\n",
       "        vertical-align: top;\n",
       "    }\n",
       "\n",
       "    .dataframe thead th {\n",
       "        text-align: right;\n",
       "    }\n",
       "</style>\n",
       "<table border=\"1\" class=\"dataframe\">\n",
       "  <thead>\n",
       "    <tr style=\"text-align: right;\">\n",
       "      <th></th>\n",
       "      <th>PostalCode</th>\n",
       "      <th>Borough</th>\n",
       "      <th>Neighborhood</th>\n",
       "      <th>Latitude</th>\n",
       "      <th>Longitude</th>\n",
       "    </tr>\n",
       "  </thead>\n",
       "  <tbody>\n",
       "    <tr>\n",
       "      <th>0</th>\n",
       "      <td>M3A</td>\n",
       "      <td>North York</td>\n",
       "      <td>Parkwoods</td>\n",
       "      <td>43.7545</td>\n",
       "      <td>-79.3300</td>\n",
       "    </tr>\n",
       "    <tr>\n",
       "      <th>1</th>\n",
       "      <td>M4A</td>\n",
       "      <td>North York</td>\n",
       "      <td>Victoria Village</td>\n",
       "      <td>43.7276</td>\n",
       "      <td>-79.3148</td>\n",
       "    </tr>\n",
       "    <tr>\n",
       "      <th>2</th>\n",
       "      <td>M5A</td>\n",
       "      <td>Downtown Toronto</td>\n",
       "      <td>Regent Park, Harbourfront</td>\n",
       "      <td>43.6555</td>\n",
       "      <td>-79.3626</td>\n",
       "    </tr>\n",
       "    <tr>\n",
       "      <th>3</th>\n",
       "      <td>M6A</td>\n",
       "      <td>North York</td>\n",
       "      <td>Lawrence Manor, Lawrence Heights</td>\n",
       "      <td>43.7223</td>\n",
       "      <td>-79.4504</td>\n",
       "    </tr>\n",
       "    <tr>\n",
       "      <th>4</th>\n",
       "      <td>M7A</td>\n",
       "      <td>Downtown Toronto</td>\n",
       "      <td>Queen's Park, Ontario Provincial Government</td>\n",
       "      <td>43.6641</td>\n",
       "      <td>-79.3889</td>\n",
       "    </tr>\n",
       "    <tr>\n",
       "      <th>5</th>\n",
       "      <td>M9A</td>\n",
       "      <td>Etobicoke</td>\n",
       "      <td>Islington Avenue, Humber Valley Village</td>\n",
       "      <td>43.6662</td>\n",
       "      <td>-79.5282</td>\n",
       "    </tr>\n",
       "    <tr>\n",
       "      <th>6</th>\n",
       "      <td>M1B</td>\n",
       "      <td>Scarborough</td>\n",
       "      <td>Malvern, Rouge</td>\n",
       "      <td>43.8113</td>\n",
       "      <td>-79.1930</td>\n",
       "    </tr>\n",
       "    <tr>\n",
       "      <th>7</th>\n",
       "      <td>M3B</td>\n",
       "      <td>North York</td>\n",
       "      <td>Don Mills</td>\n",
       "      <td>43.7450</td>\n",
       "      <td>-79.3590</td>\n",
       "    </tr>\n",
       "    <tr>\n",
       "      <th>8</th>\n",
       "      <td>M4B</td>\n",
       "      <td>East York</td>\n",
       "      <td>Parkview Hill, Woodbine Gardens</td>\n",
       "      <td>43.7063</td>\n",
       "      <td>-79.3094</td>\n",
       "    </tr>\n",
       "    <tr>\n",
       "      <th>9</th>\n",
       "      <td>M5B</td>\n",
       "      <td>Downtown Toronto</td>\n",
       "      <td>Garden District, Ryerson</td>\n",
       "      <td>43.6572</td>\n",
       "      <td>-79.3783</td>\n",
       "    </tr>\n",
       "  </tbody>\n",
       "</table>\n",
       "</div>"
      ],
      "text/plain": [
       "  PostalCode           Borough                                 Neighborhood  \\\n",
       "0        M3A        North York                                    Parkwoods   \n",
       "1        M4A        North York                             Victoria Village   \n",
       "2        M5A  Downtown Toronto                    Regent Park, Harbourfront   \n",
       "3        M6A        North York             Lawrence Manor, Lawrence Heights   \n",
       "4        M7A  Downtown Toronto  Queen's Park, Ontario Provincial Government   \n",
       "5        M9A         Etobicoke      Islington Avenue, Humber Valley Village   \n",
       "6        M1B       Scarborough                               Malvern, Rouge   \n",
       "7        M3B        North York                                    Don Mills   \n",
       "8        M4B         East York              Parkview Hill, Woodbine Gardens   \n",
       "9        M5B  Downtown Toronto                     Garden District, Ryerson   \n",
       "\n",
       "   Latitude  Longitude  \n",
       "0   43.7545   -79.3300  \n",
       "1   43.7276   -79.3148  \n",
       "2   43.6555   -79.3626  \n",
       "3   43.7223   -79.4504  \n",
       "4   43.6641   -79.3889  \n",
       "5   43.6662   -79.5282  \n",
       "6   43.8113   -79.1930  \n",
       "7   43.7450   -79.3590  \n",
       "8   43.7063   -79.3094  \n",
       "9   43.6572   -79.3783  "
      ]
     },
     "execution_count": 20,
     "metadata": {},
     "output_type": "execute_result"
    }
   ],
   "source": [
    "pcode.head(10)"
   ]
  },
  {
   "cell_type": "markdown",
   "metadata": {},
   "source": [
    "Check if tere are any missing coordinate."
   ]
  },
  {
   "cell_type": "code",
   "execution_count": 21,
   "metadata": {},
   "outputs": [
    {
     "data": {
      "text/html": [
       "<div>\n",
       "<style scoped>\n",
       "    .dataframe tbody tr th:only-of-type {\n",
       "        vertical-align: middle;\n",
       "    }\n",
       "\n",
       "    .dataframe tbody tr th {\n",
       "        vertical-align: top;\n",
       "    }\n",
       "\n",
       "    .dataframe thead th {\n",
       "        text-align: right;\n",
       "    }\n",
       "</style>\n",
       "<table border=\"1\" class=\"dataframe\">\n",
       "  <thead>\n",
       "    <tr style=\"text-align: right;\">\n",
       "      <th></th>\n",
       "      <th>PostalCode</th>\n",
       "      <th>Borough</th>\n",
       "      <th>Neighborhood</th>\n",
       "      <th>Latitude</th>\n",
       "      <th>Longitude</th>\n",
       "    </tr>\n",
       "  </thead>\n",
       "  <tbody>\n",
       "    <tr>\n",
       "      <th>76</th>\n",
       "      <td>M7R</td>\n",
       "      <td>Mississauga</td>\n",
       "      <td>Canada Post Gateway Processing Centre</td>\n",
       "      <td>NaN</td>\n",
       "      <td>NaN</td>\n",
       "    </tr>\n",
       "  </tbody>\n",
       "</table>\n",
       "</div>"
      ],
      "text/plain": [
       "   PostalCode      Borough                           Neighborhood  Latitude  \\\n",
       "76        M7R  Mississauga  Canada Post Gateway Processing Centre       NaN   \n",
       "\n",
       "    Longitude  \n",
       "76        NaN  "
      ]
     },
     "execution_count": 21,
     "metadata": {},
     "output_type": "execute_result"
    }
   ],
   "source": [
    "pcode[np.isnan(pcode['Latitude'])]"
   ]
  },
  {
   "cell_type": "markdown",
   "metadata": {},
   "source": [
    "For Postal Code M7R __pgeocode__ could not find the coordinates. The __M7R__ is the postal code for __Canada Post Gateway Processing Centre__, it will be droped out of the postal code dataframe."
   ]
  },
  {
   "cell_type": "code",
   "execution_count": 23,
   "metadata": {},
   "outputs": [
    {
     "data": {
      "text/plain": [
       "(102, 5)"
      ]
     },
     "execution_count": 23,
     "metadata": {},
     "output_type": "execute_result"
    }
   ],
   "source": [
    "didx = pcode[np.isnan(pcode['Latitude'])]['Neighborhood'].index.tolist()\n",
    "pcode = pcode.drop(index=didx)\n",
    "pcode.shape"
   ]
  },
  {
   "cell_type": "markdown",
   "metadata": {},
   "source": [
    "This completes the __Task 2__.\n",
    "\n",
    "---"
   ]
  },
  {
   "cell_type": "markdown",
   "metadata": {},
   "source": [
    "### Task3. Explore, cluster and display the neighborhoods clusters on a map."
   ]
  },
  {
   "cell_type": "markdown",
   "metadata": {},
   "source": [
    "Import required libraries. To create maps, __Folium__ will be used, to handle colors __Matplotlib Colors__ and __Pyplot__ will be used. "
   ]
  },
  {
   "cell_type": "code",
   "execution_count": 24,
   "metadata": {},
   "outputs": [],
   "source": [
    "import folium\n",
    "import matplotlib.colors as mcolors\n",
    "import matplotlib.pyplot as plt"
   ]
  },
  {
   "cell_type": "markdown",
   "metadata": {},
   "source": [
    "A __color table by Borough__ will be created, allowing each Neighborhood to be pointed on the Toronto's map with its Borough specific color. The color list will be create using __Pyplot__, but for each color it creates a list with four values (RGBA format), they will be converted to hexadecimal (HEX format) using __Matplolib Colors__, this way the colors can be used in folium map."
   ]
  },
  {
   "cell_type": "code",
   "execution_count": 25,
   "metadata": {},
   "outputs": [
    {
     "data": {
      "text/html": [
       "<div>\n",
       "<style scoped>\n",
       "    .dataframe tbody tr th:only-of-type {\n",
       "        vertical-align: middle;\n",
       "    }\n",
       "\n",
       "    .dataframe tbody tr th {\n",
       "        vertical-align: top;\n",
       "    }\n",
       "\n",
       "    .dataframe thead th {\n",
       "        text-align: right;\n",
       "    }\n",
       "</style>\n",
       "<table border=\"1\" class=\"dataframe\">\n",
       "  <thead>\n",
       "    <tr style=\"text-align: right;\">\n",
       "      <th></th>\n",
       "      <th>Borough</th>\n",
       "      <th>Color</th>\n",
       "    </tr>\n",
       "  </thead>\n",
       "  <tbody>\n",
       "    <tr>\n",
       "      <th>0</th>\n",
       "      <td>North York</td>\n",
       "      <td>#1f77b4</td>\n",
       "    </tr>\n",
       "    <tr>\n",
       "      <th>1</th>\n",
       "      <td>Downtown Toronto</td>\n",
       "      <td>#ff7f0e</td>\n",
       "    </tr>\n",
       "    <tr>\n",
       "      <th>2</th>\n",
       "      <td>Etobicoke</td>\n",
       "      <td>#2ca02c</td>\n",
       "    </tr>\n",
       "    <tr>\n",
       "      <th>3</th>\n",
       "      <td>Scarborough</td>\n",
       "      <td>#d62728</td>\n",
       "    </tr>\n",
       "    <tr>\n",
       "      <th>4</th>\n",
       "      <td>East York</td>\n",
       "      <td>#8c564b</td>\n",
       "    </tr>\n",
       "    <tr>\n",
       "      <th>5</th>\n",
       "      <td>York</td>\n",
       "      <td>#e377c2</td>\n",
       "    </tr>\n",
       "    <tr>\n",
       "      <th>6</th>\n",
       "      <td>East Toronto</td>\n",
       "      <td>#7f7f7f</td>\n",
       "    </tr>\n",
       "    <tr>\n",
       "      <th>7</th>\n",
       "      <td>West Toronto</td>\n",
       "      <td>#bcbd22</td>\n",
       "    </tr>\n",
       "    <tr>\n",
       "      <th>8</th>\n",
       "      <td>Central Toronto</td>\n",
       "      <td>#17becf</td>\n",
       "    </tr>\n",
       "  </tbody>\n",
       "</table>\n",
       "</div>"
      ],
      "text/plain": [
       "            Borough    Color\n",
       "0        North York  #1f77b4\n",
       "1  Downtown Toronto  #ff7f0e\n",
       "2         Etobicoke  #2ca02c\n",
       "3       Scarborough  #d62728\n",
       "4         East York  #8c564b\n",
       "5              York  #e377c2\n",
       "6      East Toronto  #7f7f7f\n",
       "7      West Toronto  #bcbd22\n",
       "8   Central Toronto  #17becf"
      ]
     },
     "execution_count": 25,
     "metadata": {},
     "output_type": "execute_result"
    }
   ],
   "source": [
    "# create a list of unique boroughs\n",
    "boroughs = pcode['Borough'].unique()\n",
    "\n",
    "# create a color list by borough [RGBA format]\n",
    "# tab10 is the chosen color map \n",
    "trgb = plt.cm.tab10(np.linspace(0, 1, len(boroughs)))\n",
    "\n",
    "# convert the color from RGBA to HEX\n",
    "# RGBA format contains 4 positions, to convert RGB to HEX only the first 3 positions are taken\n",
    "thex = list()\n",
    "for i in range(len(trgb)):\n",
    "    thex.append(mcolors.rgb2hex(trgb[i][:3]))\n",
    "\n",
    "# create a temporary list to connect bouroughs and colors\n",
    "tmplist = list()\n",
    "for b, c in zip(boroughs, thex):\n",
    "    tmplist.append([b,c])\n",
    "\n",
    "# create a dataframe from the temporary list\n",
    "colortable = pd.DataFrame(columns=['Borough','Color'], data=tmplist)\n",
    "\n",
    "# show the borough color table\n",
    "colortable"
   ]
  },
  {
   "cell_type": "markdown",
   "metadata": {},
   "source": [
    "Merge the Toronto Postal Code with the Borough Color Table into a new dataframe using the Borough feature as key."
   ]
  },
  {
   "cell_type": "code",
   "execution_count": 26,
   "metadata": {},
   "outputs": [
    {
     "data": {
      "text/html": [
       "<div>\n",
       "<style scoped>\n",
       "    .dataframe tbody tr th:only-of-type {\n",
       "        vertical-align: middle;\n",
       "    }\n",
       "\n",
       "    .dataframe tbody tr th {\n",
       "        vertical-align: top;\n",
       "    }\n",
       "\n",
       "    .dataframe thead th {\n",
       "        text-align: right;\n",
       "    }\n",
       "</style>\n",
       "<table border=\"1\" class=\"dataframe\">\n",
       "  <thead>\n",
       "    <tr style=\"text-align: right;\">\n",
       "      <th></th>\n",
       "      <th>PostalCode</th>\n",
       "      <th>Borough</th>\n",
       "      <th>Neighborhood</th>\n",
       "      <th>Latitude</th>\n",
       "      <th>Longitude</th>\n",
       "      <th>Color</th>\n",
       "    </tr>\n",
       "  </thead>\n",
       "  <tbody>\n",
       "    <tr>\n",
       "      <th>0</th>\n",
       "      <td>M3A</td>\n",
       "      <td>North York</td>\n",
       "      <td>Parkwoods</td>\n",
       "      <td>43.7545</td>\n",
       "      <td>-79.3300</td>\n",
       "      <td>#1f77b4</td>\n",
       "    </tr>\n",
       "    <tr>\n",
       "      <th>1</th>\n",
       "      <td>M4A</td>\n",
       "      <td>North York</td>\n",
       "      <td>Victoria Village</td>\n",
       "      <td>43.7276</td>\n",
       "      <td>-79.3148</td>\n",
       "      <td>#1f77b4</td>\n",
       "    </tr>\n",
       "    <tr>\n",
       "      <th>2</th>\n",
       "      <td>M6A</td>\n",
       "      <td>North York</td>\n",
       "      <td>Lawrence Manor, Lawrence Heights</td>\n",
       "      <td>43.7223</td>\n",
       "      <td>-79.4504</td>\n",
       "      <td>#1f77b4</td>\n",
       "    </tr>\n",
       "    <tr>\n",
       "      <th>3</th>\n",
       "      <td>M3B</td>\n",
       "      <td>North York</td>\n",
       "      <td>Don Mills</td>\n",
       "      <td>43.7450</td>\n",
       "      <td>-79.3590</td>\n",
       "      <td>#1f77b4</td>\n",
       "    </tr>\n",
       "    <tr>\n",
       "      <th>4</th>\n",
       "      <td>M6B</td>\n",
       "      <td>North York</td>\n",
       "      <td>Glencairn</td>\n",
       "      <td>43.7081</td>\n",
       "      <td>-79.4479</td>\n",
       "      <td>#1f77b4</td>\n",
       "    </tr>\n",
       "    <tr>\n",
       "      <th>5</th>\n",
       "      <td>M3C</td>\n",
       "      <td>North York</td>\n",
       "      <td>Don Mills</td>\n",
       "      <td>43.7334</td>\n",
       "      <td>-79.3329</td>\n",
       "      <td>#1f77b4</td>\n",
       "    </tr>\n",
       "    <tr>\n",
       "      <th>6</th>\n",
       "      <td>M2H</td>\n",
       "      <td>North York</td>\n",
       "      <td>Hillcrest Village</td>\n",
       "      <td>43.8015</td>\n",
       "      <td>-79.3577</td>\n",
       "      <td>#1f77b4</td>\n",
       "    </tr>\n",
       "    <tr>\n",
       "      <th>7</th>\n",
       "      <td>M3H</td>\n",
       "      <td>North York</td>\n",
       "      <td>Bathurst Manor, Wilson Heights, Downsview North</td>\n",
       "      <td>43.7535</td>\n",
       "      <td>-79.4472</td>\n",
       "      <td>#1f77b4</td>\n",
       "    </tr>\n",
       "    <tr>\n",
       "      <th>8</th>\n",
       "      <td>M2J</td>\n",
       "      <td>North York</td>\n",
       "      <td>Fairview, Henry Farm, Oriole</td>\n",
       "      <td>43.7801</td>\n",
       "      <td>-79.3479</td>\n",
       "      <td>#1f77b4</td>\n",
       "    </tr>\n",
       "    <tr>\n",
       "      <th>9</th>\n",
       "      <td>M3J</td>\n",
       "      <td>North York</td>\n",
       "      <td>Northwood Park, York University</td>\n",
       "      <td>43.7694</td>\n",
       "      <td>-79.4921</td>\n",
       "      <td>#1f77b4</td>\n",
       "    </tr>\n",
       "  </tbody>\n",
       "</table>\n",
       "</div>"
      ],
      "text/plain": [
       "  PostalCode     Borough                                     Neighborhood  \\\n",
       "0        M3A  North York                                        Parkwoods   \n",
       "1        M4A  North York                                 Victoria Village   \n",
       "2        M6A  North York                 Lawrence Manor, Lawrence Heights   \n",
       "3        M3B  North York                                        Don Mills   \n",
       "4        M6B  North York                                        Glencairn   \n",
       "5        M3C  North York                                        Don Mills   \n",
       "6        M2H  North York                                Hillcrest Village   \n",
       "7        M3H  North York  Bathurst Manor, Wilson Heights, Downsview North   \n",
       "8        M2J  North York                     Fairview, Henry Farm, Oriole   \n",
       "9        M3J  North York                  Northwood Park, York University   \n",
       "\n",
       "   Latitude  Longitude    Color  \n",
       "0   43.7545   -79.3300  #1f77b4  \n",
       "1   43.7276   -79.3148  #1f77b4  \n",
       "2   43.7223   -79.4504  #1f77b4  \n",
       "3   43.7450   -79.3590  #1f77b4  \n",
       "4   43.7081   -79.4479  #1f77b4  \n",
       "5   43.7334   -79.3329  #1f77b4  \n",
       "6   43.8015   -79.3577  #1f77b4  \n",
       "7   43.7535   -79.4472  #1f77b4  \n",
       "8   43.7801   -79.3479  #1f77b4  \n",
       "9   43.7694   -79.4921  #1f77b4  "
      ]
     },
     "execution_count": 26,
     "metadata": {},
     "output_type": "execute_result"
    }
   ],
   "source": [
    "# merge postal code and color table data frames\n",
    "dfmap = pd.merge(pcode, colortable, on='Borough')\n",
    "\n",
    "# show the first 10 observations\n",
    "dfmap.head(10)"
   ]
  },
  {
   "cell_type": "markdown",
   "metadata": {},
   "source": [
    "Create a Toronto map showing the neighborhoods. Initially the map was centered using the Toronto coordinates, but the neighborhoods on the top right corner were out of the view, and an area without any neighborhood at the bottom portion was visible, I decided to use the coordinates from the neighborhoods in Toronto Postal Code dataframe to center the map, in this way all of them will be visible."
   ]
  },
  {
   "cell_type": "code",
   "execution_count": 27,
   "metadata": {},
   "outputs": [
    {
     "name": "stdout",
     "output_type": "stream",
     "text": [
      "Latitude: 43.7181 , Longitude: -79.3736\n"
     ]
    }
   ],
   "source": [
    "# calculate mid point for latitude and longitude\n",
    "tlat = round((min(pcode['Latitude'])+max(pcode['Latitude']))/2, 4)\n",
    "tlng = round((min(pcode['Longitude'])+max(pcode['Longitude']))/2, 4)\n",
    "\n",
    "# print calculated coordinates\n",
    "print('Latitude: {} , Longitude: {}'.format(tlat, tlng))"
   ]
  },
  {
   "cell_type": "markdown",
   "metadata": {},
   "source": [
    "Create the Toronto map using the calculated coordinates. The __Folium__ library will be used to create it."
   ]
  },
  {
   "cell_type": "code",
   "execution_count": 28,
   "metadata": {},
   "outputs": [],
   "source": [
    "toronto_map = folium.Map(location=[tlat, tlng], zoom_start=11)"
   ]
  },
  {
   "cell_type": "markdown",
   "metadata": {},
   "source": [
    "Create the neighborhoods points on the map, having each one the borough specific color and a label."
   ]
  },
  {
   "cell_type": "code",
   "execution_count": 29,
   "metadata": {},
   "outputs": [],
   "source": [
    "# run a loop through the dataframe creating the points (circle marks)\n",
    "for lat, lng, borough, neighborhood, cl in zip(dfmap['Latitude'], dfmap['Longitude'], dfmap['Borough'], dfmap['Neighborhood'], dfmap['Color']):\n",
    "    # create the label\n",
    "    label = '{}; Borough: {}'.format(neighborhood, borough)\n",
    "    label = folium.Popup(label, parse_html=True)\n",
    "    \n",
    "    # create the circle mark\n",
    "    folium.CircleMarker([lat, lng],\n",
    "                        radius = 5,\n",
    "                        popup = label,\n",
    "                        color = cl,\n",
    "                        fill = True,\n",
    "                        fill_color = cl,\n",
    "                        fill_opacity = 0.3,\n",
    "                        parse_html = False).add_to(toronto_map)"
   ]
  },
  {
   "cell_type": "markdown",
   "metadata": {},
   "source": [
    "Show the map"
   ]
  },
  {
   "cell_type": "code",
   "execution_count": 37,
   "metadata": {},
   "outputs": [
    {
     "data": {
      "text/html": [
       "<div style=\"width:100%;\"><div style=\"position:relative;width:100%;height:0;padding-bottom:60%;\"><span style=\"color:#565656\">Make this Notebook Trusted to load map: File -> Trust Notebook</span><iframe src=\"about:blank\" style=\"position:absolute;width:100%;height:100%;left:0;top:0;border:none !important;\" data-html=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 onload=\"this.contentDocument.open();this.contentDocument.write(atob(this.getAttribute('data-html')));this.contentDocument.close();\" allowfullscreen webkitallowfullscreen mozallowfullscreen></iframe></div></div>"
      ],
      "text/plain": [
       "<folium.folium.Map at 0x119ed83d0>"
      ]
     },
     "execution_count": 37,
     "metadata": {},
     "output_type": "execute_result"
    }
   ],
   "source": [
    "toronto_map"
   ]
  },
  {
   "cell_type": "markdown",
   "metadata": {},
   "source": [
    "Looking at the map, having each borough its own color, it was easy to notice that between the red circles there is a gray one. The gray color represents borough __East Toronto__. Check what is in the Toronto Postal Code dataframe."
   ]
  },
  {
   "cell_type": "code",
   "execution_count": 31,
   "metadata": {},
   "outputs": [
    {
     "data": {
      "text/html": [
       "<div>\n",
       "<style scoped>\n",
       "    .dataframe tbody tr th:only-of-type {\n",
       "        vertical-align: middle;\n",
       "    }\n",
       "\n",
       "    .dataframe tbody tr th {\n",
       "        vertical-align: top;\n",
       "    }\n",
       "\n",
       "    .dataframe thead th {\n",
       "        text-align: right;\n",
       "    }\n",
       "</style>\n",
       "<table border=\"1\" class=\"dataframe\">\n",
       "  <thead>\n",
       "    <tr style=\"text-align: right;\">\n",
       "      <th></th>\n",
       "      <th>PostalCode</th>\n",
       "      <th>Borough</th>\n",
       "      <th>Neighborhood</th>\n",
       "      <th>Latitude</th>\n",
       "      <th>Longitude</th>\n",
       "      <th>Color</th>\n",
       "    </tr>\n",
       "  </thead>\n",
       "  <tbody>\n",
       "    <tr>\n",
       "      <th>82</th>\n",
       "      <td>M4E</td>\n",
       "      <td>East Toronto</td>\n",
       "      <td>The Beaches</td>\n",
       "      <td>43.6784</td>\n",
       "      <td>-79.2941</td>\n",
       "      <td>#7f7f7f</td>\n",
       "    </tr>\n",
       "    <tr>\n",
       "      <th>83</th>\n",
       "      <td>M4K</td>\n",
       "      <td>East Toronto</td>\n",
       "      <td>The Danforth West, Riverdale</td>\n",
       "      <td>43.6803</td>\n",
       "      <td>-79.3538</td>\n",
       "      <td>#7f7f7f</td>\n",
       "    </tr>\n",
       "    <tr>\n",
       "      <th>84</th>\n",
       "      <td>M4L</td>\n",
       "      <td>East Toronto</td>\n",
       "      <td>India Bazaar, The Beaches West</td>\n",
       "      <td>43.6693</td>\n",
       "      <td>-79.3155</td>\n",
       "      <td>#7f7f7f</td>\n",
       "    </tr>\n",
       "    <tr>\n",
       "      <th>85</th>\n",
       "      <td>M4M</td>\n",
       "      <td>East Toronto</td>\n",
       "      <td>Studio District</td>\n",
       "      <td>43.6561</td>\n",
       "      <td>-79.3406</td>\n",
       "      <td>#7f7f7f</td>\n",
       "    </tr>\n",
       "    <tr>\n",
       "      <th>86</th>\n",
       "      <td>M7Y</td>\n",
       "      <td>East Toronto</td>\n",
       "      <td>Business reply mail Processing Centre, South C...</td>\n",
       "      <td>43.7804</td>\n",
       "      <td>-79.2505</td>\n",
       "      <td>#7f7f7f</td>\n",
       "    </tr>\n",
       "  </tbody>\n",
       "</table>\n",
       "</div>"
      ],
      "text/plain": [
       "   PostalCode       Borough  \\\n",
       "82        M4E  East Toronto   \n",
       "83        M4K  East Toronto   \n",
       "84        M4L  East Toronto   \n",
       "85        M4M  East Toronto   \n",
       "86        M7Y  East Toronto   \n",
       "\n",
       "                                         Neighborhood  Latitude  Longitude  \\\n",
       "82                                        The Beaches   43.6784   -79.2941   \n",
       "83                       The Danforth West, Riverdale   43.6803   -79.3538   \n",
       "84                     India Bazaar, The Beaches West   43.6693   -79.3155   \n",
       "85                                    Studio District   43.6561   -79.3406   \n",
       "86  Business reply mail Processing Centre, South C...   43.7804   -79.2505   \n",
       "\n",
       "      Color  \n",
       "82  #7f7f7f  \n",
       "83  #7f7f7f  \n",
       "84  #7f7f7f  \n",
       "85  #7f7f7f  \n",
       "86  #7f7f7f  "
      ]
     },
     "execution_count": 31,
     "metadata": {},
     "output_type": "execute_result"
    }
   ],
   "source": [
    "# check observations for East Toronto\n",
    "dfmap[dfmap['Borough']=='East Toronto']"
   ]
  },
  {
   "cell_type": "markdown",
   "metadata": {},
   "source": [
    "From the postal code pattern, it really seems that __M7Y__ does not fit to East Toronto borough, its coordinates are also a bit away from the others, as we could see from the map. Check the borough represented by red color - __Scarborough__."
   ]
  },
  {
   "cell_type": "code",
   "execution_count": 32,
   "metadata": {},
   "outputs": [
    {
     "data": {
      "text/html": [
       "<div>\n",
       "<style scoped>\n",
       "    .dataframe tbody tr th:only-of-type {\n",
       "        vertical-align: middle;\n",
       "    }\n",
       "\n",
       "    .dataframe tbody tr th {\n",
       "        vertical-align: top;\n",
       "    }\n",
       "\n",
       "    .dataframe thead th {\n",
       "        text-align: right;\n",
       "    }\n",
       "</style>\n",
       "<table border=\"1\" class=\"dataframe\">\n",
       "  <thead>\n",
       "    <tr style=\"text-align: right;\">\n",
       "      <th></th>\n",
       "      <th>PostalCode</th>\n",
       "      <th>Borough</th>\n",
       "      <th>Neighborhood</th>\n",
       "      <th>Latitude</th>\n",
       "      <th>Longitude</th>\n",
       "      <th>Color</th>\n",
       "    </tr>\n",
       "  </thead>\n",
       "  <tbody>\n",
       "    <tr>\n",
       "      <th>55</th>\n",
       "      <td>M1B</td>\n",
       "      <td>Scarborough</td>\n",
       "      <td>Malvern, Rouge</td>\n",
       "      <td>43.8113</td>\n",
       "      <td>-79.1930</td>\n",
       "      <td>#d62728</td>\n",
       "    </tr>\n",
       "    <tr>\n",
       "      <th>56</th>\n",
       "      <td>M1C</td>\n",
       "      <td>Scarborough</td>\n",
       "      <td>Rouge Hill, Port Union, Highland Creek</td>\n",
       "      <td>43.7878</td>\n",
       "      <td>-79.1564</td>\n",
       "      <td>#d62728</td>\n",
       "    </tr>\n",
       "    <tr>\n",
       "      <th>57</th>\n",
       "      <td>M1E</td>\n",
       "      <td>Scarborough</td>\n",
       "      <td>Guildwood, Morningside, West Hill</td>\n",
       "      <td>43.7678</td>\n",
       "      <td>-79.1866</td>\n",
       "      <td>#d62728</td>\n",
       "    </tr>\n",
       "    <tr>\n",
       "      <th>58</th>\n",
       "      <td>M1G</td>\n",
       "      <td>Scarborough</td>\n",
       "      <td>Woburn</td>\n",
       "      <td>43.7712</td>\n",
       "      <td>-79.2144</td>\n",
       "      <td>#d62728</td>\n",
       "    </tr>\n",
       "    <tr>\n",
       "      <th>59</th>\n",
       "      <td>M1H</td>\n",
       "      <td>Scarborough</td>\n",
       "      <td>Cedarbrae</td>\n",
       "      <td>43.7686</td>\n",
       "      <td>-79.2389</td>\n",
       "      <td>#d62728</td>\n",
       "    </tr>\n",
       "    <tr>\n",
       "      <th>60</th>\n",
       "      <td>M1J</td>\n",
       "      <td>Scarborough</td>\n",
       "      <td>Scarborough Village</td>\n",
       "      <td>43.7464</td>\n",
       "      <td>-79.2323</td>\n",
       "      <td>#d62728</td>\n",
       "    </tr>\n",
       "    <tr>\n",
       "      <th>61</th>\n",
       "      <td>M1K</td>\n",
       "      <td>Scarborough</td>\n",
       "      <td>Kennedy Park, Ionview, East Birchmount Park</td>\n",
       "      <td>43.7298</td>\n",
       "      <td>-79.2639</td>\n",
       "      <td>#d62728</td>\n",
       "    </tr>\n",
       "    <tr>\n",
       "      <th>62</th>\n",
       "      <td>M1L</td>\n",
       "      <td>Scarborough</td>\n",
       "      <td>Golden Mile, Clairlea, Oakridge</td>\n",
       "      <td>43.7122</td>\n",
       "      <td>-79.2843</td>\n",
       "      <td>#d62728</td>\n",
       "    </tr>\n",
       "    <tr>\n",
       "      <th>63</th>\n",
       "      <td>M1M</td>\n",
       "      <td>Scarborough</td>\n",
       "      <td>Cliffside, Cliffcrest, Scarborough Village West</td>\n",
       "      <td>43.7247</td>\n",
       "      <td>-79.2312</td>\n",
       "      <td>#d62728</td>\n",
       "    </tr>\n",
       "    <tr>\n",
       "      <th>64</th>\n",
       "      <td>M1N</td>\n",
       "      <td>Scarborough</td>\n",
       "      <td>Birch Cliff, Cliffside West</td>\n",
       "      <td>43.6952</td>\n",
       "      <td>-79.2646</td>\n",
       "      <td>#d62728</td>\n",
       "    </tr>\n",
       "    <tr>\n",
       "      <th>65</th>\n",
       "      <td>M1P</td>\n",
       "      <td>Scarborough</td>\n",
       "      <td>Dorset Park, Wexford Heights, Scarborough Town...</td>\n",
       "      <td>43.7612</td>\n",
       "      <td>-79.2707</td>\n",
       "      <td>#d62728</td>\n",
       "    </tr>\n",
       "    <tr>\n",
       "      <th>66</th>\n",
       "      <td>M1R</td>\n",
       "      <td>Scarborough</td>\n",
       "      <td>Wexford, Maryvale</td>\n",
       "      <td>43.7507</td>\n",
       "      <td>-79.3003</td>\n",
       "      <td>#d62728</td>\n",
       "    </tr>\n",
       "    <tr>\n",
       "      <th>67</th>\n",
       "      <td>M1S</td>\n",
       "      <td>Scarborough</td>\n",
       "      <td>Agincourt</td>\n",
       "      <td>43.7946</td>\n",
       "      <td>-79.2644</td>\n",
       "      <td>#d62728</td>\n",
       "    </tr>\n",
       "    <tr>\n",
       "      <th>68</th>\n",
       "      <td>M1T</td>\n",
       "      <td>Scarborough</td>\n",
       "      <td>Clarks Corners, Tam O'Shanter, Sullivan</td>\n",
       "      <td>43.7812</td>\n",
       "      <td>-79.3036</td>\n",
       "      <td>#d62728</td>\n",
       "    </tr>\n",
       "    <tr>\n",
       "      <th>69</th>\n",
       "      <td>M1V</td>\n",
       "      <td>Scarborough</td>\n",
       "      <td>Milliken, Agincourt North, Steeles East, L'Amo...</td>\n",
       "      <td>43.8177</td>\n",
       "      <td>-79.2819</td>\n",
       "      <td>#d62728</td>\n",
       "    </tr>\n",
       "    <tr>\n",
       "      <th>70</th>\n",
       "      <td>M1W</td>\n",
       "      <td>Scarborough</td>\n",
       "      <td>Steeles West, L'Amoreaux West</td>\n",
       "      <td>43.8016</td>\n",
       "      <td>-79.3216</td>\n",
       "      <td>#d62728</td>\n",
       "    </tr>\n",
       "    <tr>\n",
       "      <th>71</th>\n",
       "      <td>M1X</td>\n",
       "      <td>Scarborough</td>\n",
       "      <td>Upper Rouge</td>\n",
       "      <td>43.8340</td>\n",
       "      <td>-79.2069</td>\n",
       "      <td>#d62728</td>\n",
       "    </tr>\n",
       "  </tbody>\n",
       "</table>\n",
       "</div>"
      ],
      "text/plain": [
       "   PostalCode      Borough                                       Neighborhood  \\\n",
       "55        M1B  Scarborough                                     Malvern, Rouge   \n",
       "56        M1C  Scarborough             Rouge Hill, Port Union, Highland Creek   \n",
       "57        M1E  Scarborough                  Guildwood, Morningside, West Hill   \n",
       "58        M1G  Scarborough                                             Woburn   \n",
       "59        M1H  Scarborough                                          Cedarbrae   \n",
       "60        M1J  Scarborough                                Scarborough Village   \n",
       "61        M1K  Scarborough        Kennedy Park, Ionview, East Birchmount Park   \n",
       "62        M1L  Scarborough                    Golden Mile, Clairlea, Oakridge   \n",
       "63        M1M  Scarborough    Cliffside, Cliffcrest, Scarborough Village West   \n",
       "64        M1N  Scarborough                        Birch Cliff, Cliffside West   \n",
       "65        M1P  Scarborough  Dorset Park, Wexford Heights, Scarborough Town...   \n",
       "66        M1R  Scarborough                                  Wexford, Maryvale   \n",
       "67        M1S  Scarborough                                          Agincourt   \n",
       "68        M1T  Scarborough            Clarks Corners, Tam O'Shanter, Sullivan   \n",
       "69        M1V  Scarborough  Milliken, Agincourt North, Steeles East, L'Amo...   \n",
       "70        M1W  Scarborough                      Steeles West, L'Amoreaux West   \n",
       "71        M1X  Scarborough                                        Upper Rouge   \n",
       "\n",
       "    Latitude  Longitude    Color  \n",
       "55   43.8113   -79.1930  #d62728  \n",
       "56   43.7878   -79.1564  #d62728  \n",
       "57   43.7678   -79.1866  #d62728  \n",
       "58   43.7712   -79.2144  #d62728  \n",
       "59   43.7686   -79.2389  #d62728  \n",
       "60   43.7464   -79.2323  #d62728  \n",
       "61   43.7298   -79.2639  #d62728  \n",
       "62   43.7122   -79.2843  #d62728  \n",
       "63   43.7247   -79.2312  #d62728  \n",
       "64   43.6952   -79.2646  #d62728  \n",
       "65   43.7612   -79.2707  #d62728  \n",
       "66   43.7507   -79.3003  #d62728  \n",
       "67   43.7946   -79.2644  #d62728  \n",
       "68   43.7812   -79.3036  #d62728  \n",
       "69   43.8177   -79.2819  #d62728  \n",
       "70   43.8016   -79.3216  #d62728  \n",
       "71   43.8340   -79.2069  #d62728  "
      ]
     },
     "execution_count": 32,
     "metadata": {},
     "output_type": "execute_result"
    }
   ],
   "source": [
    "# check observations for Scarborough\n",
    "dfmap[dfmap['Borough']=='Scarborough']"
   ]
  },
  {
   "cell_type": "markdown",
   "metadata": {},
   "source": [
    "From the postal code pattern, __M7Y__ does not fit to Scarborough as well. It is quite strange, maybe a deeper search on the Toronto Postal Code methodology would be required to understand it, but it is not in the scope of this assignment, it will just be left it as it is."
   ]
  },
  {
   "cell_type": "markdown",
   "metadata": {},
   "source": [
    "For the __clustering__ assignment the borough __Downtown Toronto__ will be used. Create a new dataframe only with borough Downtown Toronto."
   ]
  },
  {
   "cell_type": "code",
   "execution_count": 33,
   "metadata": {},
   "outputs": [
    {
     "name": "stdout",
     "output_type": "stream",
     "text": [
      "There are 19 neighborhoods in Downtown Toronto.\n"
     ]
    },
    {
     "data": {
      "text/html": [
       "<div>\n",
       "<style scoped>\n",
       "    .dataframe tbody tr th:only-of-type {\n",
       "        vertical-align: middle;\n",
       "    }\n",
       "\n",
       "    .dataframe tbody tr th {\n",
       "        vertical-align: top;\n",
       "    }\n",
       "\n",
       "    .dataframe thead th {\n",
       "        text-align: right;\n",
       "    }\n",
       "</style>\n",
       "<table border=\"1\" class=\"dataframe\">\n",
       "  <thead>\n",
       "    <tr style=\"text-align: right;\">\n",
       "      <th></th>\n",
       "      <th>PostalCode</th>\n",
       "      <th>Borough</th>\n",
       "      <th>Neighborhood</th>\n",
       "      <th>Latitude</th>\n",
       "      <th>Longitude</th>\n",
       "      <th>Color</th>\n",
       "    </tr>\n",
       "  </thead>\n",
       "  <tbody>\n",
       "    <tr>\n",
       "      <th>0</th>\n",
       "      <td>M5A</td>\n",
       "      <td>Downtown Toronto</td>\n",
       "      <td>Regent Park, Harbourfront</td>\n",
       "      <td>43.6555</td>\n",
       "      <td>-79.3626</td>\n",
       "      <td>#ff7f0e</td>\n",
       "    </tr>\n",
       "    <tr>\n",
       "      <th>1</th>\n",
       "      <td>M7A</td>\n",
       "      <td>Downtown Toronto</td>\n",
       "      <td>Queen's Park, Ontario Provincial Government</td>\n",
       "      <td>43.6641</td>\n",
       "      <td>-79.3889</td>\n",
       "      <td>#ff7f0e</td>\n",
       "    </tr>\n",
       "    <tr>\n",
       "      <th>2</th>\n",
       "      <td>M5B</td>\n",
       "      <td>Downtown Toronto</td>\n",
       "      <td>Garden District, Ryerson</td>\n",
       "      <td>43.6572</td>\n",
       "      <td>-79.3783</td>\n",
       "      <td>#ff7f0e</td>\n",
       "    </tr>\n",
       "    <tr>\n",
       "      <th>3</th>\n",
       "      <td>M5C</td>\n",
       "      <td>Downtown Toronto</td>\n",
       "      <td>St. James Town</td>\n",
       "      <td>43.6513</td>\n",
       "      <td>-79.3756</td>\n",
       "      <td>#ff7f0e</td>\n",
       "    </tr>\n",
       "    <tr>\n",
       "      <th>4</th>\n",
       "      <td>M5E</td>\n",
       "      <td>Downtown Toronto</td>\n",
       "      <td>Berczy Park</td>\n",
       "      <td>43.6456</td>\n",
       "      <td>-79.3754</td>\n",
       "      <td>#ff7f0e</td>\n",
       "    </tr>\n",
       "    <tr>\n",
       "      <th>5</th>\n",
       "      <td>M5G</td>\n",
       "      <td>Downtown Toronto</td>\n",
       "      <td>Central Bay Street</td>\n",
       "      <td>43.6564</td>\n",
       "      <td>-79.3860</td>\n",
       "      <td>#ff7f0e</td>\n",
       "    </tr>\n",
       "    <tr>\n",
       "      <th>6</th>\n",
       "      <td>M6G</td>\n",
       "      <td>Downtown Toronto</td>\n",
       "      <td>Christie</td>\n",
       "      <td>43.6683</td>\n",
       "      <td>-79.4205</td>\n",
       "      <td>#ff7f0e</td>\n",
       "    </tr>\n",
       "    <tr>\n",
       "      <th>7</th>\n",
       "      <td>M5H</td>\n",
       "      <td>Downtown Toronto</td>\n",
       "      <td>Richmond, Adelaide, King</td>\n",
       "      <td>43.6496</td>\n",
       "      <td>-79.3833</td>\n",
       "      <td>#ff7f0e</td>\n",
       "    </tr>\n",
       "    <tr>\n",
       "      <th>8</th>\n",
       "      <td>M5J</td>\n",
       "      <td>Downtown Toronto</td>\n",
       "      <td>Harbourfront East, Union Station, Toronto Islands</td>\n",
       "      <td>43.6230</td>\n",
       "      <td>-79.3936</td>\n",
       "      <td>#ff7f0e</td>\n",
       "    </tr>\n",
       "    <tr>\n",
       "      <th>9</th>\n",
       "      <td>M5K</td>\n",
       "      <td>Downtown Toronto</td>\n",
       "      <td>Toronto Dominion Centre, Design Exchange</td>\n",
       "      <td>43.6469</td>\n",
       "      <td>-79.3823</td>\n",
       "      <td>#ff7f0e</td>\n",
       "    </tr>\n",
       "  </tbody>\n",
       "</table>\n",
       "</div>"
      ],
      "text/plain": [
       "  PostalCode           Borough  \\\n",
       "0        M5A  Downtown Toronto   \n",
       "1        M7A  Downtown Toronto   \n",
       "2        M5B  Downtown Toronto   \n",
       "3        M5C  Downtown Toronto   \n",
       "4        M5E  Downtown Toronto   \n",
       "5        M5G  Downtown Toronto   \n",
       "6        M6G  Downtown Toronto   \n",
       "7        M5H  Downtown Toronto   \n",
       "8        M5J  Downtown Toronto   \n",
       "9        M5K  Downtown Toronto   \n",
       "\n",
       "                                        Neighborhood  Latitude  Longitude  \\\n",
       "0                          Regent Park, Harbourfront   43.6555   -79.3626   \n",
       "1        Queen's Park, Ontario Provincial Government   43.6641   -79.3889   \n",
       "2                           Garden District, Ryerson   43.6572   -79.3783   \n",
       "3                                     St. James Town   43.6513   -79.3756   \n",
       "4                                        Berczy Park   43.6456   -79.3754   \n",
       "5                                 Central Bay Street   43.6564   -79.3860   \n",
       "6                                           Christie   43.6683   -79.4205   \n",
       "7                           Richmond, Adelaide, King   43.6496   -79.3833   \n",
       "8  Harbourfront East, Union Station, Toronto Islands   43.6230   -79.3936   \n",
       "9           Toronto Dominion Centre, Design Exchange   43.6469   -79.3823   \n",
       "\n",
       "     Color  \n",
       "0  #ff7f0e  \n",
       "1  #ff7f0e  \n",
       "2  #ff7f0e  \n",
       "3  #ff7f0e  \n",
       "4  #ff7f0e  \n",
       "5  #ff7f0e  \n",
       "6  #ff7f0e  \n",
       "7  #ff7f0e  \n",
       "8  #ff7f0e  \n",
       "9  #ff7f0e  "
      ]
     },
     "execution_count": 33,
     "metadata": {},
     "output_type": "execute_result"
    }
   ],
   "source": [
    "# copy the observation from Downtown Toronto to a new dataframe\n",
    "dtdata = dfmap[dfmap['Borough']=='Downtown Toronto']\n",
    "\n",
    "# reset the index\n",
    "dtdata = dtdata.reset_index(drop=True)\n",
    "\n",
    "# print how many observations are\n",
    "print('There are {} neighborhoods in Downtown Toronto.'.format(dtdata.shape[0]))\n",
    "\n",
    "# print the first 10 observations\n",
    "dtdata.head(10)"
   ]
  },
  {
   "cell_type": "markdown",
   "metadata": {},
   "source": [
    "Have a closer look at Downtown Toronto with its neighborhoods. Calculate the coordinates to centralize the map using the neighborhoods coordinates."
   ]
  },
  {
   "cell_type": "code",
   "execution_count": 34,
   "metadata": {},
   "outputs": [
    {
     "name": "stdout",
     "output_type": "stream",
     "text": [
      "Latitude: 43.6529 , Longitude: -79.3915\n"
     ]
    }
   ],
   "source": [
    "# calculate mid point for latitude and longitude\n",
    "tlat = round((min(dtdata['Latitude'])+max(dtdata['Latitude']))/2, 4)\n",
    "tlng = round((min(dtdata['Longitude'])+max(dtdata['Longitude']))/2, 4)\n",
    "\n",
    "# print calculated coordinates\n",
    "print('Latitude: {} , Longitude: {}'.format(tlat, tlng))"
   ]
  },
  {
   "cell_type": "markdown",
   "metadata": {},
   "source": [
    "Create the Downtown Toronto map using the calculated coordinates and create the neighborhoods points on the map."
   ]
  },
  {
   "cell_type": "code",
   "execution_count": 35,
   "metadata": {},
   "outputs": [
    {
     "data": {
      "text/html": [
       "<div style=\"width:100%;\"><div style=\"position:relative;width:100%;height:0;padding-bottom:60%;\"><span style=\"color:#565656\">Make this Notebook Trusted to load map: File -> Trust Notebook</span><iframe src=\"about:blank\" style=\"position:absolute;width:100%;height:100%;left:0;top:0;border:none !important;\" data-html=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 onload=\"this.contentDocument.open();this.contentDocument.write(atob(this.getAttribute('data-html')));this.contentDocument.close();\" allowfullscreen webkitallowfullscreen mozallowfullscreen></iframe></div></div>"
      ],
      "text/plain": [
       "<folium.folium.Map at 0x11b2db490>"
      ]
     },
     "execution_count": 35,
     "metadata": {},
     "output_type": "execute_result"
    }
   ],
   "source": [
    "# create the map\n",
    "dt_map = folium.Map(location=[tlat, tlng], zoom_start=13)\n",
    "\n",
    "# run a loop through the dataframe creating the points (circle marks)\n",
    "for lat, lng, neighborhood, cl in zip(dtdata['Latitude'], dtdata['Longitude'], dtdata['Neighborhood'], dtdata['Color']):\n",
    "    # create the label\n",
    "    label = folium.Popup(neighborhood, parse_html=True)\n",
    "    \n",
    "    # create the circle mark\n",
    "    folium.CircleMarker([lat, lng],\n",
    "                        radius = 5,\n",
    "                        popup = label,\n",
    "                        color = cl,\n",
    "                        fill = True,\n",
    "                        fill_color = cl,\n",
    "                        fill_opacity = 0.3,\n",
    "                        parse_html = False).add_to(dt_map)\n",
    "\n",
    "# show the map\n",
    "dt_map"
   ]
  },
  {
   "cell_type": "markdown",
   "metadata": {},
   "source": [
    "Explore the Downtown Toronto. The __Foursquare API__ will be used to explore the borough, to be able to send requests to Foursquare API the __client id__ and __client secret__ must be used, they will be define as sensitive code to be kept as secret. The verson of the API shoud also be defined, but it is not secret."
   ]
  },
  {
   "cell_type": "code",
   "execution_count": 39,
   "metadata": {},
   "outputs": [],
   "source": [
    "# create a variable for Foursquare API version\n",
    "VERSION = '20180605' # handout: exclude"
   ]
  },
  {
   "cell_type": "markdown",
   "metadata": {},
   "source": [
    "Still working on it."
   ]
  }
 ],
 "metadata": {
  "kernelspec": {
   "display_name": "Python 3",
   "language": "python",
   "name": "python3"
  },
  "language_info": {
   "codemirror_mode": {
    "name": "ipython",
    "version": 3
   },
   "file_extension": ".py",
   "mimetype": "text/x-python",
   "name": "python",
   "nbconvert_exporter": "python",
   "pygments_lexer": "ipython3",
   "version": "3.8.3"
  }
 },
 "nbformat": 4,
 "nbformat_minor": 4
}
