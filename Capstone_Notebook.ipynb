{
 "cells": [
  {
   "cell_type": "markdown",
   "metadata": {},
   "source": [
    "# Capstone Project\n",
    "# Relocation Support\n",
    "### Sidclay da Silva\n",
    "### June 2020\n",
    "---"
   ]
  },
  {
   "cell_type": "markdown",
   "metadata": {},
   "source": [
    "### Introduction\n",
    "\n",
    "This notebook contains the Capstone Project as the Week 5 peer-graded assignment for the Course IBM Applied Data Science Capstone on Coursera, which requires to develop a solution for the problem proposed by the learner in his Project Proposal Week 4, the stablished condition requires to make use of __API Foursquare__ to solve the proposed problem.\n",
    "\n",
    "The proposed problem for this project is to support people to relocate giving them directions by creating a districts, or neighborhoods, rank for the target location using the relocator profile.\n",
    "\n",
    "---"
   ]
  },
  {
   "cell_type": "markdown",
   "metadata": {},
   "source": [
    "### Step 1 - Define the _Relocator Profile_ and _Target Location_"
   ]
  },
  {
   "cell_type": "markdown",
   "metadata": {},
   "source": [
    "For this project the __Relocator Profile__ will be arbitrary defined to simulate a family relocating to also arbitrary defined __Target Location São Paulo, Brazil__.\n",
    "\n",
    "__Family components__;\n",
    "* 2 adults\n",
    "* 2 kids in primary school age\n",
    "* 1 dog as pet\n",
    "\n",
    "__Family priorities__;\n",
    "* __Primary school__ for the kids\n",
    "* __Outdoor park__ to go with the kids, walk with the dog and jogging\n",
    "* __Supermarket__ for the daily life\n",
    "* __Pharmacy__ in case of emergencies, specially having kids\n",
    "* __Subway or metro station__ to avoid traffic\n",
    "\n",
    "__Housing wishes__;\n",
    "* Apartment\n",
    "* 2 or 3 bedrooms\n",
    "* 80 m<sup>2</sup> approximately\n",
    "* 1 garage spot\n",
    "\n",
    "__Rental budget__;\n",
    "* BRL 2,000.00 / month\n",
    "\n",
    "Based on the Relocator Profile, define objects to be used to rank the districts of the target location.\n",
    "\n",
    "Family priorities will be translated into a list object containing venues categories according to the __API Foursquare__.\n",
    "\n",
    "Housing wishes and Rental budget will be converted in a variable containg the rental budget per square meter - BRL/m<sup>2</sup>."
   ]
  },
  {
   "cell_type": "code",
   "execution_count": 1,
   "metadata": {},
   "outputs": [
    {
     "name": "stdout",
     "output_type": "stream",
     "text": [
      "Family priorities are: ['Elementary School', 'Park', 'Supermarket', 'Pharmacy', 'Metro Station'] \n",
      "\n",
      "Monthly rental budget is BRL 2,000.00 for a 80 sqm apartment = BRL 25.00/sqm/month\n"
     ]
    }
   ],
   "source": [
    "# create a priorities list according to API Foursquare categories\n",
    "prio_list = ['Elementary School',\n",
    "             'Park',\n",
    "             'Supermarket',\n",
    "             'Pharmacy',\n",
    "             'Metro Station']\n",
    "\n",
    "# calculate rental budget per square meter based in target area and budget\n",
    "target_area = 80\n",
    "target_budget = 2000\n",
    "\n",
    "budget_sqm = target_budget / target_area\n",
    "\n",
    "# print objects\n",
    "print('Family priorities are:', prio_list, '\\n')\n",
    "print('Monthly rental budget is BRL {:,.2f} for a {} sqm apartment = BRL {:,.2f}/sqm/month'. \\\n",
    "      format(target_budget, target_area, budget_sqm))"
   ]
  },
  {
   "cell_type": "markdown",
   "metadata": {},
   "source": [
    "---"
   ]
  },
  {
   "cell_type": "markdown",
   "metadata": {},
   "source": [
    "### Step 2 - Acquire Districts Data of _Target Location_"
   ]
  },
  {
   "cell_type": "markdown",
   "metadata": {},
   "source": [
    "The city of São Paulo is divided in 5 geographical regions, 32 boroughs, 96 districts and hundreds of neighborhoods. The city division up to the district level can be found in the official city web site, its is stored in a XLSX table format into a HTML page. The project will be based on district level to create the rank.\n",
    "The current table is from 2017 and can be viewed at the following link;"
   ]
  },
  {
   "cell_type": "markdown",
   "metadata": {},
   "source": [
    "[Prefeitura de São Paulo (SP) Regiões, Prefeituras Regionas e Distritos](http://www.prefeitura.sp.gov.br/cidade/secretarias/upload/urbanismo/infocidade/htmls/3_regioes_prefeituras_regionais_e_distrito_2017_10895.html)"
   ]
  },
  {
   "cell_type": "markdown",
   "metadata": {},
   "source": [
    "To create a dataframe for the Districts of São Paulo, a request to the above URL will be done, its content parsed, cleaned and organized, to be stored in so called __Districts Dataframe__.\n",
    "\n",
    "First thing, import required libraries;\n",
    "\n",
    "1. __Pandas__: manipulate dataframe objects\n",
    "1. __Requests__: send and receive url requests\n",
    "1. __BeautifulSoup__: parse url content"
   ]
  },
  {
   "cell_type": "code",
   "execution_count": 2,
   "metadata": {},
   "outputs": [],
   "source": [
    "import pandas as pd\n",
    "import requests\n",
    "from bs4 import BeautifulSoup as bs"
   ]
  },
  {
   "cell_type": "markdown",
   "metadata": {},
   "source": [
    "Send request to the above URL using _Requests Get_ method."
   ]
  },
  {
   "cell_type": "code",
   "execution_count": 3,
   "metadata": {},
   "outputs": [
    {
     "name": "stdout",
     "output_type": "stream",
     "text": [
      "Data loaded, status 200\n"
     ]
    }
   ],
   "source": [
    "# define a variable for the url\n",
    "url = 'http://www.prefeitura.sp.gov.br/cidade/secretarias/upload/urbanismo/infocidade/htmls/3_regioes_prefeituras_regionais_e_distrito_2017_10895.html'\n",
    "\n",
    "# send a request to the URL and store the response\n",
    "raw = requests.get(url)\n",
    "\n",
    "# check if data was loaded [status 200 means success]\n",
    "if raw:\n",
    "    print('Data loaded, status', raw.status_code)\n",
    "else:\n",
    "    print('Error loading data', raw.status_code)"
   ]
  },
  {
   "cell_type": "markdown",
   "metadata": {},
   "source": [
    "Parse the URL content using _BeautifulSoup_ with _HTML_ parser."
   ]
  },
  {
   "cell_type": "code",
   "execution_count": 4,
   "metadata": {},
   "outputs": [
    {
     "name": "stdout",
     "output_type": "stream",
     "text": [
      "URL content parsed.\n"
     ]
    }
   ],
   "source": [
    "# parse the raw data\n",
    "par = bs(raw.text, 'html.parser')\n",
    "print('URL content parsed.')"
   ]
  },
  {
   "cell_type": "markdown",
   "metadata": {},
   "source": [
    "Check the returned content. Initially, how many tables it contains, the HTML tag _table_ will be the reference for counting."
   ]
  },
  {
   "cell_type": "code",
   "execution_count": 5,
   "metadata": {},
   "outputs": [
    {
     "name": "stdout",
     "output_type": "stream",
     "text": [
      "1 table(s) found in the parsed URL.\n"
     ]
    }
   ],
   "source": [
    "# print number of tables\n",
    "print('{} table(s) found in the parsed URL.'.format(len(par.find_all('table'))))"
   ]
  },
  {
   "cell_type": "markdown",
   "metadata": {},
   "source": [
    "As it is a table in _XLSX_ format, all its content is stored in one unique table, including table description, headers, data, summary and footnotes. The data should be extract from this unique table, but, first get the table out of the parsed content, HTML tag _table_ will be the reference as well."
   ]
  },
  {
   "cell_type": "code",
   "execution_count": 6,
   "metadata": {},
   "outputs": [],
   "source": [
    "# get the table out of the parsed content\n",
    "par_table = par.find_all('table')[0]"
   ]
  },
  {
   "cell_type": "markdown",
   "metadata": {},
   "source": [
    "Check if there is any table header and how many rows the table contains. HTML tags _th_ and _tr_ will be respectively used for counting."
   ]
  },
  {
   "cell_type": "code",
   "execution_count": 7,
   "metadata": {},
   "outputs": [
    {
     "name": "stdout",
     "output_type": "stream",
     "text": [
      "0 header(s) and 110 row(s) found in the table.\n"
     ]
    }
   ],
   "source": [
    "# print the number of headers and rows\n",
    "print('{} header(s) and {} row(s) found in the table.'.format(len(par_table.find_all('th')),\n",
    "                                                              len(par_table.find_all('tr'))))"
   ]
  },
  {
   "cell_type": "markdown",
   "metadata": {},
   "source": [
    "From the 110 rows, 96 of them should be the required districts data, the remaining rows should be titles, summaries and footnotes rows.\n",
    "\n",
    "Extract the data from the table to a list and check where the required data is located. This will be done running a nested loop through the rows, on the first level, and columns, on the second level. HTML tag _tr_ will be used to extract rows and _td_ to extract the columns."
   ]
  },
  {
   "cell_type": "code",
   "execution_count": 8,
   "metadata": {},
   "outputs": [
    {
     "name": "stdout",
     "output_type": "stream",
     "text": [
      "110 rows loaded.\n"
     ]
    }
   ],
   "source": [
    "# create an empty list for the entire table\n",
    "tabletmp = []\n",
    "\n",
    "# run a loop by row [tag 'tr']\n",
    "for i, row in enumerate(par_table.find_all('tr')):\n",
    "    # create an empty list for the current row\n",
    "    celltmp = []\n",
    "\n",
    "    # run a loop by column for the current row [tag 'td']\n",
    "    for j, column in enumerate(row.find_all('td')):\n",
    "        # append the text of current cell to the list\n",
    "        celltmp.append(column.get_text())\n",
    "\n",
    "    # append current line to the list\n",
    "    tabletmp.append(celltmp)\n",
    "        \n",
    "# inform the number of rows loaded\n",
    "print('{} rows loaded.'.format(len(tabletmp)))"
   ]
  },
  {
   "cell_type": "markdown",
   "metadata": {},
   "source": [
    "All the 110 rows have been loaded. Check the head and tail of the list to define the range of required data."
   ]
  },
  {
   "cell_type": "code",
   "execution_count": 9,
   "metadata": {},
   "outputs": [
    {
     "name": "stdout",
     "output_type": "stream",
     "text": [
      "Head 10 rows\n"
     ]
    },
    {
     "data": {
      "text/plain": [
       "[['Regiões, Prefeituras Regionais e Distritos Municipais',\n",
       "  '\\xa0',\n",
       "  '',\n",
       "  '',\n",
       "  '',\n",
       "  '',\n",
       "  ''],\n",
       " ['Município de São Paulo', '\\xa0', '', '', '', ''],\n",
       " ['2017', '\\xa0', '\\xa0', '', '', '', ''],\n",
       " ['', '', '', '', ''],\n",
       " ['Regiões',\n",
       "  'Prefeituras\\r\\n  Regionais',\n",
       "  'Distritos',\n",
       "  'Área (ha)',\n",
       "  'Área (km²)',\n",
       "  '',\n",
       "  '',\n",
       "  ''],\n",
       " ['Centro', 'Sé', 'Bela Vista', '271,77', '2,72', '', '', ''],\n",
       " ['Bom Retiro', '420,54', '4,21', '', '', ''],\n",
       " ['Cambuci', '392,42', '3,92', '', '', ''],\n",
       " ['Consolação', '381,51', '3,82', '', '', ''],\n",
       " ['Liberdade', '365,07', '3,65', '', '', '']]"
      ]
     },
     "execution_count": 9,
     "metadata": {},
     "output_type": "execute_result"
    }
   ],
   "source": [
    "# print the first 10 rows\n",
    "print('Head 10 rows')\n",
    "tabletmp[:10]"
   ]
  },
  {
   "cell_type": "markdown",
   "metadata": {},
   "source": [
    "The first 4 rows are the table titles and can be ignored, row 5 contains the columns headers.\n",
    "\n",
    "Check the tail of the table."
   ]
  },
  {
   "cell_type": "code",
   "execution_count": 10,
   "metadata": {},
   "outputs": [
    {
     "name": "stdout",
     "output_type": "stream",
     "text": [
      "Tail 10 rows\n"
     ]
    },
    {
     "data": {
      "text/plain": [
       "[['Vila Mariana', '859,56', '8,60', '', '', '', ''],\n",
       " ['Município de São\\r\\n  Paulo', '', '152.753,58', '1.527,54', '', '', '', ''],\n",
       " ['', '', '', '', '', '', '', ''],\n",
       " ['Fonte:\\r\\n  Prefeitura do Município de São Paulo. /\\xa0\\r\\n  Instituto\\xa0 Geográfico e\\r\\n  Cartográfico\\xa0 do Estado de São Paulo.',\n",
       "  '\\xa0',\n",
       "  '',\n",
       "  '',\n",
       "  '\\xa0'],\n",
       " ['Elaboração:\\r\\n  SMUL/Deinfo', '\\xa0', '\\xa0', '', '', '\\xa0'],\n",
       " ['Nota: Distritos Lei\\r\\n  nº 11.220/1992', '', '', ''],\n",
       " ['Subprefeituras\\r\\n  Lei nº 13.399/2002, alterada pelas Leis nº 13.682/2003 e nº 15.764/2013',\n",
       "  '',\n",
       "  '',\n",
       "  ''],\n",
       " ['Base\\r\\n  de cálculo das áreas: Mapa Digital da Cidade (MDC) - UTM/SAD69-96.',\n",
       "  '',\n",
       "  '',\n",
       "  ''],\n",
       " ['', '', '', '', '', '', '', ''],\n",
       " ['', '', '', '', '', '', '', '', '']]"
      ]
     },
     "execution_count": 10,
     "metadata": {},
     "output_type": "execute_result"
    }
   ],
   "source": [
    "#print the last 10 rows\n",
    "print('Tail 10 rows')\n",
    "tabletmp[-10:]"
   ]
  },
  {
   "cell_type": "markdown",
   "metadata": {},
   "source": [
    "The last 8 rows are the columns summary and footnotes, will also be ignored.\n",
    "\n",
    "Check the columns headers, row 5 (index 4)."
   ]
  },
  {
   "cell_type": "code",
   "execution_count": 11,
   "metadata": {},
   "outputs": [
    {
     "data": {
      "text/plain": [
       "['Regiões',\n",
       " 'Prefeituras\\r\\n  Regionais',\n",
       " 'Distritos',\n",
       " 'Área (ha)',\n",
       " 'Área (km²)',\n",
       " '',\n",
       " '',\n",
       " '']"
      ]
     },
     "execution_count": 11,
     "metadata": {},
     "output_type": "execute_result"
    }
   ],
   "source": [
    "# check the columns headers\n",
    "tabletmp[4]"
   ]
  },
  {
   "cell_type": "markdown",
   "metadata": {},
   "source": [
    "There are 8 columns, but the last 3 are empty, the first 5 are the following:\n",
    "\n",
    "* __Region__ (Regiões), the first column is the city Region to which the District belongs to\n",
    "* Borough (Prefeituras Regionais), the second column is the Borough location, it is not relevant for this project and it will be ignored\n",
    "* __District__ (Distritos), the third column is the District name\n",
    "* Area ha (Área (ha)), the fourth column is the neighborhood land area in hectares, it is not relevant for this project and it will be ignored\n",
    "* __Area km<sup>2</sup>__ (Área (km<sup>2</sup>)), the fifth column is the neighborhood land area in square kilometers\n",
    "\n",
    "Define the columns names for the __Districts Dataframe__ for the required features."
   ]
  },
  {
   "cell_type": "code",
   "execution_count": 12,
   "metadata": {},
   "outputs": [],
   "source": [
    "# define the columns names\n",
    "column_names = ['region', 'district', 'area_sqkm']"
   ]
  },
  {
   "cell_type": "markdown",
   "metadata": {},
   "source": [
    "Beeing 4 title rows and 1 header row, the first 5 rows at the top will be ignored. At the bottom 8 rows will be ignored, 1 summary and 7 footnotes rows. District data ranges from row 6 (index 5) to row 101 (index 100), counting 96 districts in São Paulo.\n",
    "\n",
    "Extract only the data rows from the table and count the number of rows left."
   ]
  },
  {
   "cell_type": "code",
   "execution_count": 13,
   "metadata": {},
   "outputs": [
    {
     "name": "stdout",
     "output_type": "stream",
     "text": [
      "96 rows left.\n"
     ]
    }
   ],
   "source": [
    "# extract only required rows\n",
    "tabletmp = tabletmp[5:101]\n",
    "\n",
    "# print number rows left\n",
    "print('{} rows left.'.format(len(tabletmp)))"
   ]
  },
  {
   "cell_type": "markdown",
   "metadata": {},
   "source": [
    "Before extracting the data, check the head and tail to see how the data is stored."
   ]
  },
  {
   "cell_type": "code",
   "execution_count": 14,
   "metadata": {},
   "outputs": [
    {
     "name": "stdout",
     "output_type": "stream",
     "text": [
      "Head 10 rows\n"
     ]
    },
    {
     "data": {
      "text/plain": [
       "[['Centro', 'Sé', 'Bela Vista', '271,77', '2,72', '', '', ''],\n",
       " ['Bom Retiro', '420,54', '4,21', '', '', ''],\n",
       " ['Cambuci', '392,42', '3,92', '', '', ''],\n",
       " ['Consolação', '381,51', '3,82', '', '', ''],\n",
       " ['Liberdade', '365,07', '3,65', '', '', ''],\n",
       " ['República', '239,67', '2,40', '', '', ''],\n",
       " ['Santa Cecília', '375,92', '3,76', '', '', ''],\n",
       " ['Sé', '219,36', '2,19', '', '', ''],\n",
       " ['Leste',\n",
       "  'Aricanduva/Formosa/Carrão',\n",
       "  'Aricanduva',\n",
       "  '695,83',\n",
       "  '6,96',\n",
       "  '',\n",
       "  '',\n",
       "  ''],\n",
       " ['Carrão', '790,12', '7,90', '', '', '']]"
      ]
     },
     "execution_count": 14,
     "metadata": {},
     "output_type": "execute_result"
    }
   ],
   "source": [
    "# print the first 10 rows\n",
    "print('Head 10 rows')\n",
    "tabletmp[:10]"
   ]
  },
  {
   "cell_type": "markdown",
   "metadata": {},
   "source": [
    "Check the tail."
   ]
  },
  {
   "cell_type": "code",
   "execution_count": 15,
   "metadata": {},
   "outputs": [
    {
     "name": "stdout",
     "output_type": "stream",
     "text": [
      "Tail 10 rows\n"
     ]
    },
    {
     "data": {
      "text/plain": [
       "[[\"M'Boi Mirim\", 'Jardim Ângela', '3.741,13', '37,41', '', '', ''],\n",
       " ['Jardim São Luís', '2.604,72', '26,05', '', '', ''],\n",
       " ['Parelheiros', 'Marsilac', '20.818,52', '208,19', '', '', ''],\n",
       " ['Parelheiros', '15.260,75', '152,61', '', '', ''],\n",
       " ['Santo Amaro', 'Campo Belo', '876,98', '8,77', '', '', ''],\n",
       " ['Campo Grande', '1.295,08', '12,95', '', '', ''],\n",
       " ['Santo Amaro', '1.603,53', '16,04', '', '', '', ''],\n",
       " ['Vila Mariana', 'Moema', '907,87', '9,08', '', '', '', ''],\n",
       " ['Saúde', '931,12', '9,31', '', '', '', ''],\n",
       " ['Vila Mariana', '859,56', '8,60', '', '', '', '']]"
      ]
     },
     "execution_count": 15,
     "metadata": {},
     "output_type": "execute_result"
    }
   ],
   "source": [
    "#print the last 10 rows\n",
    "print('Tail 10 rows')\n",
    "tabletmp[-10:]"
   ]
  },
  {
   "cell_type": "markdown",
   "metadata": {},
   "source": [
    "The table seems to be structured in a group format, which is normally done for good visualization in _XLSX_ format tables. The region name, e.g. __Centro__, appears only once at its first borough __Sé__, and so the borough __Sé__ for its first district __Bela Vista__. There are rows with 5 columns, rows with 4 columns and rows with 3 columns, it makes things interesting.\n",
    "\n",
    "Something else to notice is that the columns aligned on the left side, in some of the rows the first column contains the region name, in some it contains the borough, and in many of them it contains the district, meaning that the columns are not at the same positions for all rows. To extract the data the reading should be consider the number of features each row contains, and for rows missing the region, it should be added, even more interesting.\n",
    "\n",
    "The last notice here is that the last columns are empty, for some rows 3 and for some 4 empty columns, they will be ignored.\n",
    "\n",
    "Extract the data to a temporary list, taking all the remarks above into consideration. This will be achieved by a nested loop, the first level runs through the rows, and second level runs through the columns. Actually it is one list object, which represents the source table, it contains lists as well, representing the rows of the table, and each element of the inner lists represents the cells of the table."
   ]
  },
  {
   "cell_type": "code",
   "execution_count": 16,
   "metadata": {},
   "outputs": [],
   "source": [
    "# create an empty list to store data temporary\n",
    "listtmp = []\n",
    "\n",
    "# run a loop through the rows [list represents the table]\n",
    "for i, row in enumerate(tabletmp):\n",
    "\n",
    "    # run a loop through the columns for the current row [list represntes the table rows]\n",
    "    for j in range(len(row)):\n",
    "        \n",
    "        # read the data from right [index -1] to left [index 0]\n",
    "        # skip the last 3 empty columns [list items represent table cells]\n",
    "        if row[len(row)-j-1] != '':\n",
    "            # store the numbner of features the current row contains (3, 4 or 5) and break the inner loop\n",
    "            nfeatures = (len(row)-j)\n",
    "            break\n",
    "\n",
    "    # check the number of features\n",
    "    if nfeatures == 5:\n",
    "        # five features means complete row with region, store it in a variable\n",
    "        vregion = row[0]\n",
    "\n",
    "    # 3 or 4 features means region is missing, the variable above will be used\n",
    "\n",
    "    # append the current row to the temporary list\n",
    "    listtmp.append([vregion, row[nfeatures-3], row[nfeatures-1]])"
   ]
  },
  {
   "cell_type": "markdown",
   "metadata": {},
   "source": [
    "Check the resulting list, head and tail."
   ]
  },
  {
   "cell_type": "code",
   "execution_count": 17,
   "metadata": {},
   "outputs": [
    {
     "name": "stdout",
     "output_type": "stream",
     "text": [
      "Head 10 rows\n"
     ]
    },
    {
     "data": {
      "text/plain": [
       "[['Centro', 'Bela Vista', '2,72'],\n",
       " ['Centro', 'Bom Retiro', '4,21'],\n",
       " ['Centro', 'Cambuci', '3,92'],\n",
       " ['Centro', 'Consolação', '3,82'],\n",
       " ['Centro', 'Liberdade', '3,65'],\n",
       " ['Centro', 'República', '2,40'],\n",
       " ['Centro', 'Santa Cecília', '3,76'],\n",
       " ['Centro', 'Sé', '2,19'],\n",
       " ['Leste', 'Aricanduva', '6,96'],\n",
       " ['Leste', 'Carrão', '7,90']]"
      ]
     },
     "execution_count": 17,
     "metadata": {},
     "output_type": "execute_result"
    }
   ],
   "source": [
    "# check results\n",
    "print('Head 10 rows')\n",
    "listtmp[:10]"
   ]
  },
  {
   "cell_type": "code",
   "execution_count": 18,
   "metadata": {},
   "outputs": [
    {
     "name": "stdout",
     "output_type": "stream",
     "text": [
      "Tail 10 rows\n"
     ]
    },
    {
     "data": {
      "text/plain": [
       "[['Sul', 'Jardim Ângela', '37,41'],\n",
       " ['Sul', 'Jardim São Luís', '26,05'],\n",
       " ['Sul', 'Marsilac', '208,19'],\n",
       " ['Sul', 'Parelheiros', '152,61'],\n",
       " ['Sul', 'Campo Belo', '8,77'],\n",
       " ['Sul', 'Campo Grande', '12,95'],\n",
       " ['Sul', 'Santo Amaro', '16,04'],\n",
       " ['Sul', 'Moema', '9,08'],\n",
       " ['Sul', 'Saúde', '9,31'],\n",
       " ['Sul', 'Vila Mariana', '8,60']]"
      ]
     },
     "execution_count": 18,
     "metadata": {},
     "output_type": "execute_result"
    }
   ],
   "source": [
    "#print results\n",
    "print('Tail 10 rows')\n",
    "listtmp[-10:]"
   ]
  },
  {
   "cell_type": "markdown",
   "metadata": {},
   "source": [
    "The list is ready to be stored in a dataframe. Create the __Districts Dataframe__, using _Pandas DataFrame_ method."
   ]
  },
  {
   "cell_type": "code",
   "execution_count": 19,
   "metadata": {},
   "outputs": [],
   "source": [
    "# create the dataframe\n",
    "df_districts = pd.DataFrame(data=listtmp, columns=column_names)"
   ]
  },
  {
   "cell_type": "markdown",
   "metadata": {},
   "source": [
    "Check the dataframe head, tail and shape."
   ]
  },
  {
   "cell_type": "code",
   "execution_count": 20,
   "metadata": {},
   "outputs": [
    {
     "data": {
      "text/html": [
       "<div>\n",
       "<style scoped>\n",
       "    .dataframe tbody tr th:only-of-type {\n",
       "        vertical-align: middle;\n",
       "    }\n",
       "\n",
       "    .dataframe tbody tr th {\n",
       "        vertical-align: top;\n",
       "    }\n",
       "\n",
       "    .dataframe thead th {\n",
       "        text-align: right;\n",
       "    }\n",
       "</style>\n",
       "<table border=\"1\" class=\"dataframe\">\n",
       "  <thead>\n",
       "    <tr style=\"text-align: right;\">\n",
       "      <th></th>\n",
       "      <th>region</th>\n",
       "      <th>district</th>\n",
       "      <th>area_sqkm</th>\n",
       "    </tr>\n",
       "  </thead>\n",
       "  <tbody>\n",
       "    <tr>\n",
       "      <th>0</th>\n",
       "      <td>Centro</td>\n",
       "      <td>Bela Vista</td>\n",
       "      <td>2,72</td>\n",
       "    </tr>\n",
       "    <tr>\n",
       "      <th>1</th>\n",
       "      <td>Centro</td>\n",
       "      <td>Bom Retiro</td>\n",
       "      <td>4,21</td>\n",
       "    </tr>\n",
       "    <tr>\n",
       "      <th>2</th>\n",
       "      <td>Centro</td>\n",
       "      <td>Cambuci</td>\n",
       "      <td>3,92</td>\n",
       "    </tr>\n",
       "    <tr>\n",
       "      <th>3</th>\n",
       "      <td>Centro</td>\n",
       "      <td>Consolação</td>\n",
       "      <td>3,82</td>\n",
       "    </tr>\n",
       "    <tr>\n",
       "      <th>4</th>\n",
       "      <td>Centro</td>\n",
       "      <td>Liberdade</td>\n",
       "      <td>3,65</td>\n",
       "    </tr>\n",
       "    <tr>\n",
       "      <th>...</th>\n",
       "      <td>...</td>\n",
       "      <td>...</td>\n",
       "      <td>...</td>\n",
       "    </tr>\n",
       "    <tr>\n",
       "      <th>91</th>\n",
       "      <td>Sul</td>\n",
       "      <td>Campo Grande</td>\n",
       "      <td>12,95</td>\n",
       "    </tr>\n",
       "    <tr>\n",
       "      <th>92</th>\n",
       "      <td>Sul</td>\n",
       "      <td>Santo Amaro</td>\n",
       "      <td>16,04</td>\n",
       "    </tr>\n",
       "    <tr>\n",
       "      <th>93</th>\n",
       "      <td>Sul</td>\n",
       "      <td>Moema</td>\n",
       "      <td>9,08</td>\n",
       "    </tr>\n",
       "    <tr>\n",
       "      <th>94</th>\n",
       "      <td>Sul</td>\n",
       "      <td>Saúde</td>\n",
       "      <td>9,31</td>\n",
       "    </tr>\n",
       "    <tr>\n",
       "      <th>95</th>\n",
       "      <td>Sul</td>\n",
       "      <td>Vila Mariana</td>\n",
       "      <td>8,60</td>\n",
       "    </tr>\n",
       "  </tbody>\n",
       "</table>\n",
       "<p>96 rows × 3 columns</p>\n",
       "</div>"
      ],
      "text/plain": [
       "    region      district area_sqkm\n",
       "0   Centro    Bela Vista      2,72\n",
       "1   Centro    Bom Retiro      4,21\n",
       "2   Centro       Cambuci      3,92\n",
       "3   Centro    Consolação      3,82\n",
       "4   Centro     Liberdade      3,65\n",
       "..     ...           ...       ...\n",
       "91     Sul  Campo Grande     12,95\n",
       "92     Sul   Santo Amaro     16,04\n",
       "93     Sul         Moema      9,08\n",
       "94     Sul         Saúde      9,31\n",
       "95     Sul  Vila Mariana      8,60\n",
       "\n",
       "[96 rows x 3 columns]"
      ]
     },
     "execution_count": 20,
     "metadata": {},
     "output_type": "execute_result"
    }
   ],
   "source": [
    "# check results\n",
    "df_districts"
   ]
  },
  {
   "cell_type": "markdown",
   "metadata": {},
   "source": [
    "Data in __area_sqkm__ column doesn't have a good fit, as the decimal separator is comma, the Brazilian standard. For this reason it contains strings when it should contain numbers, _float_ in this case.\n",
    "\n",
    "Convert the data type of __area_sqkm__ to _float_. This will be done replacing the decimal separator, using _Pandas apply_ metohd, and then converting the column data type to _float_ in the dataframe using _Pandas astype_ method."
   ]
  },
  {
   "cell_type": "code",
   "execution_count": 21,
   "metadata": {},
   "outputs": [
    {
     "data": {
      "text/html": [
       "<div>\n",
       "<style scoped>\n",
       "    .dataframe tbody tr th:only-of-type {\n",
       "        vertical-align: middle;\n",
       "    }\n",
       "\n",
       "    .dataframe tbody tr th {\n",
       "        vertical-align: top;\n",
       "    }\n",
       "\n",
       "    .dataframe thead th {\n",
       "        text-align: right;\n",
       "    }\n",
       "</style>\n",
       "<table border=\"1\" class=\"dataframe\">\n",
       "  <thead>\n",
       "    <tr style=\"text-align: right;\">\n",
       "      <th></th>\n",
       "      <th>region</th>\n",
       "      <th>district</th>\n",
       "      <th>area_sqkm</th>\n",
       "    </tr>\n",
       "  </thead>\n",
       "  <tbody>\n",
       "    <tr>\n",
       "      <th>0</th>\n",
       "      <td>Centro</td>\n",
       "      <td>Bela Vista</td>\n",
       "      <td>2.72</td>\n",
       "    </tr>\n",
       "    <tr>\n",
       "      <th>1</th>\n",
       "      <td>Centro</td>\n",
       "      <td>Bom Retiro</td>\n",
       "      <td>4.21</td>\n",
       "    </tr>\n",
       "    <tr>\n",
       "      <th>2</th>\n",
       "      <td>Centro</td>\n",
       "      <td>Cambuci</td>\n",
       "      <td>3.92</td>\n",
       "    </tr>\n",
       "    <tr>\n",
       "      <th>3</th>\n",
       "      <td>Centro</td>\n",
       "      <td>Consolação</td>\n",
       "      <td>3.82</td>\n",
       "    </tr>\n",
       "    <tr>\n",
       "      <th>4</th>\n",
       "      <td>Centro</td>\n",
       "      <td>Liberdade</td>\n",
       "      <td>3.65</td>\n",
       "    </tr>\n",
       "    <tr>\n",
       "      <th>...</th>\n",
       "      <td>...</td>\n",
       "      <td>...</td>\n",
       "      <td>...</td>\n",
       "    </tr>\n",
       "    <tr>\n",
       "      <th>91</th>\n",
       "      <td>Sul</td>\n",
       "      <td>Campo Grande</td>\n",
       "      <td>12.95</td>\n",
       "    </tr>\n",
       "    <tr>\n",
       "      <th>92</th>\n",
       "      <td>Sul</td>\n",
       "      <td>Santo Amaro</td>\n",
       "      <td>16.04</td>\n",
       "    </tr>\n",
       "    <tr>\n",
       "      <th>93</th>\n",
       "      <td>Sul</td>\n",
       "      <td>Moema</td>\n",
       "      <td>9.08</td>\n",
       "    </tr>\n",
       "    <tr>\n",
       "      <th>94</th>\n",
       "      <td>Sul</td>\n",
       "      <td>Saúde</td>\n",
       "      <td>9.31</td>\n",
       "    </tr>\n",
       "    <tr>\n",
       "      <th>95</th>\n",
       "      <td>Sul</td>\n",
       "      <td>Vila Mariana</td>\n",
       "      <td>8.60</td>\n",
       "    </tr>\n",
       "  </tbody>\n",
       "</table>\n",
       "<p>96 rows × 3 columns</p>\n",
       "</div>"
      ],
      "text/plain": [
       "    region      district area_sqkm\n",
       "0   Centro    Bela Vista      2.72\n",
       "1   Centro    Bom Retiro      4.21\n",
       "2   Centro       Cambuci      3.92\n",
       "3   Centro    Consolação      3.82\n",
       "4   Centro     Liberdade      3.65\n",
       "..     ...           ...       ...\n",
       "91     Sul  Campo Grande     12.95\n",
       "92     Sul   Santo Amaro     16.04\n",
       "93     Sul         Moema      9.08\n",
       "94     Sul         Saúde      9.31\n",
       "95     Sul  Vila Mariana      8.60\n",
       "\n",
       "[96 rows x 3 columns]"
      ]
     },
     "execution_count": 21,
     "metadata": {},
     "output_type": "execute_result"
    }
   ],
   "source": [
    "# change decimal separator\n",
    "df_districts['area_sqkm'] = df_districts['area_sqkm'].apply(lambda x : x.replace(',', '.'))\n",
    "\n",
    "# check the head\n",
    "df_districts"
   ]
  },
  {
   "cell_type": "markdown",
   "metadata": {},
   "source": [
    "Check the dataframe columns data types before converting, change the data type of __area_sqkm__ from _object_ to _float_, and check the dataframe columns data types after converting."
   ]
  },
  {
   "cell_type": "code",
   "execution_count": 22,
   "metadata": {},
   "outputs": [
    {
     "name": "stdout",
     "output_type": "stream",
     "text": [
      "df_districts data types before converting:\n",
      " region       object\n",
      "district     object\n",
      "area_sqkm    object\n",
      "dtype: object \n",
      "\n",
      "df_districts data types after converting:\n",
      " region        object\n",
      "district      object\n",
      "area_sqkm    float64\n",
      "dtype: object\n"
     ]
    }
   ],
   "source": [
    "# print the columns data types\n",
    "print('df_districts data types before converting:\\n', df_districts.dtypes, '\\n')\n",
    "\n",
    "# convert the area column to float\n",
    "df_districts = df_districts.astype({'area_sqkm': 'float64'})\n",
    "\n",
    "# print the columns data types\n",
    "print('df_districts data types after converting:\\n', df_districts.dtypes)"
   ]
  },
  {
   "cell_type": "markdown",
   "metadata": {},
   "source": [
    "Check results."
   ]
  },
  {
   "cell_type": "code",
   "execution_count": 23,
   "metadata": {},
   "outputs": [
    {
     "data": {
      "text/html": [
       "<div>\n",
       "<style scoped>\n",
       "    .dataframe tbody tr th:only-of-type {\n",
       "        vertical-align: middle;\n",
       "    }\n",
       "\n",
       "    .dataframe tbody tr th {\n",
       "        vertical-align: top;\n",
       "    }\n",
       "\n",
       "    .dataframe thead th {\n",
       "        text-align: right;\n",
       "    }\n",
       "</style>\n",
       "<table border=\"1\" class=\"dataframe\">\n",
       "  <thead>\n",
       "    <tr style=\"text-align: right;\">\n",
       "      <th></th>\n",
       "      <th>region</th>\n",
       "      <th>district</th>\n",
       "      <th>area_sqkm</th>\n",
       "    </tr>\n",
       "  </thead>\n",
       "  <tbody>\n",
       "    <tr>\n",
       "      <th>0</th>\n",
       "      <td>Centro</td>\n",
       "      <td>Bela Vista</td>\n",
       "      <td>2.72</td>\n",
       "    </tr>\n",
       "    <tr>\n",
       "      <th>1</th>\n",
       "      <td>Centro</td>\n",
       "      <td>Bom Retiro</td>\n",
       "      <td>4.21</td>\n",
       "    </tr>\n",
       "    <tr>\n",
       "      <th>2</th>\n",
       "      <td>Centro</td>\n",
       "      <td>Cambuci</td>\n",
       "      <td>3.92</td>\n",
       "    </tr>\n",
       "    <tr>\n",
       "      <th>3</th>\n",
       "      <td>Centro</td>\n",
       "      <td>Consolação</td>\n",
       "      <td>3.82</td>\n",
       "    </tr>\n",
       "    <tr>\n",
       "      <th>4</th>\n",
       "      <td>Centro</td>\n",
       "      <td>Liberdade</td>\n",
       "      <td>3.65</td>\n",
       "    </tr>\n",
       "    <tr>\n",
       "      <th>...</th>\n",
       "      <td>...</td>\n",
       "      <td>...</td>\n",
       "      <td>...</td>\n",
       "    </tr>\n",
       "    <tr>\n",
       "      <th>91</th>\n",
       "      <td>Sul</td>\n",
       "      <td>Campo Grande</td>\n",
       "      <td>12.95</td>\n",
       "    </tr>\n",
       "    <tr>\n",
       "      <th>92</th>\n",
       "      <td>Sul</td>\n",
       "      <td>Santo Amaro</td>\n",
       "      <td>16.04</td>\n",
       "    </tr>\n",
       "    <tr>\n",
       "      <th>93</th>\n",
       "      <td>Sul</td>\n",
       "      <td>Moema</td>\n",
       "      <td>9.08</td>\n",
       "    </tr>\n",
       "    <tr>\n",
       "      <th>94</th>\n",
       "      <td>Sul</td>\n",
       "      <td>Saúde</td>\n",
       "      <td>9.31</td>\n",
       "    </tr>\n",
       "    <tr>\n",
       "      <th>95</th>\n",
       "      <td>Sul</td>\n",
       "      <td>Vila Mariana</td>\n",
       "      <td>8.60</td>\n",
       "    </tr>\n",
       "  </tbody>\n",
       "</table>\n",
       "<p>96 rows × 3 columns</p>\n",
       "</div>"
      ],
      "text/plain": [
       "    region      district  area_sqkm\n",
       "0   Centro    Bela Vista       2.72\n",
       "1   Centro    Bom Retiro       4.21\n",
       "2   Centro       Cambuci       3.92\n",
       "3   Centro    Consolação       3.82\n",
       "4   Centro     Liberdade       3.65\n",
       "..     ...           ...        ...\n",
       "91     Sul  Campo Grande      12.95\n",
       "92     Sul   Santo Amaro      16.04\n",
       "93     Sul         Moema       9.08\n",
       "94     Sul         Saúde       9.31\n",
       "95     Sul  Vila Mariana       8.60\n",
       "\n",
       "[96 rows x 3 columns]"
      ]
     },
     "execution_count": 23,
     "metadata": {},
     "output_type": "execute_result"
    }
   ],
   "source": [
    "# check results\n",
    "df_districts"
   ]
  },
  {
   "cell_type": "markdown",
   "metadata": {},
   "source": [
    "---"
   ]
  },
  {
   "cell_type": "markdown",
   "metadata": {},
   "source": [
    "### Step 3 - Acquire Rental Prices Data of _Target Location_"
   ]
  },
  {
   "cell_type": "markdown",
   "metadata": {},
   "source": [
    "Searching on the internet, there are several real estate agencies websites in São Paulo, but to find a rental prices list per district or neighborhood is a hard task, there are also economy and financial websites doing monthly analysis to show the prices variation, but the list with prices per district or neighborhood is also not available.\n",
    "\n",
    "A mixed rental prices list per district and neighborhood could be found in a real estate agency website called __Blog SP Imóvel__ (www.spimovel.com.br), which provides its services all around the city. It hosts additional four websites covering the regions of the city, as follwing;\n",
    "\n",
    "* __Blog ZN Imóvel__ (www.znimovel.com.br) for region _Norte_\n",
    "* __Blog ZS Imóvel__ (www.zsimovel.com.br) for region _Sul_\n",
    "* __Blog ZL Imóvel__ (www.zlimovel.com.br) for region _Leste_\n",
    "* __Blog ZO Imóvel__ (www.zoimovel.com.br) for region _Oeste_\n",
    "\n",
    "The websites contain each of them a list mixed with districts and neighborhoods names, it is not the complete city neighborhoods, but all the districts are represented. Unfortunately there is a missing relation between districts and neighborhoods, what could not be found, and for this reason missing data is expected to occour, and they will be treated accordingly."
   ]
  },
  {
   "cell_type": "markdown",
   "metadata": {},
   "source": [
    "To create the __Rental Prices Dataframe__ a request will be sent to each of the mentioned websites, their content parsed, cleaned and organized, to be combined and stored into a unique data frame.\n",
    "\n",
    "The lists can be viewed at the following links;\n",
    "\n",
    "[Blog ZN Imóvel list from 2020.02.26](https://www.znimovel.com.br/blog/qual-o-valor-do-metro-quadrado-do-aluguel-dos-apartamentos-na-zona-norte-de-sao-paulo/2834/)\n",
    "\n",
    "[Blog ZS Imóvel list from 2020.03.06](https://www.zsimovel.com.br/blog/qual-o-valor-do-metro-quadrado-do-aluguel-dos-apartamentos-na-zona-sul-de-sao-paulo/2874/)\n",
    "\n",
    "[Blog ZL Imóvel list from 2020.02.28](https://www.zlimovel.com.br/blog/qual-o-valor-do-metro-quadrado-do-aluguel-dos-apartamentos-na-zona-leste-de-sao-paulo/2824/)\n",
    "\n",
    "[Blog ZO Imóvel list from 2020.02.28](https://www.zoimovel.com.br/blog/qual-o-valor-do-metro-quadrado-do-aluguel-dos-apartamentos-na-zona-oeste-de-sao-paulo/2851/)\n"
   ]
  },
  {
   "cell_type": "markdown",
   "metadata": {},
   "source": [
    "Import addional required libraries\n",
    "1. __Numpy__: manipulate arrays and matrices calculations. "
   ]
  },
  {
   "cell_type": "code",
   "execution_count": 24,
   "metadata": {},
   "outputs": [],
   "source": [
    "import numpy as np"
   ]
  },
  {
   "cell_type": "markdown",
   "metadata": {},
   "source": [
    "__Region__ ___Norte___ - Send request to the URL using _Requests_."
   ]
  },
  {
   "cell_type": "code",
   "execution_count": 25,
   "metadata": {},
   "outputs": [
    {
     "name": "stdout",
     "output_type": "stream",
     "text": [
      "Data loaded, status 200\n"
     ]
    }
   ],
   "source": [
    "# define a variable for the url\n",
    "url = 'https://www.znimovel.com.br/blog/qual-o-valor-do-metro-quadrado-do-aluguel-dos-apartamentos-na-zona-norte-de-sao-paulo/2834/'\n",
    "\n",
    "# send a request to the URL and store the response\n",
    "raw = requests.get(url)\n",
    "\n",
    "# check if data was loaded [status 200 means success]\n",
    "if raw:\n",
    "    print('Data loaded, status', raw.status_code)\n",
    "else:\n",
    "    print('Error loading data', raw.status_code)"
   ]
  },
  {
   "cell_type": "markdown",
   "metadata": {},
   "source": [
    "Parse the URL content using _BeautifulSoup_ with _HTML_ parser."
   ]
  },
  {
   "cell_type": "code",
   "execution_count": 26,
   "metadata": {},
   "outputs": [
    {
     "name": "stdout",
     "output_type": "stream",
     "text": [
      "URL content parsed.\n"
     ]
    }
   ],
   "source": [
    "# parse the raw data\n",
    "par = bs(raw.text, 'html.parser')\n",
    "print('URL content parsed.')"
   ]
  },
  {
   "cell_type": "markdown",
   "metadata": {},
   "source": [
    "Check the returned content, initially, how many tables it contains, the HTML tag _table_ will be the reference for counting."
   ]
  },
  {
   "cell_type": "code",
   "execution_count": 27,
   "metadata": {},
   "outputs": [
    {
     "name": "stdout",
     "output_type": "stream",
     "text": [
      "3 table(s) found in the parsed content.\n"
     ]
    }
   ],
   "source": [
    "# print number of tables\n",
    "print('{} table(s) found in the parsed content.'.format(len(par.find_all('table'))))"
   ]
  },
  {
   "cell_type": "markdown",
   "metadata": {},
   "source": [
    "Check the titles of each table to know which of them is the relevant one to be used. The HTML tag _table_ will be used to select the tables, and the tag _tr_ to select the first row form the table."
   ]
  },
  {
   "cell_type": "code",
   "execution_count": 28,
   "metadata": {},
   "outputs": [
    {
     "name": "stdout",
     "output_type": "stream",
     "text": [
      "Title of Table 0\n",
      "\n",
      "Valor médio do metro quadrado do Aluguel\n",
      "\t\t\tApartamentos 1, 2 e 3 dormitórios \n",
      "1 Vaga de Garagem\n",
      "\t\t\tZona Norte - São Paulo\n",
      "\n",
      "Title of Table 1\n",
      "\n",
      "Valor médio do metro quadrado do Aluguel\n",
      "\t\t\tApartamentos 2 e 3 dormitórios \n",
      "2 Vagas de Garagem\n",
      "\t\t\tZona Norte - São Paulo\n",
      "\n",
      "Title of Table 2\n",
      "\n",
      "Valor médio do metro quadrado do Aluguel\n",
      "\t\t\tApartamentos Alto Padrão com 3 SUÌTES ou 4 dormitórios\n",
      "3 ou mais  Vagas de Garagem\n",
      "\t\t\tZona Norte - São Paulo\n",
      "\n"
     ]
    }
   ],
   "source": [
    "# run a loop through the tables [tag table]\n",
    "for i, title in enumerate(par.find_all('table')):\n",
    "    # print the first row [tag tr]\n",
    "    print('Title of Table', i)\n",
    "    print(title.find_all('tr')[0].get_text())"
   ]
  },
  {
   "cell_type": "markdown",
   "metadata": {},
   "source": [
    "Translating results.\n",
    "\n",
    "__Table 0__ contains prices for apartments with 1, 2 or 3 bedrooms and 1 garage spot\n",
    "\n",
    "__Table 1__ contains prices for apartments with 2 or 3 bedrooms and 2 garage spots\n",
    "\n",
    "__Table 2__ contains prices for high standard apartments with 3 bedrooms with private suites or 4 bedrooms and 3 or more garage spots\n",
    "\n",
    "For this project the __Table 0__ will be used as it is the best fit for __Relocator Profile__."
   ]
  },
  {
   "cell_type": "markdown",
   "metadata": {},
   "source": [
    "Extract the data out of the table to a list and check where the required data is located. This will be done running a nested loop through the rows, on the first level, and columns, on the second level. HTML tag _tr_ will be used to extract rows and _td_ to extract the columns."
   ]
  },
  {
   "cell_type": "code",
   "execution_count": 29,
   "metadata": {},
   "outputs": [
    {
     "name": "stdout",
     "output_type": "stream",
     "text": [
      "28 rows loaded.\n"
     ]
    }
   ],
   "source": [
    "# get the table from the URL content [tag 'table']\n",
    "par_table = par.find_all('table')[0]\n",
    "\n",
    "# create an empty list for the entire table\n",
    "tabletmp = []\n",
    "\n",
    "# run a loop by row [tag 'tr']\n",
    "for i, row in enumerate(par_table.find_all('tr')):\n",
    "    # create an empty list for the current row\n",
    "    celltmp = []\n",
    "\n",
    "    # run a loop by column for the current row [tag 'td']\n",
    "    for j, column in enumerate(row.find_all('td')):\n",
    "        # append the text of current cell to the list\n",
    "        celltmp.append(column.get_text())\n",
    "\n",
    "    # append current line to the list\n",
    "    tabletmp.append(celltmp)\n",
    "        \n",
    "# print results\n",
    "print('{} rows loaded.'.format(len(tabletmp)))"
   ]
  },
  {
   "cell_type": "markdown",
   "metadata": {},
   "source": [
    "Check the head and tail of the list to define the range of required data."
   ]
  },
  {
   "cell_type": "code",
   "execution_count": 30,
   "metadata": {},
   "outputs": [
    {
     "name": "stdout",
     "output_type": "stream",
     "text": [
      "Head 10 rows\n"
     ]
    },
    {
     "data": {
      "text/plain": [
       "[['Valor médio do metro quadrado do Aluguel\\r\\n\\t\\t\\tApartamentos 1, 2 e 3 dormitórios\\xa0\\n1 Vaga de Garagem\\r\\n\\t\\t\\tZona Norte - São Paulo'],\n",
       " ['Bairros', 'Valor médio do m² Aluguel'],\n",
       " ['Santana', 'R$ 23,80'],\n",
       " ['Lauzane Paulista', 'R$ 22,10'],\n",
       " ['Mandaqui', 'R$ 21,70'],\n",
       " ['Tucuruvi', 'R$ 23,00'],\n",
       " ['Parada Inglesa', 'R$ 27,00'],\n",
       " ['Vila Guilherme', 'R$ 25,80'],\n",
       " ['Jardim São Paulo', 'R$ 22,40'],\n",
       " ['Vila Mazzei', 'R$ 23,60']]"
      ]
     },
     "execution_count": 30,
     "metadata": {},
     "output_type": "execute_result"
    }
   ],
   "source": [
    "# print the first 10 rows\n",
    "print('Head 10 rows')\n",
    "tabletmp[:10]"
   ]
  },
  {
   "cell_type": "markdown",
   "metadata": {},
   "source": [
    "The first row contains the table title, the second row the columns headers.\n",
    "\n",
    "Check the tail of the table."
   ]
  },
  {
   "cell_type": "code",
   "execution_count": 31,
   "metadata": {},
   "outputs": [
    {
     "name": "stdout",
     "output_type": "stream",
     "text": [
      "Tail 10 rows\n"
     ]
    },
    {
     "data": {
      "text/plain": [
       "[['Cachoeirinha', 'R$ 21,00'],\n",
       " ['Vila Amália', 'R$ 22,30'],\n",
       " ['Vila Gustavo', 'R$ 23,70'],\n",
       " ['Limão', 'R$ 23,30'],\n",
       " ['Vila Medeiros', 'R$ 22,20'],\n",
       " ['Vila Nova Cachoeirinha', 'R$ 21,80'],\n",
       " ['Tremembé', 'R$ 20,10'],\n",
       " ['Horto Florestal', 'R$ 20,40'],\n",
       " ['Alto de Santana', 'R$ 23,80'],\n",
       " ['Dados Fevereiro 2020\\r\\n\\t\\t\\tPortal ZN Imóvel']]"
      ]
     },
     "execution_count": 31,
     "metadata": {},
     "output_type": "execute_result"
    }
   ],
   "source": [
    "#print the last 10 rows\n",
    "print('Tail 10 rows')\n",
    "tabletmp[-10:]"
   ]
  },
  {
   "cell_type": "markdown",
   "metadata": {},
   "source": [
    "The last row contais the footnote.\n",
    "\n",
    "There are 1 title and 1 header row, the first 2 rows at the top will be ignored. At the bottom 1 footnote row  will be ignored. The data ranges from row 3 (index 2) to row 27 (index 26), counting 25 neighborhoods.\n",
    "\n",
    "Extract only the data rows out of the table, store them into a temporary prices list and count the number of rows left."
   ]
  },
  {
   "cell_type": "code",
   "execution_count": 32,
   "metadata": {},
   "outputs": [
    {
     "name": "stdout",
     "output_type": "stream",
     "text": [
      "25 rows in total.\n"
     ]
    }
   ],
   "source": [
    "# extract only data rows and store in temporary prices list\n",
    "listtmp = tabletmp[2:-1]\n",
    "\n",
    "# print results\n",
    "print('{} rows in total.'.format(len(listtmp)))"
   ]
  },
  {
   "cell_type": "markdown",
   "metadata": {},
   "source": [
    "Check the columns headers in row 2."
   ]
  },
  {
   "cell_type": "code",
   "execution_count": 33,
   "metadata": {},
   "outputs": [
    {
     "data": {
      "text/plain": [
       "['Bairros', 'Valor médio do m² Aluguel']"
      ]
     },
     "execution_count": 33,
     "metadata": {},
     "output_type": "execute_result"
    }
   ],
   "source": [
    "# check columns headers\n",
    "tabletmp[1]"
   ]
  },
  {
   "cell_type": "markdown",
   "metadata": {},
   "source": [
    "There are 2 columns, an english header will be defined for the __Rental Prices Dataframe__ as following:\n",
    "\n",
    "* __neighborhood__ (Bairros), the first column is the Neighborhood name\n",
    "* __mean_price_sqm__ (Valor médio do m<sup>2</sup> Aluguel), the second column is the mean rental price per m<sup>2</sup> in BRL (BRL/m<sup>2</sup>)"
   ]
  },
  {
   "cell_type": "code",
   "execution_count": 34,
   "metadata": {},
   "outputs": [],
   "source": [
    "# define the columns names\n",
    "column_names = ['neighborhood','mean_price_sqm']"
   ]
  },
  {
   "cell_type": "markdown",
   "metadata": {},
   "source": [
    "For regions _Sul_, _Leste_ and _Oeste_ the task should be the same, but they will be performed less didatically as it is only repetition."
   ]
  },
  {
   "cell_type": "markdown",
   "metadata": {},
   "source": [
    "__Region__ ___Sul___ - Send request to the URL and check its return."
   ]
  },
  {
   "cell_type": "code",
   "execution_count": 35,
   "metadata": {},
   "outputs": [
    {
     "name": "stdout",
     "output_type": "stream",
     "text": [
      "Data loaded, status 200\n"
     ]
    }
   ],
   "source": [
    "# define a variable for the url\n",
    "url = 'https://www.zsimovel.com.br/blog/qual-o-valor-do-metro-quadrado-do-aluguel-dos-apartamentos-na-zona-sul-de-sao-paulo/2874/'\n",
    "\n",
    "# send a request to the URL and store the response\n",
    "raw = requests.get(url)\n",
    "\n",
    "# check if data was loaded [status 200 means success]\n",
    "if raw:\n",
    "    print('Data loaded, status', raw.status_code)\n",
    "else:\n",
    "    print('Error loading data', raw.status_code)"
   ]
  },
  {
   "cell_type": "markdown",
   "metadata": {},
   "source": [
    "Parse the URL content, check how many tables it contains and check the titles of each table to know which of them is the relevant one to be used."
   ]
  },
  {
   "cell_type": "code",
   "execution_count": 36,
   "metadata": {},
   "outputs": [
    {
     "name": "stdout",
     "output_type": "stream",
     "text": [
      "4 table(s) found in the parsed URL.\n",
      "\n",
      "Title of Table 0\n",
      "\n",
      "Valor médio do metro quadrado do Aluguel\n",
      "\t\t\tApartamentos 1 ou 2 dormitórios\n",
      "1 Vaga de Garagem\n",
      "\t\t\tZona Sul - São Paulo\n",
      "\n",
      "Title of Table 1\n",
      "\n",
      "Valor médio do metro quadrado do Aluguel\n",
      "\t\t\tApartamentos 2 ou 3 dormitórios\n",
      "2 Vagas de Garagem\n",
      "\t\t\tZona Sul - São Paulo\n",
      "\n",
      "Title of Table 2\n",
      "\n",
      "Valor médio do metro quadrado do Aluguel\n",
      "\t\t\tApartamentos 3 Suítes ou 4 dormitórios\n",
      "3 Vagas de Garagem\n",
      "\t\t\tZona Sul - São Paulo\n",
      "\n",
      "Title of Table 3\n",
      "\n",
      "Valor médio do metro quadrado do Aluguel\n",
      "\t\t\tApartamentos 1 dormitório\n",
      "SEM VAGA de Garagem\n",
      "\t\t\tZona Sul - São Paulo\n",
      "\n"
     ]
    }
   ],
   "source": [
    "# parse the raw data\n",
    "par = bs(raw.text, 'html.parser')\n",
    "\n",
    "# print number of tables\n",
    "print('{} table(s) found in the parsed URL.\\n'.format(len(par.find_all('table'))))\n",
    "\n",
    "# run a loop through the tables [tag table]\n",
    "for i, title in enumerate(par.find_all('table')):\n",
    "    # print the first row [tag tr]\n",
    "    print('Title of Table', i)\n",
    "    print(title.find_all('tr')[0].get_text())"
   ]
  },
  {
   "cell_type": "markdown",
   "metadata": {},
   "source": [
    "Translating results.\n",
    "\n",
    "__Table 0__ contains prices for apartments with 1 or 2 bedrooms and 1 garage spot\n",
    "\n",
    "__Table 1__ contains prices for apartments with 2 or 3 bedrooms and 2 garage spots\n",
    "\n",
    "__Table 2__ contains prices for apartments with 3 bedrooms with private suites or 4 bedrooms and 3 garage spots\n",
    "\n",
    "__Table 3__ contains prices for apartments with 1 bedroom and no garage spot\n",
    "\n",
    "For this project the __Table 0__ will be used as it is the best fit for __Relocator Profile__."
   ]
  },
  {
   "cell_type": "markdown",
   "metadata": {},
   "source": [
    "Extract the data out of the table to a list and confirm where the required data is located."
   ]
  },
  {
   "cell_type": "code",
   "execution_count": 37,
   "metadata": {},
   "outputs": [
    {
     "name": "stdout",
     "output_type": "stream",
     "text": [
      "20 rows loaded.\n",
      "Content of three first rows:\n",
      " [['Valor médio do metro quadrado do Aluguel\\r\\n\\t\\t\\tApartamentos 1 ou 2 dormitórios\\n1 Vaga de Garagem\\r\\n\\t\\t\\tZona Sul - São Paulo'], ['Bairros', 'Valor médio m² Aluguel'], ['Vila Mariana', 'R$ 29,90']] \n",
      "\n",
      "Content of 2 last rows:\n",
      " [['Campo Limpo', 'R$ 24,50'], ['Dados Março 2020\\r\\n\\t\\t\\tPortal ZS Imóvel']]\n"
     ]
    }
   ],
   "source": [
    "# get the table out of the parsed content [tag 'table']\n",
    "par_table = par.find_all('table')[0]\n",
    "\n",
    "# create an empty list for the entire table\n",
    "tabletmp = []\n",
    "\n",
    "# run a loop by row [tag 'tr']\n",
    "for i, row in enumerate(par_table.find_all('tr')):\n",
    "    # create an empty list for the current row\n",
    "    celltmp = []\n",
    "\n",
    "    # run a loop by column for the current row [tag 'td']\n",
    "    for j, column in enumerate(row.find_all('td')):\n",
    "        # append the text of current cell to the list\n",
    "        celltmp.append(column.get_text())\n",
    "\n",
    "    # append current line to the list\n",
    "    tabletmp.append(celltmp)\n",
    "        \n",
    "# inform the number of rows loaded\n",
    "print('{} rows loaded.'.format(len(tabletmp)))\n",
    "\n",
    "# print content of three first row\n",
    "print('Content of three first rows:\\n', tabletmp[:3], '\\n')\n",
    "\n",
    "# print content of last two row\n",
    "print('Content of 2 last rows:\\n', tabletmp[-2:])"
   ]
  },
  {
   "cell_type": "markdown",
   "metadata": {},
   "source": [
    "The table structure is the same, 1 title, 1 header and 1 footnote row, the first 2 and the last 1 rows will be ignored. Add the data to the temporary prices list."
   ]
  },
  {
   "cell_type": "code",
   "execution_count": 38,
   "metadata": {},
   "outputs": [
    {
     "name": "stdout",
     "output_type": "stream",
     "text": [
      "17 rows added / 42 rows in total.\n"
     ]
    }
   ],
   "source": [
    "# store quantity of rows before adding new rows\n",
    "vlen = len(listtmp)\n",
    "\n",
    "# extend the temporary prices list with new data\n",
    "listtmp.extend(tabletmp[2:-1])\n",
    "\n",
    "# print results\n",
    "print('{} rows added / {} rows in total.'.format(len(listtmp)-vlen, len(listtmp)))"
   ]
  },
  {
   "cell_type": "markdown",
   "metadata": {},
   "source": [
    "__Region__ ___Leste___ - Send request to the URL and check its return."
   ]
  },
  {
   "cell_type": "code",
   "execution_count": 39,
   "metadata": {},
   "outputs": [
    {
     "name": "stdout",
     "output_type": "stream",
     "text": [
      "Data loaded, status 200\n"
     ]
    }
   ],
   "source": [
    "# define a variable for the url\n",
    "url = 'https://www.zlimovel.com.br/blog/qual-o-valor-do-metro-quadrado-do-aluguel-dos-apartamentos-na-zona-leste-de-sao-paulo/2824/'\n",
    "\n",
    "# send a request to the URL and store the response\n",
    "raw = requests.get(url)\n",
    "\n",
    "# check if data was loaded [status 200 means success]\n",
    "if raw:\n",
    "    print('Data loaded, status', raw.status_code)\n",
    "else:\n",
    "    print('Error loading data', raw.status_code)"
   ]
  },
  {
   "cell_type": "markdown",
   "metadata": {},
   "source": [
    "Parse the URL content, check how many tables it contains and check the titles of each table to know which of them is the relevant one to be used."
   ]
  },
  {
   "cell_type": "code",
   "execution_count": 40,
   "metadata": {},
   "outputs": [
    {
     "name": "stdout",
     "output_type": "stream",
     "text": [
      "4 table(s) found in the parsed URL.\n",
      "\n",
      "Title of Table 0\n",
      "\n",
      "Valor médio do metro quadrado do Aluguel\n",
      "\t\t\tApartamentos 1, 2 e 3 dormitórios\n",
      "1 Vaga de Garagem\n",
      "\t\t\tZona Leste - São Paulo\n",
      "\n",
      "Title of Table 1\n",
      "\n",
      "Valor médio do metro quadrado do Aluguel\n",
      "Apartamentos 2 e 3 dormitórios\n",
      "2 Vagas de Garagem\n",
      "\t\t\tZona Leste - São Paulo\n",
      "\n",
      "Title of Table 2\n",
      "\n",
      "Valor médio do metro quadrado do Aluguel\n",
      "Apartamentos 3 Suítes ou 4 Dormitórios\n",
      "3 ou mais Vagas de Garagem\n",
      "\t\t\tZona Leste - São Paulo\n",
      "\n",
      "Title of Table 3\n",
      "\n",
      "Valor médio do metro quadrado do Aluguel\n",
      "Apartamentos 1, 2 e 3 dormitórios\n",
      "1 Vaga de Garagem\n",
      "\t\t\tCohab, Zona Leste - São Paulo\n",
      "\n"
     ]
    }
   ],
   "source": [
    "# parse the raw data\n",
    "par = bs(raw.text, 'html.parser')\n",
    "\n",
    "# print number of tables\n",
    "print('{} table(s) found in the parsed URL.\\n'.format(len(par.find_all('table'))))\n",
    "\n",
    "# run a loop through the tables [tag table]\n",
    "for i, title in enumerate(par.find_all('table')):\n",
    "    # print the first row [tag tr]\n",
    "    print('Title of Table', i)\n",
    "    print(title.find_all('tr')[0].get_text())"
   ]
  },
  {
   "cell_type": "markdown",
   "metadata": {},
   "source": [
    "Translating results.\n",
    "\n",
    "__Table 0__ contains prices for apartments with 1, 2 or 3 bedrooms and 1 garage spot\n",
    "\n",
    "__Table 1__ contains prices for apartments with 2 or 3 bedrooms and 2 garage spots\n",
    "\n",
    "__Table 2__ contains prices for apartments with 3 bedrooms with private suites or 4 bedrooms and 3 or more garage spots\n",
    "\n",
    "__Table 3__ contains prices for apartments with 1, 2 or 3 bedrooms and 1 garage spot from _Cohab_, which is government habitational support program\n",
    "\n",
    "For this project the __Table 0__ will be used as it is the best fit for __Relocator Profile__."
   ]
  },
  {
   "cell_type": "markdown",
   "metadata": {},
   "source": [
    "Extract the data out of the table to a list and confirm where the required data is located."
   ]
  },
  {
   "cell_type": "code",
   "execution_count": 41,
   "metadata": {},
   "outputs": [
    {
     "name": "stdout",
     "output_type": "stream",
     "text": [
      "28 rows loaded.\n",
      "Content of three first rows:\n",
      " [['Valor médio do metro quadrado do Aluguel\\r\\n\\t\\t\\tApartamentos 1, 2 e 3 dormitórios\\n1 Vaga de Garagem\\r\\n\\t\\t\\tZona Leste - São Paulo'], ['Bairros', '\\xa0Valor médio m² Aluguel'], ['Tatuapé', 'R$ 25,70']] \n",
      "\n",
      "Content of 2 last rows:\n",
      " [['Jd. Nove de Julho', 'R$ 21,90'], ['Dados Fevereiro 2020\\r\\n\\t\\t\\tPortal ZL Imóvel']]\n"
     ]
    }
   ],
   "source": [
    "# get the table out of the parsed content [tag 'table']\n",
    "par_table = par.find_all('table')[0]\n",
    "\n",
    "# create an empty list for the entire table\n",
    "tabletmp = []\n",
    "\n",
    "# run a loop by row [tag 'tr']\n",
    "for i, row in enumerate(par_table.find_all('tr')):\n",
    "    # create an empty list for the current row\n",
    "    celltmp = []\n",
    "\n",
    "    # run a loop by column for the current row [tag 'td']\n",
    "    for j, column in enumerate(row.find_all('td')):\n",
    "        # append the text of current cell to the list\n",
    "        celltmp.append(column.get_text())\n",
    "\n",
    "    # append current line to the list\n",
    "    tabletmp.append(celltmp)\n",
    "        \n",
    "# inform the number of rows loaded\n",
    "print('{} rows loaded.'.format(len(tabletmp)))\n",
    "\n",
    "# print content of three first row\n",
    "print('Content of three first rows:\\n', tabletmp[:3], '\\n')\n",
    "\n",
    "# print content of last two row\n",
    "print('Content of 2 last rows:\\n', tabletmp[-2:])"
   ]
  },
  {
   "cell_type": "markdown",
   "metadata": {},
   "source": [
    "The table structure is the same, 1 title, 1 header and 1 footnote row, the first 2 and the last 1 rows will be ignored. Add the data to the temporary prices list."
   ]
  },
  {
   "cell_type": "code",
   "execution_count": 42,
   "metadata": {},
   "outputs": [
    {
     "name": "stdout",
     "output_type": "stream",
     "text": [
      "25 rows added / 67 rows in total rows.\n"
     ]
    }
   ],
   "source": [
    "# store quantity rows before adding new rows\n",
    "vlen = len(listtmp)\n",
    "\n",
    "# extend the temporary prices list with new data\n",
    "listtmp.extend(tabletmp[2:-1])\n",
    "\n",
    "# print results\n",
    "print('{} rows added / {} rows in total rows.'.format(len(listtmp)-vlen, len(listtmp)))"
   ]
  },
  {
   "cell_type": "markdown",
   "metadata": {},
   "source": [
    "__Region__ ___Oeste___ - Send request to the URL and check its return."
   ]
  },
  {
   "cell_type": "code",
   "execution_count": 43,
   "metadata": {},
   "outputs": [
    {
     "name": "stdout",
     "output_type": "stream",
     "text": [
      "Data loaded, status 200\n"
     ]
    }
   ],
   "source": [
    "# define a variable for the url\n",
    "url = 'https://www.zoimovel.com.br/blog/qual-o-valor-do-metro-quadrado-do-aluguel-dos-apartamentos-na-zona-oeste-de-sao-paulo/2851/'\n",
    "\n",
    "# send a request to the URL and store the response\n",
    "raw = requests.get(url)\n",
    "\n",
    "# check if data was loaded [status 200 means success]\n",
    "if raw:\n",
    "    print('Data loaded, status', raw.status_code)\n",
    "else:\n",
    "    print('Error loading data', raw.status_code)"
   ]
  },
  {
   "cell_type": "markdown",
   "metadata": {},
   "source": [
    "Parse the URL content, check how many tables it contains and check the titles of each table to know which of them is the relevant one to be used."
   ]
  },
  {
   "cell_type": "code",
   "execution_count": 44,
   "metadata": {},
   "outputs": [
    {
     "name": "stdout",
     "output_type": "stream",
     "text": [
      "4 table(s) found in the parsed URL.\n",
      "\n",
      "Title of Table 0\n",
      "\n",
      "Valor médio do metro quadrado do Aluguel\n",
      "\t\t\tApartamentos 1 e 2 dormitórios\n",
      "1 Vaga de Garagem\n",
      "\t\t\tZona Oeste - São Paulo\n",
      "\n",
      "Title of Table 1\n",
      "\n",
      "Valor médio do metro quadrado do Aluguel\n",
      "Apartamentos 2 e 3 dormitórios\n",
      "2 Vagas de Garagem\n",
      "\t\t\tZona Oeste - São Paulo\n",
      "\n",
      "Title of Table 2\n",
      "\n",
      "Valor médio do metro quadrado do Aluguel\n",
      "Apartamentos 3 e 4 dormitórios\n",
      "3 Vagas de Garagem\n",
      "\t\t\tZona Oeste - São Paulo\n",
      "\n",
      "Title of Table 3\n",
      "\n",
      "Valor médio do metro quadrado do Aluguel\n",
      "Apartamentos ou Kitnets 1 dormitório\n",
      "SEM VAGA de Garagem\n",
      "\t\t\tZona Oeste - São Paulo\n",
      "\n"
     ]
    }
   ],
   "source": [
    "# parse the raw data\n",
    "par = bs(raw.text, 'html.parser')\n",
    "\n",
    "# print number of tables\n",
    "print('{} table(s) found in the parsed URL.\\n'.format(len(par.find_all('table'))))\n",
    "\n",
    "# run a loop through the tables [tag table]\n",
    "for i, title in enumerate(par.find_all('table')):\n",
    "    # print the first row [tag tr]\n",
    "    print('Title of Table', i)\n",
    "    print(title.find_all('tr')[0].get_text())"
   ]
  },
  {
   "cell_type": "markdown",
   "metadata": {},
   "source": [
    "Translating results.\n",
    "\n",
    "__Table 0__ contains prices for apartments with 1 or 2 bedrooms and 1 garage spot\n",
    "\n",
    "__Table 1__ contains prices for apartments with 2 or 3 bedrooms and 2 garage spots\n",
    "\n",
    "__Table 2__ contains prices for apartments with 3 or 4 bedrooms and 3 garage spots\n",
    "\n",
    "__Table 3__ contains prices for apartments with 1 bedroom and no garage spot\n",
    "\n",
    "For this project the __Table 0__ will be used as it is the best fit for __Relocator Profile__."
   ]
  },
  {
   "cell_type": "markdown",
   "metadata": {},
   "source": [
    "Extract the data out of the table to a list and confirm where the required data is located."
   ]
  },
  {
   "cell_type": "code",
   "execution_count": 45,
   "metadata": {},
   "outputs": [
    {
     "name": "stdout",
     "output_type": "stream",
     "text": [
      "24 rows loaded.\n",
      "Content of three first rows:\n",
      " [['Valor médio do metro quadrado do Aluguel\\r\\n\\t\\t\\tApartamentos 1 e 2 dormitórios\\n1 Vaga de Garagem\\r\\n\\t\\t\\tZona Oeste - São Paulo'], ['Bairros', 'Valor médio de m²'], ['Perdizes', 'R$ 27,80']] \n",
      "\n",
      "Content of 2 last rows:\n",
      " [['Vila Leopoldina', 'R$ 33,50'], ['Dados Fevereiro 2020\\r\\n\\t\\t\\tPortal ZO Imóvel']]\n"
     ]
    }
   ],
   "source": [
    "# get the table out of the parsed content [tag 'table']\n",
    "par_table = par.find_all('table')[0]\n",
    "\n",
    "# create an empty list for the entire table\n",
    "tabletmp = []\n",
    "\n",
    "# run a loop by row [tag 'tr']\n",
    "for i, row in enumerate(par_table.find_all('tr')):\n",
    "    # create an empty list for the current row\n",
    "    celltmp = []\n",
    "\n",
    "    # run a loop by column for the current row [tag 'td']\n",
    "    for j, column in enumerate(row.find_all('td')):\n",
    "        # append the text of current cell to the list\n",
    "        celltmp.append(column.get_text())\n",
    "\n",
    "    # append current line to the list\n",
    "    tabletmp.append(celltmp)\n",
    "        \n",
    "# inform the number of rows loaded\n",
    "print('{} rows loaded.'.format(len(tabletmp)))\n",
    "\n",
    "# print content of three first row\n",
    "print('Content of three first rows:\\n', tabletmp[:3], '\\n')\n",
    "\n",
    "# print content of last two row\n",
    "print('Content of 2 last rows:\\n', tabletmp[-2:])"
   ]
  },
  {
   "cell_type": "markdown",
   "metadata": {},
   "source": [
    "The table structure is the same, 1 title, 1 header and 1 footnote row, the first 2 and the last 1 rows will be ignored. Add the data to the temporary prices list."
   ]
  },
  {
   "cell_type": "code",
   "execution_count": 46,
   "metadata": {},
   "outputs": [
    {
     "name": "stdout",
     "output_type": "stream",
     "text": [
      "21 rows added / 88 rows in total.\n"
     ]
    }
   ],
   "source": [
    "# store quantity of rows before adding new rows\n",
    "vlen = len(listtmp)\n",
    "\n",
    "# extend the temporary prices list with new data\n",
    "listtmp.extend(tabletmp[2:-1])\n",
    "\n",
    "# print results\n",
    "print('{} rows added / {} rows in total.'.format(len(listtmp)-vlen, len(listtmp)))"
   ]
  },
  {
   "cell_type": "markdown",
   "metadata": {},
   "source": [
    "The list is ready to be stored in a dataframe. Create the __Rental Prices Dataframe__, using _Pandas DataFrame_ method."
   ]
  },
  {
   "cell_type": "code",
   "execution_count": 47,
   "metadata": {},
   "outputs": [
    {
     "data": {
      "text/html": [
       "<div>\n",
       "<style scoped>\n",
       "    .dataframe tbody tr th:only-of-type {\n",
       "        vertical-align: middle;\n",
       "    }\n",
       "\n",
       "    .dataframe tbody tr th {\n",
       "        vertical-align: top;\n",
       "    }\n",
       "\n",
       "    .dataframe thead th {\n",
       "        text-align: right;\n",
       "    }\n",
       "</style>\n",
       "<table border=\"1\" class=\"dataframe\">\n",
       "  <thead>\n",
       "    <tr style=\"text-align: right;\">\n",
       "      <th></th>\n",
       "      <th>neighborhood</th>\n",
       "      <th>mean_price_sqm</th>\n",
       "    </tr>\n",
       "  </thead>\n",
       "  <tbody>\n",
       "    <tr>\n",
       "      <th>0</th>\n",
       "      <td>Santana</td>\n",
       "      <td>R$ 23,80</td>\n",
       "    </tr>\n",
       "    <tr>\n",
       "      <th>1</th>\n",
       "      <td>Lauzane Paulista</td>\n",
       "      <td>R$ 22,10</td>\n",
       "    </tr>\n",
       "    <tr>\n",
       "      <th>2</th>\n",
       "      <td>Mandaqui</td>\n",
       "      <td>R$ 21,70</td>\n",
       "    </tr>\n",
       "    <tr>\n",
       "      <th>3</th>\n",
       "      <td>Tucuruvi</td>\n",
       "      <td>R$ 23,00</td>\n",
       "    </tr>\n",
       "    <tr>\n",
       "      <th>4</th>\n",
       "      <td>Parada Inglesa</td>\n",
       "      <td>R$ 27,00</td>\n",
       "    </tr>\n",
       "    <tr>\n",
       "      <th>...</th>\n",
       "      <td>...</td>\n",
       "      <td>...</td>\n",
       "    </tr>\n",
       "    <tr>\n",
       "      <th>83</th>\n",
       "      <td>Pirituba</td>\n",
       "      <td>R$ 23,70</td>\n",
       "    </tr>\n",
       "    <tr>\n",
       "      <th>84</th>\n",
       "      <td>Vila Sônia</td>\n",
       "      <td>R$ 25,90</td>\n",
       "    </tr>\n",
       "    <tr>\n",
       "      <th>85</th>\n",
       "      <td>Vila São Francisco (ZO)</td>\n",
       "      <td>*Prejudicado</td>\n",
       "    </tr>\n",
       "    <tr>\n",
       "      <th>86</th>\n",
       "      <td>Jardins</td>\n",
       "      <td>R$ 32,20</td>\n",
       "    </tr>\n",
       "    <tr>\n",
       "      <th>87</th>\n",
       "      <td>Vila Leopoldina</td>\n",
       "      <td>R$ 33,50</td>\n",
       "    </tr>\n",
       "  </tbody>\n",
       "</table>\n",
       "<p>88 rows × 2 columns</p>\n",
       "</div>"
      ],
      "text/plain": [
       "               neighborhood mean_price_sqm\n",
       "0                   Santana       R$ 23,80\n",
       "1          Lauzane Paulista       R$ 22,10\n",
       "2                  Mandaqui       R$ 21,70\n",
       "3                  Tucuruvi       R$ 23,00\n",
       "4            Parada Inglesa       R$ 27,00\n",
       "..                      ...            ...\n",
       "83                 Pirituba       R$ 23,70\n",
       "84               Vila Sônia       R$ 25,90\n",
       "85  Vila São Francisco (ZO)   *Prejudicado\n",
       "86                  Jardins       R$ 32,20\n",
       "87          Vila Leopoldina       R$ 33,50\n",
       "\n",
       "[88 rows x 2 columns]"
      ]
     },
     "execution_count": 47,
     "metadata": {},
     "output_type": "execute_result"
    }
   ],
   "source": [
    "# create the rental prices dataframe\n",
    "df_rentalprices = pd.DataFrame(data=listtmp, columns=column_names)\n",
    "\n",
    "# print results\n",
    "df_rentalprices"
   ]
  },
  {
   "cell_type": "markdown",
   "metadata": {},
   "source": [
    "For neighborhoods which did not have enough samples to measure the mean rental price, the text __\"*Prejudicado\"__ has been added instead of the  mean price. Check the observations whitout mean rental price."
   ]
  },
  {
   "cell_type": "code",
   "execution_count": 48,
   "metadata": {},
   "outputs": [
    {
     "data": {
      "text/html": [
       "<div>\n",
       "<style scoped>\n",
       "    .dataframe tbody tr th:only-of-type {\n",
       "        vertical-align: middle;\n",
       "    }\n",
       "\n",
       "    .dataframe tbody tr th {\n",
       "        vertical-align: top;\n",
       "    }\n",
       "\n",
       "    .dataframe thead th {\n",
       "        text-align: right;\n",
       "    }\n",
       "</style>\n",
       "<table border=\"1\" class=\"dataframe\">\n",
       "  <thead>\n",
       "    <tr style=\"text-align: right;\">\n",
       "      <th></th>\n",
       "      <th>neighborhood</th>\n",
       "      <th>mean_price_sqm</th>\n",
       "    </tr>\n",
       "  </thead>\n",
       "  <tbody>\n",
       "    <tr>\n",
       "      <th>80</th>\n",
       "      <td>República</td>\n",
       "      <td>*Prejudicado</td>\n",
       "    </tr>\n",
       "    <tr>\n",
       "      <th>85</th>\n",
       "      <td>Vila São Francisco (ZO)</td>\n",
       "      <td>*Prejudicado</td>\n",
       "    </tr>\n",
       "  </tbody>\n",
       "</table>\n",
       "</div>"
      ],
      "text/plain": [
       "               neighborhood mean_price_sqm\n",
       "80                República   *Prejudicado\n",
       "85  Vila São Francisco (ZO)   *Prejudicado"
      ]
     },
     "execution_count": 48,
     "metadata": {},
     "output_type": "execute_result"
    }
   ],
   "source": [
    "# check entries with text in mean price column\n",
    "df_rentalprices[df_rentalprices['mean_price_sqm']=='*Prejudicado']"
   ]
  },
  {
   "cell_type": "markdown",
   "metadata": {},
   "source": [
    "Drop the observations withou mean rental price, as they cannot be used. This will be done using _Pandas Drop_ method."
   ]
  },
  {
   "cell_type": "code",
   "execution_count": 49,
   "metadata": {},
   "outputs": [
    {
     "data": {
      "text/html": [
       "<div>\n",
       "<style scoped>\n",
       "    .dataframe tbody tr th:only-of-type {\n",
       "        vertical-align: middle;\n",
       "    }\n",
       "\n",
       "    .dataframe tbody tr th {\n",
       "        vertical-align: top;\n",
       "    }\n",
       "\n",
       "    .dataframe thead th {\n",
       "        text-align: right;\n",
       "    }\n",
       "</style>\n",
       "<table border=\"1\" class=\"dataframe\">\n",
       "  <thead>\n",
       "    <tr style=\"text-align: right;\">\n",
       "      <th></th>\n",
       "      <th>neighborhood</th>\n",
       "      <th>mean_price_sqm</th>\n",
       "    </tr>\n",
       "  </thead>\n",
       "  <tbody>\n",
       "    <tr>\n",
       "      <th>0</th>\n",
       "      <td>Santana</td>\n",
       "      <td>R$ 23,80</td>\n",
       "    </tr>\n",
       "    <tr>\n",
       "      <th>1</th>\n",
       "      <td>Lauzane Paulista</td>\n",
       "      <td>R$ 22,10</td>\n",
       "    </tr>\n",
       "    <tr>\n",
       "      <th>2</th>\n",
       "      <td>Mandaqui</td>\n",
       "      <td>R$ 21,70</td>\n",
       "    </tr>\n",
       "    <tr>\n",
       "      <th>3</th>\n",
       "      <td>Tucuruvi</td>\n",
       "      <td>R$ 23,00</td>\n",
       "    </tr>\n",
       "    <tr>\n",
       "      <th>4</th>\n",
       "      <td>Parada Inglesa</td>\n",
       "      <td>R$ 27,00</td>\n",
       "    </tr>\n",
       "    <tr>\n",
       "      <th>...</th>\n",
       "      <td>...</td>\n",
       "      <td>...</td>\n",
       "    </tr>\n",
       "    <tr>\n",
       "      <th>82</th>\n",
       "      <td>Liberdade</td>\n",
       "      <td>R$ 30,70</td>\n",
       "    </tr>\n",
       "    <tr>\n",
       "      <th>83</th>\n",
       "      <td>Pirituba</td>\n",
       "      <td>R$ 23,70</td>\n",
       "    </tr>\n",
       "    <tr>\n",
       "      <th>84</th>\n",
       "      <td>Vila Sônia</td>\n",
       "      <td>R$ 25,90</td>\n",
       "    </tr>\n",
       "    <tr>\n",
       "      <th>86</th>\n",
       "      <td>Jardins</td>\n",
       "      <td>R$ 32,20</td>\n",
       "    </tr>\n",
       "    <tr>\n",
       "      <th>87</th>\n",
       "      <td>Vila Leopoldina</td>\n",
       "      <td>R$ 33,50</td>\n",
       "    </tr>\n",
       "  </tbody>\n",
       "</table>\n",
       "<p>86 rows × 2 columns</p>\n",
       "</div>"
      ],
      "text/plain": [
       "        neighborhood mean_price_sqm\n",
       "0            Santana       R$ 23,80\n",
       "1   Lauzane Paulista       R$ 22,10\n",
       "2           Mandaqui       R$ 21,70\n",
       "3           Tucuruvi       R$ 23,00\n",
       "4     Parada Inglesa       R$ 27,00\n",
       "..               ...            ...\n",
       "82         Liberdade       R$ 30,70\n",
       "83          Pirituba       R$ 23,70\n",
       "84        Vila Sônia       R$ 25,90\n",
       "86           Jardins       R$ 32,20\n",
       "87   Vila Leopoldina       R$ 33,50\n",
       "\n",
       "[86 rows x 2 columns]"
      ]
     },
     "execution_count": 49,
     "metadata": {},
     "output_type": "execute_result"
    }
   ],
   "source": [
    "# select the rows index to drop\n",
    "vidx = list(df_rentalprices[df_rentalprices['mean_price_sqm']=='*Prejudicado'].index)\n",
    "\n",
    "# drop entries with text in mean price column by index\n",
    "df_rentalprices.drop(vidx, axis=0, inplace=True)\n",
    "\n",
    "# print results\n",
    "df_rentalprices"
   ]
  },
  {
   "cell_type": "markdown",
   "metadata": {},
   "source": [
    "Data in __mean_price_sqm__ column doesn't have a good fit, as it contains the currency symbol and the decimal separator is comma, the Brazilian standard.\n",
    "\n",
    "Convert the price _string_ to _float_ format. This will be done firstly removing the currency symbol, then replacing the decimal separator, both using _Pandas apply_ method, and finally converting _string_ to _float_ in the dataframe using _Pandas astype_ method."
   ]
  },
  {
   "cell_type": "code",
   "execution_count": 50,
   "metadata": {},
   "outputs": [
    {
     "name": "stdout",
     "output_type": "stream",
     "text": [
      "Dataframedata types:\n",
      " neighborhood       object\n",
      "mean_price_sqm    float64\n",
      "dtype: object \n",
      "\n"
     ]
    }
   ],
   "source": [
    "# remove currency symbol and change decimal separator\n",
    "df_rentalprices['mean_price_sqm'] = df_rentalprices['mean_price_sqm'].apply(lambda x : x.replace('R$ ', ''))\n",
    "df_rentalprices['mean_price_sqm'] = df_rentalprices['mean_price_sqm'].apply(lambda x : x.replace(',', '.'))\n",
    "\n",
    "# convert the price column to float\n",
    "df_rentalprices = df_rentalprices.astype({'mean_price_sqm': 'float64'})\n",
    "\n",
    "# print the columns data types\n",
    "print('Dataframedata types:\\n', df_rentalprices.dtypes, '\\n')"
   ]
  },
  {
   "cell_type": "markdown",
   "metadata": {},
   "source": [
    "Check results"
   ]
  },
  {
   "cell_type": "code",
   "execution_count": 51,
   "metadata": {},
   "outputs": [
    {
     "data": {
      "text/html": [
       "<div>\n",
       "<style scoped>\n",
       "    .dataframe tbody tr th:only-of-type {\n",
       "        vertical-align: middle;\n",
       "    }\n",
       "\n",
       "    .dataframe tbody tr th {\n",
       "        vertical-align: top;\n",
       "    }\n",
       "\n",
       "    .dataframe thead th {\n",
       "        text-align: right;\n",
       "    }\n",
       "</style>\n",
       "<table border=\"1\" class=\"dataframe\">\n",
       "  <thead>\n",
       "    <tr style=\"text-align: right;\">\n",
       "      <th></th>\n",
       "      <th>neighborhood</th>\n",
       "      <th>mean_price_sqm</th>\n",
       "    </tr>\n",
       "  </thead>\n",
       "  <tbody>\n",
       "    <tr>\n",
       "      <th>0</th>\n",
       "      <td>Santana</td>\n",
       "      <td>23.8</td>\n",
       "    </tr>\n",
       "    <tr>\n",
       "      <th>1</th>\n",
       "      <td>Lauzane Paulista</td>\n",
       "      <td>22.1</td>\n",
       "    </tr>\n",
       "    <tr>\n",
       "      <th>2</th>\n",
       "      <td>Mandaqui</td>\n",
       "      <td>21.7</td>\n",
       "    </tr>\n",
       "    <tr>\n",
       "      <th>3</th>\n",
       "      <td>Tucuruvi</td>\n",
       "      <td>23.0</td>\n",
       "    </tr>\n",
       "    <tr>\n",
       "      <th>4</th>\n",
       "      <td>Parada Inglesa</td>\n",
       "      <td>27.0</td>\n",
       "    </tr>\n",
       "    <tr>\n",
       "      <th>...</th>\n",
       "      <td>...</td>\n",
       "      <td>...</td>\n",
       "    </tr>\n",
       "    <tr>\n",
       "      <th>82</th>\n",
       "      <td>Liberdade</td>\n",
       "      <td>30.7</td>\n",
       "    </tr>\n",
       "    <tr>\n",
       "      <th>83</th>\n",
       "      <td>Pirituba</td>\n",
       "      <td>23.7</td>\n",
       "    </tr>\n",
       "    <tr>\n",
       "      <th>84</th>\n",
       "      <td>Vila Sônia</td>\n",
       "      <td>25.9</td>\n",
       "    </tr>\n",
       "    <tr>\n",
       "      <th>86</th>\n",
       "      <td>Jardins</td>\n",
       "      <td>32.2</td>\n",
       "    </tr>\n",
       "    <tr>\n",
       "      <th>87</th>\n",
       "      <td>Vila Leopoldina</td>\n",
       "      <td>33.5</td>\n",
       "    </tr>\n",
       "  </tbody>\n",
       "</table>\n",
       "<p>86 rows × 2 columns</p>\n",
       "</div>"
      ],
      "text/plain": [
       "        neighborhood  mean_price_sqm\n",
       "0            Santana            23.8\n",
       "1   Lauzane Paulista            22.1\n",
       "2           Mandaqui            21.7\n",
       "3           Tucuruvi            23.0\n",
       "4     Parada Inglesa            27.0\n",
       "..               ...             ...\n",
       "82         Liberdade            30.7\n",
       "83          Pirituba            23.7\n",
       "84        Vila Sônia            25.9\n",
       "86           Jardins            32.2\n",
       "87   Vila Leopoldina            33.5\n",
       "\n",
       "[86 rows x 2 columns]"
      ]
     },
     "execution_count": 51,
     "metadata": {},
     "output_type": "execute_result"
    }
   ],
   "source": [
    "# print results\n",
    "df_rentalprices"
   ]
  },
  {
   "cell_type": "markdown",
   "metadata": {},
   "source": [
    "Check if there is any duplicated neighborhood in __Rental Prices Dataframe__. It will be done with _Pandas Groupby_ method grouping the dataframe by neighborhood and counting the mean prices."
   ]
  },
  {
   "cell_type": "code",
   "execution_count": 52,
   "metadata": {},
   "outputs": [
    {
     "data": {
      "text/html": [
       "<div>\n",
       "<style scoped>\n",
       "    .dataframe tbody tr th:only-of-type {\n",
       "        vertical-align: middle;\n",
       "    }\n",
       "\n",
       "    .dataframe tbody tr th {\n",
       "        vertical-align: top;\n",
       "    }\n",
       "\n",
       "    .dataframe thead th {\n",
       "        text-align: right;\n",
       "    }\n",
       "</style>\n",
       "<table border=\"1\" class=\"dataframe\">\n",
       "  <thead>\n",
       "    <tr style=\"text-align: right;\">\n",
       "      <th></th>\n",
       "      <th>neighborhood</th>\n",
       "      <th>mean_price_sqm</th>\n",
       "    </tr>\n",
       "  </thead>\n",
       "  <tbody>\n",
       "  </tbody>\n",
       "</table>\n",
       "</div>"
      ],
      "text/plain": [
       "Empty DataFrame\n",
       "Columns: [neighborhood, mean_price_sqm]\n",
       "Index: []"
      ]
     },
     "execution_count": 52,
     "metadata": {},
     "output_type": "execute_result"
    }
   ],
   "source": [
    "# group the rental prices by neighborhoods counting the mean price\n",
    "df_group = df_rentalprices.groupby('neighborhood', sort=True).count().reset_index()\n",
    "\n",
    "# check for counting greater then 1\n",
    "df_group[df_group['mean_price_sqm'] > 1]"
   ]
  },
  {
   "cell_type": "markdown",
   "metadata": {},
   "source": [
    "All the observations in __Rental Prices Dataframe__ are unique.\n",
    "\n",
    "Merge __Districts Dataframe__ (__district__ as key) with __Rental Prices Dataframe__ (__neighborhood__ as key) using _Pandas Merge_ method. The resulting dataframe will be __Districts Dataframe__ with mean rental prices, as stated before, missing data is expected to occour."
   ]
  },
  {
   "cell_type": "code",
   "execution_count": 53,
   "metadata": {},
   "outputs": [
    {
     "data": {
      "text/html": [
       "<div>\n",
       "<style scoped>\n",
       "    .dataframe tbody tr th:only-of-type {\n",
       "        vertical-align: middle;\n",
       "    }\n",
       "\n",
       "    .dataframe tbody tr th {\n",
       "        vertical-align: top;\n",
       "    }\n",
       "\n",
       "    .dataframe thead th {\n",
       "        text-align: right;\n",
       "    }\n",
       "</style>\n",
       "<table border=\"1\" class=\"dataframe\">\n",
       "  <thead>\n",
       "    <tr style=\"text-align: right;\">\n",
       "      <th></th>\n",
       "      <th>region</th>\n",
       "      <th>district</th>\n",
       "      <th>area_sqkm</th>\n",
       "      <th>neighborhood</th>\n",
       "      <th>mean_price_sqm</th>\n",
       "    </tr>\n",
       "  </thead>\n",
       "  <tbody>\n",
       "    <tr>\n",
       "      <th>0</th>\n",
       "      <td>Centro</td>\n",
       "      <td>Bela Vista</td>\n",
       "      <td>2.72</td>\n",
       "      <td>Bela Vista</td>\n",
       "      <td>30.6</td>\n",
       "    </tr>\n",
       "    <tr>\n",
       "      <th>1</th>\n",
       "      <td>Centro</td>\n",
       "      <td>Bom Retiro</td>\n",
       "      <td>4.21</td>\n",
       "      <td>Bom Retiro</td>\n",
       "      <td>29.1</td>\n",
       "    </tr>\n",
       "    <tr>\n",
       "      <th>2</th>\n",
       "      <td>Centro</td>\n",
       "      <td>Cambuci</td>\n",
       "      <td>3.92</td>\n",
       "      <td>NaN</td>\n",
       "      <td>NaN</td>\n",
       "    </tr>\n",
       "    <tr>\n",
       "      <th>3</th>\n",
       "      <td>Centro</td>\n",
       "      <td>Consolação</td>\n",
       "      <td>3.82</td>\n",
       "      <td>NaN</td>\n",
       "      <td>NaN</td>\n",
       "    </tr>\n",
       "    <tr>\n",
       "      <th>4</th>\n",
       "      <td>Centro</td>\n",
       "      <td>Liberdade</td>\n",
       "      <td>3.65</td>\n",
       "      <td>Liberdade</td>\n",
       "      <td>30.7</td>\n",
       "    </tr>\n",
       "    <tr>\n",
       "      <th>...</th>\n",
       "      <td>...</td>\n",
       "      <td>...</td>\n",
       "      <td>...</td>\n",
       "      <td>...</td>\n",
       "      <td>...</td>\n",
       "    </tr>\n",
       "    <tr>\n",
       "      <th>91</th>\n",
       "      <td>Sul</td>\n",
       "      <td>Campo Grande</td>\n",
       "      <td>12.95</td>\n",
       "      <td>NaN</td>\n",
       "      <td>NaN</td>\n",
       "    </tr>\n",
       "    <tr>\n",
       "      <th>92</th>\n",
       "      <td>Sul</td>\n",
       "      <td>Santo Amaro</td>\n",
       "      <td>16.04</td>\n",
       "      <td>Santo Amaro</td>\n",
       "      <td>26.8</td>\n",
       "    </tr>\n",
       "    <tr>\n",
       "      <th>93</th>\n",
       "      <td>Sul</td>\n",
       "      <td>Moema</td>\n",
       "      <td>9.08</td>\n",
       "      <td>Moema</td>\n",
       "      <td>32.6</td>\n",
       "    </tr>\n",
       "    <tr>\n",
       "      <th>94</th>\n",
       "      <td>Sul</td>\n",
       "      <td>Saúde</td>\n",
       "      <td>9.31</td>\n",
       "      <td>Saúde</td>\n",
       "      <td>28.2</td>\n",
       "    </tr>\n",
       "    <tr>\n",
       "      <th>95</th>\n",
       "      <td>Sul</td>\n",
       "      <td>Vila Mariana</td>\n",
       "      <td>8.60</td>\n",
       "      <td>Vila Mariana</td>\n",
       "      <td>29.9</td>\n",
       "    </tr>\n",
       "  </tbody>\n",
       "</table>\n",
       "<p>96 rows × 5 columns</p>\n",
       "</div>"
      ],
      "text/plain": [
       "    region      district  area_sqkm  neighborhood  mean_price_sqm\n",
       "0   Centro    Bela Vista       2.72    Bela Vista            30.6\n",
       "1   Centro    Bom Retiro       4.21    Bom Retiro            29.1\n",
       "2   Centro       Cambuci       3.92           NaN             NaN\n",
       "3   Centro    Consolação       3.82           NaN             NaN\n",
       "4   Centro     Liberdade       3.65     Liberdade            30.7\n",
       "..     ...           ...        ...           ...             ...\n",
       "91     Sul  Campo Grande      12.95           NaN             NaN\n",
       "92     Sul   Santo Amaro      16.04   Santo Amaro            26.8\n",
       "93     Sul         Moema       9.08         Moema            32.6\n",
       "94     Sul         Saúde       9.31         Saúde            28.2\n",
       "95     Sul  Vila Mariana       8.60  Vila Mariana            29.9\n",
       "\n",
       "[96 rows x 5 columns]"
      ]
     },
     "execution_count": 53,
     "metadata": {},
     "output_type": "execute_result"
    }
   ],
   "source": [
    "# merge districts and rental prices dataframes\n",
    "df_districts = pd.merge(df_districts, df_rentalprices, how='left', left_on='district', right_on='neighborhood')\n",
    "\n",
    "# print results\n",
    "df_districts"
   ]
  },
  {
   "cell_type": "markdown",
   "metadata": {},
   "source": [
    "The column __neighborhood__ contains the same information as __district__, it will be dropped from the data dataframe using _Pandas Drop_ method."
   ]
  },
  {
   "cell_type": "code",
   "execution_count": 54,
   "metadata": {},
   "outputs": [
    {
     "data": {
      "text/html": [
       "<div>\n",
       "<style scoped>\n",
       "    .dataframe tbody tr th:only-of-type {\n",
       "        vertical-align: middle;\n",
       "    }\n",
       "\n",
       "    .dataframe tbody tr th {\n",
       "        vertical-align: top;\n",
       "    }\n",
       "\n",
       "    .dataframe thead th {\n",
       "        text-align: right;\n",
       "    }\n",
       "</style>\n",
       "<table border=\"1\" class=\"dataframe\">\n",
       "  <thead>\n",
       "    <tr style=\"text-align: right;\">\n",
       "      <th></th>\n",
       "      <th>region</th>\n",
       "      <th>district</th>\n",
       "      <th>area_sqkm</th>\n",
       "      <th>mean_price_sqm</th>\n",
       "    </tr>\n",
       "  </thead>\n",
       "  <tbody>\n",
       "    <tr>\n",
       "      <th>0</th>\n",
       "      <td>Centro</td>\n",
       "      <td>Bela Vista</td>\n",
       "      <td>2.72</td>\n",
       "      <td>30.6</td>\n",
       "    </tr>\n",
       "    <tr>\n",
       "      <th>1</th>\n",
       "      <td>Centro</td>\n",
       "      <td>Bom Retiro</td>\n",
       "      <td>4.21</td>\n",
       "      <td>29.1</td>\n",
       "    </tr>\n",
       "    <tr>\n",
       "      <th>2</th>\n",
       "      <td>Centro</td>\n",
       "      <td>Cambuci</td>\n",
       "      <td>3.92</td>\n",
       "      <td>NaN</td>\n",
       "    </tr>\n",
       "    <tr>\n",
       "      <th>3</th>\n",
       "      <td>Centro</td>\n",
       "      <td>Consolação</td>\n",
       "      <td>3.82</td>\n",
       "      <td>NaN</td>\n",
       "    </tr>\n",
       "    <tr>\n",
       "      <th>4</th>\n",
       "      <td>Centro</td>\n",
       "      <td>Liberdade</td>\n",
       "      <td>3.65</td>\n",
       "      <td>30.7</td>\n",
       "    </tr>\n",
       "    <tr>\n",
       "      <th>...</th>\n",
       "      <td>...</td>\n",
       "      <td>...</td>\n",
       "      <td>...</td>\n",
       "      <td>...</td>\n",
       "    </tr>\n",
       "    <tr>\n",
       "      <th>91</th>\n",
       "      <td>Sul</td>\n",
       "      <td>Campo Grande</td>\n",
       "      <td>12.95</td>\n",
       "      <td>NaN</td>\n",
       "    </tr>\n",
       "    <tr>\n",
       "      <th>92</th>\n",
       "      <td>Sul</td>\n",
       "      <td>Santo Amaro</td>\n",
       "      <td>16.04</td>\n",
       "      <td>26.8</td>\n",
       "    </tr>\n",
       "    <tr>\n",
       "      <th>93</th>\n",
       "      <td>Sul</td>\n",
       "      <td>Moema</td>\n",
       "      <td>9.08</td>\n",
       "      <td>32.6</td>\n",
       "    </tr>\n",
       "    <tr>\n",
       "      <th>94</th>\n",
       "      <td>Sul</td>\n",
       "      <td>Saúde</td>\n",
       "      <td>9.31</td>\n",
       "      <td>28.2</td>\n",
       "    </tr>\n",
       "    <tr>\n",
       "      <th>95</th>\n",
       "      <td>Sul</td>\n",
       "      <td>Vila Mariana</td>\n",
       "      <td>8.60</td>\n",
       "      <td>29.9</td>\n",
       "    </tr>\n",
       "  </tbody>\n",
       "</table>\n",
       "<p>96 rows × 4 columns</p>\n",
       "</div>"
      ],
      "text/plain": [
       "    region      district  area_sqkm  mean_price_sqm\n",
       "0   Centro    Bela Vista       2.72            30.6\n",
       "1   Centro    Bom Retiro       4.21            29.1\n",
       "2   Centro       Cambuci       3.92             NaN\n",
       "3   Centro    Consolação       3.82             NaN\n",
       "4   Centro     Liberdade       3.65            30.7\n",
       "..     ...           ...        ...             ...\n",
       "91     Sul  Campo Grande      12.95             NaN\n",
       "92     Sul   Santo Amaro      16.04            26.8\n",
       "93     Sul         Moema       9.08            32.6\n",
       "94     Sul         Saúde       9.31            28.2\n",
       "95     Sul  Vila Mariana       8.60            29.9\n",
       "\n",
       "[96 rows x 4 columns]"
      ]
     },
     "execution_count": 54,
     "metadata": {},
     "output_type": "execute_result"
    }
   ],
   "source": [
    "# drop neighborhood column\n",
    "df_districts.drop('neighborhood', axis=1, inplace=True)\n",
    "\n",
    "# print results\n",
    "df_districts"
   ]
  },
  {
   "cell_type": "markdown",
   "metadata": {},
   "source": [
    "Last step to have dataframe ready is to treat the __missing values__ in column __mean_price_sqm__. The missing values will be replaced by the mean price of the region, but first for reference, calculate the mean price for each region, using _Pandas Grouby_ method."
   ]
  },
  {
   "cell_type": "code",
   "execution_count": 55,
   "metadata": {},
   "outputs": [
    {
     "data": {
      "text/html": [
       "<div>\n",
       "<style scoped>\n",
       "    .dataframe tbody tr th:only-of-type {\n",
       "        vertical-align: middle;\n",
       "    }\n",
       "\n",
       "    .dataframe tbody tr th {\n",
       "        vertical-align: top;\n",
       "    }\n",
       "\n",
       "    .dataframe thead th {\n",
       "        text-align: right;\n",
       "    }\n",
       "</style>\n",
       "<table border=\"1\" class=\"dataframe\">\n",
       "  <thead>\n",
       "    <tr style=\"text-align: right;\">\n",
       "      <th></th>\n",
       "      <th>region</th>\n",
       "      <th>area_sqkm</th>\n",
       "      <th>mean_price_sqm</th>\n",
       "    </tr>\n",
       "  </thead>\n",
       "  <tbody>\n",
       "    <tr>\n",
       "      <th>0</th>\n",
       "      <td>Centro</td>\n",
       "      <td>3.333750</td>\n",
       "      <td>29.925000</td>\n",
       "    </tr>\n",
       "    <tr>\n",
       "      <th>1</th>\n",
       "      <td>Leste</td>\n",
       "      <td>10.045758</td>\n",
       "      <td>23.053846</td>\n",
       "    </tr>\n",
       "    <tr>\n",
       "      <th>2</th>\n",
       "      <td>Norte</td>\n",
       "      <td>16.658333</td>\n",
       "      <td>22.725000</td>\n",
       "    </tr>\n",
       "    <tr>\n",
       "      <th>3</th>\n",
       "      <td>Oeste</td>\n",
       "      <td>8.598667</td>\n",
       "      <td>29.444444</td>\n",
       "    </tr>\n",
       "    <tr>\n",
       "      <th>4</th>\n",
       "      <td>Sul</td>\n",
       "      <td>33.662727</td>\n",
       "      <td>28.388889</td>\n",
       "    </tr>\n",
       "  </tbody>\n",
       "</table>\n",
       "</div>"
      ],
      "text/plain": [
       "   region  area_sqkm  mean_price_sqm\n",
       "0  Centro   3.333750       29.925000\n",
       "1   Leste  10.045758       23.053846\n",
       "2   Norte  16.658333       22.725000\n",
       "3   Oeste   8.598667       29.444444\n",
       "4     Sul  33.662727       28.388889"
      ]
     },
     "execution_count": 55,
     "metadata": {},
     "output_type": "execute_result"
    }
   ],
   "source": [
    "# group dataframe by region calculating the mean price\n",
    "df_districts.groupby('region', sort=True).mean().reset_index()"
   ]
  },
  {
   "cell_type": "markdown",
   "metadata": {},
   "source": [
    "Replace the missing __mean_price_sqm__ by its correspondent region mean price. It will be done firstly defining a function to return the region mean price taking the region name as parameter, _Pandas Group_ method will be used for this. Having the function defined, to avoid running a loop here, the _Pandas Apply_ method will be used to call the function for the observations where mean price is _NaN_, _Numpy isnan()_ function will be used to chech for _NaN_ entries."
   ]
  },
  {
   "cell_type": "code",
   "execution_count": 56,
   "metadata": {},
   "outputs": [
    {
     "name": "stdout",
     "output_type": "stream",
     "text": [
      "Replace finished.\n"
     ]
    }
   ],
   "source": [
    "# define a funciton to return the region mean price\n",
    "def get_region_mean(r):\n",
    "    m = df_districts[df_districts['region']==r].groupby('region', sort=True).mean().reset_index()['mean_price_sqm']\n",
    "    return round(float(m),2)\n",
    "\n",
    "# use apply to call the defined function when mean price is missing\n",
    "df_districts['mean_price_sqm'] = df_districts.apply(lambda x : get_region_mean(x.region) if np.isnan(x.mean_price_sqm) else x.mean_price_sqm, axis=1)\n",
    "\n",
    "# inform when it is finished\n",
    "print('Replace finished.')"
   ]
  },
  {
   "cell_type": "markdown",
   "metadata": {},
   "source": [
    "Check results."
   ]
  },
  {
   "cell_type": "code",
   "execution_count": 57,
   "metadata": {},
   "outputs": [
    {
     "data": {
      "text/html": [
       "<div>\n",
       "<style scoped>\n",
       "    .dataframe tbody tr th:only-of-type {\n",
       "        vertical-align: middle;\n",
       "    }\n",
       "\n",
       "    .dataframe tbody tr th {\n",
       "        vertical-align: top;\n",
       "    }\n",
       "\n",
       "    .dataframe thead th {\n",
       "        text-align: right;\n",
       "    }\n",
       "</style>\n",
       "<table border=\"1\" class=\"dataframe\">\n",
       "  <thead>\n",
       "    <tr style=\"text-align: right;\">\n",
       "      <th></th>\n",
       "      <th>region</th>\n",
       "      <th>district</th>\n",
       "      <th>area_sqkm</th>\n",
       "      <th>mean_price_sqm</th>\n",
       "    </tr>\n",
       "  </thead>\n",
       "  <tbody>\n",
       "    <tr>\n",
       "      <th>0</th>\n",
       "      <td>Centro</td>\n",
       "      <td>Bela Vista</td>\n",
       "      <td>2.72</td>\n",
       "      <td>30.60</td>\n",
       "    </tr>\n",
       "    <tr>\n",
       "      <th>1</th>\n",
       "      <td>Centro</td>\n",
       "      <td>Bom Retiro</td>\n",
       "      <td>4.21</td>\n",
       "      <td>29.10</td>\n",
       "    </tr>\n",
       "    <tr>\n",
       "      <th>2</th>\n",
       "      <td>Centro</td>\n",
       "      <td>Cambuci</td>\n",
       "      <td>3.92</td>\n",
       "      <td>29.93</td>\n",
       "    </tr>\n",
       "    <tr>\n",
       "      <th>3</th>\n",
       "      <td>Centro</td>\n",
       "      <td>Consolação</td>\n",
       "      <td>3.82</td>\n",
       "      <td>29.93</td>\n",
       "    </tr>\n",
       "    <tr>\n",
       "      <th>4</th>\n",
       "      <td>Centro</td>\n",
       "      <td>Liberdade</td>\n",
       "      <td>3.65</td>\n",
       "      <td>30.70</td>\n",
       "    </tr>\n",
       "    <tr>\n",
       "      <th>...</th>\n",
       "      <td>...</td>\n",
       "      <td>...</td>\n",
       "      <td>...</td>\n",
       "      <td>...</td>\n",
       "    </tr>\n",
       "    <tr>\n",
       "      <th>91</th>\n",
       "      <td>Sul</td>\n",
       "      <td>Campo Grande</td>\n",
       "      <td>12.95</td>\n",
       "      <td>28.39</td>\n",
       "    </tr>\n",
       "    <tr>\n",
       "      <th>92</th>\n",
       "      <td>Sul</td>\n",
       "      <td>Santo Amaro</td>\n",
       "      <td>16.04</td>\n",
       "      <td>26.80</td>\n",
       "    </tr>\n",
       "    <tr>\n",
       "      <th>93</th>\n",
       "      <td>Sul</td>\n",
       "      <td>Moema</td>\n",
       "      <td>9.08</td>\n",
       "      <td>32.60</td>\n",
       "    </tr>\n",
       "    <tr>\n",
       "      <th>94</th>\n",
       "      <td>Sul</td>\n",
       "      <td>Saúde</td>\n",
       "      <td>9.31</td>\n",
       "      <td>28.20</td>\n",
       "    </tr>\n",
       "    <tr>\n",
       "      <th>95</th>\n",
       "      <td>Sul</td>\n",
       "      <td>Vila Mariana</td>\n",
       "      <td>8.60</td>\n",
       "      <td>29.90</td>\n",
       "    </tr>\n",
       "  </tbody>\n",
       "</table>\n",
       "<p>96 rows × 4 columns</p>\n",
       "</div>"
      ],
      "text/plain": [
       "    region      district  area_sqkm  mean_price_sqm\n",
       "0   Centro    Bela Vista       2.72           30.60\n",
       "1   Centro    Bom Retiro       4.21           29.10\n",
       "2   Centro       Cambuci       3.92           29.93\n",
       "3   Centro    Consolação       3.82           29.93\n",
       "4   Centro     Liberdade       3.65           30.70\n",
       "..     ...           ...        ...             ...\n",
       "91     Sul  Campo Grande      12.95           28.39\n",
       "92     Sul   Santo Amaro      16.04           26.80\n",
       "93     Sul         Moema       9.08           32.60\n",
       "94     Sul         Saúde       9.31           28.20\n",
       "95     Sul  Vila Mariana       8.60           29.90\n",
       "\n",
       "[96 rows x 4 columns]"
      ]
     },
     "execution_count": 57,
     "metadata": {},
     "output_type": "execute_result"
    }
   ],
   "source": [
    "# check results\n",
    "df_districts"
   ]
  },
  {
   "cell_type": "markdown",
   "metadata": {},
   "source": [
    "---"
   ]
  },
  {
   "cell_type": "markdown",
   "metadata": {},
   "source": [
    "### Step 4 - Exploratory Data Analysis on _Districts Dataframe_"
   ]
  },
  {
   "cell_type": "markdown",
   "metadata": {},
   "source": [
    "Work in progress"
   ]
  }
 ],
 "metadata": {
  "kernelspec": {
   "display_name": "Python 3",
   "language": "python",
   "name": "python3"
  },
  "language_info": {
   "codemirror_mode": {
    "name": "ipython",
    "version": 3
   },
   "file_extension": ".py",
   "mimetype": "text/x-python",
   "name": "python",
   "nbconvert_exporter": "python",
   "pygments_lexer": "ipython3",
   "version": "3.6.8"
  }
 },
 "nbformat": 4,
 "nbformat_minor": 4
}
