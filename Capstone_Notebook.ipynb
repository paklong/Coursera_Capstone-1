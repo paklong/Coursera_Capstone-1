{
 "cells": [
  {
   "cell_type": "markdown",
   "metadata": {},
   "source": [
    "### Step 1 - Define the relocator profile"
   ]
  },
  {
   "cell_type": "markdown",
   "metadata": {},
   "source": [
    "---"
   ]
  },
  {
   "cell_type": "markdown",
   "metadata": {},
   "source": [
    "### Step 2 - Create a Neighborhood Dataframe for the _Target Location_"
   ]
  },
  {
   "cell_type": "markdown",
   "metadata": {},
   "source": [
    "For this project the defined target location is __São Paulo, Brazil__."
   ]
  },
  {
   "cell_type": "markdown",
   "metadata": {},
   "source": [
    "There are 96 neighborhoods in the city of São Paulo, the official city web site contains its regions and neighborhoods division, which is a table in  XLSX format into a HTML page, the table can be viewed at the following link http://www.prefeitura.sp.gov.br/cidade/secretarias/upload/urbanismo/infocidade/htmls/3_regioes_prefeituras_regionais_e_distrito_2017_10895.html.\n",
    "\n",
    "To create a dataframe for the neighborhoods of São Paulo, a request to the above URL will be done, its content parsed and used to create the __Neighborhoods Dataframe__."
   ]
  },
  {
   "cell_type": "markdown",
   "metadata": {},
   "source": [
    "First thing, import required libraries\n",
    "\n",
    "1. __Credentials__: user defined library to store API credential\n",
    "1. __Pandas__: manipulate dataframe objects\n",
    "1. __Numpy__: manipulate arrays and matrices\n",
    "1. __Requests__: send and receive url requests\n",
    "1. __BeautifulSoup__: parse url content"
   ]
  },
  {
   "cell_type": "code",
   "execution_count": 1,
   "metadata": {},
   "outputs": [],
   "source": [
    "import credentials\n",
    "import pandas as pd\n",
    "import numpy as np\n",
    "import requests\n",
    "from bs4 import BeautifulSoup as bs"
   ]
  },
  {
   "cell_type": "markdown",
   "metadata": {},
   "source": [
    "Send request to the above URL using _Requests_."
   ]
  },
  {
   "cell_type": "code",
   "execution_count": 140,
   "metadata": {},
   "outputs": [
    {
     "name": "stdout",
     "output_type": "stream",
     "text": [
      "Data loaded, status 200\n"
     ]
    }
   ],
   "source": [
    "# define a variable for the url\n",
    "url = 'http://www.prefeitura.sp.gov.br/cidade/secretarias/upload/urbanismo/infocidade/htmls/3_regioes_prefeituras_regionais_e_distrito_2017_10895.html'\n",
    "\n",
    "# send a request to the URL and store the response\n",
    "raw = requests.get(url)\n",
    "\n",
    "# check if data was loaded [status 200 means success]\n",
    "if raw:\n",
    "    print('Data loaded, status', raw.status_code)\n",
    "else:\n",
    "    print('Error loading data', raw.status_code)"
   ]
  },
  {
   "cell_type": "markdown",
   "metadata": {},
   "source": [
    "Parse the URL content using _BeautifulSoup_ with _html_ parser."
   ]
  },
  {
   "cell_type": "code",
   "execution_count": 141,
   "metadata": {},
   "outputs": [
    {
     "name": "stdout",
     "output_type": "stream",
     "text": [
      "url content parsed.\n"
     ]
    }
   ],
   "source": [
    "# parse the raw data\n",
    "par = bs(raw.text, 'html.parser')\n",
    "print('url content parsed.')"
   ]
  },
  {
   "cell_type": "markdown",
   "metadata": {},
   "source": [
    "Check the content returned from the URL, initially, how many tables it contains, the HTML tag _table_ will be the reference for counting."
   ]
  },
  {
   "cell_type": "code",
   "execution_count": 142,
   "metadata": {},
   "outputs": [
    {
     "name": "stdout",
     "output_type": "stream",
     "text": [
      "1 table(s) found in the parsed URL.\n"
     ]
    }
   ],
   "source": [
    "# print number of tables\n",
    "print('{} table(s) found in the parsed URL.'.format(len(par.find_all('table'))))"
   ]
  },
  {
   "cell_type": "markdown",
   "metadata": {},
   "source": [
    "As it is a table in XLSX format, all its content is stored in one unique table, including table description, headers, data, summary and footnotes. The data should be extract from this unique table, but, first get the table from the URL content, HTML tag _table_ will be the reference as well."
   ]
  },
  {
   "cell_type": "code",
   "execution_count": 143,
   "metadata": {},
   "outputs": [],
   "source": [
    "# get the table from the URL content\n",
    "par_table = par.find_all('table')[0]"
   ]
  },
  {
   "cell_type": "markdown",
   "metadata": {},
   "source": [
    "Check if there is any table header and how many rows the table contains. HTML tags _th_ and _tr_ will be respectively used for counting."
   ]
  },
  {
   "cell_type": "code",
   "execution_count": 144,
   "metadata": {},
   "outputs": [
    {
     "name": "stdout",
     "output_type": "stream",
     "text": [
      "0 header(s) and 110 row(s) found in the table.\n"
     ]
    }
   ],
   "source": [
    "# print the number of headers and rows\n",
    "print('{} header(s) and {} row(s) found in the table.'.format(len(par_table.find_all('th')),\n",
    "                                                              len(par_table.find_all('tr'))))"
   ]
  },
  {
   "cell_type": "markdown",
   "metadata": {},
   "source": [
    "From the 110 rows, 96 should be the required neighborhoods data, the remaining rows should be titles, summaries and footnotes rows."
   ]
  },
  {
   "cell_type": "markdown",
   "metadata": {},
   "source": [
    "Extract the data from the table to a list and check where the required data is located. This will be done running a nested loop through the rows, on the first level, and columns, on the second level. HTML tag _tr_ will be used to extract rows and _td_ to extract the columns."
   ]
  },
  {
   "cell_type": "code",
   "execution_count": 145,
   "metadata": {},
   "outputs": [
    {
     "name": "stdout",
     "output_type": "stream",
     "text": [
      "110 rows loaded.\n"
     ]
    }
   ],
   "source": [
    "# create an empty list for the entire table\n",
    "tabletmp = []\n",
    "\n",
    "# run a loop by row [tag 'tr']\n",
    "for i, row in enumerate(par_table.find_all('tr')):\n",
    "    # create an empty list for the current row\n",
    "    celltmp = []\n",
    "\n",
    "    # run a loop by column for the current row [tag 'td']\n",
    "    for j, column in enumerate(row.find_all('td')):\n",
    "        # append the text of current cell to the list\n",
    "        celltmp.append(column.get_text())\n",
    "\n",
    "    # append current line to the list\n",
    "    tabletmp.append(celltmp)\n",
    "        \n",
    "# inform the number of rows loaded\n",
    "print('{} rows loaded.'.format(len(tabletmp)))"
   ]
  },
  {
   "cell_type": "markdown",
   "metadata": {},
   "source": [
    "All the 110 rows have been loaded. Check the head and tail of the list to define the range of required data."
   ]
  },
  {
   "cell_type": "code",
   "execution_count": 146,
   "metadata": {},
   "outputs": [
    {
     "name": "stdout",
     "output_type": "stream",
     "text": [
      "Head 10 rows\n"
     ]
    },
    {
     "data": {
      "text/plain": [
       "[['Regiões, Prefeituras Regionais e Distritos Municipais',\n",
       "  '\\xa0',\n",
       "  '',\n",
       "  '',\n",
       "  '',\n",
       "  '',\n",
       "  ''],\n",
       " ['Município de São Paulo', '\\xa0', '', '', '', ''],\n",
       " ['2017', '\\xa0', '\\xa0', '', '', '', ''],\n",
       " ['', '', '', '', ''],\n",
       " ['Regiões',\n",
       "  'Prefeituras\\r\\n  Regionais',\n",
       "  'Distritos',\n",
       "  'Área (ha)',\n",
       "  'Área (km²)',\n",
       "  '',\n",
       "  '',\n",
       "  ''],\n",
       " ['Centro', 'Sé', 'Bela Vista', '271,77', '2,72', '', '', ''],\n",
       " ['Bom Retiro', '420,54', '4,21', '', '', ''],\n",
       " ['Cambuci', '392,42', '3,92', '', '', ''],\n",
       " ['Consolação', '381,51', '3,82', '', '', '']]"
      ]
     },
     "execution_count": 146,
     "metadata": {},
     "output_type": "execute_result"
    }
   ],
   "source": [
    "# print the first 10 rows\n",
    "print('Head 10 rows')\n",
    "tabletmp[:9]"
   ]
  },
  {
   "cell_type": "markdown",
   "metadata": {},
   "source": [
    "The first 4 rows are the table titles and can be ignored, the 5<sup>th</sup> row contains the columns headers.\n",
    "\n",
    "Check the tail of the table."
   ]
  },
  {
   "cell_type": "code",
   "execution_count": 147,
   "metadata": {},
   "outputs": [
    {
     "name": "stdout",
     "output_type": "stream",
     "text": [
      "Tail 10 rows\n"
     ]
    },
    {
     "data": {
      "text/plain": [
       "[['Saúde', '931,12', '9,31', '', '', '', ''],\n",
       " ['Vila Mariana', '859,56', '8,60', '', '', '', ''],\n",
       " ['Município de São\\r\\n  Paulo', '', '152.753,58', '1.527,54', '', '', '', ''],\n",
       " ['', '', '', '', '', '', '', ''],\n",
       " ['Fonte:\\r\\n  Prefeitura do Município de São Paulo. /\\xa0\\r\\n  Instituto\\xa0 Geográfico e\\r\\n  Cartográfico\\xa0 do Estado de São Paulo.',\n",
       "  '\\xa0',\n",
       "  '',\n",
       "  '',\n",
       "  '\\xa0'],\n",
       " ['Elaboração:\\r\\n  SMUL/Deinfo', '\\xa0', '\\xa0', '', '', '\\xa0'],\n",
       " ['Nota: Distritos Lei\\r\\n  nº 11.220/1992', '', '', ''],\n",
       " ['Subprefeituras\\r\\n  Lei nº 13.399/2002, alterada pelas Leis nº 13.682/2003 e nº 15.764/2013',\n",
       "  '',\n",
       "  '',\n",
       "  ''],\n",
       " ['Base\\r\\n  de cálculo das áreas: Mapa Digital da Cidade (MDC) - UTM/SAD69-96.',\n",
       "  '',\n",
       "  '',\n",
       "  ''],\n",
       " ['', '', '', '', '', '', '', '']]"
      ]
     },
     "execution_count": 147,
     "metadata": {},
     "output_type": "execute_result"
    }
   ],
   "source": [
    "#print the last 10 rows\n",
    "print('Tail 10 rows')\n",
    "tabletmp[-11:-1]"
   ]
  },
  {
   "cell_type": "markdown",
   "metadata": {},
   "source": [
    "The last 8 rows are the columns summary and footnotes, will also be ignored.\n",
    "\n",
    "Check the columns headers, row 5 (index 4)."
   ]
  },
  {
   "cell_type": "code",
   "execution_count": 128,
   "metadata": {},
   "outputs": [
    {
     "data": {
      "text/plain": [
       "['Regiões',\n",
       " 'Prefeituras\\r\\n  Regionais',\n",
       " 'Distritos',\n",
       " 'Área (ha)',\n",
       " 'Área (km²)',\n",
       " '',\n",
       " '',\n",
       " '']"
      ]
     },
     "execution_count": 128,
     "metadata": {},
     "output_type": "execute_result"
    }
   ],
   "source": [
    "# check the columns headers\n",
    "tabletmp[4]"
   ]
  },
  {
   "cell_type": "markdown",
   "metadata": {},
   "source": [
    "There are 8 columns, but the last three are empty, for the five required ones an english header will be defined for the __Neighborhood Dataframe__ as following:\n",
    "\n",
    "* __region__ (Regiões), the first column is the city Region to which the neighborhood belongs to\n",
    "* __region_hall__ (Prefeituras Regionais), the second column is the location of the Regional Hall\n",
    "* __neighborhood__ (Distritos), the third column is the Neighborhood name\n",
    "* __area_ha__ (Área (ha)), the fourth column is the neighborhood land area in hectares\n",
    "* __area_sqkm__ (Área (km<sup>2</sup>)), the fifth column is the neighborhood land area in square kilometers"
   ]
  },
  {
   "cell_type": "code",
   "execution_count": 129,
   "metadata": {},
   "outputs": [],
   "source": [
    "# define the columns names\n",
    "column_names = ['region','region_hall','neighborhood','area_ha','area_sqkm']"
   ]
  },
  {
   "cell_type": "markdown",
   "metadata": {},
   "source": [
    "Beeing 4 title rows and 1 header row, the first 5 rows at the top will be ignored. At the bottom 8 row will be ignored, 1 summary and 7 footnotes rows. The neighborhoods data ranges from row 6 (index 5) to row 101 (index 100), counting 96 neighborhoods in São Paulo.\n",
    "\n",
    "Extract only the data rows from the table and count the number of rows left."
   ]
  },
  {
   "cell_type": "code",
   "execution_count": 148,
   "metadata": {},
   "outputs": [
    {
     "name": "stdout",
     "output_type": "stream",
     "text": [
      "96 rows left.\n"
     ]
    }
   ],
   "source": [
    "tabletmp = tabletmp[5:101]\n",
    "print('{} rows left.'.format(len(tabletmp)))"
   ]
  },
  {
   "cell_type": "markdown",
   "metadata": {},
   "source": [
    "Before extractgin the data, check the first 10 rows to see how the data is stored."
   ]
  },
  {
   "cell_type": "code",
   "execution_count": 149,
   "metadata": {},
   "outputs": [
    {
     "data": {
      "text/plain": [
       "[['Centro', 'Sé', 'Bela Vista', '271,77', '2,72', '', '', ''],\n",
       " ['Bom Retiro', '420,54', '4,21', '', '', ''],\n",
       " ['Cambuci', '392,42', '3,92', '', '', ''],\n",
       " ['Consolação', '381,51', '3,82', '', '', ''],\n",
       " ['Liberdade', '365,07', '3,65', '', '', ''],\n",
       " ['República', '239,67', '2,40', '', '', ''],\n",
       " ['Santa Cecília', '375,92', '3,76', '', '', ''],\n",
       " ['Sé', '219,36', '2,19', '', '', ''],\n",
       " ['Leste',\n",
       "  'Aricanduva/Formosa/Carrão',\n",
       "  'Aricanduva',\n",
       "  '695,83',\n",
       "  '6,96',\n",
       "  '',\n",
       "  '',\n",
       "  '']]"
      ]
     },
     "execution_count": 149,
     "metadata": {},
     "output_type": "execute_result"
    }
   ],
   "source": [
    "# check the first 10 rows\n",
    "tabletmp[:9]"
   ]
  },
  {
   "cell_type": "markdown",
   "metadata": {},
   "source": [
    "The table seems to be structured in a group format, which is normally done for good visualization in XLSX format tables. The region names, e.g. __Centro__, appear only once at its first regional hall __Sé__, and so the Region Hall __Sé__ for its first neighborhood __Bela Vista__. There are rows with 5 columns, rows with 4 columns and rows with 3 columns, it makes things interesting.\n",
    "\n",
    "Something else to notice is that the columns are filled from left to right, in some of the rows the first column contains the region name, in some it contains the regional hall, and in many of them it contains the neighborhood, meaning that the columns are not at the same positions for all the rows. To extract the data the reading should be from right to left, and for the rows missing the region and/or regional hall, the group parent should be used, even more interesting.\n",
    "\n",
    "The last notice here is that the last 3 columns are empty, the will be ignored.\n",
    "\n",
    "Extract the data to a temporary list, taking all the remarks above into consideration. This will be achieved by a nested loop, the first level runs through the rows (which actually are lists), and second level runs through the columns (actually items from the list)."
   ]
  },
  {
   "cell_type": "code",
   "execution_count": 150,
   "metadata": {},
   "outputs": [],
   "source": [
    "# create an empty list to store temporary the data\n",
    "listtmp = []\n",
    "\n",
    "# run a loop through the rows\n",
    "# [actually it is a list object filled with lists]\n",
    "for i, row in enumerate(tabletmp):\n",
    "\n",
    "    # run a loop through the columns for the current row\n",
    "    # [actually items of each list inside the big list object]\n",
    "    for j in range(len(row)):\n",
    "        \n",
    "        # read the data from right [index -1] to left [index 0]\n",
    "        # skip the last 3 empty columns [actually items]\n",
    "        if row[len(row)-j-1] != '':\n",
    "            # store the numbner of features the current row contains (3,4,5) and break the inner loop\n",
    "            nfeatures = (len(row)-j)\n",
    "            break\n",
    "\n",
    "    # check the number of features\n",
    "    if nfeatures == 5:\n",
    "        # five features means complete row with region and regional hall, store them in variables\n",
    "        vregion = row[0]\n",
    "        vrghall = row[1]\n",
    "\n",
    "    elif nfeatures == 4:\n",
    "        # four features means region missing, but with regional hall, store it in a variable\n",
    "        vrghall = row[0]\n",
    "\n",
    "    # three features means region and regional hall missing, the variables above will be used\n",
    "\n",
    "    # append the current row to the temporary list\n",
    "    listtmp.append([vregion, vrghall, row[nfeatures-3], row[nfeatures-2], row[nfeatures-1]])"
   ]
  },
  {
   "cell_type": "markdown",
   "metadata": {},
   "source": [
    "Check the resulting list, head and tail."
   ]
  },
  {
   "cell_type": "code",
   "execution_count": 151,
   "metadata": {},
   "outputs": [
    {
     "data": {
      "text/plain": [
       "[['Centro', 'Sé', 'Bela Vista', '271,77', '2,72'],\n",
       " ['Centro', 'Sé', 'Bom Retiro', '420,54', '4,21'],\n",
       " ['Centro', 'Sé', 'Cambuci', '392,42', '3,92'],\n",
       " ['Centro', 'Sé', 'Consolação', '381,51', '3,82'],\n",
       " ['Centro', 'Sé', 'Liberdade', '365,07', '3,65'],\n",
       " ['Centro', 'Sé', 'República', '239,67', '2,40'],\n",
       " ['Centro', 'Sé', 'Santa Cecília', '375,92', '3,76'],\n",
       " ['Centro', 'Sé', 'Sé', '219,36', '2,19'],\n",
       " ['Leste', 'Aricanduva/Formosa/Carrão', 'Aricanduva', '695,83', '6,96'],\n",
       " ['Leste', 'Aricanduva/Formosa/Carrão', 'Carrão', '790,12', '7,90']]"
      ]
     },
     "execution_count": 151,
     "metadata": {},
     "output_type": "execute_result"
    }
   ],
   "source": [
    "# check the first 10 rows\n",
    "listtmp[:10]"
   ]
  },
  {
   "cell_type": "code",
   "execution_count": 152,
   "metadata": {},
   "outputs": [
    {
     "data": {
      "text/plain": [
       "[['Sul', 'Jabaquara', 'Jabaquara', '1.401,09', '14,01'],\n",
       " ['Sul', \"M'Boi Mirim\", 'Jardim Ângela', '3.741,13', '37,41'],\n",
       " ['Sul', \"M'Boi Mirim\", 'Jardim São Luís', '2.604,72', '26,05'],\n",
       " ['Sul', 'Parelheiros', 'Marsilac', '20.818,52', '208,19'],\n",
       " ['Sul', 'Parelheiros', 'Parelheiros', '15.260,75', '152,61'],\n",
       " ['Sul', 'Santo Amaro', 'Campo Belo', '876,98', '8,77'],\n",
       " ['Sul', 'Santo Amaro', 'Campo Grande', '1.295,08', '12,95'],\n",
       " ['Sul', 'Santo Amaro', 'Santo Amaro', '1.603,53', '16,04'],\n",
       " ['Sul', 'Vila Mariana', 'Moema', '907,87', '9,08'],\n",
       " ['Sul', 'Vila Mariana', 'Saúde', '931,12', '9,31'],\n",
       " ['Sul', 'Vila Mariana', 'Vila Mariana', '859,56', '8,60']]"
      ]
     },
     "execution_count": 152,
     "metadata": {},
     "output_type": "execute_result"
    }
   ],
   "source": [
    "# check the last 10 rows\n",
    "listtmp[-11:]"
   ]
  },
  {
   "cell_type": "markdown",
   "metadata": {},
   "source": [
    "The list is ready to be stored in a dataframe, the columns names are defined, the data is cleaned and organized. Create the __Neighborhoods Dataframe__, using _Pandas_."
   ]
  },
  {
   "cell_type": "code",
   "execution_count": 153,
   "metadata": {},
   "outputs": [],
   "source": [
    "# create the dataframe\n",
    "df_neighborhoods = pd.DataFrame(data=listtmp, columns=column_names)"
   ]
  },
  {
   "cell_type": "markdown",
   "metadata": {},
   "source": [
    "Check the dataframe head, tail and shape."
   ]
  },
  {
   "cell_type": "code",
   "execution_count": 154,
   "metadata": {},
   "outputs": [
    {
     "data": {
      "text/html": [
       "<div>\n",
       "<style scoped>\n",
       "    .dataframe tbody tr th:only-of-type {\n",
       "        vertical-align: middle;\n",
       "    }\n",
       "\n",
       "    .dataframe tbody tr th {\n",
       "        vertical-align: top;\n",
       "    }\n",
       "\n",
       "    .dataframe thead th {\n",
       "        text-align: right;\n",
       "    }\n",
       "</style>\n",
       "<table border=\"1\" class=\"dataframe\">\n",
       "  <thead>\n",
       "    <tr style=\"text-align: right;\">\n",
       "      <th></th>\n",
       "      <th>region</th>\n",
       "      <th>region_hall</th>\n",
       "      <th>neighborhood</th>\n",
       "      <th>area_ha</th>\n",
       "      <th>area_sqkm</th>\n",
       "    </tr>\n",
       "  </thead>\n",
       "  <tbody>\n",
       "    <tr>\n",
       "      <th>0</th>\n",
       "      <td>Centro</td>\n",
       "      <td>Sé</td>\n",
       "      <td>Bela Vista</td>\n",
       "      <td>271,77</td>\n",
       "      <td>2,72</td>\n",
       "    </tr>\n",
       "    <tr>\n",
       "      <th>1</th>\n",
       "      <td>Centro</td>\n",
       "      <td>Sé</td>\n",
       "      <td>Bom Retiro</td>\n",
       "      <td>420,54</td>\n",
       "      <td>4,21</td>\n",
       "    </tr>\n",
       "    <tr>\n",
       "      <th>2</th>\n",
       "      <td>Centro</td>\n",
       "      <td>Sé</td>\n",
       "      <td>Cambuci</td>\n",
       "      <td>392,42</td>\n",
       "      <td>3,92</td>\n",
       "    </tr>\n",
       "    <tr>\n",
       "      <th>3</th>\n",
       "      <td>Centro</td>\n",
       "      <td>Sé</td>\n",
       "      <td>Consolação</td>\n",
       "      <td>381,51</td>\n",
       "      <td>3,82</td>\n",
       "    </tr>\n",
       "    <tr>\n",
       "      <th>4</th>\n",
       "      <td>Centro</td>\n",
       "      <td>Sé</td>\n",
       "      <td>Liberdade</td>\n",
       "      <td>365,07</td>\n",
       "      <td>3,65</td>\n",
       "    </tr>\n",
       "    <tr>\n",
       "      <th>...</th>\n",
       "      <td>...</td>\n",
       "      <td>...</td>\n",
       "      <td>...</td>\n",
       "      <td>...</td>\n",
       "      <td>...</td>\n",
       "    </tr>\n",
       "    <tr>\n",
       "      <th>91</th>\n",
       "      <td>Sul</td>\n",
       "      <td>Santo Amaro</td>\n",
       "      <td>Campo Grande</td>\n",
       "      <td>1.295,08</td>\n",
       "      <td>12,95</td>\n",
       "    </tr>\n",
       "    <tr>\n",
       "      <th>92</th>\n",
       "      <td>Sul</td>\n",
       "      <td>Santo Amaro</td>\n",
       "      <td>Santo Amaro</td>\n",
       "      <td>1.603,53</td>\n",
       "      <td>16,04</td>\n",
       "    </tr>\n",
       "    <tr>\n",
       "      <th>93</th>\n",
       "      <td>Sul</td>\n",
       "      <td>Vila Mariana</td>\n",
       "      <td>Moema</td>\n",
       "      <td>907,87</td>\n",
       "      <td>9,08</td>\n",
       "    </tr>\n",
       "    <tr>\n",
       "      <th>94</th>\n",
       "      <td>Sul</td>\n",
       "      <td>Vila Mariana</td>\n",
       "      <td>Saúde</td>\n",
       "      <td>931,12</td>\n",
       "      <td>9,31</td>\n",
       "    </tr>\n",
       "    <tr>\n",
       "      <th>95</th>\n",
       "      <td>Sul</td>\n",
       "      <td>Vila Mariana</td>\n",
       "      <td>Vila Mariana</td>\n",
       "      <td>859,56</td>\n",
       "      <td>8,60</td>\n",
       "    </tr>\n",
       "  </tbody>\n",
       "</table>\n",
       "<p>96 rows × 5 columns</p>\n",
       "</div>"
      ],
      "text/plain": [
       "    region   region_hall  neighborhood   area_ha area_sqkm\n",
       "0   Centro            Sé    Bela Vista    271,77      2,72\n",
       "1   Centro            Sé    Bom Retiro    420,54      4,21\n",
       "2   Centro            Sé       Cambuci    392,42      3,92\n",
       "3   Centro            Sé    Consolação    381,51      3,82\n",
       "4   Centro            Sé     Liberdade    365,07      3,65\n",
       "..     ...           ...           ...       ...       ...\n",
       "91     Sul   Santo Amaro  Campo Grande  1.295,08     12,95\n",
       "92     Sul   Santo Amaro   Santo Amaro  1.603,53     16,04\n",
       "93     Sul  Vila Mariana         Moema    907,87      9,08\n",
       "94     Sul  Vila Mariana         Saúde    931,12      9,31\n",
       "95     Sul  Vila Mariana  Vila Mariana    859,56      8,60\n",
       "\n",
       "[96 rows x 5 columns]"
      ]
     },
     "execution_count": 154,
     "metadata": {},
     "output_type": "execute_result"
    }
   ],
   "source": [
    "# check the head, tail and shape\n",
    "df_neighborhoods"
   ]
  },
  {
   "cell_type": "markdown",
   "metadata": {},
   "source": [
    "---"
   ]
  }
 ],
 "metadata": {
  "kernelspec": {
   "display_name": "Python 3",
   "language": "python",
   "name": "python3"
  },
  "language_info": {
   "codemirror_mode": {
    "name": "ipython",
    "version": 3
   },
   "file_extension": ".py",
   "mimetype": "text/x-python",
   "name": "python",
   "nbconvert_exporter": "python",
   "pygments_lexer": "ipython3",
   "version": "3.6.8"
  }
 },
 "nbformat": 4,
 "nbformat_minor": 4
}
