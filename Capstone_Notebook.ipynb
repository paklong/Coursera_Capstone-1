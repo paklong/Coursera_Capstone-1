{
 "cells": [
  {
   "cell_type": "markdown",
   "metadata": {},
   "source": [
    "# Capstone Project\n",
    "# Relocation Support\n",
    "### Sidclay da Silva\n",
    "### June 2020\n",
    "---"
   ]
  },
  {
   "cell_type": "markdown",
   "metadata": {},
   "source": [
    "### Introduction\n",
    "\n",
    "This notebook contains the Capstone Project as the Week 5 peer-graded assignment for the Course IBM Applied Data Science Capstone on Coursera, which requires to develop a solution for the problem proposed by the learner in his Project Proposal Week 4, the stablished condition requires to make use of __API Foursquare__ to solve the proposed problem.\n",
    "\n",
    "The proposed problem for this project is to support people to relocate giving them directions by creating a districts, or neighborhoods, rank for the target location using the relocator profile.\n",
    "\n",
    "---"
   ]
  },
  {
   "cell_type": "markdown",
   "metadata": {},
   "source": [
    "### Step 1 - Define the _Relocator Profile_ and _Target Location_"
   ]
  },
  {
   "cell_type": "markdown",
   "metadata": {},
   "source": [
    "For this project the __Relocator Profile__ will be arbitrary defined to simulate a family relocating to also arbitrary defined __Target Location São Paulo, Brazil__.\n",
    "\n",
    "__Family components__;\n",
    "* 2 adults\n",
    "* 2 kids in primary school age\n",
    "* 1 dog as pet\n",
    "\n",
    "__Family priorities__;\n",
    "* __Primary school__ for the kids\n",
    "* __Outdoor park__ to go with the kids, walk with the dog and jogging\n",
    "* __Supermarket__ for the daily life\n",
    "* __Pharmacy__ in case of emergencies, specially having kids\n",
    "* __Subway or metro station__ to avoid traffic\n",
    "\n",
    "__Housing wishes__;\n",
    "* Apartment\n",
    "* 2 or 3 bedrooms\n",
    "* 80 m<sup>2</sup> approximately\n",
    "* 1 garage spot\n",
    "\n",
    "__Rental budget__;\n",
    "* BRL 2,000.00 / month\n",
    "\n",
    "Based on the Relocator Profile, define objects to be used to rank the districts of the target location.\n",
    "\n",
    "Family priorities will be translated into a _dictionary_ containing venues categories according to the __API Foursquare__, the _dictionary keys_ will be __CategoryId__ from __API Foursquare__ and _dictionary values_ the categories names. Housing wishes and Rental budget will be converted in a _variable_ containg the rental budget per square meter - BRL/m<sup>2</sup>. Enabling some flexibility and opening more options to the Relocator, a tolerance for rental prices will be set to +-5%."
   ]
  },
  {
   "cell_type": "code",
   "execution_count": 1,
   "metadata": {},
   "outputs": [
    {
     "name": "stdout",
     "output_type": "stream",
     "text": [
      "Family priorities are: ['Elementary School', 'Park', 'Supermarket', 'Pharmacy', 'Metro Station'] \n",
      "\n",
      "Monthly rental budget is BRL 2,000.00 for a 80 sqm apartment = BRL 25.00/sqm/month\n",
      "\n",
      "Rental prices will be considered ranging from 23.75/sqm/month up to 26.25/sqm/month\n"
     ]
    }
   ],
   "source": [
    "# create priorities list according to API Foursquare categories {'CategoryId': 'Category Name'}\n",
    "prio_list = {'4f4533804b9074f6e4fb0105': 'Elementary School',\n",
    "             '4bf58dd8d48988d163941735': 'Park',\n",
    "             '52f2ab2ebcbc57f1066b8b46': 'Supermarket',\n",
    "             '4bf58dd8d48988d10f951735': 'Pharmacy',\n",
    "             '4bf58dd8d48988d1fd931735': 'Metro Station'}\n",
    "\n",
    "# calculate rental budget per square meter based in target area and budget\n",
    "target_area = 80\n",
    "target_budget = 2000\n",
    "tolera_budget = 0.05\n",
    "\n",
    "budget_sqm = target_budget / target_area\n",
    "budget_sqm_min = budget_sqm * (1 - tolera_budget)\n",
    "budget_sqm_max = budget_sqm * (1 + tolera_budget)\n",
    "\n",
    "# print objects\n",
    "print('Family priorities are:', list(prio_list.values()), '\\n')\n",
    "print('Monthly rental budget is BRL {:,.2f} for a {} sqm apartment = BRL {:,.2f}/sqm/month\\n'.\\\n",
    "      format(target_budget, target_area, budget_sqm))\n",
    "print('Rental prices will be considered ranging from {:,.2f}/sqm/month up to {:,.2f}/sqm/month'.\\\n",
    "      format(budget_sqm_min, budget_sqm_max))"
   ]
  },
  {
   "cell_type": "markdown",
   "metadata": {},
   "source": [
    "---"
   ]
  },
  {
   "cell_type": "markdown",
   "metadata": {},
   "source": [
    "### Step 2 - Acquire Districts Data of _Target Location_"
   ]
  },
  {
   "cell_type": "markdown",
   "metadata": {},
   "source": [
    "The city of São Paulo is divided in 5 geographical regions, 32 boroughs, 96 districts and hundreds of neighborhoods. The city division up to the district level can be found in the official city web site, its is stored in a XLSX table format into a HTML page. The project will be based on district level to create the rank.\n",
    "The current table is from 2017 and can be viewed at the following link;"
   ]
  },
  {
   "cell_type": "markdown",
   "metadata": {},
   "source": [
    "[Prefeitura de São Paulo (SP) Regiões, Prefeituras Regionas e Distritos](http://www.prefeitura.sp.gov.br/cidade/secretarias/upload/urbanismo/infocidade/htmls/3_regioes_prefeituras_regionais_e_distrito_2017_10895.html)"
   ]
  },
  {
   "cell_type": "markdown",
   "metadata": {},
   "source": [
    "To create a dataframe for the Districts of São Paulo, a request to the above URL will be done, its content parsed, cleaned and organized, to be stored in so called __Districts Dataframe__.\n",
    "\n",
    "First thing, import required libraries;\n",
    "\n",
    "1. __Pandas__: manipulate dataframe objects\n",
    "1. __Numpy__: manipulate arrays and matrices calculations\n",
    "1. __Requests__: send and receive url requests\n",
    "1. __BeautifulSoup__: parse url content"
   ]
  },
  {
   "cell_type": "code",
   "execution_count": 2,
   "metadata": {},
   "outputs": [],
   "source": [
    "import pandas as pd\n",
    "import numpy as np\n",
    "import requests\n",
    "from bs4 import BeautifulSoup as bs"
   ]
  },
  {
   "cell_type": "markdown",
   "metadata": {},
   "source": [
    "Send request to the above URL using _requests.get_ method."
   ]
  },
  {
   "cell_type": "code",
   "execution_count": 3,
   "metadata": {},
   "outputs": [
    {
     "name": "stdout",
     "output_type": "stream",
     "text": [
      "Data loaded, status 200\n"
     ]
    }
   ],
   "source": [
    "# define a variable for the url\n",
    "url = 'http://www.prefeitura.sp.gov.br/cidade/secretarias/upload/urbanismo/infocidade/htmls/3_regioes_prefeituras_regionais_e_distrito_2017_10895.html'\n",
    "\n",
    "# send a request to the URL and store the response\n",
    "raw = requests.get(url)\n",
    "\n",
    "# check if data was loaded [status 200 means success]\n",
    "if raw:\n",
    "    print('Data loaded, status', raw.status_code)\n",
    "else:\n",
    "    print('Error loading data', raw.status_code)"
   ]
  },
  {
   "cell_type": "markdown",
   "metadata": {},
   "source": [
    "Parse the URL content using _BeautifulSoup_ with _HTML_ parser."
   ]
  },
  {
   "cell_type": "code",
   "execution_count": 4,
   "metadata": {},
   "outputs": [
    {
     "name": "stdout",
     "output_type": "stream",
     "text": [
      "URL content parsed.\n"
     ]
    }
   ],
   "source": [
    "# parse the raw data\n",
    "par = bs(raw.text, 'html.parser')\n",
    "print('URL content parsed.')"
   ]
  },
  {
   "cell_type": "markdown",
   "metadata": {},
   "source": [
    "Check the returned content. Initially, how many tables it contains, the HTML tag _table_ will be the reference for counting."
   ]
  },
  {
   "cell_type": "code",
   "execution_count": 5,
   "metadata": {},
   "outputs": [
    {
     "name": "stdout",
     "output_type": "stream",
     "text": [
      "1 table(s) found in the parsed URL.\n"
     ]
    }
   ],
   "source": [
    "# print number of tables\n",
    "print('{} table(s) found in the parsed URL.'.format(len(par.find_all('table'))))"
   ]
  },
  {
   "cell_type": "markdown",
   "metadata": {},
   "source": [
    "As it is a table in _XLSX_ format, all its content is stored in one unique table, including table description, headers, data, summary and footnotes. The data should be extract from this unique table, but, first get the table out of the parsed content, HTML tag _table_ will be the reference as well."
   ]
  },
  {
   "cell_type": "code",
   "execution_count": 6,
   "metadata": {},
   "outputs": [],
   "source": [
    "# get the table out of the parsed content\n",
    "par_table = par.find_all('table')[0]"
   ]
  },
  {
   "cell_type": "markdown",
   "metadata": {},
   "source": [
    "Check if there is any table header and how many rows the table contains. HTML tags _th_ and _tr_ will be respectively used for counting."
   ]
  },
  {
   "cell_type": "code",
   "execution_count": 7,
   "metadata": {},
   "outputs": [
    {
     "name": "stdout",
     "output_type": "stream",
     "text": [
      "0 header(s) and 110 row(s) found in the table.\n"
     ]
    }
   ],
   "source": [
    "# print the number of headers and rows\n",
    "print('{} header(s) and {} row(s) found in the table.'.format(len(par_table.find_all('th')),\n",
    "                                                              len(par_table.find_all('tr'))))"
   ]
  },
  {
   "cell_type": "markdown",
   "metadata": {},
   "source": [
    "From the 110 rows, 96 of them should be the required districts data, the remaining rows should be titles, summaries and footnotes rows.\n",
    "\n",
    "Extract the data from the table to a list and check where the required data is located. This will be done running a nested loop through the rows, on the first level, and columns, on the second level. HTML tag _tr_ will be used to extract rows and _td_ to extract the columns."
   ]
  },
  {
   "cell_type": "code",
   "execution_count": 8,
   "metadata": {},
   "outputs": [
    {
     "name": "stdout",
     "output_type": "stream",
     "text": [
      "110 rows loaded.\n"
     ]
    }
   ],
   "source": [
    "# create an empty list for the entire table\n",
    "tabletmp = []\n",
    "\n",
    "# run a loop by row [tag 'tr']\n",
    "for i, row in enumerate(par_table.find_all('tr')):\n",
    "    # create an empty list for the current row\n",
    "    celltmp = []\n",
    "\n",
    "    # run a loop by column for the current row [tag 'td']\n",
    "    for j, column in enumerate(row.find_all('td')):\n",
    "        # append the text of current cell to the list\n",
    "        celltmp.append(column.get_text())\n",
    "\n",
    "    # append current line to the list\n",
    "    tabletmp.append(celltmp)\n",
    "        \n",
    "# inform the number of rows loaded\n",
    "print('{} rows loaded.'.format(len(tabletmp)))"
   ]
  },
  {
   "cell_type": "markdown",
   "metadata": {},
   "source": [
    "All the 110 rows have been loaded. Check the head and tail of the list to define the range of required data."
   ]
  },
  {
   "cell_type": "code",
   "execution_count": 9,
   "metadata": {},
   "outputs": [
    {
     "name": "stdout",
     "output_type": "stream",
     "text": [
      "Head 10 rows\n"
     ]
    },
    {
     "data": {
      "text/plain": [
       "[['Regiões, Prefeituras Regionais e Distritos Municipais',\n",
       "  '\\xa0',\n",
       "  '',\n",
       "  '',\n",
       "  '',\n",
       "  '',\n",
       "  ''],\n",
       " ['Município de São Paulo', '\\xa0', '', '', '', ''],\n",
       " ['2017', '\\xa0', '\\xa0', '', '', '', ''],\n",
       " ['', '', '', '', ''],\n",
       " ['Regiões',\n",
       "  'Prefeituras\\r\\n  Regionais',\n",
       "  'Distritos',\n",
       "  'Área (ha)',\n",
       "  'Área (km²)',\n",
       "  '',\n",
       "  '',\n",
       "  ''],\n",
       " ['Centro', 'Sé', 'Bela Vista', '271,77', '2,72', '', '', ''],\n",
       " ['Bom Retiro', '420,54', '4,21', '', '', ''],\n",
       " ['Cambuci', '392,42', '3,92', '', '', ''],\n",
       " ['Consolação', '381,51', '3,82', '', '', ''],\n",
       " ['Liberdade', '365,07', '3,65', '', '', '']]"
      ]
     },
     "execution_count": 9,
     "metadata": {},
     "output_type": "execute_result"
    }
   ],
   "source": [
    "# print the first 10 rows\n",
    "print('Head 10 rows')\n",
    "tabletmp[:10]"
   ]
  },
  {
   "cell_type": "markdown",
   "metadata": {},
   "source": [
    "The first 4 rows are the table titles and can be ignored, row 5 contains the columns headers.\n",
    "\n",
    "Check the tail of the table."
   ]
  },
  {
   "cell_type": "code",
   "execution_count": 10,
   "metadata": {},
   "outputs": [
    {
     "name": "stdout",
     "output_type": "stream",
     "text": [
      "Tail 10 rows\n"
     ]
    },
    {
     "data": {
      "text/plain": [
       "[['Vila Mariana', '859,56', '8,60', '', '', '', ''],\n",
       " ['Município de São\\r\\n  Paulo', '', '152.753,58', '1.527,54', '', '', '', ''],\n",
       " ['', '', '', '', '', '', '', ''],\n",
       " ['Fonte:\\r\\n  Prefeitura do Município de São Paulo. /\\xa0\\r\\n  Instituto\\xa0 Geográfico e\\r\\n  Cartográfico\\xa0 do Estado de São Paulo.',\n",
       "  '\\xa0',\n",
       "  '',\n",
       "  '',\n",
       "  '\\xa0'],\n",
       " ['Elaboração:\\r\\n  SMUL/Deinfo', '\\xa0', '\\xa0', '', '', '\\xa0'],\n",
       " ['Nota: Distritos Lei\\r\\n  nº 11.220/1992', '', '', ''],\n",
       " ['Subprefeituras\\r\\n  Lei nº 13.399/2002, alterada pelas Leis nº 13.682/2003 e nº 15.764/2013',\n",
       "  '',\n",
       "  '',\n",
       "  ''],\n",
       " ['Base\\r\\n  de cálculo das áreas: Mapa Digital da Cidade (MDC) - UTM/SAD69-96.',\n",
       "  '',\n",
       "  '',\n",
       "  ''],\n",
       " ['', '', '', '', '', '', '', ''],\n",
       " ['', '', '', '', '', '', '', '', '']]"
      ]
     },
     "execution_count": 10,
     "metadata": {},
     "output_type": "execute_result"
    }
   ],
   "source": [
    "#print the last 10 rows\n",
    "print('Tail 10 rows')\n",
    "tabletmp[-10:]"
   ]
  },
  {
   "cell_type": "markdown",
   "metadata": {},
   "source": [
    "The last 8 rows are the columns summary and footnotes, will also be ignored.\n",
    "\n",
    "Check the columns headers, row 5 (index 4)."
   ]
  },
  {
   "cell_type": "code",
   "execution_count": 11,
   "metadata": {},
   "outputs": [
    {
     "data": {
      "text/plain": [
       "['Regiões',\n",
       " 'Prefeituras\\r\\n  Regionais',\n",
       " 'Distritos',\n",
       " 'Área (ha)',\n",
       " 'Área (km²)',\n",
       " '',\n",
       " '',\n",
       " '']"
      ]
     },
     "execution_count": 11,
     "metadata": {},
     "output_type": "execute_result"
    }
   ],
   "source": [
    "# check the columns headers\n",
    "tabletmp[4]"
   ]
  },
  {
   "cell_type": "markdown",
   "metadata": {},
   "source": [
    "There are 8 columns, but the last 3 are empty, the first 5 are the following:\n",
    "\n",
    "* __Region__ (Regiões), the first column is the city Region to which the District belongs\n",
    "* __Borough__ (Prefeituras Regionais), the second column is the Borough location\n",
    "* __District__ (Distritos), the third column is the District name\n",
    "* Area ha (Área (ha)), the fourth column is the neighborhood land area in hectares, it is not relevant for this project and it will be ignored\n",
    "* __Area km<sup>2</sup>__ (Área (km<sup>2</sup>)), the fifth column is the neighborhood land area in square kilometers\n",
    "\n",
    "Define the columns names for the __Districts Dataframe__."
   ]
  },
  {
   "cell_type": "code",
   "execution_count": 12,
   "metadata": {},
   "outputs": [],
   "source": [
    "# define the columns names\n",
    "column_names = ['region', 'borough', 'district', 'area_sqkm']"
   ]
  },
  {
   "cell_type": "markdown",
   "metadata": {},
   "source": [
    "At the top are 4 title rows and 1 header row, the first 5 rows at the top will be ignored. At the bottom 8 rows will be ignored, 1 summary and 7 footnotes rows. District data ranges from row 6 (index 5) to row 101 (index 100), counting 96 districts in São Paulo.\n",
    "\n",
    "Extract only the data rows from the table and count the number of rows left."
   ]
  },
  {
   "cell_type": "code",
   "execution_count": 13,
   "metadata": {},
   "outputs": [
    {
     "name": "stdout",
     "output_type": "stream",
     "text": [
      "96 rows left.\n"
     ]
    }
   ],
   "source": [
    "# extract only required rows\n",
    "tabletmp = tabletmp[5:101]\n",
    "\n",
    "# print number rows left\n",
    "print('{} rows left.'.format(len(tabletmp)))"
   ]
  },
  {
   "cell_type": "markdown",
   "metadata": {},
   "source": [
    "Before extracting the data, check the head and tail to see how the data is stored."
   ]
  },
  {
   "cell_type": "code",
   "execution_count": 14,
   "metadata": {},
   "outputs": [
    {
     "name": "stdout",
     "output_type": "stream",
     "text": [
      "Head 10 rows\n"
     ]
    },
    {
     "data": {
      "text/plain": [
       "[['Centro', 'Sé', 'Bela Vista', '271,77', '2,72', '', '', ''],\n",
       " ['Bom Retiro', '420,54', '4,21', '', '', ''],\n",
       " ['Cambuci', '392,42', '3,92', '', '', ''],\n",
       " ['Consolação', '381,51', '3,82', '', '', ''],\n",
       " ['Liberdade', '365,07', '3,65', '', '', ''],\n",
       " ['República', '239,67', '2,40', '', '', ''],\n",
       " ['Santa Cecília', '375,92', '3,76', '', '', ''],\n",
       " ['Sé', '219,36', '2,19', '', '', ''],\n",
       " ['Leste',\n",
       "  'Aricanduva/Formosa/Carrão',\n",
       "  'Aricanduva',\n",
       "  '695,83',\n",
       "  '6,96',\n",
       "  '',\n",
       "  '',\n",
       "  ''],\n",
       " ['Carrão', '790,12', '7,90', '', '', '']]"
      ]
     },
     "execution_count": 14,
     "metadata": {},
     "output_type": "execute_result"
    }
   ],
   "source": [
    "# print the first 10 rows\n",
    "print('Head 10 rows')\n",
    "tabletmp[:10]"
   ]
  },
  {
   "cell_type": "markdown",
   "metadata": {},
   "source": [
    "Check the tail."
   ]
  },
  {
   "cell_type": "code",
   "execution_count": 15,
   "metadata": {},
   "outputs": [
    {
     "name": "stdout",
     "output_type": "stream",
     "text": [
      "Tail 10 rows\n"
     ]
    },
    {
     "data": {
      "text/plain": [
       "[[\"M'Boi Mirim\", 'Jardim Ângela', '3.741,13', '37,41', '', '', ''],\n",
       " ['Jardim São Luís', '2.604,72', '26,05', '', '', ''],\n",
       " ['Parelheiros', 'Marsilac', '20.818,52', '208,19', '', '', ''],\n",
       " ['Parelheiros', '15.260,75', '152,61', '', '', ''],\n",
       " ['Santo Amaro', 'Campo Belo', '876,98', '8,77', '', '', ''],\n",
       " ['Campo Grande', '1.295,08', '12,95', '', '', ''],\n",
       " ['Santo Amaro', '1.603,53', '16,04', '', '', '', ''],\n",
       " ['Vila Mariana', 'Moema', '907,87', '9,08', '', '', '', ''],\n",
       " ['Saúde', '931,12', '9,31', '', '', '', ''],\n",
       " ['Vila Mariana', '859,56', '8,60', '', '', '', '']]"
      ]
     },
     "execution_count": 15,
     "metadata": {},
     "output_type": "execute_result"
    }
   ],
   "source": [
    "#print the last 10 rows\n",
    "print('Tail 10 rows')\n",
    "tabletmp[-10:]"
   ]
  },
  {
   "cell_type": "markdown",
   "metadata": {},
   "source": [
    "The table seems to be structured in a group format, which is normally done for good visualization in _XLSX_ format tables. The region name, e.g. __Centro__, appears only once at its first borough __Sé__, and so the borough __Sé__ for its first district __Bela Vista__. There are rows with 5 columns, rows with 4 columns and rows with 3 columns, it makes things interesting.\n",
    "\n",
    "Something else to notice is that the columns aligned on the left side, in some of the rows the first column contains the region name, in some it contains the borough, and in many of them it contains the district, meaning that the columns are not at the same positions for all rows. To extract the data the reading should consider the number of features each row contains, and for rows missing region and/or borough information, they should be added, even more interesting.\n",
    "\n",
    "The last notice here is that the last columns are empty, for some rows 3 and for some 4 empty columns, they will be ignored.\n",
    "\n",
    "Extract the data to a temporary list, taking all the remarks above into consideration. This will be achieved running a loop through the rows. Actually it is one list object, which represents the source table, its elements are lists as well, each of them representing the rows of the table, and each element of the inner lists represents the cells of the table."
   ]
  },
  {
   "cell_type": "code",
   "execution_count": 16,
   "metadata": {},
   "outputs": [],
   "source": [
    "# create an empty list to store data temporary\n",
    "listtmp = []\n",
    "\n",
    "# run a loop through the rows [list represents the table]\n",
    "for i, row in enumerate(tabletmp):\n",
    "    # check quantity of features in the current row [list represents a row]\n",
    "    nfeatures = len(row)-row.count('')\n",
    "    \n",
    "    # check the number of features\n",
    "    if nfeatures == 5:\n",
    "        # five features means complete row with new region and new borough, store them in variables\n",
    "        vregion = row[0]\n",
    "        vborough = row[1]\n",
    "    elif nfeatures == 4:\n",
    "        # four features means same region and new borough, store it in a variable\n",
    "        vborough = row[0]        \n",
    "\n",
    "    # 3 features means same region and borough, the variable above will be used to store the row data\n",
    "\n",
    "    # append the current row to the temporary list\n",
    "    listtmp.append([vregion, vborough, row[nfeatures-3], row[nfeatures-1]])"
   ]
  },
  {
   "cell_type": "markdown",
   "metadata": {},
   "source": [
    "Check the resulting list, head and tail."
   ]
  },
  {
   "cell_type": "code",
   "execution_count": 17,
   "metadata": {},
   "outputs": [
    {
     "name": "stdout",
     "output_type": "stream",
     "text": [
      "Head 10 rows\n"
     ]
    },
    {
     "data": {
      "text/plain": [
       "[['Centro', 'Sé', 'Bela Vista', '2,72'],\n",
       " ['Centro', 'Sé', 'Bom Retiro', '4,21'],\n",
       " ['Centro', 'Sé', 'Cambuci', '3,92'],\n",
       " ['Centro', 'Sé', 'Consolação', '3,82'],\n",
       " ['Centro', 'Sé', 'Liberdade', '3,65'],\n",
       " ['Centro', 'Sé', 'República', '2,40'],\n",
       " ['Centro', 'Sé', 'Santa Cecília', '3,76'],\n",
       " ['Centro', 'Sé', 'Sé', '2,19'],\n",
       " ['Leste', 'Aricanduva/Formosa/Carrão', 'Aricanduva', '6,96'],\n",
       " ['Leste', 'Aricanduva/Formosa/Carrão', 'Carrão', '7,90']]"
      ]
     },
     "execution_count": 17,
     "metadata": {},
     "output_type": "execute_result"
    }
   ],
   "source": [
    "# check results\n",
    "print('Head 10 rows')\n",
    "listtmp[:10]"
   ]
  },
  {
   "cell_type": "code",
   "execution_count": 18,
   "metadata": {},
   "outputs": [
    {
     "name": "stdout",
     "output_type": "stream",
     "text": [
      "Tail 10 rows\n"
     ]
    },
    {
     "data": {
      "text/plain": [
       "[['Sul', \"M'Boi Mirim\", 'Jardim Ângela', '37,41'],\n",
       " ['Sul', \"M'Boi Mirim\", 'Jardim São Luís', '26,05'],\n",
       " ['Sul', 'Parelheiros', 'Marsilac', '208,19'],\n",
       " ['Sul', 'Parelheiros', 'Parelheiros', '152,61'],\n",
       " ['Sul', 'Santo Amaro', 'Campo Belo', '8,77'],\n",
       " ['Sul', 'Santo Amaro', 'Campo Grande', '12,95'],\n",
       " ['Sul', 'Santo Amaro', 'Santo Amaro', '16,04'],\n",
       " ['Sul', 'Vila Mariana', 'Moema', '9,08'],\n",
       " ['Sul', 'Vila Mariana', 'Saúde', '9,31'],\n",
       " ['Sul', 'Vila Mariana', 'Vila Mariana', '8,60']]"
      ]
     },
     "execution_count": 18,
     "metadata": {},
     "output_type": "execute_result"
    }
   ],
   "source": [
    "#print results\n",
    "print('Tail 10 rows')\n",
    "listtmp[-10:]"
   ]
  },
  {
   "cell_type": "markdown",
   "metadata": {},
   "source": [
    "The list is ready to be stored in a dataframe. Create the __Districts Dataframe__, using _pandas.DataFrame_ method."
   ]
  },
  {
   "cell_type": "code",
   "execution_count": 19,
   "metadata": {},
   "outputs": [],
   "source": [
    "# create the dataframe\n",
    "df_districts = pd.DataFrame(data=listtmp, columns=column_names)"
   ]
  },
  {
   "cell_type": "markdown",
   "metadata": {},
   "source": [
    "Check the dataframe head, tail and shape."
   ]
  },
  {
   "cell_type": "code",
   "execution_count": 20,
   "metadata": {},
   "outputs": [
    {
     "data": {
      "text/html": [
       "<div>\n",
       "<style scoped>\n",
       "    .dataframe tbody tr th:only-of-type {\n",
       "        vertical-align: middle;\n",
       "    }\n",
       "\n",
       "    .dataframe tbody tr th {\n",
       "        vertical-align: top;\n",
       "    }\n",
       "\n",
       "    .dataframe thead th {\n",
       "        text-align: right;\n",
       "    }\n",
       "</style>\n",
       "<table border=\"1\" class=\"dataframe\">\n",
       "  <thead>\n",
       "    <tr style=\"text-align: right;\">\n",
       "      <th></th>\n",
       "      <th>region</th>\n",
       "      <th>borough</th>\n",
       "      <th>district</th>\n",
       "      <th>area_sqkm</th>\n",
       "    </tr>\n",
       "  </thead>\n",
       "  <tbody>\n",
       "    <tr>\n",
       "      <th>0</th>\n",
       "      <td>Centro</td>\n",
       "      <td>Sé</td>\n",
       "      <td>Bela Vista</td>\n",
       "      <td>2,72</td>\n",
       "    </tr>\n",
       "    <tr>\n",
       "      <th>1</th>\n",
       "      <td>Centro</td>\n",
       "      <td>Sé</td>\n",
       "      <td>Bom Retiro</td>\n",
       "      <td>4,21</td>\n",
       "    </tr>\n",
       "    <tr>\n",
       "      <th>2</th>\n",
       "      <td>Centro</td>\n",
       "      <td>Sé</td>\n",
       "      <td>Cambuci</td>\n",
       "      <td>3,92</td>\n",
       "    </tr>\n",
       "    <tr>\n",
       "      <th>3</th>\n",
       "      <td>Centro</td>\n",
       "      <td>Sé</td>\n",
       "      <td>Consolação</td>\n",
       "      <td>3,82</td>\n",
       "    </tr>\n",
       "    <tr>\n",
       "      <th>4</th>\n",
       "      <td>Centro</td>\n",
       "      <td>Sé</td>\n",
       "      <td>Liberdade</td>\n",
       "      <td>3,65</td>\n",
       "    </tr>\n",
       "    <tr>\n",
       "      <th>...</th>\n",
       "      <td>...</td>\n",
       "      <td>...</td>\n",
       "      <td>...</td>\n",
       "      <td>...</td>\n",
       "    </tr>\n",
       "    <tr>\n",
       "      <th>91</th>\n",
       "      <td>Sul</td>\n",
       "      <td>Santo Amaro</td>\n",
       "      <td>Campo Grande</td>\n",
       "      <td>12,95</td>\n",
       "    </tr>\n",
       "    <tr>\n",
       "      <th>92</th>\n",
       "      <td>Sul</td>\n",
       "      <td>Santo Amaro</td>\n",
       "      <td>Santo Amaro</td>\n",
       "      <td>16,04</td>\n",
       "    </tr>\n",
       "    <tr>\n",
       "      <th>93</th>\n",
       "      <td>Sul</td>\n",
       "      <td>Vila Mariana</td>\n",
       "      <td>Moema</td>\n",
       "      <td>9,08</td>\n",
       "    </tr>\n",
       "    <tr>\n",
       "      <th>94</th>\n",
       "      <td>Sul</td>\n",
       "      <td>Vila Mariana</td>\n",
       "      <td>Saúde</td>\n",
       "      <td>9,31</td>\n",
       "    </tr>\n",
       "    <tr>\n",
       "      <th>95</th>\n",
       "      <td>Sul</td>\n",
       "      <td>Vila Mariana</td>\n",
       "      <td>Vila Mariana</td>\n",
       "      <td>8,60</td>\n",
       "    </tr>\n",
       "  </tbody>\n",
       "</table>\n",
       "<p>96 rows × 4 columns</p>\n",
       "</div>"
      ],
      "text/plain": [
       "    region       borough      district area_sqkm\n",
       "0   Centro            Sé    Bela Vista      2,72\n",
       "1   Centro            Sé    Bom Retiro      4,21\n",
       "2   Centro            Sé       Cambuci      3,92\n",
       "3   Centro            Sé    Consolação      3,82\n",
       "4   Centro            Sé     Liberdade      3,65\n",
       "..     ...           ...           ...       ...\n",
       "91     Sul   Santo Amaro  Campo Grande     12,95\n",
       "92     Sul   Santo Amaro   Santo Amaro     16,04\n",
       "93     Sul  Vila Mariana         Moema      9,08\n",
       "94     Sul  Vila Mariana         Saúde      9,31\n",
       "95     Sul  Vila Mariana  Vila Mariana      8,60\n",
       "\n",
       "[96 rows x 4 columns]"
      ]
     },
     "execution_count": 20,
     "metadata": {},
     "output_type": "execute_result"
    }
   ],
   "source": [
    "# check results\n",
    "df_districts"
   ]
  },
  {
   "cell_type": "markdown",
   "metadata": {},
   "source": [
    "Data in __area_sqkm__ column doesn't have a good fit, as the decimal separator is comma, the Brazilian standard. For this reason it contains strings when it should contain numbers, _float_ in this case.\n",
    "\n",
    "Convert the data type of __area_sqkm__ to _float_. This will be done replacing the decimal separator, using _pandas.DataFrame.apply_ metohd, and then converting the column data type to _float_ in the dataframe using _pandas.dataframe.astype_ method."
   ]
  },
  {
   "cell_type": "code",
   "execution_count": 21,
   "metadata": {},
   "outputs": [
    {
     "data": {
      "text/html": [
       "<div>\n",
       "<style scoped>\n",
       "    .dataframe tbody tr th:only-of-type {\n",
       "        vertical-align: middle;\n",
       "    }\n",
       "\n",
       "    .dataframe tbody tr th {\n",
       "        vertical-align: top;\n",
       "    }\n",
       "\n",
       "    .dataframe thead th {\n",
       "        text-align: right;\n",
       "    }\n",
       "</style>\n",
       "<table border=\"1\" class=\"dataframe\">\n",
       "  <thead>\n",
       "    <tr style=\"text-align: right;\">\n",
       "      <th></th>\n",
       "      <th>region</th>\n",
       "      <th>borough</th>\n",
       "      <th>district</th>\n",
       "      <th>area_sqkm</th>\n",
       "    </tr>\n",
       "  </thead>\n",
       "  <tbody>\n",
       "    <tr>\n",
       "      <th>0</th>\n",
       "      <td>Centro</td>\n",
       "      <td>Sé</td>\n",
       "      <td>Bela Vista</td>\n",
       "      <td>2.72</td>\n",
       "    </tr>\n",
       "    <tr>\n",
       "      <th>1</th>\n",
       "      <td>Centro</td>\n",
       "      <td>Sé</td>\n",
       "      <td>Bom Retiro</td>\n",
       "      <td>4.21</td>\n",
       "    </tr>\n",
       "    <tr>\n",
       "      <th>2</th>\n",
       "      <td>Centro</td>\n",
       "      <td>Sé</td>\n",
       "      <td>Cambuci</td>\n",
       "      <td>3.92</td>\n",
       "    </tr>\n",
       "    <tr>\n",
       "      <th>3</th>\n",
       "      <td>Centro</td>\n",
       "      <td>Sé</td>\n",
       "      <td>Consolação</td>\n",
       "      <td>3.82</td>\n",
       "    </tr>\n",
       "    <tr>\n",
       "      <th>4</th>\n",
       "      <td>Centro</td>\n",
       "      <td>Sé</td>\n",
       "      <td>Liberdade</td>\n",
       "      <td>3.65</td>\n",
       "    </tr>\n",
       "    <tr>\n",
       "      <th>...</th>\n",
       "      <td>...</td>\n",
       "      <td>...</td>\n",
       "      <td>...</td>\n",
       "      <td>...</td>\n",
       "    </tr>\n",
       "    <tr>\n",
       "      <th>91</th>\n",
       "      <td>Sul</td>\n",
       "      <td>Santo Amaro</td>\n",
       "      <td>Campo Grande</td>\n",
       "      <td>12.95</td>\n",
       "    </tr>\n",
       "    <tr>\n",
       "      <th>92</th>\n",
       "      <td>Sul</td>\n",
       "      <td>Santo Amaro</td>\n",
       "      <td>Santo Amaro</td>\n",
       "      <td>16.04</td>\n",
       "    </tr>\n",
       "    <tr>\n",
       "      <th>93</th>\n",
       "      <td>Sul</td>\n",
       "      <td>Vila Mariana</td>\n",
       "      <td>Moema</td>\n",
       "      <td>9.08</td>\n",
       "    </tr>\n",
       "    <tr>\n",
       "      <th>94</th>\n",
       "      <td>Sul</td>\n",
       "      <td>Vila Mariana</td>\n",
       "      <td>Saúde</td>\n",
       "      <td>9.31</td>\n",
       "    </tr>\n",
       "    <tr>\n",
       "      <th>95</th>\n",
       "      <td>Sul</td>\n",
       "      <td>Vila Mariana</td>\n",
       "      <td>Vila Mariana</td>\n",
       "      <td>8.60</td>\n",
       "    </tr>\n",
       "  </tbody>\n",
       "</table>\n",
       "<p>96 rows × 4 columns</p>\n",
       "</div>"
      ],
      "text/plain": [
       "    region       borough      district area_sqkm\n",
       "0   Centro            Sé    Bela Vista      2.72\n",
       "1   Centro            Sé    Bom Retiro      4.21\n",
       "2   Centro            Sé       Cambuci      3.92\n",
       "3   Centro            Sé    Consolação      3.82\n",
       "4   Centro            Sé     Liberdade      3.65\n",
       "..     ...           ...           ...       ...\n",
       "91     Sul   Santo Amaro  Campo Grande     12.95\n",
       "92     Sul   Santo Amaro   Santo Amaro     16.04\n",
       "93     Sul  Vila Mariana         Moema      9.08\n",
       "94     Sul  Vila Mariana         Saúde      9.31\n",
       "95     Sul  Vila Mariana  Vila Mariana      8.60\n",
       "\n",
       "[96 rows x 4 columns]"
      ]
     },
     "execution_count": 21,
     "metadata": {},
     "output_type": "execute_result"
    }
   ],
   "source": [
    "# change decimal separator\n",
    "df_districts['area_sqkm'] = df_districts['area_sqkm'].apply(lambda x : x.replace(',', '.'))\n",
    "\n",
    "# check the head\n",
    "df_districts"
   ]
  },
  {
   "cell_type": "markdown",
   "metadata": {},
   "source": [
    "Check the dataframe columns data types before converting, change the data type of __area_sqkm__ from _object_ to _float_, and check the dataframe columns data types after converting."
   ]
  },
  {
   "cell_type": "code",
   "execution_count": 22,
   "metadata": {},
   "outputs": [
    {
     "name": "stdout",
     "output_type": "stream",
     "text": [
      "df_districts data types before converting:\n",
      " region       object\n",
      "borough      object\n",
      "district     object\n",
      "area_sqkm    object\n",
      "dtype: object \n",
      "\n",
      "df_districts data types after converting:\n",
      " region        object\n",
      "borough       object\n",
      "district      object\n",
      "area_sqkm    float64\n",
      "dtype: object\n"
     ]
    }
   ],
   "source": [
    "# print the columns data types\n",
    "print('df_districts data types before converting:\\n', df_districts.dtypes, '\\n')\n",
    "\n",
    "# convert the area column to float\n",
    "df_districts = df_districts.astype({'area_sqkm': 'float64'})\n",
    "\n",
    "# print the columns data types\n",
    "print('df_districts data types after converting:\\n', df_districts.dtypes)"
   ]
  },
  {
   "cell_type": "markdown",
   "metadata": {},
   "source": [
    "Check results."
   ]
  },
  {
   "cell_type": "code",
   "execution_count": 23,
   "metadata": {},
   "outputs": [
    {
     "data": {
      "text/html": [
       "<div>\n",
       "<style scoped>\n",
       "    .dataframe tbody tr th:only-of-type {\n",
       "        vertical-align: middle;\n",
       "    }\n",
       "\n",
       "    .dataframe tbody tr th {\n",
       "        vertical-align: top;\n",
       "    }\n",
       "\n",
       "    .dataframe thead th {\n",
       "        text-align: right;\n",
       "    }\n",
       "</style>\n",
       "<table border=\"1\" class=\"dataframe\">\n",
       "  <thead>\n",
       "    <tr style=\"text-align: right;\">\n",
       "      <th></th>\n",
       "      <th>region</th>\n",
       "      <th>borough</th>\n",
       "      <th>district</th>\n",
       "      <th>area_sqkm</th>\n",
       "    </tr>\n",
       "  </thead>\n",
       "  <tbody>\n",
       "    <tr>\n",
       "      <th>0</th>\n",
       "      <td>Centro</td>\n",
       "      <td>Sé</td>\n",
       "      <td>Bela Vista</td>\n",
       "      <td>2.72</td>\n",
       "    </tr>\n",
       "    <tr>\n",
       "      <th>1</th>\n",
       "      <td>Centro</td>\n",
       "      <td>Sé</td>\n",
       "      <td>Bom Retiro</td>\n",
       "      <td>4.21</td>\n",
       "    </tr>\n",
       "    <tr>\n",
       "      <th>2</th>\n",
       "      <td>Centro</td>\n",
       "      <td>Sé</td>\n",
       "      <td>Cambuci</td>\n",
       "      <td>3.92</td>\n",
       "    </tr>\n",
       "    <tr>\n",
       "      <th>3</th>\n",
       "      <td>Centro</td>\n",
       "      <td>Sé</td>\n",
       "      <td>Consolação</td>\n",
       "      <td>3.82</td>\n",
       "    </tr>\n",
       "    <tr>\n",
       "      <th>4</th>\n",
       "      <td>Centro</td>\n",
       "      <td>Sé</td>\n",
       "      <td>Liberdade</td>\n",
       "      <td>3.65</td>\n",
       "    </tr>\n",
       "    <tr>\n",
       "      <th>...</th>\n",
       "      <td>...</td>\n",
       "      <td>...</td>\n",
       "      <td>...</td>\n",
       "      <td>...</td>\n",
       "    </tr>\n",
       "    <tr>\n",
       "      <th>91</th>\n",
       "      <td>Sul</td>\n",
       "      <td>Santo Amaro</td>\n",
       "      <td>Campo Grande</td>\n",
       "      <td>12.95</td>\n",
       "    </tr>\n",
       "    <tr>\n",
       "      <th>92</th>\n",
       "      <td>Sul</td>\n",
       "      <td>Santo Amaro</td>\n",
       "      <td>Santo Amaro</td>\n",
       "      <td>16.04</td>\n",
       "    </tr>\n",
       "    <tr>\n",
       "      <th>93</th>\n",
       "      <td>Sul</td>\n",
       "      <td>Vila Mariana</td>\n",
       "      <td>Moema</td>\n",
       "      <td>9.08</td>\n",
       "    </tr>\n",
       "    <tr>\n",
       "      <th>94</th>\n",
       "      <td>Sul</td>\n",
       "      <td>Vila Mariana</td>\n",
       "      <td>Saúde</td>\n",
       "      <td>9.31</td>\n",
       "    </tr>\n",
       "    <tr>\n",
       "      <th>95</th>\n",
       "      <td>Sul</td>\n",
       "      <td>Vila Mariana</td>\n",
       "      <td>Vila Mariana</td>\n",
       "      <td>8.60</td>\n",
       "    </tr>\n",
       "  </tbody>\n",
       "</table>\n",
       "<p>96 rows × 4 columns</p>\n",
       "</div>"
      ],
      "text/plain": [
       "    region       borough      district  area_sqkm\n",
       "0   Centro            Sé    Bela Vista       2.72\n",
       "1   Centro            Sé    Bom Retiro       4.21\n",
       "2   Centro            Sé       Cambuci       3.92\n",
       "3   Centro            Sé    Consolação       3.82\n",
       "4   Centro            Sé     Liberdade       3.65\n",
       "..     ...           ...           ...        ...\n",
       "91     Sul   Santo Amaro  Campo Grande      12.95\n",
       "92     Sul   Santo Amaro   Santo Amaro      16.04\n",
       "93     Sul  Vila Mariana         Moema       9.08\n",
       "94     Sul  Vila Mariana         Saúde       9.31\n",
       "95     Sul  Vila Mariana  Vila Mariana       8.60\n",
       "\n",
       "[96 rows x 4 columns]"
      ]
     },
     "execution_count": 23,
     "metadata": {},
     "output_type": "execute_result"
    }
   ],
   "source": [
    "# check results\n",
    "df_districts"
   ]
  },
  {
   "cell_type": "markdown",
   "metadata": {},
   "source": [
    "---"
   ]
  },
  {
   "cell_type": "markdown",
   "metadata": {},
   "source": [
    "### Step 3 - Acquire Rental Prices Data of _Target Location_"
   ]
  },
  {
   "cell_type": "markdown",
   "metadata": {},
   "source": [
    "Searching on the internet, there are several real estate agencies websites in São Paulo, but to find a rental prices list per district or neighborhood is a hard task, there are also economy and financial websites doing monthly analysis to show the prices variation, but the list with prices per district or neighborhood is also not available.\n",
    "\n",
    "A mixed rental prices list per district and neighborhood could be found in a real estate agency website called __Blog SP Imóvel__ (www.spimovel.com.br), which provides its services all around the city. It hosts additional four websites covering the regions of the city, as follwing;\n",
    "\n",
    "* __Blog ZN Imóvel__ (www.znimovel.com.br) for region _Norte_\n",
    "* __Blog ZS Imóvel__ (www.zsimovel.com.br) for region _Sul_\n",
    "* __Blog ZL Imóvel__ (www.zlimovel.com.br) for region _Leste_\n",
    "* __Blog ZO Imóvel__ (www.zoimovel.com.br) for region _Oeste_\n",
    "\n",
    "The websites contain each of them a list mixed with districts and neighborhoods names, it is not the complete city neighborhoods, but all the districts are represented. Unfortunately there is a missing relation between districts and neighborhoods, what could not be found, and for this reason missing data is expected to occour, and they will be treated accordingly."
   ]
  },
  {
   "cell_type": "markdown",
   "metadata": {},
   "source": [
    "To create the __Rental Prices Dataframe__ a request will be sent to each of the mentioned websites, their content parsed, cleaned and organized, to be combined and stored into a unique data frame.\n",
    "\n",
    "The lists can be viewed at the following links;\n",
    "\n",
    "[Blog ZN Imóvel list from 2020.02.26](https://www.znimovel.com.br/blog/qual-o-valor-do-metro-quadrado-do-aluguel-dos-apartamentos-na-zona-norte-de-sao-paulo/2834/)\n",
    "\n",
    "[Blog ZS Imóvel list from 2020.03.06](https://www.zsimovel.com.br/blog/qual-o-valor-do-metro-quadrado-do-aluguel-dos-apartamentos-na-zona-sul-de-sao-paulo/2874/)\n",
    "\n",
    "[Blog ZL Imóvel list from 2020.02.28](https://www.zlimovel.com.br/blog/qual-o-valor-do-metro-quadrado-do-aluguel-dos-apartamentos-na-zona-leste-de-sao-paulo/2824/)\n",
    "\n",
    "[Blog ZO Imóvel list from 2020.02.28](https://www.zoimovel.com.br/blog/qual-o-valor-do-metro-quadrado-do-aluguel-dos-apartamentos-na-zona-oeste-de-sao-paulo/2851/)\n"
   ]
  },
  {
   "cell_type": "markdown",
   "metadata": {},
   "source": [
    "__Region__ ___Norte___ - Send request to the URL using _requests.get_ method."
   ]
  },
  {
   "cell_type": "code",
   "execution_count": 24,
   "metadata": {},
   "outputs": [
    {
     "name": "stdout",
     "output_type": "stream",
     "text": [
      "Data loaded, status 200\n"
     ]
    }
   ],
   "source": [
    "# define a variable for the url\n",
    "url = 'https://www.znimovel.com.br/blog/qual-o-valor-do-metro-quadrado-do-aluguel-dos-apartamentos-na-zona-norte-de-sao-paulo/2834/'\n",
    "\n",
    "# send a request to the URL and store the response\n",
    "raw = requests.get(url)\n",
    "\n",
    "# check if data was loaded [status 200 means success]\n",
    "if raw:\n",
    "    print('Data loaded, status', raw.status_code)\n",
    "else:\n",
    "    print('Error loading data', raw.status_code)"
   ]
  },
  {
   "cell_type": "markdown",
   "metadata": {},
   "source": [
    "Parse the URL content using _BeautifulSoup_ with _HTML_ parser."
   ]
  },
  {
   "cell_type": "code",
   "execution_count": 25,
   "metadata": {},
   "outputs": [
    {
     "name": "stdout",
     "output_type": "stream",
     "text": [
      "URL content parsed.\n"
     ]
    }
   ],
   "source": [
    "# parse the raw data\n",
    "par = bs(raw.text, 'html.parser')\n",
    "print('URL content parsed.')"
   ]
  },
  {
   "cell_type": "markdown",
   "metadata": {},
   "source": [
    "Check the returned content, initially, how many tables it contains, the HTML tag _table_ will be the reference for counting."
   ]
  },
  {
   "cell_type": "code",
   "execution_count": 26,
   "metadata": {},
   "outputs": [
    {
     "name": "stdout",
     "output_type": "stream",
     "text": [
      "3 table(s) found in the parsed content.\n"
     ]
    }
   ],
   "source": [
    "# print number of tables\n",
    "print('{} table(s) found in the parsed content.'.format(len(par.find_all('table'))))"
   ]
  },
  {
   "cell_type": "markdown",
   "metadata": {},
   "source": [
    "Check the titles of each table to know which of them is the relevant one to be used. The HTML tag _table_ will be used to select the tables, and the tag _tr_ to select the first row form the table."
   ]
  },
  {
   "cell_type": "code",
   "execution_count": 27,
   "metadata": {},
   "outputs": [
    {
     "name": "stdout",
     "output_type": "stream",
     "text": [
      "Title of Table 0\n",
      "\n",
      "Valor médio do metro quadrado do Aluguel\n",
      "\t\t\tApartamentos 1, 2 e 3 dormitórios \n",
      "1 Vaga de Garagem\n",
      "\t\t\tZona Norte - São Paulo\n",
      "\n",
      "Title of Table 1\n",
      "\n",
      "Valor médio do metro quadrado do Aluguel\n",
      "\t\t\tApartamentos 2 e 3 dormitórios \n",
      "2 Vagas de Garagem\n",
      "\t\t\tZona Norte - São Paulo\n",
      "\n",
      "Title of Table 2\n",
      "\n",
      "Valor médio do metro quadrado do Aluguel\n",
      "\t\t\tApartamentos Alto Padrão com 3 SUÌTES ou 4 dormitórios\n",
      "3 ou mais  Vagas de Garagem\n",
      "\t\t\tZona Norte - São Paulo\n",
      "\n"
     ]
    }
   ],
   "source": [
    "# run a loop through the tables [tag table]\n",
    "for i, title in enumerate(par.find_all('table')):\n",
    "    # print the first row [tag tr]\n",
    "    print('Title of Table', i)\n",
    "    print(title.find_all('tr')[0].get_text())"
   ]
  },
  {
   "cell_type": "markdown",
   "metadata": {},
   "source": [
    "Translating results.\n",
    "\n",
    "__Table 0__ contains prices for apartments with 1, 2 or 3 bedrooms and 1 garage spot\n",
    "\n",
    "__Table 1__ contains prices for apartments with 2 or 3 bedrooms and 2 garage spots\n",
    "\n",
    "__Table 2__ contains prices for high standard apartments with 3 bedrooms with private suites or 4 bedrooms and 3 or more garage spots\n",
    "\n",
    "For this project the __Table 0__ will be used as it is the best fit for __Relocator Profile__."
   ]
  },
  {
   "cell_type": "markdown",
   "metadata": {},
   "source": [
    "Extract the data out of the table to a list and check where the required data is located. This will be done running a nested loop through the rows, on the first level, and columns, on the second level. HTML tag _tr_ will be used to extract rows and _td_ to extract the columns."
   ]
  },
  {
   "cell_type": "code",
   "execution_count": 28,
   "metadata": {},
   "outputs": [
    {
     "name": "stdout",
     "output_type": "stream",
     "text": [
      "28 rows loaded.\n"
     ]
    }
   ],
   "source": [
    "# get the table from the URL content [tag 'table']\n",
    "par_table = par.find_all('table')[0]\n",
    "\n",
    "# create an empty list for the entire table\n",
    "tabletmp = []\n",
    "\n",
    "# run a loop by row [tag 'tr']\n",
    "for i, row in enumerate(par_table.find_all('tr')):\n",
    "    # create an empty list for the current row\n",
    "    celltmp = []\n",
    "\n",
    "    # run a loop by column for the current row [tag 'td']\n",
    "    for j, column in enumerate(row.find_all('td')):\n",
    "        # append the text of current cell to the list\n",
    "        celltmp.append(column.get_text())\n",
    "\n",
    "    # append current line to the list\n",
    "    tabletmp.append(celltmp)\n",
    "        \n",
    "# print results\n",
    "print('{} rows loaded.'.format(len(tabletmp)))"
   ]
  },
  {
   "cell_type": "markdown",
   "metadata": {},
   "source": [
    "Check the head and tail of the list to define the range of required data."
   ]
  },
  {
   "cell_type": "code",
   "execution_count": 29,
   "metadata": {},
   "outputs": [
    {
     "name": "stdout",
     "output_type": "stream",
     "text": [
      "Head 10 rows\n"
     ]
    },
    {
     "data": {
      "text/plain": [
       "[['Valor médio do metro quadrado do Aluguel\\r\\n\\t\\t\\tApartamentos 1, 2 e 3 dormitórios\\xa0\\n1 Vaga de Garagem\\r\\n\\t\\t\\tZona Norte - São Paulo'],\n",
       " ['Bairros', 'Valor médio do m² Aluguel'],\n",
       " ['Santana', 'R$ 23,80'],\n",
       " ['Lauzane Paulista', 'R$ 22,10'],\n",
       " ['Mandaqui', 'R$ 21,70'],\n",
       " ['Tucuruvi', 'R$ 23,00'],\n",
       " ['Parada Inglesa', 'R$ 27,00'],\n",
       " ['Vila Guilherme', 'R$ 25,80'],\n",
       " ['Jardim São Paulo', 'R$ 22,40'],\n",
       " ['Vila Mazzei', 'R$ 23,60']]"
      ]
     },
     "execution_count": 29,
     "metadata": {},
     "output_type": "execute_result"
    }
   ],
   "source": [
    "# print the first 10 rows\n",
    "print('Head 10 rows')\n",
    "tabletmp[:10]"
   ]
  },
  {
   "cell_type": "markdown",
   "metadata": {},
   "source": [
    "The first row contains the table title, the second row the columns headers.\n",
    "\n",
    "Check the tail of the table."
   ]
  },
  {
   "cell_type": "code",
   "execution_count": 30,
   "metadata": {},
   "outputs": [
    {
     "name": "stdout",
     "output_type": "stream",
     "text": [
      "Tail 10 rows\n"
     ]
    },
    {
     "data": {
      "text/plain": [
       "[['Cachoeirinha', 'R$ 21,00'],\n",
       " ['Vila Amália', 'R$ 22,30'],\n",
       " ['Vila Gustavo', 'R$ 23,70'],\n",
       " ['Limão', 'R$ 23,30'],\n",
       " ['Vila Medeiros', 'R$ 22,20'],\n",
       " ['Vila Nova Cachoeirinha', 'R$ 21,80'],\n",
       " ['Tremembé', 'R$ 20,10'],\n",
       " ['Horto Florestal', 'R$ 20,40'],\n",
       " ['Alto de Santana', 'R$ 23,80'],\n",
       " ['Dados Fevereiro 2020\\r\\n\\t\\t\\tPortal ZN Imóvel']]"
      ]
     },
     "execution_count": 30,
     "metadata": {},
     "output_type": "execute_result"
    }
   ],
   "source": [
    "#print the last 10 rows\n",
    "print('Tail 10 rows')\n",
    "tabletmp[-10:]"
   ]
  },
  {
   "cell_type": "markdown",
   "metadata": {},
   "source": [
    "The last row contais the footnote.\n",
    "\n",
    "There are 1 title and 1 header row, the first 2 rows at the top will be ignored. At the bottom 1 footnote row  will be ignored. The data ranges from row 3 (index 2) to row 27 (index 26), counting 25 neighborhoods.\n",
    "\n",
    "Extract only the data rows out of the table, store them into a temporary prices list and count the number of rows left."
   ]
  },
  {
   "cell_type": "code",
   "execution_count": 31,
   "metadata": {},
   "outputs": [
    {
     "name": "stdout",
     "output_type": "stream",
     "text": [
      "25 rows in total.\n"
     ]
    }
   ],
   "source": [
    "# extract only data rows and store in temporary prices list\n",
    "listtmp = tabletmp[2:-1]\n",
    "\n",
    "# print results\n",
    "print('{} rows in total.'.format(len(listtmp)))"
   ]
  },
  {
   "cell_type": "markdown",
   "metadata": {},
   "source": [
    "Check the columns headers in row 2."
   ]
  },
  {
   "cell_type": "code",
   "execution_count": 32,
   "metadata": {},
   "outputs": [
    {
     "data": {
      "text/plain": [
       "['Bairros', 'Valor médio do m² Aluguel']"
      ]
     },
     "execution_count": 32,
     "metadata": {},
     "output_type": "execute_result"
    }
   ],
   "source": [
    "# check columns headers\n",
    "tabletmp[1]"
   ]
  },
  {
   "cell_type": "markdown",
   "metadata": {},
   "source": [
    "There are 2 columns, an english header will be defined for the __Rental Prices Dataframe__ as following:\n",
    "\n",
    "* __neighborhood__ (Bairros), the first column is the Neighborhood name\n",
    "* __mean_price_sqm__ (Valor médio do m<sup>2</sup> Aluguel), the second column is the mean rental price per m<sup>2</sup> in BRL (BRL/m<sup>2</sup>)"
   ]
  },
  {
   "cell_type": "code",
   "execution_count": 33,
   "metadata": {},
   "outputs": [],
   "source": [
    "# define the columns names\n",
    "column_names = ['neighborhood','mean_price_sqm']"
   ]
  },
  {
   "cell_type": "markdown",
   "metadata": {},
   "source": [
    "For regions _Sul_, _Leste_ and _Oeste_ the task should be the same, but they will be performed less didatically as it is only repetition."
   ]
  },
  {
   "cell_type": "markdown",
   "metadata": {},
   "source": [
    "__Region__ ___Sul___ - Send request to the URL and check its return."
   ]
  },
  {
   "cell_type": "code",
   "execution_count": 34,
   "metadata": {},
   "outputs": [
    {
     "name": "stdout",
     "output_type": "stream",
     "text": [
      "Data loaded, status 200\n"
     ]
    }
   ],
   "source": [
    "# define a variable for the url\n",
    "url = 'https://www.zsimovel.com.br/blog/qual-o-valor-do-metro-quadrado-do-aluguel-dos-apartamentos-na-zona-sul-de-sao-paulo/2874/'\n",
    "\n",
    "# send a request to the URL and store the response\n",
    "raw = requests.get(url)\n",
    "\n",
    "# check if data was loaded [status 200 means success]\n",
    "if raw:\n",
    "    print('Data loaded, status', raw.status_code)\n",
    "else:\n",
    "    print('Error loading data', raw.status_code)"
   ]
  },
  {
   "cell_type": "markdown",
   "metadata": {},
   "source": [
    "Parse the URL content, check how many tables it contains and check the titles of each table to know which of them is the relevant one to be used."
   ]
  },
  {
   "cell_type": "code",
   "execution_count": 35,
   "metadata": {},
   "outputs": [
    {
     "name": "stdout",
     "output_type": "stream",
     "text": [
      "4 table(s) found in the parsed URL.\n",
      "\n",
      "Title of Table 0\n",
      "\n",
      "Valor médio do metro quadrado do Aluguel\n",
      "\t\t\tApartamentos 1 ou 2 dormitórios\n",
      "1 Vaga de Garagem\n",
      "\t\t\tZona Sul - São Paulo\n",
      "\n",
      "Title of Table 1\n",
      "\n",
      "Valor médio do metro quadrado do Aluguel\n",
      "\t\t\tApartamentos 2 ou 3 dormitórios\n",
      "2 Vagas de Garagem\n",
      "\t\t\tZona Sul - São Paulo\n",
      "\n",
      "Title of Table 2\n",
      "\n",
      "Valor médio do metro quadrado do Aluguel\n",
      "\t\t\tApartamentos 3 Suítes ou 4 dormitórios\n",
      "3 Vagas de Garagem\n",
      "\t\t\tZona Sul - São Paulo\n",
      "\n",
      "Title of Table 3\n",
      "\n",
      "Valor médio do metro quadrado do Aluguel\n",
      "\t\t\tApartamentos 1 dormitório\n",
      "SEM VAGA de Garagem\n",
      "\t\t\tZona Sul - São Paulo\n",
      "\n"
     ]
    }
   ],
   "source": [
    "# parse the raw data\n",
    "par = bs(raw.text, 'html.parser')\n",
    "\n",
    "# print number of tables\n",
    "print('{} table(s) found in the parsed URL.\\n'.format(len(par.find_all('table'))))\n",
    "\n",
    "# run a loop through the tables [tag table]\n",
    "for i, title in enumerate(par.find_all('table')):\n",
    "    # print the first row [tag tr]\n",
    "    print('Title of Table', i)\n",
    "    print(title.find_all('tr')[0].get_text())"
   ]
  },
  {
   "cell_type": "markdown",
   "metadata": {},
   "source": [
    "Translating results.\n",
    "\n",
    "__Table 0__ contains prices for apartments with 1 or 2 bedrooms and 1 garage spot\n",
    "\n",
    "__Table 1__ contains prices for apartments with 2 or 3 bedrooms and 2 garage spots\n",
    "\n",
    "__Table 2__ contains prices for apartments with 3 bedrooms with private suites or 4 bedrooms and 3 garage spots\n",
    "\n",
    "__Table 3__ contains prices for apartments with 1 bedroom and no garage spot\n",
    "\n",
    "For this project the __Table 0__ will be used as it is the best fit for __Relocator Profile__."
   ]
  },
  {
   "cell_type": "markdown",
   "metadata": {},
   "source": [
    "Extract the data out of the table to a list and confirm where the required data is located."
   ]
  },
  {
   "cell_type": "code",
   "execution_count": 36,
   "metadata": {},
   "outputs": [
    {
     "name": "stdout",
     "output_type": "stream",
     "text": [
      "20 rows loaded.\n",
      "Content of three first rows:\n",
      " [['Valor médio do metro quadrado do Aluguel\\r\\n\\t\\t\\tApartamentos 1 ou 2 dormitórios\\n1 Vaga de Garagem\\r\\n\\t\\t\\tZona Sul - São Paulo'], ['Bairros', 'Valor médio m² Aluguel'], ['Vila Mariana', 'R$ 29,90']] \n",
      "\n",
      "Content of 2 last rows:\n",
      " [['Campo Limpo', 'R$ 24,50'], ['Dados Março 2020\\r\\n\\t\\t\\tPortal ZS Imóvel']]\n"
     ]
    }
   ],
   "source": [
    "# get the table out of the parsed content [tag 'table']\n",
    "par_table = par.find_all('table')[0]\n",
    "\n",
    "# create an empty list for the entire table\n",
    "tabletmp = []\n",
    "\n",
    "# run a loop by row [tag 'tr']\n",
    "for i, row in enumerate(par_table.find_all('tr')):\n",
    "    # create an empty list for the current row\n",
    "    celltmp = []\n",
    "\n",
    "    # run a loop by column for the current row [tag 'td']\n",
    "    for j, column in enumerate(row.find_all('td')):\n",
    "        # append the text of current cell to the list\n",
    "        celltmp.append(column.get_text())\n",
    "\n",
    "    # append current line to the list\n",
    "    tabletmp.append(celltmp)\n",
    "        \n",
    "# inform the number of rows loaded\n",
    "print('{} rows loaded.'.format(len(tabletmp)))\n",
    "\n",
    "# print content of three first row\n",
    "print('Content of three first rows:\\n', tabletmp[:3], '\\n')\n",
    "\n",
    "# print content of last two row\n",
    "print('Content of 2 last rows:\\n', tabletmp[-2:])"
   ]
  },
  {
   "cell_type": "markdown",
   "metadata": {},
   "source": [
    "The table structure is the same, 1 title, 1 header and 1 footnote row, the first 2 and the last 1 rows will be ignored. Add the data to the temporary prices list."
   ]
  },
  {
   "cell_type": "code",
   "execution_count": 37,
   "metadata": {},
   "outputs": [
    {
     "name": "stdout",
     "output_type": "stream",
     "text": [
      "17 rows added / 42 rows in total.\n"
     ]
    }
   ],
   "source": [
    "# store quantity of rows before adding new rows\n",
    "vlen = len(listtmp)\n",
    "\n",
    "# extend the temporary prices list with new data\n",
    "listtmp.extend(tabletmp[2:-1])\n",
    "\n",
    "# print results\n",
    "print('{} rows added / {} rows in total.'.format(len(listtmp)-vlen, len(listtmp)))"
   ]
  },
  {
   "cell_type": "markdown",
   "metadata": {},
   "source": [
    "__Region__ ___Leste___ - Send request to the URL and check its return."
   ]
  },
  {
   "cell_type": "code",
   "execution_count": 38,
   "metadata": {},
   "outputs": [
    {
     "name": "stdout",
     "output_type": "stream",
     "text": [
      "Data loaded, status 200\n"
     ]
    }
   ],
   "source": [
    "# define a variable for the url\n",
    "url = 'https://www.zlimovel.com.br/blog/qual-o-valor-do-metro-quadrado-do-aluguel-dos-apartamentos-na-zona-leste-de-sao-paulo/2824/'\n",
    "\n",
    "# send a request to the URL and store the response\n",
    "raw = requests.get(url)\n",
    "\n",
    "# check if data was loaded [status 200 means success]\n",
    "if raw:\n",
    "    print('Data loaded, status', raw.status_code)\n",
    "else:\n",
    "    print('Error loading data', raw.status_code)"
   ]
  },
  {
   "cell_type": "markdown",
   "metadata": {},
   "source": [
    "Parse the URL content, check how many tables it contains and check the titles of each table to know which of them is the relevant one to be used."
   ]
  },
  {
   "cell_type": "code",
   "execution_count": 39,
   "metadata": {},
   "outputs": [
    {
     "name": "stdout",
     "output_type": "stream",
     "text": [
      "4 table(s) found in the parsed URL.\n",
      "\n",
      "Title of Table 0\n",
      "\n",
      "Valor médio do metro quadrado do Aluguel\n",
      "\t\t\tApartamentos 1, 2 e 3 dormitórios\n",
      "1 Vaga de Garagem\n",
      "\t\t\tZona Leste - São Paulo\n",
      "\n",
      "Title of Table 1\n",
      "\n",
      "Valor médio do metro quadrado do Aluguel\n",
      "Apartamentos 2 e 3 dormitórios\n",
      "2 Vagas de Garagem\n",
      "\t\t\tZona Leste - São Paulo\n",
      "\n",
      "Title of Table 2\n",
      "\n",
      "Valor médio do metro quadrado do Aluguel\n",
      "Apartamentos 3 Suítes ou 4 Dormitórios\n",
      "3 ou mais Vagas de Garagem\n",
      "\t\t\tZona Leste - São Paulo\n",
      "\n",
      "Title of Table 3\n",
      "\n",
      "Valor médio do metro quadrado do Aluguel\n",
      "Apartamentos 1, 2 e 3 dormitórios\n",
      "1 Vaga de Garagem\n",
      "\t\t\tCohab, Zona Leste - São Paulo\n",
      "\n"
     ]
    }
   ],
   "source": [
    "# parse the raw data\n",
    "par = bs(raw.text, 'html.parser')\n",
    "\n",
    "# print number of tables\n",
    "print('{} table(s) found in the parsed URL.\\n'.format(len(par.find_all('table'))))\n",
    "\n",
    "# run a loop through the tables [tag table]\n",
    "for i, title in enumerate(par.find_all('table')):\n",
    "    # print the first row [tag tr]\n",
    "    print('Title of Table', i)\n",
    "    print(title.find_all('tr')[0].get_text())"
   ]
  },
  {
   "cell_type": "markdown",
   "metadata": {},
   "source": [
    "Translating results.\n",
    "\n",
    "__Table 0__ contains prices for apartments with 1, 2 or 3 bedrooms and 1 garage spot\n",
    "\n",
    "__Table 1__ contains prices for apartments with 2 or 3 bedrooms and 2 garage spots\n",
    "\n",
    "__Table 2__ contains prices for apartments with 3 bedrooms with private suites or 4 bedrooms and 3 or more garage spots\n",
    "\n",
    "__Table 3__ contains prices for apartments with 1, 2 or 3 bedrooms and 1 garage spot from _Cohab_, which is government habitational support program\n",
    "\n",
    "For this project the __Table 0__ will be used as it is the best fit for __Relocator Profile__."
   ]
  },
  {
   "cell_type": "markdown",
   "metadata": {},
   "source": [
    "Extract the data out of the table to a list and confirm where the required data is located."
   ]
  },
  {
   "cell_type": "code",
   "execution_count": 40,
   "metadata": {},
   "outputs": [
    {
     "name": "stdout",
     "output_type": "stream",
     "text": [
      "28 rows loaded.\n",
      "Content of three first rows:\n",
      " [['Valor médio do metro quadrado do Aluguel\\r\\n\\t\\t\\tApartamentos 1, 2 e 3 dormitórios\\n1 Vaga de Garagem\\r\\n\\t\\t\\tZona Leste - São Paulo'], ['Bairros', '\\xa0Valor médio m² Aluguel'], ['Tatuapé', 'R$ 25,70']] \n",
      "\n",
      "Content of 2 last rows:\n",
      " [['Jd. Nove de Julho', 'R$ 21,90'], ['Dados Fevereiro 2020\\r\\n\\t\\t\\tPortal ZL Imóvel']]\n"
     ]
    }
   ],
   "source": [
    "# get the table out of the parsed content [tag 'table']\n",
    "par_table = par.find_all('table')[0]\n",
    "\n",
    "# create an empty list for the entire table\n",
    "tabletmp = []\n",
    "\n",
    "# run a loop by row [tag 'tr']\n",
    "for i, row in enumerate(par_table.find_all('tr')):\n",
    "    # create an empty list for the current row\n",
    "    celltmp = []\n",
    "\n",
    "    # run a loop by column for the current row [tag 'td']\n",
    "    for j, column in enumerate(row.find_all('td')):\n",
    "        # append the text of current cell to the list\n",
    "        celltmp.append(column.get_text())\n",
    "\n",
    "    # append current line to the list\n",
    "    tabletmp.append(celltmp)\n",
    "        \n",
    "# inform the number of rows loaded\n",
    "print('{} rows loaded.'.format(len(tabletmp)))\n",
    "\n",
    "# print content of three first row\n",
    "print('Content of three first rows:\\n', tabletmp[:3], '\\n')\n",
    "\n",
    "# print content of last two row\n",
    "print('Content of 2 last rows:\\n', tabletmp[-2:])"
   ]
  },
  {
   "cell_type": "markdown",
   "metadata": {},
   "source": [
    "The table structure is the same, 1 title, 1 header and 1 footnote row, the first 2 and the last 1 rows will be ignored. Add the data to the temporary prices list."
   ]
  },
  {
   "cell_type": "code",
   "execution_count": 41,
   "metadata": {},
   "outputs": [
    {
     "name": "stdout",
     "output_type": "stream",
     "text": [
      "25 rows added / 67 rows in total rows.\n"
     ]
    }
   ],
   "source": [
    "# store quantity rows before adding new rows\n",
    "vlen = len(listtmp)\n",
    "\n",
    "# extend the temporary prices list with new data\n",
    "listtmp.extend(tabletmp[2:-1])\n",
    "\n",
    "# print results\n",
    "print('{} rows added / {} rows in total rows.'.format(len(listtmp)-vlen, len(listtmp)))"
   ]
  },
  {
   "cell_type": "markdown",
   "metadata": {},
   "source": [
    "__Region__ ___Oeste___ - Send request to the URL and check its return."
   ]
  },
  {
   "cell_type": "code",
   "execution_count": 42,
   "metadata": {},
   "outputs": [
    {
     "name": "stdout",
     "output_type": "stream",
     "text": [
      "Data loaded, status 200\n"
     ]
    }
   ],
   "source": [
    "# define a variable for the url\n",
    "url = 'https://www.zoimovel.com.br/blog/qual-o-valor-do-metro-quadrado-do-aluguel-dos-apartamentos-na-zona-oeste-de-sao-paulo/2851/'\n",
    "\n",
    "# send a request to the URL and store the response\n",
    "raw = requests.get(url)\n",
    "\n",
    "# check if data was loaded [status 200 means success]\n",
    "if raw:\n",
    "    print('Data loaded, status', raw.status_code)\n",
    "else:\n",
    "    print('Error loading data', raw.status_code)"
   ]
  },
  {
   "cell_type": "markdown",
   "metadata": {},
   "source": [
    "Parse the URL content, check how many tables it contains and check the titles of each table to know which of them is the relevant one to be used."
   ]
  },
  {
   "cell_type": "code",
   "execution_count": 43,
   "metadata": {},
   "outputs": [
    {
     "name": "stdout",
     "output_type": "stream",
     "text": [
      "4 table(s) found in the parsed URL.\n",
      "\n",
      "Title of Table 0\n",
      "\n",
      "Valor médio do metro quadrado do Aluguel\n",
      "\t\t\tApartamentos 1 e 2 dormitórios\n",
      "1 Vaga de Garagem\n",
      "\t\t\tZona Oeste - São Paulo\n",
      "\n",
      "Title of Table 1\n",
      "\n",
      "Valor médio do metro quadrado do Aluguel\n",
      "Apartamentos 2 e 3 dormitórios\n",
      "2 Vagas de Garagem\n",
      "\t\t\tZona Oeste - São Paulo\n",
      "\n",
      "Title of Table 2\n",
      "\n",
      "Valor médio do metro quadrado do Aluguel\n",
      "Apartamentos 3 e 4 dormitórios\n",
      "3 Vagas de Garagem\n",
      "\t\t\tZona Oeste - São Paulo\n",
      "\n",
      "Title of Table 3\n",
      "\n",
      "Valor médio do metro quadrado do Aluguel\n",
      "Apartamentos ou Kitnets 1 dormitório\n",
      "SEM VAGA de Garagem\n",
      "\t\t\tZona Oeste - São Paulo\n",
      "\n"
     ]
    }
   ],
   "source": [
    "# parse the raw data\n",
    "par = bs(raw.text, 'html.parser')\n",
    "\n",
    "# print number of tables\n",
    "print('{} table(s) found in the parsed URL.\\n'.format(len(par.find_all('table'))))\n",
    "\n",
    "# run a loop through the tables [tag table]\n",
    "for i, title in enumerate(par.find_all('table')):\n",
    "    # print the first row [tag tr]\n",
    "    print('Title of Table', i)\n",
    "    print(title.find_all('tr')[0].get_text())"
   ]
  },
  {
   "cell_type": "markdown",
   "metadata": {},
   "source": [
    "Translating results.\n",
    "\n",
    "__Table 0__ contains prices for apartments with 1 or 2 bedrooms and 1 garage spot\n",
    "\n",
    "__Table 1__ contains prices for apartments with 2 or 3 bedrooms and 2 garage spots\n",
    "\n",
    "__Table 2__ contains prices for apartments with 3 or 4 bedrooms and 3 garage spots\n",
    "\n",
    "__Table 3__ contains prices for apartments with 1 bedroom and no garage spot\n",
    "\n",
    "For this project the __Table 0__ will be used as it is the best fit for __Relocator Profile__."
   ]
  },
  {
   "cell_type": "markdown",
   "metadata": {},
   "source": [
    "Extract the data out of the table to a list and confirm where the required data is located."
   ]
  },
  {
   "cell_type": "code",
   "execution_count": 44,
   "metadata": {},
   "outputs": [
    {
     "name": "stdout",
     "output_type": "stream",
     "text": [
      "24 rows loaded.\n",
      "Content of three first rows:\n",
      " [['Valor médio do metro quadrado do Aluguel\\r\\n\\t\\t\\tApartamentos 1 e 2 dormitórios\\n1 Vaga de Garagem\\r\\n\\t\\t\\tZona Oeste - São Paulo'], ['Bairros', 'Valor médio de m²'], ['Perdizes', 'R$ 27,80']] \n",
      "\n",
      "Content of 2 last rows:\n",
      " [['Vila Leopoldina', 'R$ 33,50'], ['Dados Fevereiro 2020\\r\\n\\t\\t\\tPortal ZO Imóvel']]\n"
     ]
    }
   ],
   "source": [
    "# get the table out of the parsed content [tag 'table']\n",
    "par_table = par.find_all('table')[0]\n",
    "\n",
    "# create an empty list for the entire table\n",
    "tabletmp = []\n",
    "\n",
    "# run a loop by row [tag 'tr']\n",
    "for i, row in enumerate(par_table.find_all('tr')):\n",
    "    # create an empty list for the current row\n",
    "    celltmp = []\n",
    "\n",
    "    # run a loop by column for the current row [tag 'td']\n",
    "    for j, column in enumerate(row.find_all('td')):\n",
    "        # append the text of current cell to the list\n",
    "        celltmp.append(column.get_text())\n",
    "\n",
    "    # append current line to the list\n",
    "    tabletmp.append(celltmp)\n",
    "        \n",
    "# inform the number of rows loaded\n",
    "print('{} rows loaded.'.format(len(tabletmp)))\n",
    "\n",
    "# print content of three first row\n",
    "print('Content of three first rows:\\n', tabletmp[:3], '\\n')\n",
    "\n",
    "# print content of last two row\n",
    "print('Content of 2 last rows:\\n', tabletmp[-2:])"
   ]
  },
  {
   "cell_type": "markdown",
   "metadata": {},
   "source": [
    "The table structure is the same, 1 title, 1 header and 1 footnote row, the first 2 and the last 1 rows will be ignored. Add the data to the temporary prices list."
   ]
  },
  {
   "cell_type": "code",
   "execution_count": 45,
   "metadata": {},
   "outputs": [
    {
     "name": "stdout",
     "output_type": "stream",
     "text": [
      "21 rows added / 88 rows in total.\n"
     ]
    }
   ],
   "source": [
    "# store quantity of rows before adding new rows\n",
    "vlen = len(listtmp)\n",
    "\n",
    "# extend the temporary prices list with new data\n",
    "listtmp.extend(tabletmp[2:-1])\n",
    "\n",
    "# print results\n",
    "print('{} rows added / {} rows in total.'.format(len(listtmp)-vlen, len(listtmp)))"
   ]
  },
  {
   "cell_type": "markdown",
   "metadata": {},
   "source": [
    "The list is ready to be stored in a dataframe. Create the __Rental Prices Dataframe__, using _pandas.DataFrame_ method."
   ]
  },
  {
   "cell_type": "code",
   "execution_count": 46,
   "metadata": {},
   "outputs": [
    {
     "data": {
      "text/html": [
       "<div>\n",
       "<style scoped>\n",
       "    .dataframe tbody tr th:only-of-type {\n",
       "        vertical-align: middle;\n",
       "    }\n",
       "\n",
       "    .dataframe tbody tr th {\n",
       "        vertical-align: top;\n",
       "    }\n",
       "\n",
       "    .dataframe thead th {\n",
       "        text-align: right;\n",
       "    }\n",
       "</style>\n",
       "<table border=\"1\" class=\"dataframe\">\n",
       "  <thead>\n",
       "    <tr style=\"text-align: right;\">\n",
       "      <th></th>\n",
       "      <th>neighborhood</th>\n",
       "      <th>mean_price_sqm</th>\n",
       "    </tr>\n",
       "  </thead>\n",
       "  <tbody>\n",
       "    <tr>\n",
       "      <th>0</th>\n",
       "      <td>Santana</td>\n",
       "      <td>R$ 23,80</td>\n",
       "    </tr>\n",
       "    <tr>\n",
       "      <th>1</th>\n",
       "      <td>Lauzane Paulista</td>\n",
       "      <td>R$ 22,10</td>\n",
       "    </tr>\n",
       "    <tr>\n",
       "      <th>2</th>\n",
       "      <td>Mandaqui</td>\n",
       "      <td>R$ 21,70</td>\n",
       "    </tr>\n",
       "    <tr>\n",
       "      <th>3</th>\n",
       "      <td>Tucuruvi</td>\n",
       "      <td>R$ 23,00</td>\n",
       "    </tr>\n",
       "    <tr>\n",
       "      <th>4</th>\n",
       "      <td>Parada Inglesa</td>\n",
       "      <td>R$ 27,00</td>\n",
       "    </tr>\n",
       "    <tr>\n",
       "      <th>...</th>\n",
       "      <td>...</td>\n",
       "      <td>...</td>\n",
       "    </tr>\n",
       "    <tr>\n",
       "      <th>83</th>\n",
       "      <td>Pirituba</td>\n",
       "      <td>R$ 23,70</td>\n",
       "    </tr>\n",
       "    <tr>\n",
       "      <th>84</th>\n",
       "      <td>Vila Sônia</td>\n",
       "      <td>R$ 25,90</td>\n",
       "    </tr>\n",
       "    <tr>\n",
       "      <th>85</th>\n",
       "      <td>Vila São Francisco (ZO)</td>\n",
       "      <td>*Prejudicado</td>\n",
       "    </tr>\n",
       "    <tr>\n",
       "      <th>86</th>\n",
       "      <td>Jardins</td>\n",
       "      <td>R$ 32,20</td>\n",
       "    </tr>\n",
       "    <tr>\n",
       "      <th>87</th>\n",
       "      <td>Vila Leopoldina</td>\n",
       "      <td>R$ 33,50</td>\n",
       "    </tr>\n",
       "  </tbody>\n",
       "</table>\n",
       "<p>88 rows × 2 columns</p>\n",
       "</div>"
      ],
      "text/plain": [
       "               neighborhood mean_price_sqm\n",
       "0                   Santana       R$ 23,80\n",
       "1          Lauzane Paulista       R$ 22,10\n",
       "2                  Mandaqui       R$ 21,70\n",
       "3                  Tucuruvi       R$ 23,00\n",
       "4            Parada Inglesa       R$ 27,00\n",
       "..                      ...            ...\n",
       "83                 Pirituba       R$ 23,70\n",
       "84               Vila Sônia       R$ 25,90\n",
       "85  Vila São Francisco (ZO)   *Prejudicado\n",
       "86                  Jardins       R$ 32,20\n",
       "87          Vila Leopoldina       R$ 33,50\n",
       "\n",
       "[88 rows x 2 columns]"
      ]
     },
     "execution_count": 46,
     "metadata": {},
     "output_type": "execute_result"
    }
   ],
   "source": [
    "# create the rental prices dataframe\n",
    "df_rentalprices = pd.DataFrame(data=listtmp, columns=column_names)\n",
    "\n",
    "# print results\n",
    "df_rentalprices"
   ]
  },
  {
   "cell_type": "markdown",
   "metadata": {},
   "source": [
    "For neighborhoods which did not have enough samples to measure the mean rental price, the text __\"*Prejudicado\"__ has been added instead of the  mean price. Check the observations whitout mean rental price."
   ]
  },
  {
   "cell_type": "code",
   "execution_count": 47,
   "metadata": {},
   "outputs": [
    {
     "data": {
      "text/html": [
       "<div>\n",
       "<style scoped>\n",
       "    .dataframe tbody tr th:only-of-type {\n",
       "        vertical-align: middle;\n",
       "    }\n",
       "\n",
       "    .dataframe tbody tr th {\n",
       "        vertical-align: top;\n",
       "    }\n",
       "\n",
       "    .dataframe thead th {\n",
       "        text-align: right;\n",
       "    }\n",
       "</style>\n",
       "<table border=\"1\" class=\"dataframe\">\n",
       "  <thead>\n",
       "    <tr style=\"text-align: right;\">\n",
       "      <th></th>\n",
       "      <th>neighborhood</th>\n",
       "      <th>mean_price_sqm</th>\n",
       "    </tr>\n",
       "  </thead>\n",
       "  <tbody>\n",
       "    <tr>\n",
       "      <th>80</th>\n",
       "      <td>República</td>\n",
       "      <td>*Prejudicado</td>\n",
       "    </tr>\n",
       "    <tr>\n",
       "      <th>85</th>\n",
       "      <td>Vila São Francisco (ZO)</td>\n",
       "      <td>*Prejudicado</td>\n",
       "    </tr>\n",
       "  </tbody>\n",
       "</table>\n",
       "</div>"
      ],
      "text/plain": [
       "               neighborhood mean_price_sqm\n",
       "80                República   *Prejudicado\n",
       "85  Vila São Francisco (ZO)   *Prejudicado"
      ]
     },
     "execution_count": 47,
     "metadata": {},
     "output_type": "execute_result"
    }
   ],
   "source": [
    "# check entries with text in mean price column\n",
    "df_rentalprices[df_rentalprices['mean_price_sqm']=='*Prejudicado']"
   ]
  },
  {
   "cell_type": "markdown",
   "metadata": {},
   "source": [
    "Drop the observations withou mean rental price, as they cannot be used. This will be done using _pandas.DataFrame.drop_ method."
   ]
  },
  {
   "cell_type": "code",
   "execution_count": 48,
   "metadata": {},
   "outputs": [
    {
     "data": {
      "text/html": [
       "<div>\n",
       "<style scoped>\n",
       "    .dataframe tbody tr th:only-of-type {\n",
       "        vertical-align: middle;\n",
       "    }\n",
       "\n",
       "    .dataframe tbody tr th {\n",
       "        vertical-align: top;\n",
       "    }\n",
       "\n",
       "    .dataframe thead th {\n",
       "        text-align: right;\n",
       "    }\n",
       "</style>\n",
       "<table border=\"1\" class=\"dataframe\">\n",
       "  <thead>\n",
       "    <tr style=\"text-align: right;\">\n",
       "      <th></th>\n",
       "      <th>neighborhood</th>\n",
       "      <th>mean_price_sqm</th>\n",
       "    </tr>\n",
       "  </thead>\n",
       "  <tbody>\n",
       "    <tr>\n",
       "      <th>0</th>\n",
       "      <td>Santana</td>\n",
       "      <td>R$ 23,80</td>\n",
       "    </tr>\n",
       "    <tr>\n",
       "      <th>1</th>\n",
       "      <td>Lauzane Paulista</td>\n",
       "      <td>R$ 22,10</td>\n",
       "    </tr>\n",
       "    <tr>\n",
       "      <th>2</th>\n",
       "      <td>Mandaqui</td>\n",
       "      <td>R$ 21,70</td>\n",
       "    </tr>\n",
       "    <tr>\n",
       "      <th>3</th>\n",
       "      <td>Tucuruvi</td>\n",
       "      <td>R$ 23,00</td>\n",
       "    </tr>\n",
       "    <tr>\n",
       "      <th>4</th>\n",
       "      <td>Parada Inglesa</td>\n",
       "      <td>R$ 27,00</td>\n",
       "    </tr>\n",
       "    <tr>\n",
       "      <th>...</th>\n",
       "      <td>...</td>\n",
       "      <td>...</td>\n",
       "    </tr>\n",
       "    <tr>\n",
       "      <th>82</th>\n",
       "      <td>Liberdade</td>\n",
       "      <td>R$ 30,70</td>\n",
       "    </tr>\n",
       "    <tr>\n",
       "      <th>83</th>\n",
       "      <td>Pirituba</td>\n",
       "      <td>R$ 23,70</td>\n",
       "    </tr>\n",
       "    <tr>\n",
       "      <th>84</th>\n",
       "      <td>Vila Sônia</td>\n",
       "      <td>R$ 25,90</td>\n",
       "    </tr>\n",
       "    <tr>\n",
       "      <th>86</th>\n",
       "      <td>Jardins</td>\n",
       "      <td>R$ 32,20</td>\n",
       "    </tr>\n",
       "    <tr>\n",
       "      <th>87</th>\n",
       "      <td>Vila Leopoldina</td>\n",
       "      <td>R$ 33,50</td>\n",
       "    </tr>\n",
       "  </tbody>\n",
       "</table>\n",
       "<p>86 rows × 2 columns</p>\n",
       "</div>"
      ],
      "text/plain": [
       "        neighborhood mean_price_sqm\n",
       "0            Santana       R$ 23,80\n",
       "1   Lauzane Paulista       R$ 22,10\n",
       "2           Mandaqui       R$ 21,70\n",
       "3           Tucuruvi       R$ 23,00\n",
       "4     Parada Inglesa       R$ 27,00\n",
       "..               ...            ...\n",
       "82         Liberdade       R$ 30,70\n",
       "83          Pirituba       R$ 23,70\n",
       "84        Vila Sônia       R$ 25,90\n",
       "86           Jardins       R$ 32,20\n",
       "87   Vila Leopoldina       R$ 33,50\n",
       "\n",
       "[86 rows x 2 columns]"
      ]
     },
     "execution_count": 48,
     "metadata": {},
     "output_type": "execute_result"
    }
   ],
   "source": [
    "# select the rows index to drop\n",
    "vidx = list(df_rentalprices[df_rentalprices['mean_price_sqm']=='*Prejudicado'].index)\n",
    "\n",
    "# drop entries with text in mean price column by index\n",
    "df_rentalprices.drop(vidx, axis=0, inplace=True)\n",
    "\n",
    "# print results\n",
    "df_rentalprices"
   ]
  },
  {
   "cell_type": "markdown",
   "metadata": {},
   "source": [
    "Data in __mean_price_sqm__ column doesn't have a good fit, as it contains the currency symbol and the decimal separator is comma, the Brazilian standard.\n",
    "\n",
    "Convert the price _string_ to _float_ format. This will be done firstly removing the currency symbol, then replacing the decimal separator, both using _pandas.Dataframe.apply_ method, and finally converting _string_ to _float_ in the dataframe using _pandas.DataFrame.astype_ method."
   ]
  },
  {
   "cell_type": "code",
   "execution_count": 49,
   "metadata": {},
   "outputs": [
    {
     "name": "stdout",
     "output_type": "stream",
     "text": [
      "Dataframedata types:\n",
      " neighborhood       object\n",
      "mean_price_sqm    float64\n",
      "dtype: object \n",
      "\n"
     ]
    }
   ],
   "source": [
    "# remove currency symbol and change decimal separator\n",
    "df_rentalprices['mean_price_sqm'] = df_rentalprices['mean_price_sqm'].apply(lambda x : x.replace('R$ ', ''))\n",
    "df_rentalprices['mean_price_sqm'] = df_rentalprices['mean_price_sqm'].apply(lambda x : x.replace(',', '.'))\n",
    "\n",
    "# convert the price column to float\n",
    "df_rentalprices = df_rentalprices.astype({'mean_price_sqm': 'float64'})\n",
    "\n",
    "# print the columns data types\n",
    "print('Dataframedata types:\\n', df_rentalprices.dtypes, '\\n')"
   ]
  },
  {
   "cell_type": "markdown",
   "metadata": {},
   "source": [
    "Check results"
   ]
  },
  {
   "cell_type": "code",
   "execution_count": 50,
   "metadata": {},
   "outputs": [
    {
     "data": {
      "text/html": [
       "<div>\n",
       "<style scoped>\n",
       "    .dataframe tbody tr th:only-of-type {\n",
       "        vertical-align: middle;\n",
       "    }\n",
       "\n",
       "    .dataframe tbody tr th {\n",
       "        vertical-align: top;\n",
       "    }\n",
       "\n",
       "    .dataframe thead th {\n",
       "        text-align: right;\n",
       "    }\n",
       "</style>\n",
       "<table border=\"1\" class=\"dataframe\">\n",
       "  <thead>\n",
       "    <tr style=\"text-align: right;\">\n",
       "      <th></th>\n",
       "      <th>neighborhood</th>\n",
       "      <th>mean_price_sqm</th>\n",
       "    </tr>\n",
       "  </thead>\n",
       "  <tbody>\n",
       "    <tr>\n",
       "      <th>0</th>\n",
       "      <td>Santana</td>\n",
       "      <td>23.8</td>\n",
       "    </tr>\n",
       "    <tr>\n",
       "      <th>1</th>\n",
       "      <td>Lauzane Paulista</td>\n",
       "      <td>22.1</td>\n",
       "    </tr>\n",
       "    <tr>\n",
       "      <th>2</th>\n",
       "      <td>Mandaqui</td>\n",
       "      <td>21.7</td>\n",
       "    </tr>\n",
       "    <tr>\n",
       "      <th>3</th>\n",
       "      <td>Tucuruvi</td>\n",
       "      <td>23.0</td>\n",
       "    </tr>\n",
       "    <tr>\n",
       "      <th>4</th>\n",
       "      <td>Parada Inglesa</td>\n",
       "      <td>27.0</td>\n",
       "    </tr>\n",
       "    <tr>\n",
       "      <th>...</th>\n",
       "      <td>...</td>\n",
       "      <td>...</td>\n",
       "    </tr>\n",
       "    <tr>\n",
       "      <th>82</th>\n",
       "      <td>Liberdade</td>\n",
       "      <td>30.7</td>\n",
       "    </tr>\n",
       "    <tr>\n",
       "      <th>83</th>\n",
       "      <td>Pirituba</td>\n",
       "      <td>23.7</td>\n",
       "    </tr>\n",
       "    <tr>\n",
       "      <th>84</th>\n",
       "      <td>Vila Sônia</td>\n",
       "      <td>25.9</td>\n",
       "    </tr>\n",
       "    <tr>\n",
       "      <th>86</th>\n",
       "      <td>Jardins</td>\n",
       "      <td>32.2</td>\n",
       "    </tr>\n",
       "    <tr>\n",
       "      <th>87</th>\n",
       "      <td>Vila Leopoldina</td>\n",
       "      <td>33.5</td>\n",
       "    </tr>\n",
       "  </tbody>\n",
       "</table>\n",
       "<p>86 rows × 2 columns</p>\n",
       "</div>"
      ],
      "text/plain": [
       "        neighborhood  mean_price_sqm\n",
       "0            Santana            23.8\n",
       "1   Lauzane Paulista            22.1\n",
       "2           Mandaqui            21.7\n",
       "3           Tucuruvi            23.0\n",
       "4     Parada Inglesa            27.0\n",
       "..               ...             ...\n",
       "82         Liberdade            30.7\n",
       "83          Pirituba            23.7\n",
       "84        Vila Sônia            25.9\n",
       "86           Jardins            32.2\n",
       "87   Vila Leopoldina            33.5\n",
       "\n",
       "[86 rows x 2 columns]"
      ]
     },
     "execution_count": 50,
     "metadata": {},
     "output_type": "execute_result"
    }
   ],
   "source": [
    "# print results\n",
    "df_rentalprices"
   ]
  },
  {
   "cell_type": "markdown",
   "metadata": {},
   "source": [
    "Check if there is any duplicated neighborhood in __Rental Prices Dataframe__. It will be done with _pandas.DataFrame.groupby_ method, grouping the dataframe by neighborhood and counting the mean prices."
   ]
  },
  {
   "cell_type": "code",
   "execution_count": 51,
   "metadata": {},
   "outputs": [
    {
     "data": {
      "text/html": [
       "<div>\n",
       "<style scoped>\n",
       "    .dataframe tbody tr th:only-of-type {\n",
       "        vertical-align: middle;\n",
       "    }\n",
       "\n",
       "    .dataframe tbody tr th {\n",
       "        vertical-align: top;\n",
       "    }\n",
       "\n",
       "    .dataframe thead th {\n",
       "        text-align: right;\n",
       "    }\n",
       "</style>\n",
       "<table border=\"1\" class=\"dataframe\">\n",
       "  <thead>\n",
       "    <tr style=\"text-align: right;\">\n",
       "      <th></th>\n",
       "      <th>neighborhood</th>\n",
       "      <th>mean_price_sqm</th>\n",
       "    </tr>\n",
       "  </thead>\n",
       "  <tbody>\n",
       "  </tbody>\n",
       "</table>\n",
       "</div>"
      ],
      "text/plain": [
       "Empty DataFrame\n",
       "Columns: [neighborhood, mean_price_sqm]\n",
       "Index: []"
      ]
     },
     "execution_count": 51,
     "metadata": {},
     "output_type": "execute_result"
    }
   ],
   "source": [
    "# group the rental prices by neighborhoods counting the mean price\n",
    "df_group = df_rentalprices.groupby('neighborhood', sort=True).count().reset_index()\n",
    "\n",
    "# check for counting greater then 1\n",
    "df_group[df_group['mean_price_sqm'] > 1]"
   ]
  },
  {
   "cell_type": "markdown",
   "metadata": {},
   "source": [
    "All the observations in __Rental Prices Dataframe__ are unique.\n",
    "\n",
    "Merge __Districts Dataframe__ (__district__ as key) with __Rental Prices Dataframe__ (__neighborhood__ as key) using _pandas.merge_ method. The resulting dataframe will be __Districts Dataframe__ with mean rental prices. As stated before, missing data is expected to occour."
   ]
  },
  {
   "cell_type": "code",
   "execution_count": 52,
   "metadata": {},
   "outputs": [
    {
     "data": {
      "text/html": [
       "<div>\n",
       "<style scoped>\n",
       "    .dataframe tbody tr th:only-of-type {\n",
       "        vertical-align: middle;\n",
       "    }\n",
       "\n",
       "    .dataframe tbody tr th {\n",
       "        vertical-align: top;\n",
       "    }\n",
       "\n",
       "    .dataframe thead th {\n",
       "        text-align: right;\n",
       "    }\n",
       "</style>\n",
       "<table border=\"1\" class=\"dataframe\">\n",
       "  <thead>\n",
       "    <tr style=\"text-align: right;\">\n",
       "      <th></th>\n",
       "      <th>region</th>\n",
       "      <th>borough</th>\n",
       "      <th>district</th>\n",
       "      <th>area_sqkm</th>\n",
       "      <th>neighborhood</th>\n",
       "      <th>mean_price_sqm</th>\n",
       "    </tr>\n",
       "  </thead>\n",
       "  <tbody>\n",
       "    <tr>\n",
       "      <th>0</th>\n",
       "      <td>Centro</td>\n",
       "      <td>Sé</td>\n",
       "      <td>Bela Vista</td>\n",
       "      <td>2.72</td>\n",
       "      <td>Bela Vista</td>\n",
       "      <td>30.6</td>\n",
       "    </tr>\n",
       "    <tr>\n",
       "      <th>1</th>\n",
       "      <td>Centro</td>\n",
       "      <td>Sé</td>\n",
       "      <td>Bom Retiro</td>\n",
       "      <td>4.21</td>\n",
       "      <td>Bom Retiro</td>\n",
       "      <td>29.1</td>\n",
       "    </tr>\n",
       "    <tr>\n",
       "      <th>2</th>\n",
       "      <td>Centro</td>\n",
       "      <td>Sé</td>\n",
       "      <td>Cambuci</td>\n",
       "      <td>3.92</td>\n",
       "      <td>NaN</td>\n",
       "      <td>NaN</td>\n",
       "    </tr>\n",
       "    <tr>\n",
       "      <th>3</th>\n",
       "      <td>Centro</td>\n",
       "      <td>Sé</td>\n",
       "      <td>Consolação</td>\n",
       "      <td>3.82</td>\n",
       "      <td>NaN</td>\n",
       "      <td>NaN</td>\n",
       "    </tr>\n",
       "    <tr>\n",
       "      <th>4</th>\n",
       "      <td>Centro</td>\n",
       "      <td>Sé</td>\n",
       "      <td>Liberdade</td>\n",
       "      <td>3.65</td>\n",
       "      <td>Liberdade</td>\n",
       "      <td>30.7</td>\n",
       "    </tr>\n",
       "    <tr>\n",
       "      <th>...</th>\n",
       "      <td>...</td>\n",
       "      <td>...</td>\n",
       "      <td>...</td>\n",
       "      <td>...</td>\n",
       "      <td>...</td>\n",
       "      <td>...</td>\n",
       "    </tr>\n",
       "    <tr>\n",
       "      <th>91</th>\n",
       "      <td>Sul</td>\n",
       "      <td>Santo Amaro</td>\n",
       "      <td>Campo Grande</td>\n",
       "      <td>12.95</td>\n",
       "      <td>NaN</td>\n",
       "      <td>NaN</td>\n",
       "    </tr>\n",
       "    <tr>\n",
       "      <th>92</th>\n",
       "      <td>Sul</td>\n",
       "      <td>Santo Amaro</td>\n",
       "      <td>Santo Amaro</td>\n",
       "      <td>16.04</td>\n",
       "      <td>Santo Amaro</td>\n",
       "      <td>26.8</td>\n",
       "    </tr>\n",
       "    <tr>\n",
       "      <th>93</th>\n",
       "      <td>Sul</td>\n",
       "      <td>Vila Mariana</td>\n",
       "      <td>Moema</td>\n",
       "      <td>9.08</td>\n",
       "      <td>Moema</td>\n",
       "      <td>32.6</td>\n",
       "    </tr>\n",
       "    <tr>\n",
       "      <th>94</th>\n",
       "      <td>Sul</td>\n",
       "      <td>Vila Mariana</td>\n",
       "      <td>Saúde</td>\n",
       "      <td>9.31</td>\n",
       "      <td>Saúde</td>\n",
       "      <td>28.2</td>\n",
       "    </tr>\n",
       "    <tr>\n",
       "      <th>95</th>\n",
       "      <td>Sul</td>\n",
       "      <td>Vila Mariana</td>\n",
       "      <td>Vila Mariana</td>\n",
       "      <td>8.60</td>\n",
       "      <td>Vila Mariana</td>\n",
       "      <td>29.9</td>\n",
       "    </tr>\n",
       "  </tbody>\n",
       "</table>\n",
       "<p>96 rows × 6 columns</p>\n",
       "</div>"
      ],
      "text/plain": [
       "    region       borough      district  area_sqkm  neighborhood  \\\n",
       "0   Centro            Sé    Bela Vista       2.72    Bela Vista   \n",
       "1   Centro            Sé    Bom Retiro       4.21    Bom Retiro   \n",
       "2   Centro            Sé       Cambuci       3.92           NaN   \n",
       "3   Centro            Sé    Consolação       3.82           NaN   \n",
       "4   Centro            Sé     Liberdade       3.65     Liberdade   \n",
       "..     ...           ...           ...        ...           ...   \n",
       "91     Sul   Santo Amaro  Campo Grande      12.95           NaN   \n",
       "92     Sul   Santo Amaro   Santo Amaro      16.04   Santo Amaro   \n",
       "93     Sul  Vila Mariana         Moema       9.08         Moema   \n",
       "94     Sul  Vila Mariana         Saúde       9.31         Saúde   \n",
       "95     Sul  Vila Mariana  Vila Mariana       8.60  Vila Mariana   \n",
       "\n",
       "    mean_price_sqm  \n",
       "0             30.6  \n",
       "1             29.1  \n",
       "2              NaN  \n",
       "3              NaN  \n",
       "4             30.7  \n",
       "..             ...  \n",
       "91             NaN  \n",
       "92            26.8  \n",
       "93            32.6  \n",
       "94            28.2  \n",
       "95            29.9  \n",
       "\n",
       "[96 rows x 6 columns]"
      ]
     },
     "execution_count": 52,
     "metadata": {},
     "output_type": "execute_result"
    }
   ],
   "source": [
    "# merge districts and rental prices dataframes\n",
    "df_districts = pd.merge(df_districts, df_rentalprices, how='left', left_on='district', right_on='neighborhood')\n",
    "\n",
    "# print results\n",
    "df_districts"
   ]
  },
  {
   "cell_type": "markdown",
   "metadata": {},
   "source": [
    "The column __neighborhood__ contains the same information as __district__, it will be dropped from the data dataframe using _pandas.DataFrame.drop_ method."
   ]
  },
  {
   "cell_type": "code",
   "execution_count": 53,
   "metadata": {},
   "outputs": [
    {
     "data": {
      "text/html": [
       "<div>\n",
       "<style scoped>\n",
       "    .dataframe tbody tr th:only-of-type {\n",
       "        vertical-align: middle;\n",
       "    }\n",
       "\n",
       "    .dataframe tbody tr th {\n",
       "        vertical-align: top;\n",
       "    }\n",
       "\n",
       "    .dataframe thead th {\n",
       "        text-align: right;\n",
       "    }\n",
       "</style>\n",
       "<table border=\"1\" class=\"dataframe\">\n",
       "  <thead>\n",
       "    <tr style=\"text-align: right;\">\n",
       "      <th></th>\n",
       "      <th>region</th>\n",
       "      <th>borough</th>\n",
       "      <th>district</th>\n",
       "      <th>area_sqkm</th>\n",
       "      <th>mean_price_sqm</th>\n",
       "    </tr>\n",
       "  </thead>\n",
       "  <tbody>\n",
       "    <tr>\n",
       "      <th>0</th>\n",
       "      <td>Centro</td>\n",
       "      <td>Sé</td>\n",
       "      <td>Bela Vista</td>\n",
       "      <td>2.72</td>\n",
       "      <td>30.6</td>\n",
       "    </tr>\n",
       "    <tr>\n",
       "      <th>1</th>\n",
       "      <td>Centro</td>\n",
       "      <td>Sé</td>\n",
       "      <td>Bom Retiro</td>\n",
       "      <td>4.21</td>\n",
       "      <td>29.1</td>\n",
       "    </tr>\n",
       "    <tr>\n",
       "      <th>2</th>\n",
       "      <td>Centro</td>\n",
       "      <td>Sé</td>\n",
       "      <td>Cambuci</td>\n",
       "      <td>3.92</td>\n",
       "      <td>NaN</td>\n",
       "    </tr>\n",
       "    <tr>\n",
       "      <th>3</th>\n",
       "      <td>Centro</td>\n",
       "      <td>Sé</td>\n",
       "      <td>Consolação</td>\n",
       "      <td>3.82</td>\n",
       "      <td>NaN</td>\n",
       "    </tr>\n",
       "    <tr>\n",
       "      <th>4</th>\n",
       "      <td>Centro</td>\n",
       "      <td>Sé</td>\n",
       "      <td>Liberdade</td>\n",
       "      <td>3.65</td>\n",
       "      <td>30.7</td>\n",
       "    </tr>\n",
       "    <tr>\n",
       "      <th>...</th>\n",
       "      <td>...</td>\n",
       "      <td>...</td>\n",
       "      <td>...</td>\n",
       "      <td>...</td>\n",
       "      <td>...</td>\n",
       "    </tr>\n",
       "    <tr>\n",
       "      <th>91</th>\n",
       "      <td>Sul</td>\n",
       "      <td>Santo Amaro</td>\n",
       "      <td>Campo Grande</td>\n",
       "      <td>12.95</td>\n",
       "      <td>NaN</td>\n",
       "    </tr>\n",
       "    <tr>\n",
       "      <th>92</th>\n",
       "      <td>Sul</td>\n",
       "      <td>Santo Amaro</td>\n",
       "      <td>Santo Amaro</td>\n",
       "      <td>16.04</td>\n",
       "      <td>26.8</td>\n",
       "    </tr>\n",
       "    <tr>\n",
       "      <th>93</th>\n",
       "      <td>Sul</td>\n",
       "      <td>Vila Mariana</td>\n",
       "      <td>Moema</td>\n",
       "      <td>9.08</td>\n",
       "      <td>32.6</td>\n",
       "    </tr>\n",
       "    <tr>\n",
       "      <th>94</th>\n",
       "      <td>Sul</td>\n",
       "      <td>Vila Mariana</td>\n",
       "      <td>Saúde</td>\n",
       "      <td>9.31</td>\n",
       "      <td>28.2</td>\n",
       "    </tr>\n",
       "    <tr>\n",
       "      <th>95</th>\n",
       "      <td>Sul</td>\n",
       "      <td>Vila Mariana</td>\n",
       "      <td>Vila Mariana</td>\n",
       "      <td>8.60</td>\n",
       "      <td>29.9</td>\n",
       "    </tr>\n",
       "  </tbody>\n",
       "</table>\n",
       "<p>96 rows × 5 columns</p>\n",
       "</div>"
      ],
      "text/plain": [
       "    region       borough      district  area_sqkm  mean_price_sqm\n",
       "0   Centro            Sé    Bela Vista       2.72            30.6\n",
       "1   Centro            Sé    Bom Retiro       4.21            29.1\n",
       "2   Centro            Sé       Cambuci       3.92             NaN\n",
       "3   Centro            Sé    Consolação       3.82             NaN\n",
       "4   Centro            Sé     Liberdade       3.65            30.7\n",
       "..     ...           ...           ...        ...             ...\n",
       "91     Sul   Santo Amaro  Campo Grande      12.95             NaN\n",
       "92     Sul   Santo Amaro   Santo Amaro      16.04            26.8\n",
       "93     Sul  Vila Mariana         Moema       9.08            32.6\n",
       "94     Sul  Vila Mariana         Saúde       9.31            28.2\n",
       "95     Sul  Vila Mariana  Vila Mariana       8.60            29.9\n",
       "\n",
       "[96 rows x 5 columns]"
      ]
     },
     "execution_count": 53,
     "metadata": {},
     "output_type": "execute_result"
    }
   ],
   "source": [
    "# drop neighborhood column\n",
    "df_districts.drop('neighborhood', axis=1, inplace=True)\n",
    "\n",
    "# print results\n",
    "df_districts"
   ]
  },
  {
   "cell_type": "markdown",
   "metadata": {},
   "source": [
    "Last step to have dataframe ready is to treat the __missing values__ in column __mean_price_sqm__. The missing values will be replaced by the mean price of respective region, but first for reference, calculate the mean price for each region, using _pandas.DataFrame.grouby_ method."
   ]
  },
  {
   "cell_type": "code",
   "execution_count": 54,
   "metadata": {},
   "outputs": [
    {
     "data": {
      "text/html": [
       "<div>\n",
       "<style scoped>\n",
       "    .dataframe tbody tr th:only-of-type {\n",
       "        vertical-align: middle;\n",
       "    }\n",
       "\n",
       "    .dataframe tbody tr th {\n",
       "        vertical-align: top;\n",
       "    }\n",
       "\n",
       "    .dataframe thead th {\n",
       "        text-align: right;\n",
       "    }\n",
       "</style>\n",
       "<table border=\"1\" class=\"dataframe\">\n",
       "  <thead>\n",
       "    <tr style=\"text-align: right;\">\n",
       "      <th></th>\n",
       "      <th>region</th>\n",
       "      <th>area_sqkm</th>\n",
       "      <th>mean_price_sqm</th>\n",
       "    </tr>\n",
       "  </thead>\n",
       "  <tbody>\n",
       "    <tr>\n",
       "      <th>0</th>\n",
       "      <td>Centro</td>\n",
       "      <td>3.333750</td>\n",
       "      <td>29.925000</td>\n",
       "    </tr>\n",
       "    <tr>\n",
       "      <th>1</th>\n",
       "      <td>Leste</td>\n",
       "      <td>10.045758</td>\n",
       "      <td>23.053846</td>\n",
       "    </tr>\n",
       "    <tr>\n",
       "      <th>2</th>\n",
       "      <td>Norte</td>\n",
       "      <td>16.658333</td>\n",
       "      <td>22.725000</td>\n",
       "    </tr>\n",
       "    <tr>\n",
       "      <th>3</th>\n",
       "      <td>Oeste</td>\n",
       "      <td>8.598667</td>\n",
       "      <td>29.444444</td>\n",
       "    </tr>\n",
       "    <tr>\n",
       "      <th>4</th>\n",
       "      <td>Sul</td>\n",
       "      <td>33.662727</td>\n",
       "      <td>28.388889</td>\n",
       "    </tr>\n",
       "  </tbody>\n",
       "</table>\n",
       "</div>"
      ],
      "text/plain": [
       "   region  area_sqkm  mean_price_sqm\n",
       "0  Centro   3.333750       29.925000\n",
       "1   Leste  10.045758       23.053846\n",
       "2   Norte  16.658333       22.725000\n",
       "3   Oeste   8.598667       29.444444\n",
       "4     Sul  33.662727       28.388889"
      ]
     },
     "execution_count": 54,
     "metadata": {},
     "output_type": "execute_result"
    }
   ],
   "source": [
    "# group dataframe by region calculating the mean price\n",
    "df_districts.groupby('region', sort=True).mean().reset_index()"
   ]
  },
  {
   "cell_type": "markdown",
   "metadata": {},
   "source": [
    "Replace the missing __mean_price_sqm__ by its respective region mean price. It will be done firstly defining a function to return the region mean price taking the region name as parameter, _pandas.DataFrame.group_ method will be used for this. Having the function defined, _pandas.DataFrame.apply_ method will be used to call the function for the observations where mean price is _NaN_, _numpy.isnan_ method will be used to chech for _NaN_."
   ]
  },
  {
   "cell_type": "code",
   "execution_count": 55,
   "metadata": {},
   "outputs": [
    {
     "name": "stdout",
     "output_type": "stream",
     "text": [
      "Replace finished.\n"
     ]
    }
   ],
   "source": [
    "# define a funciton to return the region mean price\n",
    "def get_region_mean(r):\n",
    "    m = df_districts[df_districts['region']==r].groupby('region', sort=True).mean().reset_index()['mean_price_sqm']\n",
    "    return round(float(m),2)\n",
    "\n",
    "# use apply to call the defined function when mean price is missing\n",
    "df_districts['mean_price_sqm'] = df_districts.apply(lambda x : get_region_mean(x.region) if np.isnan(x.mean_price_sqm) else x.mean_price_sqm, axis=1)\n",
    "\n",
    "# inform when it is finished\n",
    "print('Replace finished.')"
   ]
  },
  {
   "cell_type": "markdown",
   "metadata": {},
   "source": [
    "Check results."
   ]
  },
  {
   "cell_type": "code",
   "execution_count": 56,
   "metadata": {},
   "outputs": [
    {
     "data": {
      "text/html": [
       "<div>\n",
       "<style scoped>\n",
       "    .dataframe tbody tr th:only-of-type {\n",
       "        vertical-align: middle;\n",
       "    }\n",
       "\n",
       "    .dataframe tbody tr th {\n",
       "        vertical-align: top;\n",
       "    }\n",
       "\n",
       "    .dataframe thead th {\n",
       "        text-align: right;\n",
       "    }\n",
       "</style>\n",
       "<table border=\"1\" class=\"dataframe\">\n",
       "  <thead>\n",
       "    <tr style=\"text-align: right;\">\n",
       "      <th></th>\n",
       "      <th>region</th>\n",
       "      <th>borough</th>\n",
       "      <th>district</th>\n",
       "      <th>area_sqkm</th>\n",
       "      <th>mean_price_sqm</th>\n",
       "    </tr>\n",
       "  </thead>\n",
       "  <tbody>\n",
       "    <tr>\n",
       "      <th>0</th>\n",
       "      <td>Centro</td>\n",
       "      <td>Sé</td>\n",
       "      <td>Bela Vista</td>\n",
       "      <td>2.72</td>\n",
       "      <td>30.60</td>\n",
       "    </tr>\n",
       "    <tr>\n",
       "      <th>1</th>\n",
       "      <td>Centro</td>\n",
       "      <td>Sé</td>\n",
       "      <td>Bom Retiro</td>\n",
       "      <td>4.21</td>\n",
       "      <td>29.10</td>\n",
       "    </tr>\n",
       "    <tr>\n",
       "      <th>2</th>\n",
       "      <td>Centro</td>\n",
       "      <td>Sé</td>\n",
       "      <td>Cambuci</td>\n",
       "      <td>3.92</td>\n",
       "      <td>29.93</td>\n",
       "    </tr>\n",
       "    <tr>\n",
       "      <th>3</th>\n",
       "      <td>Centro</td>\n",
       "      <td>Sé</td>\n",
       "      <td>Consolação</td>\n",
       "      <td>3.82</td>\n",
       "      <td>29.93</td>\n",
       "    </tr>\n",
       "    <tr>\n",
       "      <th>4</th>\n",
       "      <td>Centro</td>\n",
       "      <td>Sé</td>\n",
       "      <td>Liberdade</td>\n",
       "      <td>3.65</td>\n",
       "      <td>30.70</td>\n",
       "    </tr>\n",
       "    <tr>\n",
       "      <th>...</th>\n",
       "      <td>...</td>\n",
       "      <td>...</td>\n",
       "      <td>...</td>\n",
       "      <td>...</td>\n",
       "      <td>...</td>\n",
       "    </tr>\n",
       "    <tr>\n",
       "      <th>91</th>\n",
       "      <td>Sul</td>\n",
       "      <td>Santo Amaro</td>\n",
       "      <td>Campo Grande</td>\n",
       "      <td>12.95</td>\n",
       "      <td>28.39</td>\n",
       "    </tr>\n",
       "    <tr>\n",
       "      <th>92</th>\n",
       "      <td>Sul</td>\n",
       "      <td>Santo Amaro</td>\n",
       "      <td>Santo Amaro</td>\n",
       "      <td>16.04</td>\n",
       "      <td>26.80</td>\n",
       "    </tr>\n",
       "    <tr>\n",
       "      <th>93</th>\n",
       "      <td>Sul</td>\n",
       "      <td>Vila Mariana</td>\n",
       "      <td>Moema</td>\n",
       "      <td>9.08</td>\n",
       "      <td>32.60</td>\n",
       "    </tr>\n",
       "    <tr>\n",
       "      <th>94</th>\n",
       "      <td>Sul</td>\n",
       "      <td>Vila Mariana</td>\n",
       "      <td>Saúde</td>\n",
       "      <td>9.31</td>\n",
       "      <td>28.20</td>\n",
       "    </tr>\n",
       "    <tr>\n",
       "      <th>95</th>\n",
       "      <td>Sul</td>\n",
       "      <td>Vila Mariana</td>\n",
       "      <td>Vila Mariana</td>\n",
       "      <td>8.60</td>\n",
       "      <td>29.90</td>\n",
       "    </tr>\n",
       "  </tbody>\n",
       "</table>\n",
       "<p>96 rows × 5 columns</p>\n",
       "</div>"
      ],
      "text/plain": [
       "    region       borough      district  area_sqkm  mean_price_sqm\n",
       "0   Centro            Sé    Bela Vista       2.72           30.60\n",
       "1   Centro            Sé    Bom Retiro       4.21           29.10\n",
       "2   Centro            Sé       Cambuci       3.92           29.93\n",
       "3   Centro            Sé    Consolação       3.82           29.93\n",
       "4   Centro            Sé     Liberdade       3.65           30.70\n",
       "..     ...           ...           ...        ...             ...\n",
       "91     Sul   Santo Amaro  Campo Grande      12.95           28.39\n",
       "92     Sul   Santo Amaro   Santo Amaro      16.04           26.80\n",
       "93     Sul  Vila Mariana         Moema       9.08           32.60\n",
       "94     Sul  Vila Mariana         Saúde       9.31           28.20\n",
       "95     Sul  Vila Mariana  Vila Mariana       8.60           29.90\n",
       "\n",
       "[96 rows x 5 columns]"
      ]
     },
     "execution_count": 56,
     "metadata": {},
     "output_type": "execute_result"
    }
   ],
   "source": [
    "# check results\n",
    "df_districts"
   ]
  },
  {
   "cell_type": "markdown",
   "metadata": {},
   "source": [
    "---"
   ]
  },
  {
   "cell_type": "markdown",
   "metadata": {},
   "source": [
    "### Step 4 - Exploratory Data Analysis on _Districts Dataframe_"
   ]
  },
  {
   "cell_type": "markdown",
   "metadata": {},
   "source": [
    "Import addional libraries\n",
    "1. __Matplotlib__: create plots"
   ]
  },
  {
   "cell_type": "code",
   "execution_count": 57,
   "metadata": {},
   "outputs": [],
   "source": [
    "import matplotlib.pyplot as plt\n",
    "import matplotlib.colors as mcolors\n",
    "%matplotlib inline"
   ]
  },
  {
   "cell_type": "markdown",
   "metadata": {},
   "source": [
    "Check how many districts each region contains. First the __Districts Dataframe__ will be grouped by __region__ with _pandas.DataFrame.groupby_ method, then a __bar plot__ will be constructed using _Matplotlib_."
   ]
  },
  {
   "cell_type": "code",
   "execution_count": 58,
   "metadata": {},
   "outputs": [
    {
     "data": {
      "image/png": "[encoded data removed]",
      "text/plain": [
       "<Figure size 720x432 with 1 Axes>"
      ]
     },
     "metadata": {},
     "output_type": "display_data"
    }
   ],
   "source": [
    "# group dataframe by region counting the group observations\n",
    "vdf = df_districts.groupby('region').count().reset_index()\n",
    "\n",
    "# define plot style\n",
    "plt.style.use('seaborn')\n",
    "\n",
    "# set font size for axis ticks\n",
    "plt.rc('xtick', labelsize=13)\n",
    "plt.rc('ytick', labelsize=12)\n",
    "\n",
    "# create figure object\n",
    "fig, ax = plt.subplots(figsize=(10,6))\n",
    "\n",
    "# add bar plot to the figure\n",
    "ax.bar(vdf['region'], vdf['district'])\n",
    "\n",
    "# add plot title and ylable\n",
    "ax.set_title('São Paulo - Districts per Region', {'fontsize':14})\n",
    "ax.set_ylabel('units', {'fontsize':13})\n",
    "\n",
    "# show the figure\n",
    "plt.show()"
   ]
  },
  {
   "cell_type": "markdown",
   "metadata": {},
   "source": [
    "Check __Districts Dataframe__ statistics using _pandas.DataFrame.describe_ method."
   ]
  },
  {
   "cell_type": "code",
   "execution_count": 59,
   "metadata": {},
   "outputs": [
    {
     "data": {
      "text/html": [
       "<div>\n",
       "<style scoped>\n",
       "    .dataframe tbody tr th:only-of-type {\n",
       "        vertical-align: middle;\n",
       "    }\n",
       "\n",
       "    .dataframe tbody tr th {\n",
       "        vertical-align: top;\n",
       "    }\n",
       "\n",
       "    .dataframe thead th {\n",
       "        text-align: right;\n",
       "    }\n",
       "</style>\n",
       "<table border=\"1\" class=\"dataframe\">\n",
       "  <thead>\n",
       "    <tr style=\"text-align: right;\">\n",
       "      <th></th>\n",
       "      <th>region</th>\n",
       "      <th>borough</th>\n",
       "      <th>district</th>\n",
       "      <th>area_sqkm</th>\n",
       "      <th>mean_price_sqm</th>\n",
       "    </tr>\n",
       "  </thead>\n",
       "  <tbody>\n",
       "    <tr>\n",
       "      <th>count</th>\n",
       "      <td>96</td>\n",
       "      <td>96</td>\n",
       "      <td>96</td>\n",
       "      <td>96.000000</td>\n",
       "      <td>96.000000</td>\n",
       "    </tr>\n",
       "    <tr>\n",
       "      <th>unique</th>\n",
       "      <td>5</td>\n",
       "      <td>32</td>\n",
       "      <td>96</td>\n",
       "      <td>NaN</td>\n",
       "      <td>NaN</td>\n",
       "    </tr>\n",
       "    <tr>\n",
       "      <th>top</th>\n",
       "      <td>Leste</td>\n",
       "      <td>Sé</td>\n",
       "      <td>Itaquera</td>\n",
       "      <td>NaN</td>\n",
       "      <td>NaN</td>\n",
       "    </tr>\n",
       "    <tr>\n",
       "      <th>freq</th>\n",
       "      <td>33</td>\n",
       "      <td>8</td>\n",
       "      <td>1</td>\n",
       "      <td>NaN</td>\n",
       "      <td>NaN</td>\n",
       "    </tr>\n",
       "    <tr>\n",
       "      <th>mean</th>\n",
       "      <td>NaN</td>\n",
       "      <td>NaN</td>\n",
       "      <td>NaN</td>\n",
       "      <td>15.912396</td>\n",
       "      <td>25.785521</td>\n",
       "    </tr>\n",
       "    <tr>\n",
       "      <th>std</th>\n",
       "      <td>NaN</td>\n",
       "      <td>NaN</td>\n",
       "      <td>NaN</td>\n",
       "      <td>26.968078</td>\n",
       "      <td>3.597908</td>\n",
       "    </tr>\n",
       "    <tr>\n",
       "      <th>min</th>\n",
       "      <td>NaN</td>\n",
       "      <td>NaN</td>\n",
       "      <td>NaN</td>\n",
       "      <td>2.190000</td>\n",
       "      <td>17.700000</td>\n",
       "    </tr>\n",
       "    <tr>\n",
       "      <th>25%</th>\n",
       "      <td>NaN</td>\n",
       "      <td>NaN</td>\n",
       "      <td>NaN</td>\n",
       "      <td>7.395000</td>\n",
       "      <td>23.050000</td>\n",
       "    </tr>\n",
       "    <tr>\n",
       "      <th>50%</th>\n",
       "      <td>NaN</td>\n",
       "      <td>NaN</td>\n",
       "      <td>NaN</td>\n",
       "      <td>9.780000</td>\n",
       "      <td>25.150000</td>\n",
       "    </tr>\n",
       "    <tr>\n",
       "      <th>75%</th>\n",
       "      <td>NaN</td>\n",
       "      <td>NaN</td>\n",
       "      <td>NaN</td>\n",
       "      <td>13.560000</td>\n",
       "      <td>28.467500</td>\n",
       "    </tr>\n",
       "    <tr>\n",
       "      <th>max</th>\n",
       "      <td>NaN</td>\n",
       "      <td>NaN</td>\n",
       "      <td>NaN</td>\n",
       "      <td>208.190000</td>\n",
       "      <td>33.500000</td>\n",
       "    </tr>\n",
       "  </tbody>\n",
       "</table>\n",
       "</div>"
      ],
      "text/plain": [
       "       region borough  district   area_sqkm  mean_price_sqm\n",
       "count      96      96        96   96.000000       96.000000\n",
       "unique      5      32        96         NaN             NaN\n",
       "top     Leste      Sé  Itaquera         NaN             NaN\n",
       "freq       33       8         1         NaN             NaN\n",
       "mean      NaN     NaN       NaN   15.912396       25.785521\n",
       "std       NaN     NaN       NaN   26.968078        3.597908\n",
       "min       NaN     NaN       NaN    2.190000       17.700000\n",
       "25%       NaN     NaN       NaN    7.395000       23.050000\n",
       "50%       NaN     NaN       NaN    9.780000       25.150000\n",
       "75%       NaN     NaN       NaN   13.560000       28.467500\n",
       "max       NaN     NaN       NaN  208.190000       33.500000"
      ]
     },
     "execution_count": 59,
     "metadata": {},
     "output_type": "execute_result"
    }
   ],
   "source": [
    "df_districts.describe(include='all')"
   ]
  },
  {
   "cell_type": "markdown",
   "metadata": {},
   "source": [
    "Interesting to notice the variation of rental prices across the city, what is expected for metropolis like São Paulo. The Minimum mean price __BRL 17.70/m<sup>2</sup>__ and the maximum __BRL 33.50/m<sup>2</sup>__ almost double. Mean at __25.78__ is balanced with the median at __25.15__. The range between __Q1 = 23.05__ and __Q3 = 28.47__ is not wide, but the relocator budget at __BRL 25.00/m<sup>2</sup>__ should not be an issue.\n",
    "\n",
    "There is also huge variation in districts land area, ranging from __2.19 km<sup>2</sup>__ to __208.19 km<sup>2</sup>__, what should be considered when looking for venues with __API Fousquare__, as the radius cannot be the same for all of the districts, to minimize overlaping and skiping areas.\n",
    "\n",
    "Check the mean prices frequencies with a histograms to have an idea on how is the Relocator Rental Budget positioned, _Matplotlib_ will be used."
   ]
  },
  {
   "cell_type": "code",
   "execution_count": 60,
   "metadata": {},
   "outputs": [
    {
     "data": {
      "image/png": "[encoded data removed]",
      "text/plain": [
       "<Figure size 720x432 with 1 Axes>"
      ]
     },
     "metadata": {},
     "output_type": "display_data"
    }
   ],
   "source": [
    "# caculate bins edges\n",
    "cnt, bins = np.histogram(df_districts['mean_price_sqm'])\n",
    "\n",
    "# create figure object\n",
    "fig, ax = plt.subplots(figsize=(10,6))\n",
    "\n",
    "# add histogram to the figure\n",
    "ax.hist(df_districts['mean_price_sqm'], bins=bins)\n",
    "\n",
    "# define xticks values to match bins edges\n",
    "ax.set_xticks(bins)\n",
    "\n",
    "# get yticks (values on y-axis)\n",
    "ylocs, ylabels = plt.yticks()\n",
    "\n",
    "# add a vertical line for rental budget and annotate a text for it\n",
    "plt.axvline(x=budget_sqm, ymin=min(ylocs), ymax=max(ylocs), color='r')\n",
    "ax.annotate('Rental budget', xy=(budget_sqm*1.005, max(ylocs)*0.95), xycoords='data', color='r')\n",
    "\n",
    "# add a rectangle for the tolerance range and annotate a text for it\n",
    "rect = plt.Rectangle((budget_sqm_min, min(ylocs)), (budget_sqm_max-budget_sqm_min), (max(ylocs)-min(ylocs)), facecolor='r', alpha=0.1)\n",
    "ax.add_patch(rect)\n",
    "ax.annotate('Tolerance range', xy=(budget_sqm_max*1.005, max(ylocs)*0.85), xycoords='data', color='r')\n",
    "\n",
    "# add plot title and ylable\n",
    "ax.set_title('São Paulo - Mean Rental Prices (BRL/sqm)', {'fontsize':14})\n",
    "ax.set_xlabel('BRL/sqm', {'fontsize':13})\n",
    "ax.set_ylabel('frequencies', {'fontsize':13})\n",
    "\n",
    "# show the figure\n",
    "plt.show()"
   ]
  },
  {
   "cell_type": "markdown",
   "metadata": {},
   "source": [
    "Check the mean prices frequencies, but split between district, with the same bin setup for better comparison."
   ]
  },
  {
   "cell_type": "code",
   "execution_count": 61,
   "metadata": {},
   "outputs": [
    {
     "data": {
      "image/png": "[encoded data removed]",
      "text/plain": [
       "<Figure size 1080x864 with 5 Axes>"
      ]
     },
     "metadata": {},
     "output_type": "display_data"
    }
   ],
   "source": [
    "# create a list of unique regions\n",
    "reglist = list(df_districts['region'].unique())\n",
    "\n",
    "# set the font size for axis ticks (values)\n",
    "plt.rc('xtick', labelsize=9)\n",
    "plt.rc('ytick', labelsize=9)\n",
    "\n",
    "# create figure object\n",
    "fig = plt.figure(figsize=(15,12))\n",
    "\n",
    "# run a loop through the regions list\n",
    "for i, r in enumerate(reglist):\n",
    "    # add plot for current region\n",
    "    ax = fig.add_subplot(3, 2, i+1)\n",
    "    ax.hist(df_districts[df_districts['region']==r]['mean_price_sqm'], bins=bins)\n",
    "\n",
    "    # define the xticks to match the bins edges of current region\n",
    "    ax.set_xticks(bins)\n",
    "    \n",
    "    # get yticks (values on y-axis)\n",
    "    ylocs, ylabels = plt.yticks()\n",
    "    \n",
    "    # add a vertical line for rental budget\n",
    "    plt.axvline(x=budget_sqm, ymin=min(ylocs), ymax=max(ylocs), color='r')\n",
    "    \n",
    "    # add a rectangle for the tolerance range\n",
    "    rect = plt.Rectangle((budget_sqm_min, min(ylocs)), (budget_sqm_max-budget_sqm_min), (max(ylocs)-min(ylocs)), facecolor='r', alpha=0.1)\n",
    "    ax.add_patch(rect)\n",
    "\n",
    "    # add plot title for the current region\n",
    "    ax.set_title(r, {'fontsize':12})\n",
    "\n",
    "# show the figure\n",
    "plt.show()"
   ]
  },
  {
   "cell_type": "markdown",
   "metadata": {},
   "source": [
    "It is visible here that each region has a different rental prices range, with an of overlaping in middle prices, exception is _Centro_  region (downtown), which has a higher rental prices starting from __BRL28.76/m<sup>2</sup>__. The high frequency between __22.44 and 24.02__, found in previous histogram, is concentrated in regions _Leste_ and _Norte_.\n",
    "\n",
    "Looking only at the rental prices, except from _Centro_, all the other regions are candidates for having the Relocator."
   ]
  },
  {
   "cell_type": "markdown",
   "metadata": {},
   "source": [
    "---"
   ]
  },
  {
   "cell_type": "markdown",
   "metadata": {},
   "source": [
    "### Step 5 - Create a map to show the Districts of _Target Location_"
   ]
  },
  {
   "cell_type": "markdown",
   "metadata": {},
   "source": [
    "Import addional libraries.\n",
    "1. __Folium__: create maps\n",
    "1. __Geopy__: get geographical data"
   ]
  },
  {
   "cell_type": "code",
   "execution_count": 62,
   "metadata": {},
   "outputs": [],
   "source": [
    "import folium\n",
    "from geopy.geocoders import Nominatim"
   ]
  },
  {
   "cell_type": "markdown",
   "metadata": {},
   "source": [
    "To point the districts on the map, their coordinates are required. Get districts coodinates will be done with _geopy.geocoders.Nominatim_, for better accuracy, the search will be done with __district__ and __borough__ followed by __\"São Paulo, BR__\", if it is not found, __borough__ will be removed for a second search."
   ]
  },
  {
   "cell_type": "code",
   "execution_count": 63,
   "metadata": {},
   "outputs": [
    {
     "name": "stdout",
     "output_type": "stream",
     "text": [
      "96 coordinates acquired.\n"
     ]
    }
   ],
   "source": [
    "# define geolocator user agent\n",
    "geolc = Nominatim(user_agent=\"sp_search\")\n",
    "\n",
    "# get São Paulo coordenates to start the map\n",
    "loct = geolc.geocode('São Paulo, BR')\n",
    "latsp = round(loct.latitude, 4)\n",
    "lngsp = round(loct.longitude, 4)\n",
    "\n",
    "# create a temporary list\n",
    "coord = []\n",
    "\n",
    "# run a loop through the dataframe\n",
    "for r, b, d, a in zip(df_districts['region'], df_districts['borough'], df_districts['district'], df_districts['area_sqkm']):\n",
    "    # set a variable to search location\n",
    "    vloc = d + ', ' + b + ', São Paulo, BR'\n",
    "\n",
    "    # send the geocode search\n",
    "    loct = geolc.geocode(vloc)\n",
    "    \n",
    "    # if it fails, try without borough\n",
    "    if loct == None:\n",
    "        vloc = d + ', São Paulo, BR'\n",
    "        loct = geolc.geocode(vloc)\n",
    "\n",
    "    # append results to the temporary list\n",
    "    if loct != None:\n",
    "        # append results into the list\n",
    "        coord.append([r, d, a, round(loct.latitude,4), round(loct.longitude,4)])\n",
    "\n",
    "# check results and print status\n",
    "if len(coord) > 0:\n",
    "    print('{} coordinates acquired.'.format(len(coord)))\n",
    "else:\n",
    "    print('Fail to acquire coordinates.')"
   ]
  },
  {
   "cell_type": "markdown",
   "metadata": {},
   "source": [
    "Store coordinates into __Coordinates Dataframe__ using _pandas.DataFrame_ method."
   ]
  },
  {
   "cell_type": "code",
   "execution_count": 64,
   "metadata": {},
   "outputs": [
    {
     "data": {
      "text/html": [
       "<div>\n",
       "<style scoped>\n",
       "    .dataframe tbody tr th:only-of-type {\n",
       "        vertical-align: middle;\n",
       "    }\n",
       "\n",
       "    .dataframe tbody tr th {\n",
       "        vertical-align: top;\n",
       "    }\n",
       "\n",
       "    .dataframe thead th {\n",
       "        text-align: right;\n",
       "    }\n",
       "</style>\n",
       "<table border=\"1\" class=\"dataframe\">\n",
       "  <thead>\n",
       "    <tr style=\"text-align: right;\">\n",
       "      <th></th>\n",
       "      <th>region</th>\n",
       "      <th>district</th>\n",
       "      <th>area_sqkm</th>\n",
       "      <th>latitude</th>\n",
       "      <th>longitude</th>\n",
       "    </tr>\n",
       "  </thead>\n",
       "  <tbody>\n",
       "    <tr>\n",
       "      <th>0</th>\n",
       "      <td>Centro</td>\n",
       "      <td>Bela Vista</td>\n",
       "      <td>2.72</td>\n",
       "      <td>-23.5622</td>\n",
       "      <td>-46.6478</td>\n",
       "    </tr>\n",
       "    <tr>\n",
       "      <th>1</th>\n",
       "      <td>Centro</td>\n",
       "      <td>Bom Retiro</td>\n",
       "      <td>4.21</td>\n",
       "      <td>-23.5271</td>\n",
       "      <td>-46.6368</td>\n",
       "    </tr>\n",
       "    <tr>\n",
       "      <th>2</th>\n",
       "      <td>Centro</td>\n",
       "      <td>Cambuci</td>\n",
       "      <td>3.92</td>\n",
       "      <td>-23.5661</td>\n",
       "      <td>-46.6137</td>\n",
       "    </tr>\n",
       "    <tr>\n",
       "      <th>3</th>\n",
       "      <td>Centro</td>\n",
       "      <td>Consolação</td>\n",
       "      <td>3.82</td>\n",
       "      <td>-23.5578</td>\n",
       "      <td>-46.6605</td>\n",
       "    </tr>\n",
       "    <tr>\n",
       "      <th>4</th>\n",
       "      <td>Centro</td>\n",
       "      <td>Liberdade</td>\n",
       "      <td>3.65</td>\n",
       "      <td>-23.5552</td>\n",
       "      <td>-46.6356</td>\n",
       "    </tr>\n",
       "    <tr>\n",
       "      <th>...</th>\n",
       "      <td>...</td>\n",
       "      <td>...</td>\n",
       "      <td>...</td>\n",
       "      <td>...</td>\n",
       "      <td>...</td>\n",
       "    </tr>\n",
       "    <tr>\n",
       "      <th>91</th>\n",
       "      <td>Sul</td>\n",
       "      <td>Campo Grande</td>\n",
       "      <td>12.95</td>\n",
       "      <td>-23.6578</td>\n",
       "      <td>-46.6986</td>\n",
       "    </tr>\n",
       "    <tr>\n",
       "      <th>92</th>\n",
       "      <td>Sul</td>\n",
       "      <td>Santo Amaro</td>\n",
       "      <td>16.04</td>\n",
       "      <td>-23.6562</td>\n",
       "      <td>-46.7191</td>\n",
       "    </tr>\n",
       "    <tr>\n",
       "      <th>93</th>\n",
       "      <td>Sul</td>\n",
       "      <td>Moema</td>\n",
       "      <td>9.08</td>\n",
       "      <td>-23.5827</td>\n",
       "      <td>-46.6490</td>\n",
       "    </tr>\n",
       "    <tr>\n",
       "      <th>94</th>\n",
       "      <td>Sul</td>\n",
       "      <td>Saúde</td>\n",
       "      <td>9.31</td>\n",
       "      <td>-23.5973</td>\n",
       "      <td>-46.6359</td>\n",
       "    </tr>\n",
       "    <tr>\n",
       "      <th>95</th>\n",
       "      <td>Sul</td>\n",
       "      <td>Vila Mariana</td>\n",
       "      <td>8.60</td>\n",
       "      <td>-23.5892</td>\n",
       "      <td>-46.6347</td>\n",
       "    </tr>\n",
       "  </tbody>\n",
       "</table>\n",
       "<p>96 rows × 5 columns</p>\n",
       "</div>"
      ],
      "text/plain": [
       "    region      district  area_sqkm  latitude  longitude\n",
       "0   Centro    Bela Vista       2.72  -23.5622   -46.6478\n",
       "1   Centro    Bom Retiro       4.21  -23.5271   -46.6368\n",
       "2   Centro       Cambuci       3.92  -23.5661   -46.6137\n",
       "3   Centro    Consolação       3.82  -23.5578   -46.6605\n",
       "4   Centro     Liberdade       3.65  -23.5552   -46.6356\n",
       "..     ...           ...        ...       ...        ...\n",
       "91     Sul  Campo Grande      12.95  -23.6578   -46.6986\n",
       "92     Sul   Santo Amaro      16.04  -23.6562   -46.7191\n",
       "93     Sul         Moema       9.08  -23.5827   -46.6490\n",
       "94     Sul         Saúde       9.31  -23.5973   -46.6359\n",
       "95     Sul  Vila Mariana       8.60  -23.5892   -46.6347\n",
       "\n",
       "[96 rows x 5 columns]"
      ]
     },
     "execution_count": 64,
     "metadata": {},
     "output_type": "execute_result"
    }
   ],
   "source": [
    "# store coordinates into dataframe\n",
    "df_coord = pd.DataFrame(coord, columns=['region', 'district', 'area_sqkm', 'latitude', 'longitude'])\n",
    "\n",
    "# print results\n",
    "df_coord"
   ]
  },
  {
   "cell_type": "markdown",
   "metadata": {},
   "source": [
    "Define a __regions color table__ for better visualization on the map. Color definition will be done with _Matplotlib_ and then they will be attached to the regions in __Coordinates Dataframe__ using _pandas.merge_ method."
   ]
  },
  {
   "cell_type": "code",
   "execution_count": 65,
   "metadata": {},
   "outputs": [
    {
     "data": {
      "text/html": [
       "<div>\n",
       "<style scoped>\n",
       "    .dataframe tbody tr th:only-of-type {\n",
       "        vertical-align: middle;\n",
       "    }\n",
       "\n",
       "    .dataframe tbody tr th {\n",
       "        vertical-align: top;\n",
       "    }\n",
       "\n",
       "    .dataframe thead th {\n",
       "        text-align: right;\n",
       "    }\n",
       "</style>\n",
       "<table border=\"1\" class=\"dataframe\">\n",
       "  <thead>\n",
       "    <tr style=\"text-align: right;\">\n",
       "      <th></th>\n",
       "      <th>region</th>\n",
       "      <th>district</th>\n",
       "      <th>area_sqkm</th>\n",
       "      <th>latitude</th>\n",
       "      <th>longitude</th>\n",
       "      <th>region_color</th>\n",
       "    </tr>\n",
       "  </thead>\n",
       "  <tbody>\n",
       "    <tr>\n",
       "      <th>0</th>\n",
       "      <td>Centro</td>\n",
       "      <td>Bela Vista</td>\n",
       "      <td>2.72</td>\n",
       "      <td>-23.5622</td>\n",
       "      <td>-46.6478</td>\n",
       "      <td>#1f77b4</td>\n",
       "    </tr>\n",
       "    <tr>\n",
       "      <th>1</th>\n",
       "      <td>Centro</td>\n",
       "      <td>Bom Retiro</td>\n",
       "      <td>4.21</td>\n",
       "      <td>-23.5271</td>\n",
       "      <td>-46.6368</td>\n",
       "      <td>#1f77b4</td>\n",
       "    </tr>\n",
       "    <tr>\n",
       "      <th>2</th>\n",
       "      <td>Centro</td>\n",
       "      <td>Cambuci</td>\n",
       "      <td>3.92</td>\n",
       "      <td>-23.5661</td>\n",
       "      <td>-46.6137</td>\n",
       "      <td>#1f77b4</td>\n",
       "    </tr>\n",
       "    <tr>\n",
       "      <th>3</th>\n",
       "      <td>Centro</td>\n",
       "      <td>Consolação</td>\n",
       "      <td>3.82</td>\n",
       "      <td>-23.5578</td>\n",
       "      <td>-46.6605</td>\n",
       "      <td>#1f77b4</td>\n",
       "    </tr>\n",
       "    <tr>\n",
       "      <th>4</th>\n",
       "      <td>Centro</td>\n",
       "      <td>Liberdade</td>\n",
       "      <td>3.65</td>\n",
       "      <td>-23.5552</td>\n",
       "      <td>-46.6356</td>\n",
       "      <td>#1f77b4</td>\n",
       "    </tr>\n",
       "  </tbody>\n",
       "</table>\n",
       "</div>"
      ],
      "text/plain": [
       "   region    district  area_sqkm  latitude  longitude region_color\n",
       "0  Centro  Bela Vista       2.72  -23.5622   -46.6478      #1f77b4\n",
       "1  Centro  Bom Retiro       4.21  -23.5271   -46.6368      #1f77b4\n",
       "2  Centro     Cambuci       3.92  -23.5661   -46.6137      #1f77b4\n",
       "3  Centro  Consolação       3.82  -23.5578   -46.6605      #1f77b4\n",
       "4  Centro   Liberdade       3.65  -23.5552   -46.6356      #1f77b4"
      ]
     },
     "execution_count": 65,
     "metadata": {},
     "output_type": "execute_result"
    }
   ],
   "source": [
    "# create a list of unique boroughs\n",
    "reglist = df_coord['region'].unique()\n",
    "\n",
    "# create a color list by borough [RGBA format]\n",
    "trgb = plt.cm.tab10(np.linspace(0, 1, len(reglist)))\n",
    "\n",
    "# convert the color from RGBA to HEX\n",
    "thex = []\n",
    "for i in range(len(trgb)):\n",
    "    thex.append(mcolors.rgb2hex(trgb[i][:3]))\n",
    "\n",
    "# create a temporary list to assign colors to regions\n",
    "tmplist = list()\n",
    "for b, c in zip(reglist, thex):\n",
    "    tmplist.append([b,c])\n",
    "\n",
    "# create a dataframe from the temporary list\n",
    "colortable = pd.DataFrame(columns=['region','region_color'], data=tmplist)\n",
    "\n",
    "# merge coord and color table data frames\n",
    "df_coord = pd.merge(df_coord, colortable, how='left', on='region')\n",
    "\n",
    "# print results\n",
    "df_coord.head()"
   ]
  },
  {
   "cell_type": "markdown",
   "metadata": {},
   "source": [
    "Create a map of São Paulo pointing its Districts, it will be done _Folium_."
   ]
  },
  {
   "cell_type": "markdown",
   "metadata": {},
   "source": [
    "### Important notice:\n",
    "Unfortunately the Folium maps are not displayed in GitHub, they are interactive objects not supported, as an option to see the maps the [Jupyter nbviewer](https://nbviewer.org/) can be used. Once it is opened just need to paste the URL of the GitHub document.\n",
    "\n",
    "---"
   ]
  },
  {
   "cell_type": "code",
   "execution_count": 66,
   "metadata": {},
   "outputs": [
    {
     "data": {
      "text/html": [
       "<div style=\"width:100%;\"><div style=\"position:relative;width:100%;height:0;padding-bottom:60%;\"><span style=\"color:#565656\">Make this Notebook Trusted to load map: File -> Trust Notebook</span><iframe src=\"about:blank\" style=\"position:absolute;width:100%;height:100%;left:0;top:0;border:none !important;\" data-html=PCFET0NUWVBFIGh0bWw+CjxoZWFkPiAgICAKICAgIDxtZXRhIGh0dHAtZXF1aXY9ImNvbnRlbnQtdHlwZSIgY29udGVudD0idGV4dC9odG1sOyBjaGFyc2V0PVVURi04IiAvPgogICAgCiAgICAgICAgPHNjcmlwdD4KICAgICAgICAgICAgTF9OT19UT1VDSCA9IGZhbHNlOwogICAgICAgICAgICBMX0RJU0FCTEVfM0QgPSBmYWxzZTsKICAgICAgICA8L3NjcmlwdD4KICAgIAogICAgPHNjcmlwdCBzcmM9Imh0dHBzOi8vY2RuLmpzZGVsaXZyLm5ldC9ucG0vbGVhZmxldEAxLjYuMC9kaXN0L2xlYWZsZXQuanMiPjwvc2NyaXB0PgogICAgPHNjcmlwdCBzcmM9Imh0dHBzOi8vY29kZS5qcXVlcnkuY29tL2pxdWVyeS0xLjEyLjQubWluLmpzIj48L3NjcmlwdD4KICAgIDxzY3JpcHQgc3JjPSJodHRwczovL21heGNkbi5ib290c3RyYXBjZG4uY29tL2Jvb3RzdHJhcC8zLjIuMC9qcy9ib290c3RyYXAubWluLmpzIj48L3NjcmlwdD4KICAgIDxzY3JpcHQgc3JjPSJodHRwczovL2NkbmpzLmNsb3VkZmxhcmUuY29tL2FqYXgvbGlicy9MZWFmbGV0LmF3ZXNvbWUtbWFya2Vycy8yLjAuMi9sZWFmbGV0LmF3ZXNvbWUtbWFya2Vycy5qcyI+PC9zY3JpcHQ+CiAgICA8bGluayByZWw9InN0eWxlc2hlZXQiIGhyZWY9Imh0dHBzOi8vY2RuLmpzZGVsaXZyLm5ldC9ucG0vbGVhZmxldEAxLjYuMC9kaXN0L2xlYWZsZXQuY3NzIi8+CiAgICA8bGluayByZWw9InN0eWxlc2hlZXQiIGhyZWY9Imh0dHBzOi8vbWF4Y2RuLmJvb3RzdHJhcGNkbi5jb20vYm9vdHN0cmFwLzMuMi4wL2Nzcy9ib290c3RyYXAubWluLmNzcyIvPgogICAgPGxpbmsgcmVsPSJzdHlsZXNoZWV0IiBocmVmPSJodHRwczovL21heGNkbi5ib290c3RyYXBjZG4uY29tL2Jvb3RzdHJhcC8zLjIuMC9jc3MvYm9vdHN0cmFwLXRoZW1lLm1pbi5jc3MiLz4KICAgIDxsaW5rIHJlbD0ic3R5bGVzaGVldCIgaHJlZj0iaHR0cHM6Ly9tYXhjZG4uYm9vdHN0cmFwY2RuLmNvbS9mb250LWF3ZXNvbWUvNC42LjMvY3NzL2ZvbnQtYXdlc29tZS5taW4uY3NzIi8+CiAgICA8bGluayByZWw9InN0eWxlc2hlZXQiIGhyZWY9Imh0dHBzOi8vY2RuanMuY2xvdWRmbGFyZS5jb20vYWpheC9saWJzL0xlYWZsZXQuYXdlc29tZS1tYXJrZXJzLzIuMC4yL2xlYWZsZXQuYXdlc29tZS1tYXJrZXJzLmNzcyIvPgogICAgPGxpbmsgcmVsPSJzdHlsZXNoZWV0IiBocmVmPSJodHRwczovL3Jhd2Nkbi5naXRoYWNrLmNvbS9weXRob24tdmlzdWFsaXphdGlvbi9mb2xpdW0vbWFzdGVyL2ZvbGl1bS90ZW1wbGF0ZXMvbGVhZmxldC5hd2Vzb21lLnJvdGF0ZS5jc3MiLz4KICAgIDxzdHlsZT5odG1sLCBib2R5IHt3aWR0aDogMTAwJTtoZWlnaHQ6IDEwMCU7bWFyZ2luOiAwO3BhZGRpbmc6IDA7fTwvc3R5bGU+CiAgICA8c3R5bGU+I21hcCB7cG9zaXRpb246YWJzb2x1dGU7dG9wOjA7Ym90dG9tOjA7cmlnaHQ6MDtsZWZ0OjA7fTwvc3R5bGU+CiAgICAKICAgICAgICAgICAgPG1ldGEgbmFtZT0idmlld3BvcnQiIGNvbnRlbnQ9IndpZHRoPWRldmljZS13aWR0aCwKICAgICAgICAgICAgICAgIGluaXRpYWwtc2NhbGU9MS4wLCBtYXhpbXVtLXNjYWxlPTEuMCwgdXNlci1zY2FsYWJsZT1ubyIgLz4KICAgICAgICAgICAgPHN0eWxlPgogICAgICAgICAgICAgICAgI21hcF84Njk1Njk0NTJkZjU0MjI0YjVjNjdkMzZmNjAyMjkxMSB7CiAgICAgICAgICAgICAgICAgICAgcG9zaXRpb246IHJlbGF0aXZlOwogICAgICAgICAgICAgICAgICAgIHdpZHRoOiA3MC4wJTsKICAgICAgICAgICAgICAgICAgICBoZWlnaHQ6IDcwLjAlOwogICAgICAgICAgICAgICAgICAgIGxlZnQ6IDAuMCU7CiAgICAgICAgICAgICAgICAgICAgdG9wOiAwLjAlOwogICAgICAgICAgICAgICAgfQogICAgICAgICAgICA8L3N0eWxlPgogICAgICAgIAo8L2hlYWQ+Cjxib2R5PiAgICAKICAgIAogICAgICAgICAgICA8ZGl2IGNsYXNzPSJmb2xpdW0tbWFwIiBpZD0ibWFwXzg2OTU2OTQ1MmRmNTQyMjRiNWM2N2QzNmY2MDIyOTExIiA+PC9kaXY+CiAgICAgICAgCjwvYm9keT4KPHNjcmlwdD4gICAgCiAgICAKICAgICAgICAgICAgdmFyIG1hcF84Njk1Njk0NTJkZjU0MjI0YjVjNjdkMzZmNjAyMjkxMSA9IEwubWFwKAogICAgICAgICAgICAgICAgIm1hcF84Njk1Njk0NTJkZjU0MjI0YjVjNjdkMzZmNjAyMjkxMSIsCiAgICAgICAgICAgICAgICB7CiAgICAgICAgICAgICAgICAgICAgY2VudGVyOiBbLTIzLjU1MDcsIC00Ni42MzM0XSwKICAgICAgICAgICAgICAgICAgICBjcnM6IEwuQ1JTLkVQU0czODU3LAogICAgICAgICAgICAgICAgICAgIHpvb206IDEwLAogICAgICAgICAgICAgICAgICAgIHpvb21Db250cm9sOiB0cnVlLAogICAgICAgICAgICAgICAgICAgIHByZWZlckNhbnZhczogZmFsc2UsCiAgICAgICAgICAgICAgICB9CiAgICAgICAgICAgICk7CiAgICAgICAgICAgIEwuY29udHJvbC5zY2FsZSgpLmFkZFRvKG1hcF84Njk1Njk0NTJkZjU0MjI0YjVjNjdkMzZmNjAyMjkxMSk7CgogICAgICAgICAgICAKCiAgICAgICAgCiAgICAKICAgICAgICAgICAgdmFyIHRpbGVfbGF5ZXJfZDQwZTIxNzIzYWE4NGFhNGIyZGU4YTg2OTUyZWM5NmQgPSBMLnRpbGVMYXllcigKICAgICAgICAgICAgICAgICJodHRwczovL3tzfS50aWxlLm9wZW5zdHJlZXRtYXAub3JnL3t6fS97eH0ve3l9LnBuZyIsCiAgICAgICAgICAgICAgICB7ImF0dHJpYnV0aW9uIjogIkRhdGEgYnkgXHUwMDI2Y29weTsgXHUwMDNjYSBocmVmPVwiaHR0cDovL29wZW5zdHJlZXRtYXAub3JnXCJcdTAwM2VPcGVuU3RyZWV0TWFwXHUwMDNjL2FcdTAwM2UsIHVuZGVyIFx1MDAzY2EgaHJlZj1cImh0dHA6Ly93d3cub3BlbnN0cmVldG1hcC5vcmcvY29weXJpZ2h0XCJcdTAwM2VPRGJMXHUwMDNjL2FcdTAwM2UuIiwgImRldGVjdFJldGluYSI6IGZhbHNlLCAibWF4TmF0aXZlWm9vbSI6IDEyLCAibWF4Wm9vbSI6IDEyLCAibWluWm9vbSI6IDksICJub1dyYXAiOiBmYWxzZSwgIm9wYWNpdHkiOiAxLCAic3ViZG9tYWlucyI6ICJhYmMiLCAidG1zIjogZmFsc2V9CiAgICAgICAgICAgICkuYWRkVG8obWFwXzg2OTU2OTQ1MmRmNTQyMjRiNWM2N2QzNmY2MDIyOTExKTsKICAgICAgICAKICAgIAogICAgICAgICAgICB2YXIgY2lyY2xlX21hcmtlcl85MjQ0NGY4N2RkYTA0N2JjYjQyN2QzZjMyMTYwYjJiOCA9IEwuY2lyY2xlTWFya2VyKAogICAgICAgICAgICAgICAgWy0yMy41NjIyLCAtNDYuNjQ3OF0sCiAgICAgICAgICAgICAgICB7ImJ1YmJsaW5nTW91c2VFdmVudHMiOiB0cnVlLCAiY29sb3IiOiAiIzFmNzdiNCIsICJkYXNoQXJyYXkiOiBudWxsLCAiZGFzaE9mZnNldCI6IG51bGwsICJmaWxsIjogdHJ1ZSwgImZpbGxDb2xvciI6ICIjMWY3N2I0IiwgImZpbGxPcGFjaXR5IjogMC4zLCAiZmlsbFJ1bGUiOiAiZXZlbm9kZCIsICJsaW5lQ2FwIjogInJvdW5kIiwgImxpbmVKb2luIjogInJvdW5kIiwgIm9wYWNpdHkiOiAxLjAsICJyYWRpdXMiOiA1LCAic3Ryb2tlIjogdHJ1ZSwgIndlaWdodCI6IDN9CiAgICAgICAgICAgICkuYWRkVG8obWFwXzg2OTU2OTQ1MmRmNTQyMjRiNWM2N2QzNmY2MDIyOTExKTsKICAgICAgICAKICAgIAogICAgICAgIHZhciBwb3B1cF81OWJmZjhjYjM5ODk0ZWFiYjg1MjcwODkyYjhlZWI0YSA9IEwucG9wdXAoeyJtYXhXaWR0aCI6ICIxMDAlIn0pOwoKICAgICAgICAKICAgICAgICAgICAgdmFyIGh0bWxfZWJlYTgzNDVmMzYyNGQ5NGFlNTNlMDA3MzFjZWZlZGQgPSAkKGA8ZGl2IGlkPSJodG1sX2ViZWE4MzQ1ZjM2MjRkOTRhZTUzZTAwNzMxY2VmZWRkIiBzdHlsZT0id2lkdGg6IDEwMC4wJTsgaGVpZ2h0OiAxMDAuMCU7Ij5CZWxhIFZpc3RhIChDZW50cm8pPC9kaXY+YClbMF07CiAgICAgICAgICAgIHBvcHVwXzU5YmZmOGNiMzk4OTRlYWJiODUyNzA4OTJiOGVlYjRhLnNldENvbnRlbnQoaHRtbF9lYmVhODM0NWYzNjI0ZDk0YWU1M2UwMDczMWNlZmVkZCk7CiAgICAgICAgCgogICAgICAgIGNpcmNsZV9tYXJrZXJfOTI0NDRmODdkZGEwNDdiY2I0MjdkM2YzMjE2MGIyYjguYmluZFBvcHVwKHBvcHVwXzU5YmZmOGNiMzk4OTRlYWJiODUyNzA4OTJiOGVlYjRhKQogICAgICAgIDsKCiAgICAgICAgCiAgICAKICAgIAogICAgICAgICAgICB2YXIgY2lyY2xlX21hcmtlcl9jYzI3MmI3MzljNTU0NTJiODE2NmZhZWY5MDk3NjUzYyA9IEwuY2lyY2xlTWFya2VyKAogICAgICAgICAgICAgICAgWy0yMy41MjcxLCAtNDYuNjM2OF0sCiAgICAgICAgICAgICAgICB7ImJ1YmJsaW5nTW91c2VFdmVudHMiOiB0cnVlLCAiY29sb3IiOiAiIzFmNzdiNCIsICJkYXNoQXJyYXkiOiBudWxsLCAiZGFzaE9mZnNldCI6IG51bGwsICJmaWxsIjogdHJ1ZSwgImZpbGxDb2xvciI6ICIjMWY3N2I0IiwgImZpbGxPcGFjaXR5IjogMC4zLCAiZmlsbFJ1bGUiOiAiZXZlbm9kZCIsICJsaW5lQ2FwIjogInJvdW5kIiwgImxpbmVKb2luIjogInJvdW5kIiwgIm9wYWNpdHkiOiAxLjAsICJyYWRpdXMiOiA1LCAic3Ryb2tlIjogdHJ1ZSwgIndlaWdodCI6IDN9CiAgICAgICAgICAgICkuYWRkVG8obWFwXzg2OTU2OTQ1MmRmNTQyMjRiNWM2N2QzNmY2MDIyOTExKTsKICAgICAgICAKICAgIAogICAgICAgIHZhciBwb3B1cF84YjYwZmFlMDA5YjE0YzE5OTk1ZWIxMmQxNGM2OTMzZSA9IEwucG9wdXAoeyJtYXhXaWR0aCI6ICIxMDAlIn0pOwoKICAgICAgICAKICAgICAgICAgICAgdmFyIGh0bWxfMDc1ODI0MGEwOWYzNDIwZjhhNzlmMmM3OTZlNzBmNDUgPSAkKGA8ZGl2IGlkPSJodG1sXzA3NTgyNDBhMDlmMzQyMGY4YTc5ZjJjNzk2ZTcwZjQ1IiBzdHlsZT0id2lkdGg6IDEwMC4wJTsgaGVpZ2h0OiAxMDAuMCU7Ij5Cb20gUmV0aXJvIChDZW50cm8pPC9kaXY+YClbMF07CiAgICAgICAgICAgIHBvcHVwXzhiNjBmYWUwMDliMTRjMTk5OTVlYjEyZDE0YzY5MzNlLnNldENvbnRlbnQoaHRtbF8wNzU4MjQwYTA5ZjM0MjBmOGE3OWYyYzc5NmU3MGY0NSk7CiAgICAgICAgCgogICAgICAgIGNpcmNsZV9tYXJrZXJfY2MyNzJiNzM5YzU1NDUyYjgxNjZmYWVmOTA5NzY1M2MuYmluZFBvcHVwKHBvcHVwXzhiNjBmYWUwMDliMTRjMTk5OTVlYjEyZDE0YzY5MzNlKQogICAgICAgIDsKCiAgICAgICAgCiAgICAKICAgIAogICAgICAgICAgICB2YXIgY2lyY2xlX21hcmtlcl82OWMwMDYzM2IwOWY0ODgyYjZlMjM2MDE2YWZiNjRjOSA9IEwuY2lyY2xlTWFya2VyKAogICAgICAgICAgICAgICAgWy0yMy41NjYxLCAtNDYuNjEzN10sCiAgICAgICAgICAgICAgICB7ImJ1YmJsaW5nTW91c2VFdmVudHMiOiB0cnVlLCAiY29sb3IiOiAiIzFmNzdiNCIsICJkYXNoQXJyYXkiOiBudWxsLCAiZGFzaE9mZnNldCI6IG51bGwsICJmaWxsIjogdHJ1ZSwgImZpbGxDb2xvciI6ICIjMWY3N2I0IiwgImZpbGxPcGFjaXR5IjogMC4zLCAiZmlsbFJ1bGUiOiAiZXZlbm9kZCIsICJsaW5lQ2FwIjogInJvdW5kIiwgImxpbmVKb2luIjogInJvdW5kIiwgIm9wYWNpdHkiOiAxLjAsICJyYWRpdXMiOiA1LCAic3Ryb2tlIjogdHJ1ZSwgIndlaWdodCI6IDN9CiAgICAgICAgICAgICkuYWRkVG8obWFwXzg2OTU2OTQ1MmRmNTQyMjRiNWM2N2QzNmY2MDIyOTExKTsKICAgICAgICAKICAgIAogICAgICAgIHZhciBwb3B1cF9jNjkzZjUyM2FmMzc0MDEwOTIxYzEyZDhjZmU0Y2Y5NSA9IEwucG9wdXAoeyJtYXhXaWR0aCI6ICIxMDAlIn0pOwoKICAgICAgICAKICAgICAgICAgICAgdmFyIGh0bWxfNzJjMTVhNTMxMDk1NDFkN2FjMzc3ZGE4NjJlZDExOTAgPSAkKGA8ZGl2IGlkPSJodG1sXzcyYzE1YTUzMTA5NTQxZDdhYzM3N2RhODYyZWQxMTkwIiBzdHlsZT0id2lkdGg6IDEwMC4wJTsgaGVpZ2h0OiAxMDAuMCU7Ij5DYW1idWNpIChDZW50cm8pPC9kaXY+YClbMF07CiAgICAgICAgICAgIHBvcHVwX2M2OTNmNTIzYWYzNzQwMTA5MjFjMTJkOGNmZTRjZjk1LnNldENvbnRlbnQoaHRtbF83MmMxNWE1MzEwOTU0MWQ3YWMzNzdkYTg2MmVkMTE5MCk7CiAgICAgICAgCgogICAgICAgIGNpcmNsZV9tYXJrZXJfNjljMDA2MzNiMDlmNDg4MmI2ZTIzNjAxNmFmYjY0YzkuYmluZFBvcHVwKHBvcHVwX2M2OTNmNTIzYWYzNzQwMTA5MjFjMTJkOGNmZTRjZjk1KQogICAgICAgIDsKCiAgICAgICAgCiAgICAKICAgIAogICAgICAgICAgICB2YXIgY2lyY2xlX21hcmtlcl8xN2M4OTViM2FjNmY0OWJlODdjYTdmZTg0MDEyMjUxNCA9IEwuY2lyY2xlTWFya2VyKAogICAgICAgICAgICAgICAgWy0yMy41NTc4LCAtNDYuNjYwNV0sCiAgICAgICAgICAgICAgICB7ImJ1YmJsaW5nTW91c2VFdmVudHMiOiB0cnVlLCAiY29sb3IiOiAiIzFmNzdiNCIsICJkYXNoQXJyYXkiOiBudWxsLCAiZGFzaE9mZnNldCI6IG51bGwsICJmaWxsIjogdHJ1ZSwgImZpbGxDb2xvciI6ICIjMWY3N2I0IiwgImZpbGxPcGFjaXR5IjogMC4zLCAiZmlsbFJ1bGUiOiAiZXZlbm9kZCIsICJsaW5lQ2FwIjogInJvdW5kIiwgImxpbmVKb2luIjogInJvdW5kIiwgIm9wYWNpdHkiOiAxLjAsICJyYWRpdXMiOiA1LCAic3Ryb2tlIjogdHJ1ZSwgIndlaWdodCI6IDN9CiAgICAgICAgICAgICkuYWRkVG8obWFwXzg2OTU2OTQ1MmRmNTQyMjRiNWM2N2QzNmY2MDIyOTExKTsKICAgICAgICAKICAgIAogICAgICAgIHZhciBwb3B1cF8yMjA4NjYwOTkyMGM0NmNjOWE4NWUzYzQxYTQ1NzUzYyA9IEwucG9wdXAoeyJtYXhXaWR0aCI6ICIxMDAlIn0pOwoKICAgICAgICAKICAgICAgICAgICAgdmFyIGh0bWxfZjdlMTkwZDU0MzlkNDhjMDlmYzUxNjNkYWZhZjRkNTkgPSAkKGA8ZGl2IGlkPSJodG1sX2Y3ZTE5MGQ1NDM5ZDQ4YzA5ZmM1MTYzZGFmYWY0ZDU5IiBzdHlsZT0id2lkdGg6IDEwMC4wJTsgaGVpZ2h0OiAxMDAuMCU7Ij5Db25zb2xhw6fDo28gKENlbnRybyk8L2Rpdj5gKVswXTsKICAgICAgICAgICAgcG9wdXBfMjIwODY2MDk5MjBjNDZjYzlhODVlM2M0MWE0NTc1M2Muc2V0Q29udGVudChodG1sX2Y3ZTE5MGQ1NDM5ZDQ4YzA5ZmM1MTYzZGFmYWY0ZDU5KTsKICAgICAgICAKCiAgICAgICAgY2lyY2xlX21hcmtlcl8xN2M4OTViM2FjNmY0OWJlODdjYTdmZTg0MDEyMjUxNC5iaW5kUG9wdXAocG9wdXBfMjIwODY2MDk5MjBjNDZjYzlhODVlM2M0MWE0NTc1M2MpCiAgICAgICAgOwoKICAgICAgICAKICAgIAogICAgCiAgICAgICAgICAgIHZhciBjaXJjbGVfbWFya2VyXzA3MTQ4ODNkNmFlMDRiOWM4NWM3ODc2OWE0YTFhYWFkID0gTC5jaXJjbGVNYXJrZXIoCiAgICAgICAgICAgICAgICBbLTIzLjU1NTIsIC00Ni42MzU2XSwKICAgICAgICAgICAgICAgIHsiYnViYmxpbmdNb3VzZUV2ZW50cyI6IHRydWUsICJjb2xvciI6ICIjMWY3N2I0IiwgImRhc2hBcnJheSI6IG51bGwsICJkYXNoT2Zmc2V0IjogbnVsbCwgImZpbGwiOiB0cnVlLCAiZmlsbENvbG9yIjogIiMxZjc3YjQiLCAiZmlsbE9wYWNpdHkiOiAwLjMsICJmaWxsUnVsZSI6ICJldmVub2RkIiwgImxpbmVDYXAiOiAicm91bmQiLCAibGluZUpvaW4iOiAicm91bmQiLCAib3BhY2l0eSI6IDEuMCwgInJhZGl1cyI6IDUsICJzdHJva2UiOiB0cnVlLCAid2VpZ2h0IjogM30KICAgICAgICAgICAgKS5hZGRUbyhtYXBfODY5NTY5NDUyZGY1NDIyNGI1YzY3ZDM2ZjYwMjI5MTEpOwogICAgICAgIAogICAgCiAgICAgICAgdmFyIHBvcHVwX2EwNGE5ZjdmMDUyNDQ2YTk4NTViMTdhNDc4Y2U3NzI3ID0gTC5wb3B1cCh7Im1heFdpZHRoIjogIjEwMCUifSk7CgogICAgICAgIAogICAgICAgICAgICB2YXIgaHRtbF8xNjJkZTExZDViOGI0ODUzYjUwYjk2ODliYmMzMDA1ZiA9ICQoYDxkaXYgaWQ9Imh0bWxfMTYyZGUxMWQ1YjhiNDg1M2I1MGI5Njg5YmJjMzAwNWYiIHN0eWxlPSJ3aWR0aDogMTAwLjAlOyBoZWlnaHQ6IDEwMC4wJTsiPkxpYmVyZGFkZSAoQ2VudHJvKTwvZGl2PmApWzBdOwogICAgICAgICAgICBwb3B1cF9hMDRhOWY3ZjA1MjQ0NmE5ODU1YjE3YTQ3OGNlNzcyNy5zZXRDb250ZW50KGh0bWxfMTYyZGUxMWQ1YjhiNDg1M2I1MGI5Njg5YmJjMzAwNWYpOwogICAgICAgIAoKICAgICAgICBjaXJjbGVfbWFya2VyXzA3MTQ4ODNkNmFlMDRiOWM4NWM3ODc2OWE0YTFhYWFkLmJpbmRQb3B1cChwb3B1cF9hMDRhOWY3ZjA1MjQ0NmE5ODU1YjE3YTQ3OGNlNzcyNykKICAgICAgICA7CgogICAgICAgIAogICAgCiAgICAKICAgICAgICAgICAgdmFyIGNpcmNsZV9tYXJrZXJfOWM0MzI0OWI2Y2JiNDcyNGEzM2EyOGJjOGRhOWM0MmYgPSBMLmNpcmNsZU1hcmtlcigKICAgICAgICAgICAgICAgIFstMjMuNTQ1MywgLTQ2LjY0MjNdLAogICAgICAgICAgICAgICAgeyJidWJibGluZ01vdXNlRXZlbnRzIjogdHJ1ZSwgImNvbG9yIjogIiMxZjc3YjQiLCAiZGFzaEFycmF5IjogbnVsbCwgImRhc2hPZmZzZXQiOiBudWxsLCAiZmlsbCI6IHRydWUsICJmaWxsQ29sb3IiOiAiIzFmNzdiNCIsICJmaWxsT3BhY2l0eSI6IDAuMywgImZpbGxSdWxlIjogImV2ZW5vZGQiLCAibGluZUNhcCI6ICJyb3VuZCIsICJsaW5lSm9pbiI6ICJyb3VuZCIsICJvcGFjaXR5IjogMS4wLCAicmFkaXVzIjogNSwgInN0cm9rZSI6IHRydWUsICJ3ZWlnaHQiOiAzfQogICAgICAgICAgICApLmFkZFRvKG1hcF84Njk1Njk0NTJkZjU0MjI0YjVjNjdkMzZmNjAyMjkxMSk7CiAgICAgICAgCiAgICAKICAgICAgICB2YXIgcG9wdXBfMjVjMmJjNzI1ZjJkNDMxN2I4Yzk5YzRiY2FhNWFhNGQgPSBMLnBvcHVwKHsibWF4V2lkdGgiOiAiMTAwJSJ9KTsKCiAgICAgICAgCiAgICAgICAgICAgIHZhciBodG1sX2MyNGZlNzMyMGM4YzQ0Y2U5OTMyYjA3MDQzNjg3MTJkID0gJChgPGRpdiBpZD0iaHRtbF9jMjRmZTczMjBjOGM0NGNlOTkzMmIwNzA0MzY4NzEyZCIgc3R5bGU9IndpZHRoOiAxMDAuMCU7IGhlaWdodDogMTAwLjAlOyI+UmVww7pibGljYSAoQ2VudHJvKTwvZGl2PmApWzBdOwogICAgICAgICAgICBwb3B1cF8yNWMyYmM3MjVmMmQ0MzE3YjhjOTljNGJjYWE1YWE0ZC5zZXRDb250ZW50KGh0bWxfYzI0ZmU3MzIwYzhjNDRjZTk5MzJiMDcwNDM2ODcxMmQpOwogICAgICAgIAoKICAgICAgICBjaXJjbGVfbWFya2VyXzljNDMyNDliNmNiYjQ3MjRhMzNhMjhiYzhkYTljNDJmLmJpbmRQb3B1cChwb3B1cF8yNWMyYmM3MjVmMmQ0MzE3YjhjOTljNGJjYWE1YWE0ZCkKICAgICAgICA7CgogICAgICAgIAogICAgCiAgICAKICAgICAgICAgICAgdmFyIGNpcmNsZV9tYXJrZXJfNTE3N2JkOGQzZDczNDM4ZDgxNjAzZTAxY2JjNjQwZDYgPSBMLmNpcmNsZU1hcmtlcigKICAgICAgICAgICAgICAgIFstMjMuNTI5NywgLTQ2LjY1MTldLAogICAgICAgICAgICAgICAgeyJidWJibGluZ01vdXNlRXZlbnRzIjogdHJ1ZSwgImNvbG9yIjogIiMxZjc3YjQiLCAiZGFzaEFycmF5IjogbnVsbCwgImRhc2hPZmZzZXQiOiBudWxsLCAiZmlsbCI6IHRydWUsICJmaWxsQ29sb3IiOiAiIzFmNzdiNCIsICJmaWxsT3BhY2l0eSI6IDAuMywgImZpbGxSdWxlIjogImV2ZW5vZGQiLCAibGluZUNhcCI6ICJyb3VuZCIsICJsaW5lSm9pbiI6ICJyb3VuZCIsICJvcGFjaXR5IjogMS4wLCAicmFkaXVzIjogNSwgInN0cm9rZSI6IHRydWUsICJ3ZWlnaHQiOiAzfQogICAgICAgICAgICApLmFkZFRvKG1hcF84Njk1Njk0NTJkZjU0MjI0YjVjNjdkMzZmNjAyMjkxMSk7CiAgICAgICAgCiAgICAKICAgICAgICB2YXIgcG9wdXBfMGNkYjMzZTI1M2I1NGI2MTg5NmVlOTBlZDUxN2QwMWUgPSBMLnBvcHVwKHsibWF4V2lkdGgiOiAiMTAwJSJ9KTsKCiAgICAgICAgCiAgICAgICAgICAgIHZhciBodG1sXzQ4ZDFjNDJkOTA4NTRmNWY5NTZkZGU2ZmU2NzhjZTRiID0gJChgPGRpdiBpZD0iaHRtbF80OGQxYzQyZDkwODU0ZjVmOTU2ZGRlNmZlNjc4Y2U0YiIgc3R5bGU9IndpZHRoOiAxMDAuMCU7IGhlaWdodDogMTAwLjAlOyI+U2FudGEgQ2Vjw61saWEgKENlbnRybyk8L2Rpdj5gKVswXTsKICAgICAgICAgICAgcG9wdXBfMGNkYjMzZTI1M2I1NGI2MTg5NmVlOTBlZDUxN2QwMWUuc2V0Q29udGVudChodG1sXzQ4ZDFjNDJkOTA4NTRmNWY5NTZkZGU2ZmU2NzhjZTRiKTsKICAgICAgICAKCiAgICAgICAgY2lyY2xlX21hcmtlcl81MTc3YmQ4ZDNkNzM0MzhkODE2MDNlMDFjYmM2NDBkNi5iaW5kUG9wdXAocG9wdXBfMGNkYjMzZTI1M2I1NGI2MTg5NmVlOTBlZDUxN2QwMWUpCiAgICAgICAgOwoKICAgICAgICAKICAgIAogICAgCiAgICAgICAgICAgIHZhciBjaXJjbGVfbWFya2VyX2EyOTlkZGQ2MjM4YzRjOTVhMmMyY2MxOGQzOWU4OWUzID0gTC5jaXJjbGVNYXJrZXIoCiAgICAgICAgICAgICAgICBbLTIzLjU1MDQsIC00Ni42MzM0XSwKICAgICAgICAgICAgICAgIHsiYnViYmxpbmdNb3VzZUV2ZW50cyI6IHRydWUsICJjb2xvciI6ICIjMWY3N2I0IiwgImRhc2hBcnJheSI6IG51bGwsICJkYXNoT2Zmc2V0IjogbnVsbCwgImZpbGwiOiB0cnVlLCAiZmlsbENvbG9yIjogIiMxZjc3YjQiLCAiZmlsbE9wYWNpdHkiOiAwLjMsICJmaWxsUnVsZSI6ICJldmVub2RkIiwgImxpbmVDYXAiOiAicm91bmQiLCAibGluZUpvaW4iOiAicm91bmQiLCAib3BhY2l0eSI6IDEuMCwgInJhZGl1cyI6IDUsICJzdHJva2UiOiB0cnVlLCAid2VpZ2h0IjogM30KICAgICAgICAgICAgKS5hZGRUbyhtYXBfODY5NTY5NDUyZGY1NDIyNGI1YzY3ZDM2ZjYwMjI5MTEpOwogICAgICAgIAogICAgCiAgICAgICAgdmFyIHBvcHVwX2Y4Yzg0OTY0ZGQ1NTQyNWQ5MDA1MDMwNjRkM2ZlY2Q5ID0gTC5wb3B1cCh7Im1heFdpZHRoIjogIjEwMCUifSk7CgogICAgICAgIAogICAgICAgICAgICB2YXIgaHRtbF8zNzZiNWRhMmJmNWU0ZTBjOGI2NzAwZjA2MzA1NGU4YSA9ICQoYDxkaXYgaWQ9Imh0bWxfMzc2YjVkYTJiZjVlNGUwYzhiNjcwMGYwNjMwNTRlOGEiIHN0eWxlPSJ3aWR0aDogMTAwLjAlOyBoZWlnaHQ6IDEwMC4wJTsiPlPDqSAoQ2VudHJvKTwvZGl2PmApWzBdOwogICAgICAgICAgICBwb3B1cF9mOGM4NDk2NGRkNTU0MjVkOTAwNTAzMDY0ZDNmZWNkOS5zZXRDb250ZW50KGh0bWxfMzc2YjVkYTJiZjVlNGUwYzhiNjcwMGYwNjMwNTRlOGEpOwogICAgICAgIAoKICAgICAgICBjaXJjbGVfbWFya2VyX2EyOTlkZGQ2MjM4YzRjOTVhMmMyY2MxOGQzOWU4OWUzLmJpbmRQb3B1cChwb3B1cF9mOGM4NDk2NGRkNTU0MjVkOTAwNTAzMDY0ZDNmZWNkOSkKICAgICAgICA7CgogICAgICAgIAogICAgCiAgICAKICAgICAgICAgICAgdmFyIGNpcmNsZV9tYXJrZXJfOGFkMjVlZTZkZGNjNDUxMTgwMGFlOWU3MzNlMDdhNjYgPSBMLmNpcmNsZU1hcmtlcigKICAgICAgICAgICAgICAgIFstMjMuNTc4LCAtNDYuNTExNV0sCiAgICAgICAgICAgICAgICB7ImJ1YmJsaW5nTW91c2VFdmVudHMiOiB0cnVlLCAiY29sb3IiOiAiIzJjYTAyYyIsICJkYXNoQXJyYXkiOiBudWxsLCAiZGFzaE9mZnNldCI6IG51bGwsICJmaWxsIjogdHJ1ZSwgImZpbGxDb2xvciI6ICIjMmNhMDJjIiwgImZpbGxPcGFjaXR5IjogMC4zLCAiZmlsbFJ1bGUiOiAiZXZlbm9kZCIsICJsaW5lQ2FwIjogInJvdW5kIiwgImxpbmVKb2luIjogInJvdW5kIiwgIm9wYWNpdHkiOiAxLjAsICJyYWRpdXMiOiA1LCAic3Ryb2tlIjogdHJ1ZSwgIndlaWdodCI6IDN9CiAgICAgICAgICAgICkuYWRkVG8obWFwXzg2OTU2OTQ1MmRmNTQyMjRiNWM2N2QzNmY2MDIyOTExKTsKICAgICAgICAKICAgIAogICAgICAgIHZhciBwb3B1cF82YmRiY2YyOTJjZTg0NDdhYWFkYzM4OGU5ZGU0M2FjMiA9IEwucG9wdXAoeyJtYXhXaWR0aCI6ICIxMDAlIn0pOwoKICAgICAgICAKICAgICAgICAgICAgdmFyIGh0bWxfNmE0MDZmYTU3NzY5NDQwNDkyZTczMzcwM2ExZDQ4NGUgPSAkKGA8ZGl2IGlkPSJodG1sXzZhNDA2ZmE1Nzc2OTQ0MDQ5MmU3MzM3MDNhMWQ0ODRlIiBzdHlsZT0id2lkdGg6IDEwMC4wJTsgaGVpZ2h0OiAxMDAuMCU7Ij5BcmljYW5kdXZhIChMZXN0ZSk8L2Rpdj5gKVswXTsKICAgICAgICAgICAgcG9wdXBfNmJkYmNmMjkyY2U4NDQ3YWFhZGMzODhlOWRlNDNhYzIuc2V0Q29udGVudChodG1sXzZhNDA2ZmE1Nzc2OTQ0MDQ5MmU3MzM3MDNhMWQ0ODRlKTsKICAgICAgICAKCiAgICAgICAgY2lyY2xlX21hcmtlcl84YWQyNWVlNmRkY2M0NTExODAwYWU5ZTczM2UwN2E2Ni5iaW5kUG9wdXAocG9wdXBfNmJkYmNmMjkyY2U4NDQ3YWFhZGMzODhlOWRlNDNhYzIpCiAgICAgICAgOwoKICAgICAgICAKICAgIAogICAgCiAgICAgICAgICAgIHZhciBjaXJjbGVfbWFya2VyX2RjNjc4YTM1NzhkMzRlMDI5NWQ5MGEwYTczODM4MzQ1ID0gTC5jaXJjbGVNYXJrZXIoCiAgICAgICAgICAgICAgICBbLTIzLjU1MTUsIC00Ni41Mzc4XSwKICAgICAgICAgICAgICAgIHsiYnViYmxpbmdNb3VzZUV2ZW50cyI6IHRydWUsICJjb2xvciI6ICIjMmNhMDJjIiwgImRhc2hBcnJheSI6IG51bGwsICJkYXNoT2Zmc2V0IjogbnVsbCwgImZpbGwiOiB0cnVlLCAiZmlsbENvbG9yIjogIiMyY2EwMmMiLCAiZmlsbE9wYWNpdHkiOiAwLjMsICJmaWxsUnVsZSI6ICJldmVub2RkIiwgImxpbmVDYXAiOiAicm91bmQiLCAibGluZUpvaW4iOiAicm91bmQiLCAib3BhY2l0eSI6IDEuMCwgInJhZGl1cyI6IDUsICJzdHJva2UiOiB0cnVlLCAid2VpZ2h0IjogM30KICAgICAgICAgICAgKS5hZGRUbyhtYXBfODY5NTY5NDUyZGY1NDIyNGI1YzY3ZDM2ZjYwMjI5MTEpOwogICAgICAgIAogICAgCiAgICAgICAgdmFyIHBvcHVwXzE1YjJmM2NiOWUxOTRhZTA5YTc2YjAxMjFkMTM1OWUxID0gTC5wb3B1cCh7Im1heFdpZHRoIjogIjEwMCUifSk7CgogICAgICAgIAogICAgICAgICAgICB2YXIgaHRtbF8wN2E4ZDNhODM4MWE0OGM2OTU0NGVmYWMwNmUwMDJkZCA9ICQoYDxkaXYgaWQ9Imh0bWxfMDdhOGQzYTgzODFhNDhjNjk1NDRlZmFjMDZlMDAyZGQiIHN0eWxlPSJ3aWR0aDogMTAwLjAlOyBoZWlnaHQ6IDEwMC4wJTsiPkNhcnLDo28gKExlc3RlKTwvZGl2PmApWzBdOwogICAgICAgICAgICBwb3B1cF8xNWIyZjNjYjllMTk0YWUwOWE3NmIwMTIxZDEzNTllMS5zZXRDb250ZW50KGh0bWxfMDdhOGQzYTgzODFhNDhjNjk1NDRlZmFjMDZlMDAyZGQpOwogICAgICAgIAoKICAgICAgICBjaXJjbGVfbWFya2VyX2RjNjc4YTM1NzhkMzRlMDI5NWQ5MGEwYTczODM4MzQ1LmJpbmRQb3B1cChwb3B1cF8xNWIyZjNjYjllMTk0YWUwOWE3NmIwMTIxZDEzNTllMSkKICAgICAgICA7CgogICAgICAgIAogICAgCiAgICAKICAgICAgICAgICAgdmFyIGNpcmNsZV9tYXJrZXJfNjg0YzlkNzI0ZWE3NGIwY2FmOTcyZGExNDc1MGFkNTkgPSBMLmNpcmNsZU1hcmtlcigKICAgICAgICAgICAgICAgIFstMjMuNTY2OSwgLTQ2LjU0NjNdLAogICAgICAgICAgICAgICAgeyJidWJibGluZ01vdXNlRXZlbnRzIjogdHJ1ZSwgImNvbG9yIjogIiMyY2EwMmMiLCAiZGFzaEFycmF5IjogbnVsbCwgImRhc2hPZmZzZXQiOiBudWxsLCAiZmlsbCI6IHRydWUsICJmaWxsQ29sb3IiOiAiIzJjYTAyYyIsICJmaWxsT3BhY2l0eSI6IDAuMywgImZpbGxSdWxlIjogImV2ZW5vZGQiLCAibGluZUNhcCI6ICJyb3VuZCIsICJsaW5lSm9pbiI6ICJyb3VuZCIsICJvcGFjaXR5IjogMS4wLCAicmFkaXVzIjogNSwgInN0cm9rZSI6IHRydWUsICJ3ZWlnaHQiOiAzfQogICAgICAgICAgICApLmFkZFRvKG1hcF84Njk1Njk0NTJkZjU0MjI0YjVjNjdkMzZmNjAyMjkxMSk7CiAgICAgICAgCiAgICAKICAgICAgICB2YXIgcG9wdXBfNjk4ZTMxMWUxZjkyNDg4NGI3NzFkNWY2NTUyYWRlNWQgPSBMLnBvcHVwKHsibWF4V2lkdGgiOiAiMTAwJSJ9KTsKCiAgICAgICAgCiAgICAgICAgICAgIHZhciBodG1sXzQ1ZTA1NDFkM2IxYzQxZjM5MGMwMTMxNjRlZmU5NzcyID0gJChgPGRpdiBpZD0iaHRtbF80NWUwNTQxZDNiMWM0MWYzOTBjMDEzMTY0ZWZlOTc3MiIgc3R5bGU9IndpZHRoOiAxMDAuMCU7IGhlaWdodDogMTAwLjAlOyI+VmlsYSBGb3Jtb3NhIChMZXN0ZSk8L2Rpdj5gKVswXTsKICAgICAgICAgICAgcG9wdXBfNjk4ZTMxMWUxZjkyNDg4NGI3NzFkNWY2NTUyYWRlNWQuc2V0Q29udGVudChodG1sXzQ1ZTA1NDFkM2IxYzQxZjM5MGMwMTMxNjRlZmU5NzcyKTsKICAgICAgICAKCiAgICAgICAgY2lyY2xlX21hcmtlcl82ODRjOWQ3MjRlYTc0YjBjYWY5NzJkYTE0NzUwYWQ1OS5iaW5kUG9wdXAocG9wdXBfNjk4ZTMxMWUxZjkyNDg4NGI3NzFkNWY2NTUyYWRlNWQpCiAgICAgICAgOwoKICAgICAgICAKICAgIAogICAgCiAgICAgICAgICAgIHZhciBjaXJjbGVfbWFya2VyX2UxYzhjMDA4NTI4NTRjNDk4NDM4OTM3NTBhYzg3N2FkID0gTC5jaXJjbGVNYXJrZXIoCiAgICAgICAgICAgICAgICBbLTIzLjU4MjUsIC00Ni40MDkyXSwKICAgICAgICAgICAgICAgIHsiYnViYmxpbmdNb3VzZUV2ZW50cyI6IHRydWUsICJjb2xvciI6ICIjMmNhMDJjIiwgImRhc2hBcnJheSI6IG51bGwsICJkYXNoT2Zmc2V0IjogbnVsbCwgImZpbGwiOiB0cnVlLCAiZmlsbENvbG9yIjogIiMyY2EwMmMiLCAiZmlsbE9wYWNpdHkiOiAwLjMsICJmaWxsUnVsZSI6ICJldmVub2RkIiwgImxpbmVDYXAiOiAicm91bmQiLCAibGluZUpvaW4iOiAicm91bmQiLCAib3BhY2l0eSI6IDEuMCwgInJhZGl1cyI6IDUsICJzdHJva2UiOiB0cnVlLCAid2VpZ2h0IjogM30KICAgICAgICAgICAgKS5hZGRUbyhtYXBfODY5NTY5NDUyZGY1NDIyNGI1YzY3ZDM2ZjYwMjI5MTEpOwogICAgICAgIAogICAgCiAgICAgICAgdmFyIHBvcHVwXzIxZGY5ZGJkYWUwYzQ5ODBhNzU2YmZlODZjYzVmNmZlID0gTC5wb3B1cCh7Im1heFdpZHRoIjogIjEwMCUifSk7CgogICAgICAgIAogICAgICAgICAgICB2YXIgaHRtbF8wZGNmMDM2MzE3YTg0YzY0YjliMmYyZTQ0ZTM1YTM3MiA9ICQoYDxkaXYgaWQ9Imh0bWxfMGRjZjAzNjMxN2E4NGM2NGI5YjJmMmU0NGUzNWEzNzIiIHN0eWxlPSJ3aWR0aDogMTAwLjAlOyBoZWlnaHQ6IDEwMC4wJTsiPkNpZGFkZSBUaXJhZGVudGVzIChMZXN0ZSk8L2Rpdj5gKVswXTsKICAgICAgICAgICAgcG9wdXBfMjFkZjlkYmRhZTBjNDk4MGE3NTZiZmU4NmNjNWY2ZmUuc2V0Q29udGVudChodG1sXzBkY2YwMzYzMTdhODRjNjRiOWIyZjJlNDRlMzVhMzcyKTsKICAgICAgICAKCiAgICAgICAgY2lyY2xlX21hcmtlcl9lMWM4YzAwODUyODU0YzQ5ODQzODkzNzUwYWM4NzdhZC5iaW5kUG9wdXAocG9wdXBfMjFkZjlkYmRhZTBjNDk4MGE3NTZiZmU4NmNjNWY2ZmUpCiAgICAgICAgOwoKICAgICAgICAKICAgIAogICAgCiAgICAgICAgICAgIHZhciBjaXJjbGVfbWFya2VyX2JjZDFkYzViYzZiMjQ0MTNiYWJmMTdhZWFmM2Q1YjZiID0gTC5jaXJjbGVNYXJrZXIoCiAgICAgICAgICAgICAgICBbLTIzLjQ5MDMsIC00Ni40ODI0XSwKICAgICAgICAgICAgICAgIHsiYnViYmxpbmdNb3VzZUV2ZW50cyI6IHRydWUsICJjb2xvciI6ICIjMmNhMDJjIiwgImRhc2hBcnJheSI6IG51bGwsICJkYXNoT2Zmc2V0IjogbnVsbCwgImZpbGwiOiB0cnVlLCAiZmlsbENvbG9yIjogIiMyY2EwMmMiLCAiZmlsbE9wYWNpdHkiOiAwLjMsICJmaWxsUnVsZSI6ICJldmVub2RkIiwgImxpbmVDYXAiOiAicm91bmQiLCAibGluZUpvaW4iOiAicm91bmQiLCAib3BhY2l0eSI6IDEuMCwgInJhZGl1cyI6IDUsICJzdHJva2UiOiB0cnVlLCAid2VpZ2h0IjogM30KICAgICAgICAgICAgKS5hZGRUbyhtYXBfODY5NTY5NDUyZGY1NDIyNGI1YzY3ZDM2ZjYwMjI5MTEpOwogICAgICAgIAogICAgCiAgICAgICAgdmFyIHBvcHVwXzlmMDdlMGRiMjFhMTRiOTQ4MDcwZWIxMmRhMjAwODVkID0gTC5wb3B1cCh7Im1heFdpZHRoIjogIjEwMCUifSk7CgogICAgICAgIAogICAgICAgICAgICB2YXIgaHRtbF82NDIxYzkxZDk2ZTM0M2YzYjgyMTMwZTk3YzkyMWRjOSA9ICQoYDxkaXYgaWQ9Imh0bWxfNjQyMWM5MWQ5NmUzNDNmM2I4MjEzMGU5N2M5MjFkYzkiIHN0eWxlPSJ3aWR0aDogMTAwLjAlOyBoZWlnaHQ6IDEwMC4wJTsiPkVybWVsaW5vIE1hdGFyYXp6byAoTGVzdGUpPC9kaXY+YClbMF07CiAgICAgICAgICAgIHBvcHVwXzlmMDdlMGRiMjFhMTRiOTQ4MDcwZWIxMmRhMjAwODVkLnNldENvbnRlbnQoaHRtbF82NDIxYzkxZDk2ZTM0M2YzYjgyMTMwZTk3YzkyMWRjOSk7CiAgICAgICAgCgogICAgICAgIGNpcmNsZV9tYXJrZXJfYmNkMWRjNWJjNmIyNDQxM2JhYmYxN2FlYWYzZDViNmIuYmluZFBvcHVwKHBvcHVwXzlmMDdlMGRiMjFhMTRiOTQ4MDcwZWIxMmRhMjAwODVkKQogICAgICAgIDsKCiAgICAgICAgCiAgICAKICAgIAogICAgICAgICAgICB2YXIgY2lyY2xlX21hcmtlcl85ZmU2MGNjNjM3OGQ0YmIxYjE5NTBiYmUzYjIwNjU5NCA9IEwuY2lyY2xlTWFya2VyKAogICAgICAgICAgICAgICAgWy0yMy41MTEsIC00Ni40ODcxXSwKICAgICAgICAgICAgICAgIHsiYnViYmxpbmdNb3VzZUV2ZW50cyI6IHRydWUsICJjb2xvciI6ICIjMmNhMDJjIiwgImRhc2hBcnJheSI6IG51bGwsICJkYXNoT2Zmc2V0IjogbnVsbCwgImZpbGwiOiB0cnVlLCAiZmlsbENvbG9yIjogIiMyY2EwMmMiLCAiZmlsbE9wYWNpdHkiOiAwLjMsICJmaWxsUnVsZSI6ICJldmVub2RkIiwgImxpbmVDYXAiOiAicm91bmQiLCAibGluZUpvaW4iOiAicm91bmQiLCAib3BhY2l0eSI6IDEuMCwgInJhZGl1cyI6IDUsICJzdHJva2UiOiB0cnVlLCAid2VpZ2h0IjogM30KICAgICAgICAgICAgKS5hZGRUbyhtYXBfODY5NTY5NDUyZGY1NDIyNGI1YzY3ZDM2ZjYwMjI5MTEpOwogICAgICAgIAogICAgCiAgICAgICAgdmFyIHBvcHVwX2FiMWZkYTQ4ODVjYzQ2MGI5ZmZjMzNmMGI1MDMxZWIzID0gTC5wb3B1cCh7Im1heFdpZHRoIjogIjEwMCUifSk7CgogICAgICAgIAogICAgICAgICAgICB2YXIgaHRtbF9jYmUxZDU2MzYzOTM0ZTdmOTBjNmE3OTMyOGU3ZTY2YiA9ICQoYDxkaXYgaWQ9Imh0bWxfY2JlMWQ1NjM2MzkzNGU3ZjkwYzZhNzkzMjhlN2U2NmIiIHN0eWxlPSJ3aWR0aDogMTAwLjAlOyBoZWlnaHQ6IDEwMC4wJTsiPlBvbnRlIFJhc2EgKExlc3RlKTwvZGl2PmApWzBdOwogICAgICAgICAgICBwb3B1cF9hYjFmZGE0ODg1Y2M0NjBiOWZmYzMzZjBiNTAzMWViMy5zZXRDb250ZW50KGh0bWxfY2JlMWQ1NjM2MzkzNGU3ZjkwYzZhNzkzMjhlN2U2NmIpOwogICAgICAgIAoKICAgICAgICBjaXJjbGVfbWFya2VyXzlmZTYwY2M2Mzc4ZDRiYjFiMTk1MGJiZTNiMjA2NTk0LmJpbmRQb3B1cChwb3B1cF9hYjFmZGE0ODg1Y2M0NjBiOWZmYzMzZjBiNTAzMWViMykKICAgICAgICA7CgogICAgICAgIAogICAgCiAgICAKICAgICAgICAgICAgdmFyIGNpcmNsZV9tYXJrZXJfYTVmOWVmYWFkZjY3NGUyMmE2ZDRlY2YzYjlmNGFlODUgPSBMLmNpcmNsZU1hcmtlcigKICAgICAgICAgICAgICAgIFstMjMuNTU0MiwgLTQ2LjQwNDFdLAogICAgICAgICAgICAgICAgeyJidWJibGluZ01vdXNlRXZlbnRzIjogdHJ1ZSwgImNvbG9yIjogIiMyY2EwMmMiLCAiZGFzaEFycmF5IjogbnVsbCwgImRhc2hPZmZzZXQiOiBudWxsLCAiZmlsbCI6IHRydWUsICJmaWxsQ29sb3IiOiAiIzJjYTAyYyIsICJmaWxsT3BhY2l0eSI6IDAuMywgImZpbGxSdWxlIjogImV2ZW5vZGQiLCAibGluZUNhcCI6ICJyb3VuZCIsICJsaW5lSm9pbiI6ICJyb3VuZCIsICJvcGFjaXR5IjogMS4wLCAicmFkaXVzIjogNSwgInN0cm9rZSI6IHRydWUsICJ3ZWlnaHQiOiAzfQogICAgICAgICAgICApLmFkZFRvKG1hcF84Njk1Njk0NTJkZjU0MjI0YjVjNjdkMzZmNjAyMjkxMSk7CiAgICAgICAgCiAgICAKICAgICAgICB2YXIgcG9wdXBfNWY5YjMwMzkzYjc2NDk5YThjNmE5MGZhODQ0YjE1Y2UgPSBMLnBvcHVwKHsibWF4V2lkdGgiOiAiMTAwJSJ9KTsKCiAgICAgICAgCiAgICAgICAgICAgIHZhciBodG1sXzlhY2MzNmI0NTUyOTRhYzg4ZjI1NmI5ZmFlMTc4ZmI1ID0gJChgPGRpdiBpZD0iaHRtbF85YWNjMzZiNDU1Mjk0YWM4OGYyNTZiOWZhZTE3OGZiNSIgc3R5bGU9IndpZHRoOiAxMDAuMCU7IGhlaWdodDogMTAwLjAlOyI+R3VhaWFuYXNlcyAoTGVzdGUpPC9kaXY+YClbMF07CiAgICAgICAgICAgIHBvcHVwXzVmOWIzMDM5M2I3NjQ5OWE4YzZhOTBmYTg0NGIxNWNlLnNldENvbnRlbnQoaHRtbF85YWNjMzZiNDU1Mjk0YWM4OGYyNTZiOWZhZTE3OGZiNSk7CiAgICAgICAgCgogICAgICAgIGNpcmNsZV9tYXJrZXJfYTVmOWVmYWFkZjY3NGUyMmE2ZDRlY2YzYjlmNGFlODUuYmluZFBvcHVwKHBvcHVwXzVmOWIzMDM5M2I3NjQ5OWE4YzZhOTBmYTg0NGIxNWNlKQogICAgICAgIDsKCiAgICAgICAgCiAgICAKICAgIAogICAgICAgICAgICB2YXIgY2lyY2xlX21hcmtlcl83ODllMjUzYmQ5NWY0MjdhOGIzMWI2MGViODFlNjQyMSA9IEwuY2lyY2xlTWFya2VyKAogICAgICAgICAgICAgICAgWy0yMy41MzYyLCAtNDYuNDFdLAogICAgICAgICAgICAgICAgeyJidWJibGluZ01vdXNlRXZlbnRzIjogdHJ1ZSwgImNvbG9yIjogIiMyY2EwMmMiLCAiZGFzaEFycmF5IjogbnVsbCwgImRhc2hPZmZzZXQiOiBudWxsLCAiZmlsbCI6IHRydWUsICJmaWxsQ29sb3IiOiAiIzJjYTAyYyIsICJmaWxsT3BhY2l0eSI6IDAuMywgImZpbGxSdWxlIjogImV2ZW5vZGQiLCAibGluZUNhcCI6ICJyb3VuZCIsICJsaW5lSm9pbiI6ICJyb3VuZCIsICJvcGFjaXR5IjogMS4wLCAicmFkaXVzIjogNSwgInN0cm9rZSI6IHRydWUsICJ3ZWlnaHQiOiAzfQogICAgICAgICAgICApLmFkZFRvKG1hcF84Njk1Njk0NTJkZjU0MjI0YjVjNjdkMzZmNjAyMjkxMSk7CiAgICAgICAgCiAgICAKICAgICAgICB2YXIgcG9wdXBfZGRiY2VhN2Q5NGY2NDVhODllZDI1YzViYzYzOTQ3NjAgPSBMLnBvcHVwKHsibWF4V2lkdGgiOiAiMTAwJSJ9KTsKCiAgICAgICAgCiAgICAgICAgICAgIHZhciBodG1sXzdjMzIyMjg5ZGQyNDRhMTQ5NTc5MjU5MGIyMjdiNGNhID0gJChgPGRpdiBpZD0iaHRtbF83YzMyMjI4OWRkMjQ0YTE0OTU3OTI1OTBiMjI3YjRjYSIgc3R5bGU9IndpZHRoOiAxMDAuMCU7IGhlaWdodDogMTAwLjAlOyI+TGFqZWFkbyAoTGVzdGUpPC9kaXY+YClbMF07CiAgICAgICAgICAgIHBvcHVwX2RkYmNlYTdkOTRmNjQ1YTg5ZWQyNWM1YmM2Mzk0NzYwLnNldENvbnRlbnQoaHRtbF83YzMyMjI4OWRkMjQ0YTE0OTU3OTI1OTBiMjI3YjRjYSk7CiAgICAgICAgCgogICAgICAgIGNpcmNsZV9tYXJrZXJfNzg5ZTI1M2JkOTVmNDI3YThiMzFiNjBlYjgxZTY0MjEuYmluZFBvcHVwKHBvcHVwX2RkYmNlYTdkOTRmNjQ1YTg5ZWQyNWM1YmM2Mzk0NzYwKQogICAgICAgIDsKCiAgICAgICAgCiAgICAKICAgIAogICAgICAgICAgICB2YXIgY2lyY2xlX21hcmtlcl8wZmEwNzhhZTk1NjI0MzRhYTc1N2U5Nzk2YmQ1ODAwZSA9IEwuY2lyY2xlTWFya2VyKAogICAgICAgICAgICAgICAgWy0yMy40OTQsIC00Ni40MDIyXSwKICAgICAgICAgICAgICAgIHsiYnViYmxpbmdNb3VzZUV2ZW50cyI6IHRydWUsICJjb2xvciI6ICIjMmNhMDJjIiwgImRhc2hBcnJheSI6IG51bGwsICJkYXNoT2Zmc2V0IjogbnVsbCwgImZpbGwiOiB0cnVlLCAiZmlsbENvbG9yIjogIiMyY2EwMmMiLCAiZmlsbE9wYWNpdHkiOiAwLjMsICJmaWxsUnVsZSI6ICJldmVub2RkIiwgImxpbmVDYXAiOiAicm91bmQiLCAibGluZUpvaW4iOiAicm91bmQiLCAib3BhY2l0eSI6IDEuMCwgInJhZGl1cyI6IDUsICJzdHJva2UiOiB0cnVlLCAid2VpZ2h0IjogM30KICAgICAgICAgICAgKS5hZGRUbyhtYXBfODY5NTY5NDUyZGY1NDIyNGI1YzY3ZDM2ZjYwMjI5MTEpOwogICAgICAgIAogICAgCiAgICAgICAgdmFyIHBvcHVwX2M2NDQ2YmNkMTVjOTQ3OTFiYWI4NWEyM2YzMjUzODhkID0gTC5wb3B1cCh7Im1heFdpZHRoIjogIjEwMCUifSk7CgogICAgICAgIAogICAgICAgICAgICB2YXIgaHRtbF81YTAxNTNiNTdkNTk0ZGUzYTY3ZmE1NTliZjgzNDczMCA9ICQoYDxkaXYgaWQ9Imh0bWxfNWEwMTUzYjU3ZDU5NGRlM2E2N2ZhNTU5YmY4MzQ3MzAiIHN0eWxlPSJ3aWR0aDogMTAwLjAlOyBoZWlnaHQ6IDEwMC4wJTsiPkl0YWltIFBhdWxpc3RhIChMZXN0ZSk8L2Rpdj5gKVswXTsKICAgICAgICAgICAgcG9wdXBfYzY0NDZiY2QxNWM5NDc5MWJhYjg1YTIzZjMyNTM4OGQuc2V0Q29udGVudChodG1sXzVhMDE1M2I1N2Q1OTRkZTNhNjdmYTU1OWJmODM0NzMwKTsKICAgICAgICAKCiAgICAgICAgY2lyY2xlX21hcmtlcl8wZmEwNzhhZTk1NjI0MzRhYTc1N2U5Nzk2YmQ1ODAwZS5iaW5kUG9wdXAocG9wdXBfYzY0NDZiY2QxNWM5NDc5MWJhYjg1YTIzZjMyNTM4OGQpCiAgICAgICAgOwoKICAgICAgICAKICAgIAogICAgCiAgICAgICAgICAgIHZhciBjaXJjbGVfbWFya2VyX2UzZDU4OGRkNjIyMDRkYmE5NDgzMmY5OTYxNDZkNzU0ID0gTC5jaXJjbGVNYXJrZXIoCiAgICAgICAgICAgICAgICBbLTIzLjUxMDIsIC00Ni40MTc5XSwKICAgICAgICAgICAgICAgIHsiYnViYmxpbmdNb3VzZUV2ZW50cyI6IHRydWUsICJjb2xvciI6ICIjMmNhMDJjIiwgImRhc2hBcnJheSI6IG51bGwsICJkYXNoT2Zmc2V0IjogbnVsbCwgImZpbGwiOiB0cnVlLCAiZmlsbENvbG9yIjogIiMyY2EwMmMiLCAiZmlsbE9wYWNpdHkiOiAwLjMsICJmaWxsUnVsZSI6ICJldmVub2RkIiwgImxpbmVDYXAiOiAicm91bmQiLCAibGluZUpvaW4iOiAicm91bmQiLCAib3BhY2l0eSI6IDEuMCwgInJhZGl1cyI6IDUsICJzdHJva2UiOiB0cnVlLCAid2VpZ2h0IjogM30KICAgICAgICAgICAgKS5hZGRUbyhtYXBfODY5NTY5NDUyZGY1NDIyNGI1YzY3ZDM2ZjYwMjI5MTEpOwogICAgICAgIAogICAgCiAgICAgICAgdmFyIHBvcHVwXzMwZGQwMmZlZGRkMTRiNGU4ZWRkNmZkZWE0NGJhZmQ5ID0gTC5wb3B1cCh7Im1heFdpZHRoIjogIjEwMCUifSk7CgogICAgICAgIAogICAgICAgICAgICB2YXIgaHRtbF81NzY0ZWZjMTdkN2Y0ZjA0YjIxZWJjMWU4NDA0YjlmYyA9ICQoYDxkaXYgaWQ9Imh0bWxfNTc2NGVmYzE3ZDdmNGYwNGIyMWViYzFlODQwNGI5ZmMiIHN0eWxlPSJ3aWR0aDogMTAwLjAlOyBoZWlnaHQ6IDEwMC4wJTsiPlZpbGEgQ3VydcOnw6EgKExlc3RlKTwvZGl2PmApWzBdOwogICAgICAgICAgICBwb3B1cF8zMGRkMDJmZWRkZDE0YjRlOGVkZDZmZGVhNDRiYWZkOS5zZXRDb250ZW50KGh0bWxfNTc2NGVmYzE3ZDdmNGYwNGIyMWViYzFlODQwNGI5ZmMpOwogICAgICAgIAoKICAgICAgICBjaXJjbGVfbWFya2VyX2UzZDU4OGRkNjIyMDRkYmE5NDgzMmY5OTYxNDZkNzU0LmJpbmRQb3B1cChwb3B1cF8zMGRkMDJmZWRkZDE0YjRlOGVkZDZmZGVhNDRiYWZkOSkKICAgICAgICA7CgogICAgICAgIAogICAgCiAgICAKICAgICAgICAgICAgdmFyIGNpcmNsZV9tYXJrZXJfYzRlZWYxNmQwMWQwNDY5NmJiNzJhOGFlOGY5NTc1OWUgPSBMLmNpcmNsZU1hcmtlcigKICAgICAgICAgICAgICAgIFstMjMuNTYyOCwgLTQ2LjQ5NDNdLAogICAgICAgICAgICAgICAgeyJidWJibGluZ01vdXNlRXZlbnRzIjogdHJ1ZSwgImNvbG9yIjogIiMyY2EwMmMiLCAiZGFzaEFycmF5IjogbnVsbCwgImRhc2hPZmZzZXQiOiBudWxsLCAiZmlsbCI6IHRydWUsICJmaWxsQ29sb3IiOiAiIzJjYTAyYyIsICJmaWxsT3BhY2l0eSI6IDAuMywgImZpbGxSdWxlIjogImV2ZW5vZGQiLCAibGluZUNhcCI6ICJyb3VuZCIsICJsaW5lSm9pbiI6ICJyb3VuZCIsICJvcGFjaXR5IjogMS4wLCAicmFkaXVzIjogNSwgInN0cm9rZSI6IHRydWUsICJ3ZWlnaHQiOiAzfQogICAgICAgICAgICApLmFkZFRvKG1hcF84Njk1Njk0NTJkZjU0MjI0YjVjNjdkMzZmNjAyMjkxMSk7CiAgICAgICAgCiAgICAKICAgICAgICB2YXIgcG9wdXBfNjQxYTIyNjAwN2Q4NDgyNzlmZDg0YjIzYzQ2YTIwMGEgPSBMLnBvcHVwKHsibWF4V2lkdGgiOiAiMTAwJSJ9KTsKCiAgICAgICAgCiAgICAgICAgICAgIHZhciBodG1sXzkyYzFmMWUxYzIxZjRhODE5OTlmZGFiYjk4N2UzZmFjID0gJChgPGRpdiBpZD0iaHRtbF85MmMxZjFlMWMyMWY0YTgxOTk5ZmRhYmI5ODdlM2ZhYyIgc3R5bGU9IndpZHRoOiAxMDAuMCU7IGhlaWdodDogMTAwLjAlOyI+Q2lkYWRlIEzDrWRlciAoTGVzdGUpPC9kaXY+YClbMF07CiAgICAgICAgICAgIHBvcHVwXzY0MWEyMjYwMDdkODQ4Mjc5ZmQ4NGIyM2M0NmEyMDBhLnNldENvbnRlbnQoaHRtbF85MmMxZjFlMWMyMWY0YTgxOTk5ZmRhYmI5ODdlM2ZhYyk7CiAgICAgICAgCgogICAgICAgIGNpcmNsZV9tYXJrZXJfYzRlZWYxNmQwMWQwNDY5NmJiNzJhOGFlOGY5NTc1OWUuYmluZFBvcHVwKHBvcHVwXzY0MWEyMjYwMDdkODQ4Mjc5ZmQ4NGIyM2M0NmEyMDBhKQogICAgICAgIDsKCiAgICAgICAgCiAgICAKICAgIAogICAgICAgICAgICB2YXIgY2lyY2xlX21hcmtlcl9kZTk0ODBlYTk3ODQ0MGQ4OWQzMTc3OTA0ZmNiOTQyOSA9IEwuY2lyY2xlTWFya2VyKAogICAgICAgICAgICAgICAgWy0yMy41MzE0LCAtNDYuNDUzM10sCiAgICAgICAgICAgICAgICB7ImJ1YmJsaW5nTW91c2VFdmVudHMiOiB0cnVlLCAiY29sb3IiOiAiIzJjYTAyYyIsICJkYXNoQXJyYXkiOiBudWxsLCAiZGFzaE9mZnNldCI6IG51bGwsICJmaWxsIjogdHJ1ZSwgImZpbGxDb2xvciI6ICIjMmNhMDJjIiwgImZpbGxPcGFjaXR5IjogMC4zLCAiZmlsbFJ1bGUiOiAiZXZlbm9kZCIsICJsaW5lQ2FwIjogInJvdW5kIiwgImxpbmVKb2luIjogInJvdW5kIiwgIm9wYWNpdHkiOiAxLjAsICJyYWRpdXMiOiA1LCAic3Ryb2tlIjogdHJ1ZSwgIndlaWdodCI6IDN9CiAgICAgICAgICAgICkuYWRkVG8obWFwXzg2OTU2OTQ1MmRmNTQyMjRiNWM2N2QzNmY2MDIyOTExKTsKICAgICAgICAKICAgIAogICAgICAgIHZhciBwb3B1cF8wNzY1M2ZkMTYzN2U0MTc4YTIzNjJhNDRkMmNlOWI2OCA9IEwucG9wdXAoeyJtYXhXaWR0aCI6ICIxMDAlIn0pOwoKICAgICAgICAKICAgICAgICAgICAgdmFyIGh0bWxfYTRkYzZmODcxZDRkNDIyNWE3OTU0MWM5OTQ2YmMyOGUgPSAkKGA8ZGl2IGlkPSJodG1sX2E0ZGM2Zjg3MWQ0ZDQyMjVhNzk1NDFjOTk0NmJjMjhlIiBzdHlsZT0id2lkdGg6IDEwMC4wJTsgaGVpZ2h0OiAxMDAuMCU7Ij5JdGFxdWVyYSAoTGVzdGUpPC9kaXY+YClbMF07CiAgICAgICAgICAgIHBvcHVwXzA3NjUzZmQxNjM3ZTQxNzhhMjM2MmE0NGQyY2U5YjY4LnNldENvbnRlbnQoaHRtbF9hNGRjNmY4NzFkNGQ0MjI1YTc5NTQxYzk5NDZiYzI4ZSk7CiAgICAgICAgCgogICAgICAgIGNpcmNsZV9tYXJrZXJfZGU5NDgwZWE5Nzg0NDBkODlkMzE3NzkwNGZjYjk0MjkuYmluZFBvcHVwKHBvcHVwXzA3NjUzZmQxNjM3ZTQxNzhhMjM2MmE0NGQyY2U5YjY4KQogICAgICAgIDsKCiAgICAgICAgCiAgICAKICAgIAogICAgICAgICAgICB2YXIgY2lyY2xlX21hcmtlcl84ODE1MzUzYTJiNGY0YzRmODQ0MTJiY2NjYzkwYWNkYyA9IEwuY2lyY2xlTWFya2VyKAogICAgICAgICAgICAgICAgWy0yMy41NjQxLCAtNDYuNDM0OF0sCiAgICAgICAgICAgICAgICB7ImJ1YmJsaW5nTW91c2VFdmVudHMiOiB0cnVlLCAiY29sb3IiOiAiIzJjYTAyYyIsICJkYXNoQXJyYXkiOiBudWxsLCAiZGFzaE9mZnNldCI6IG51bGwsICJmaWxsIjogdHJ1ZSwgImZpbGxDb2xvciI6ICIjMmNhMDJjIiwgImZpbGxPcGFjaXR5IjogMC4zLCAiZmlsbFJ1bGUiOiAiZXZlbm9kZCIsICJsaW5lQ2FwIjogInJvdW5kIiwgImxpbmVKb2luIjogInJvdW5kIiwgIm9wYWNpdHkiOiAxLjAsICJyYWRpdXMiOiA1LCAic3Ryb2tlIjogdHJ1ZSwgIndlaWdodCI6IDN9CiAgICAgICAgICAgICkuYWRkVG8obWFwXzg2OTU2OTQ1MmRmNTQyMjRiNWM2N2QzNmY2MDIyOTExKTsKICAgICAgICAKICAgIAogICAgICAgIHZhciBwb3B1cF80Zjc4MjJkOTQ3YzU0MmQyOTYxYTY0MzVkNTQ2OGMwMSA9IEwucG9wdXAoeyJtYXhXaWR0aCI6ICIxMDAlIn0pOwoKICAgICAgICAKICAgICAgICAgICAgdmFyIGh0bWxfYmY4OWVlNzdhOWVkNDA0OGIxZWIxZmU1MDNlNzU1NTAgPSAkKGA8ZGl2IGlkPSJodG1sX2JmODllZTc3YTllZDQwNDhiMWViMWZlNTAzZTc1NTUwIiBzdHlsZT0id2lkdGg6IDEwMC4wJTsgaGVpZ2h0OiAxMDAuMCU7Ij5Kb3PDqSBCb25pZsOhY2lvIChMZXN0ZSk8L2Rpdj5gKVswXTsKICAgICAgICAgICAgcG9wdXBfNGY3ODIyZDk0N2M1NDJkMjk2MWE2NDM1ZDU0NjhjMDEuc2V0Q29udGVudChodG1sX2JmODllZTc3YTllZDQwNDhiMWViMWZlNTAzZTc1NTUwKTsKICAgICAgICAKCiAgICAgICAgY2lyY2xlX21hcmtlcl84ODE1MzUzYTJiNGY0YzRmODQ0MTJiY2NjYzkwYWNkYy5iaW5kUG9wdXAocG9wdXBfNGY3ODIyZDk0N2M1NDJkMjk2MWE2NDM1ZDU0NjhjMDEpCiAgICAgICAgOwoKICAgICAgICAKICAgIAogICAgCiAgICAgICAgICAgIHZhciBjaXJjbGVfbWFya2VyXzQ1YWFhMzYyNmJlZTRlNDNhZjMwNzYxMTUxNDE1MTg1ID0gTC5jaXJjbGVNYXJrZXIoCiAgICAgICAgICAgICAgICBbLTIzLjU1NjgsIC00Ni40NDYzXSwKICAgICAgICAgICAgICAgIHsiYnViYmxpbmdNb3VzZUV2ZW50cyI6IHRydWUsICJjb2xvciI6ICIjMmNhMDJjIiwgImRhc2hBcnJheSI6IG51bGwsICJkYXNoT2Zmc2V0IjogbnVsbCwgImZpbGwiOiB0cnVlLCAiZmlsbENvbG9yIjogIiMyY2EwMmMiLCAiZmlsbE9wYWNpdHkiOiAwLjMsICJmaWxsUnVsZSI6ICJldmVub2RkIiwgImxpbmVDYXAiOiAicm91bmQiLCAibGluZUpvaW4iOiAicm91bmQiLCAib3BhY2l0eSI6IDEuMCwgInJhZGl1cyI6IDUsICJzdHJva2UiOiB0cnVlLCAid2VpZ2h0IjogM30KICAgICAgICAgICAgKS5hZGRUbyhtYXBfODY5NTY5NDUyZGY1NDIyNGI1YzY3ZDM2ZjYwMjI5MTEpOwogICAgICAgIAogICAgCiAgICAgICAgdmFyIHBvcHVwX2RhNjYwMGUzNTdmMTQxOTFhMTgwZjE2MDIwNzg5MDZjID0gTC5wb3B1cCh7Im1heFdpZHRoIjogIjEwMCUifSk7CgogICAgICAgIAogICAgICAgICAgICB2YXIgaHRtbF9lM2YwZTQ2MzJiMzE0Njc0OWY2NTdkNjEyNTAyZTUwZiA9ICQoYDxkaXYgaWQ9Imh0bWxfZTNmMGU0NjMyYjMxNDY3NDlmNjU3ZDYxMjUwMmU1MGYiIHN0eWxlPSJ3aWR0aDogMTAwLjAlOyBoZWlnaHQ6IDEwMC4wJTsiPlBhcnF1ZSBkbyBDYXJtbyAoTGVzdGUpPC9kaXY+YClbMF07CiAgICAgICAgICAgIHBvcHVwX2RhNjYwMGUzNTdmMTQxOTFhMTgwZjE2MDIwNzg5MDZjLnNldENvbnRlbnQoaHRtbF9lM2YwZTQ2MzJiMzE0Njc0OWY2NTdkNjEyNTAyZTUwZik7CiAgICAgICAgCgogICAgICAgIGNpcmNsZV9tYXJrZXJfNDVhYWEzNjI2YmVlNGU0M2FmMzA3NjExNTE0MTUxODUuYmluZFBvcHVwKHBvcHVwX2RhNjYwMGUzNTdmMTQxOTFhMTgwZjE2MDIwNzg5MDZjKQogICAgICAgIDsKCiAgICAgICAgCiAgICAKICAgIAogICAgICAgICAgICB2YXIgY2lyY2xlX21hcmtlcl84YTFhZDU2NzRlMGY0M2FkYTY0NzUxYTlhNjQzMTcwNSA9IEwuY2lyY2xlTWFya2VyKAogICAgICAgICAgICAgICAgWy0yMy41NzQ1LCAtNDYuNTc5M10sCiAgICAgICAgICAgICAgICB7ImJ1YmJsaW5nTW91c2VFdmVudHMiOiB0cnVlLCAiY29sb3IiOiAiIzJjYTAyYyIsICJkYXNoQXJyYXkiOiBudWxsLCAiZGFzaE9mZnNldCI6IG51bGwsICJmaWxsIjogdHJ1ZSwgImZpbGxDb2xvciI6ICIjMmNhMDJjIiwgImZpbGxPcGFjaXR5IjogMC4zLCAiZmlsbFJ1bGUiOiAiZXZlbm9kZCIsICJsaW5lQ2FwIjogInJvdW5kIiwgImxpbmVKb2luIjogInJvdW5kIiwgIm9wYWNpdHkiOiAxLjAsICJyYWRpdXMiOiA1LCAic3Ryb2tlIjogdHJ1ZSwgIndlaWdodCI6IDN9CiAgICAgICAgICAgICkuYWRkVG8obWFwXzg2OTU2OTQ1MmRmNTQyMjRiNWM2N2QzNmY2MDIyOTExKTsKICAgICAgICAKICAgIAogICAgICAgIHZhciBwb3B1cF9lYzkxMWVkYmU1NDA0ODczOWUzOGM0ODBhZTI2ODYzZSA9IEwucG9wdXAoeyJtYXhXaWR0aCI6ICIxMDAlIn0pOwoKICAgICAgICAKICAgICAgICAgICAgdmFyIGh0bWxfYzllMTYyYWIyOTgxNGIzNThhMGFkYjc5YmVjZjBmNGUgPSAkKGA8ZGl2IGlkPSJodG1sX2M5ZTE2MmFiMjk4MTRiMzU4YTBhZGI3OWJlY2YwZjRlIiBzdHlsZT0id2lkdGg6IDEwMC4wJTsgaGVpZ2h0OiAxMDAuMCU7Ij7DgWd1YSBSYXNhIChMZXN0ZSk8L2Rpdj5gKVswXTsKICAgICAgICAgICAgcG9wdXBfZWM5MTFlZGJlNTQwNDg3MzllMzhjNDgwYWUyNjg2M2Uuc2V0Q29udGVudChodG1sX2M5ZTE2MmFiMjk4MTRiMzU4YTBhZGI3OWJlY2YwZjRlKTsKICAgICAgICAKCiAgICAgICAgY2lyY2xlX21hcmtlcl84YTFhZDU2NzRlMGY0M2FkYTY0NzUxYTlhNjQzMTcwNS5iaW5kUG9wdXAocG9wdXBfZWM5MTFlZGJlNTQwNDg3MzllMzhjNDgwYWUyNjg2M2UpCiAgICAgICAgOwoKICAgICAgICAKICAgIAogICAgCiAgICAgICAgICAgIHZhciBjaXJjbGVfbWFya2VyX2QwYTg2YzQ2MzgzNjRlNDNiODgyMjM3YjkzZmMyOGQzID0gTC5jaXJjbGVNYXJrZXIoCiAgICAgICAgICAgICAgICBbLTIzLjU0NDQsIC00Ni41OTQ5XSwKICAgICAgICAgICAgICAgIHsiYnViYmxpbmdNb3VzZUV2ZW50cyI6IHRydWUsICJjb2xvciI6ICIjMmNhMDJjIiwgImRhc2hBcnJheSI6IG51bGwsICJkYXNoT2Zmc2V0IjogbnVsbCwgImZpbGwiOiB0cnVlLCAiZmlsbENvbG9yIjogIiMyY2EwMmMiLCAiZmlsbE9wYWNpdHkiOiAwLjMsICJmaWxsUnVsZSI6ICJldmVub2RkIiwgImxpbmVDYXAiOiAicm91bmQiLCAibGluZUpvaW4iOiAicm91bmQiLCAib3BhY2l0eSI6IDEuMCwgInJhZGl1cyI6IDUsICJzdHJva2UiOiB0cnVlLCAid2VpZ2h0IjogM30KICAgICAgICAgICAgKS5hZGRUbyhtYXBfODY5NTY5NDUyZGY1NDIyNGI1YzY3ZDM2ZjYwMjI5MTEpOwogICAgICAgIAogICAgCiAgICAgICAgdmFyIHBvcHVwXzU5NjdkYWQzZTM4NzQ1MGVhZTFkYjM2Mjc1YzUzZTEyID0gTC5wb3B1cCh7Im1heFdpZHRoIjogIjEwMCUifSk7CgogICAgICAgIAogICAgICAgICAgICB2YXIgaHRtbF80ZjQ0ZjM1ZDg0MDg0ZWQ4OTU3MWRhZThiZDlkMjA0MSA9ICQoYDxkaXYgaWQ9Imh0bWxfNGY0NGYzNWQ4NDA4NGVkODk1NzFkYWU4YmQ5ZDIwNDEiIHN0eWxlPSJ3aWR0aDogMTAwLjAlOyBoZWlnaHQ6IDEwMC4wJTsiPkJlbMOpbSAoTGVzdGUpPC9kaXY+YClbMF07CiAgICAgICAgICAgIHBvcHVwXzU5NjdkYWQzZTM4NzQ1MGVhZTFkYjM2Mjc1YzUzZTEyLnNldENvbnRlbnQoaHRtbF80ZjQ0ZjM1ZDg0MDg0ZWQ4OTU3MWRhZThiZDlkMjA0MSk7CiAgICAgICAgCgogICAgICAgIGNpcmNsZV9tYXJrZXJfZDBhODZjNDYzODM2NGU0M2I4ODIyMzdiOTNmYzI4ZDMuYmluZFBvcHVwKHBvcHVwXzU5NjdkYWQzZTM4NzQ1MGVhZTFkYjM2Mjc1YzUzZTEyKQogICAgICAgIDsKCiAgICAgICAgCiAgICAKICAgIAogICAgICAgICAgICB2YXIgY2lyY2xlX21hcmtlcl8wMmU5NGUwNzU3MWE0Njg2YTAxOTRmY2EzOTIzYTIwZCA9IEwuY2lyY2xlTWFya2VyKAogICAgICAgICAgICAgICAgWy0yMy41NTQ1LCAtNDYuNjEwOF0sCiAgICAgICAgICAgICAgICB7ImJ1YmJsaW5nTW91c2VFdmVudHMiOiB0cnVlLCAiY29sb3IiOiAiIzJjYTAyYyIsICJkYXNoQXJyYXkiOiBudWxsLCAiZGFzaE9mZnNldCI6IG51bGwsICJmaWxsIjogdHJ1ZSwgImZpbGxDb2xvciI6ICIjMmNhMDJjIiwgImZpbGxPcGFjaXR5IjogMC4zLCAiZmlsbFJ1bGUiOiAiZXZlbm9kZCIsICJsaW5lQ2FwIjogInJvdW5kIiwgImxpbmVKb2luIjogInJvdW5kIiwgIm9wYWNpdHkiOiAxLjAsICJyYWRpdXMiOiA1LCAic3Ryb2tlIjogdHJ1ZSwgIndlaWdodCI6IDN9CiAgICAgICAgICAgICkuYWRkVG8obWFwXzg2OTU2OTQ1MmRmNTQyMjRiNWM2N2QzNmY2MDIyOTExKTsKICAgICAgICAKICAgIAogICAgICAgIHZhciBwb3B1cF8yMzU5N2ZlOWZmODY0OWUzYWFhMDRhMGQ5MjM5NDA1ZCA9IEwucG9wdXAoeyJtYXhXaWR0aCI6ICIxMDAlIn0pOwoKICAgICAgICAKICAgICAgICAgICAgdmFyIGh0bWxfNzcyYjMwODBiNjkxNDdjZWIwYzc1NDdhNDA4ZmFjMzAgPSAkKGA8ZGl2IGlkPSJodG1sXzc3MmIzMDgwYjY5MTQ3Y2ViMGM3NTQ3YTQwOGZhYzMwIiBzdHlsZT0id2lkdGg6IDEwMC4wJTsgaGVpZ2h0OiAxMDAuMCU7Ij5CcsOhcyAoTGVzdGUpPC9kaXY+YClbMF07CiAgICAgICAgICAgIHBvcHVwXzIzNTk3ZmU5ZmY4NjQ5ZTNhYWEwNGEwZDkyMzk0MDVkLnNldENvbnRlbnQoaHRtbF83NzJiMzA4MGI2OTE0N2NlYjBjNzU0N2E0MDhmYWMzMCk7CiAgICAgICAgCgogICAgICAgIGNpcmNsZV9tYXJrZXJfMDJlOTRlMDc1NzFhNDY4NmEwMTk0ZmNhMzkyM2EyMGQuYmluZFBvcHVwKHBvcHVwXzIzNTk3ZmU5ZmY4NjQ5ZTNhYWEwNGEwZDkyMzk0MDVkKQogICAgICAgIDsKCiAgICAgICAgCiAgICAKICAgIAogICAgICAgICAgICB2YXIgY2lyY2xlX21hcmtlcl8wOWQwODJhNTU2YzU0NWEwOTkyYWIxMjg5ZWMwOTJhYyA9IEwuY2lyY2xlTWFya2VyKAogICAgICAgICAgICAgICAgWy0yMy41NTgsIC00Ni42MDgzXSwKICAgICAgICAgICAgICAgIHsiYnViYmxpbmdNb3VzZUV2ZW50cyI6IHRydWUsICJjb2xvciI6ICIjMmNhMDJjIiwgImRhc2hBcnJheSI6IG51bGwsICJkYXNoT2Zmc2V0IjogbnVsbCwgImZpbGwiOiB0cnVlLCAiZmlsbENvbG9yIjogIiMyY2EwMmMiLCAiZmlsbE9wYWNpdHkiOiAwLjMsICJmaWxsUnVsZSI6ICJldmVub2RkIiwgImxpbmVDYXAiOiAicm91bmQiLCAibGluZUpvaW4iOiAicm91bmQiLCAib3BhY2l0eSI6IDEuMCwgInJhZGl1cyI6IDUsICJzdHJva2UiOiB0cnVlLCAid2VpZ2h0IjogM30KICAgICAgICAgICAgKS5hZGRUbyhtYXBfODY5NTY5NDUyZGY1NDIyNGI1YzY3ZDM2ZjYwMjI5MTEpOwogICAgICAgIAogICAgCiAgICAgICAgdmFyIHBvcHVwXzU1MWIzZjVkNmQ0ZjQ2MDY4N2MyMmMwMTUwOTQ3MWI3ID0gTC5wb3B1cCh7Im1heFdpZHRoIjogIjEwMCUifSk7CgogICAgICAgIAogICAgICAgICAgICB2YXIgaHRtbF8zYjgzZGQzNmU5M2E0MTdjYTAwYjI2NDBiMDYwOWE1NSA9ICQoYDxkaXYgaWQ9Imh0bWxfM2I4M2RkMzZlOTNhNDE3Y2EwMGIyNjQwYjA2MDlhNTUiIHN0eWxlPSJ3aWR0aDogMTAwLjAlOyBoZWlnaHQ6IDEwMC4wJTsiPk1vw7NjYSAoTGVzdGUpPC9kaXY+YClbMF07CiAgICAgICAgICAgIHBvcHVwXzU1MWIzZjVkNmQ0ZjQ2MDY4N2MyMmMwMTUwOTQ3MWI3LnNldENvbnRlbnQoaHRtbF8zYjgzZGQzNmU5M2E0MTdjYTAwYjI2NDBiMDYwOWE1NSk7CiAgICAgICAgCgogICAgICAgIGNpcmNsZV9tYXJrZXJfMDlkMDgyYTU1NmM1NDVhMDk5MmFiMTI4OWVjMDkyYWMuYmluZFBvcHVwKHBvcHVwXzU1MWIzZjVkNmQ0ZjQ2MDY4N2MyMmMwMTUwOTQ3MWI3KQogICAgICAgIDsKCiAgICAgICAgCiAgICAKICAgIAogICAgICAgICAgICB2YXIgY2lyY2xlX21hcmtlcl80ZTNmYTY3YWY5Zjg0MzJiOWQ3ZDE4ZTZmYzAyYjk1YSA9IEwuY2lyY2xlTWFya2VyKAogICAgICAgICAgICAgICAgWy0yMy41MzMsIC00Ni42MTU4XSwKICAgICAgICAgICAgICAgIHsiYnViYmxpbmdNb3VzZUV2ZW50cyI6IHRydWUsICJjb2xvciI6ICIjMmNhMDJjIiwgImRhc2hBcnJheSI6IG51bGwsICJkYXNoT2Zmc2V0IjogbnVsbCwgImZpbGwiOiB0cnVlLCAiZmlsbENvbG9yIjogIiMyY2EwMmMiLCAiZmlsbE9wYWNpdHkiOiAwLjMsICJmaWxsUnVsZSI6ICJldmVub2RkIiwgImxpbmVDYXAiOiAicm91bmQiLCAibGluZUpvaW4iOiAicm91bmQiLCAib3BhY2l0eSI6IDEuMCwgInJhZGl1cyI6IDUsICJzdHJva2UiOiB0cnVlLCAid2VpZ2h0IjogM30KICAgICAgICAgICAgKS5hZGRUbyhtYXBfODY5NTY5NDUyZGY1NDIyNGI1YzY3ZDM2ZjYwMjI5MTEpOwogICAgICAgIAogICAgCiAgICAgICAgdmFyIHBvcHVwX2YyOTEwM2Y2ZjBhNTRmYzE4NTcxMmNhYzVjMTJmZjc5ID0gTC5wb3B1cCh7Im1heFdpZHRoIjogIjEwMCUifSk7CgogICAgICAgIAogICAgICAgICAgICB2YXIgaHRtbF81MjEzNGMzMzMwZmQ0YzJlOWY5MDdkOGYzYWQ3MWVjMCA9ICQoYDxkaXYgaWQ9Imh0bWxfNTIxMzRjMzMzMGZkNGMyZTlmOTA3ZDhmM2FkNzFlYzAiIHN0eWxlPSJ3aWR0aDogMTAwLjAlOyBoZWlnaHQ6IDEwMC4wJTsiPlBhcmkgKExlc3RlKTwvZGl2PmApWzBdOwogICAgICAgICAgICBwb3B1cF9mMjkxMDNmNmYwYTU0ZmMxODU3MTJjYWM1YzEyZmY3OS5zZXRDb250ZW50KGh0bWxfNTIxMzRjMzMzMGZkNGMyZTlmOTA3ZDhmM2FkNzFlYzApOwogICAgICAgIAoKICAgICAgICBjaXJjbGVfbWFya2VyXzRlM2ZhNjdhZjlmODQzMmI5ZDdkMThlNmZjMDJiOTVhLmJpbmRQb3B1cChwb3B1cF9mMjkxMDNmNmYwYTU0ZmMxODU3MTJjYWM1YzEyZmY3OSkKICAgICAgICA7CgogICAgICAgIAogICAgCiAgICAKICAgICAgICAgICAgdmFyIGNpcmNsZV9tYXJrZXJfZmNjYTNkMjEzYWVhNGZjY2FiMDBiMTQ3YjQ0YTI0NTAgPSBMLmNpcmNsZU1hcmtlcigKICAgICAgICAgICAgICAgIFstMjMuNTQwMywgLTQ2LjU3NjZdLAogICAgICAgICAgICAgICAgeyJidWJibGluZ01vdXNlRXZlbnRzIjogdHJ1ZSwgImNvbG9yIjogIiMyY2EwMmMiLCAiZGFzaEFycmF5IjogbnVsbCwgImRhc2hPZmZzZXQiOiBudWxsLCAiZmlsbCI6IHRydWUsICJmaWxsQ29sb3IiOiAiIzJjYTAyYyIsICJmaWxsT3BhY2l0eSI6IDAuMywgImZpbGxSdWxlIjogImV2ZW5vZGQiLCAibGluZUNhcCI6ICJyb3VuZCIsICJsaW5lSm9pbiI6ICJyb3VuZCIsICJvcGFjaXR5IjogMS4wLCAicmFkaXVzIjogNSwgInN0cm9rZSI6IHRydWUsICJ3ZWlnaHQiOiAzfQogICAgICAgICAgICApLmFkZFRvKG1hcF84Njk1Njk0NTJkZjU0MjI0YjVjNjdkMzZmNjAyMjkxMSk7CiAgICAgICAgCiAgICAKICAgICAgICB2YXIgcG9wdXBfODczNWY2MmE5M2MwNDM0MGE3MjYyMGE1YjFlMDNkZmMgPSBMLnBvcHVwKHsibWF4V2lkdGgiOiAiMTAwJSJ9KTsKCiAgICAgICAgCiAgICAgICAgICAgIHZhciBodG1sXzI3NWY5OTlmODUwMDQzNThhMjQ3ZGNjMGUyNTRhNjMyID0gJChgPGRpdiBpZD0iaHRtbF8yNzVmOTk5Zjg1MDA0MzU4YTI0N2RjYzBlMjU0YTYzMiIgc3R5bGU9IndpZHRoOiAxMDAuMCU7IGhlaWdodDogMTAwLjAlOyI+VGF0dWFww6kgKExlc3RlKTwvZGl2PmApWzBdOwogICAgICAgICAgICBwb3B1cF84NzM1ZjYyYTkzYzA0MzQwYTcyNjIwYTViMWUwM2RmYy5zZXRDb250ZW50KGh0bWxfMjc1Zjk5OWY4NTAwNDM1OGEyNDdkY2MwZTI1NGE2MzIpOwogICAgICAgIAoKICAgICAgICBjaXJjbGVfbWFya2VyX2ZjY2EzZDIxM2FlYTRmY2NhYjAwYjE0N2I0NGEyNDUwLmJpbmRQb3B1cChwb3B1cF84NzM1ZjYyYTkzYzA0MzQwYTcyNjIwYTViMWUwM2RmYykKICAgICAgICA7CgogICAgICAgIAogICAgCiAgICAKICAgICAgICAgICAgdmFyIGNpcmNsZV9tYXJrZXJfN2FlYTQzODE5NGJkNGUyYjg4ZTIyNzQ3N2I0YTFkNDggPSBMLmNpcmNsZU1hcmtlcigKICAgICAgICAgICAgICAgIFstMjMuNTI3NSwgLTQ2LjUwMDZdLAogICAgICAgICAgICAgICAgeyJidWJibGluZ01vdXNlRXZlbnRzIjogdHJ1ZSwgImNvbG9yIjogIiMyY2EwMmMiLCAiZGFzaEFycmF5IjogbnVsbCwgImRhc2hPZmZzZXQiOiBudWxsLCAiZmlsbCI6IHRydWUsICJmaWxsQ29sb3IiOiAiIzJjYTAyYyIsICJmaWxsT3BhY2l0eSI6IDAuMywgImZpbGxSdWxlIjogImV2ZW5vZGQiLCAibGluZUNhcCI6ICJyb3VuZCIsICJsaW5lSm9pbiI6ICJyb3VuZCIsICJvcGFjaXR5IjogMS4wLCAicmFkaXVzIjogNSwgInN0cm9rZSI6IHRydWUsICJ3ZWlnaHQiOiAzfQogICAgICAgICAgICApLmFkZFRvKG1hcF84Njk1Njk0NTJkZjU0MjI0YjVjNjdkMzZmNjAyMjkxMSk7CiAgICAgICAgCiAgICAKICAgICAgICB2YXIgcG9wdXBfYmUxMmQ4ZTEzMDMzNDk3NjhjY2U4NjAyNGYxZmNkNzkgPSBMLnBvcHVwKHsibWF4V2lkdGgiOiAiMTAwJSJ9KTsKCiAgICAgICAgCiAgICAgICAgICAgIHZhciBodG1sXzdiZGJlYmRiOTZhMTRkOGE5MTY5YmViZmJhMjVlODRhID0gJChgPGRpdiBpZD0iaHRtbF83YmRiZWJkYjk2YTE0ZDhhOTE2OWJlYmZiYTI1ZTg0YSIgc3R5bGU9IndpZHRoOiAxMDAuMCU7IGhlaWdodDogMTAwLjAlOyI+QXJ0dXIgQWx2aW0gKExlc3RlKTwvZGl2PmApWzBdOwogICAgICAgICAgICBwb3B1cF9iZTEyZDhlMTMwMzM0OTc2OGNjZTg2MDI0ZjFmY2Q3OS5zZXRDb250ZW50KGh0bWxfN2JkYmViZGI5NmExNGQ4YTkxNjliZWJmYmEyNWU4NGEpOwogICAgICAgIAoKICAgICAgICBjaXJjbGVfbWFya2VyXzdhZWE0MzgxOTRiZDRlMmI4OGUyMjc0NzdiNGExZDQ4LmJpbmRQb3B1cChwb3B1cF9iZTEyZDhlMTMwMzM0OTc2OGNjZTg2MDI0ZjFmY2Q3OSkKICAgICAgICA7CgogICAgICAgIAogICAgCiAgICAKICAgICAgICAgICAgdmFyIGNpcmNsZV9tYXJrZXJfZmE2ZWZlMThhNDg1NDhlM2E1ZWNiNzI2OTNlZmY3YTIgPSBMLmNpcmNsZU1hcmtlcigKICAgICAgICAgICAgICAgIFstMjMuNTEyNiwgLTQ2LjU0Nl0sCiAgICAgICAgICAgICAgICB7ImJ1YmJsaW5nTW91c2VFdmVudHMiOiB0cnVlLCAiY29sb3IiOiAiIzJjYTAyYyIsICJkYXNoQXJyYXkiOiBudWxsLCAiZGFzaE9mZnNldCI6IG51bGwsICJmaWxsIjogdHJ1ZSwgImZpbGxDb2xvciI6ICIjMmNhMDJjIiwgImZpbGxPcGFjaXR5IjogMC4zLCAiZmlsbFJ1bGUiOiAiZXZlbm9kZCIsICJsaW5lQ2FwIjogInJvdW5kIiwgImxpbmVKb2luIjogInJvdW5kIiwgIm9wYWNpdHkiOiAxLjAsICJyYWRpdXMiOiA1LCAic3Ryb2tlIjogdHJ1ZSwgIndlaWdodCI6IDN9CiAgICAgICAgICAgICkuYWRkVG8obWFwXzg2OTU2OTQ1MmRmNTQyMjRiNWM2N2QzNmY2MDIyOTExKTsKICAgICAgICAKICAgIAogICAgICAgIHZhciBwb3B1cF8zNGVlN2M0MjU4MTU0N2RlYTZlMjcxZTYyNGUxMzY1NyA9IEwucG9wdXAoeyJtYXhXaWR0aCI6ICIxMDAlIn0pOwoKICAgICAgICAKICAgICAgICAgICAgdmFyIGh0bWxfMzIxNjA3ZjdjMWQ3NDdhODgwNTY2ZTBkN2FjOWI1ZGIgPSAkKGA8ZGl2IGlkPSJodG1sXzMyMTYwN2Y3YzFkNzQ3YTg4MDU2NmUwZDdhYzliNWRiIiBzdHlsZT0id2lkdGg6IDEwMC4wJTsgaGVpZ2h0OiAxMDAuMCU7Ij5DYW5nYcOtYmEgKExlc3RlKTwvZGl2PmApWzBdOwogICAgICAgICAgICBwb3B1cF8zNGVlN2M0MjU4MTU0N2RlYTZlMjcxZTYyNGUxMzY1Ny5zZXRDb250ZW50KGh0bWxfMzIxNjA3ZjdjMWQ3NDdhODgwNTY2ZTBkN2FjOWI1ZGIpOwogICAgICAgIAoKICAgICAgICBjaXJjbGVfbWFya2VyX2ZhNmVmZTE4YTQ4NTQ4ZTNhNWVjYjcyNjkzZWZmN2EyLmJpbmRQb3B1cChwb3B1cF8zNGVlN2M0MjU4MTU0N2RlYTZlMjcxZTYyNGUxMzY1NykKICAgICAgICA7CgogICAgICAgIAogICAgCiAgICAKICAgICAgICAgICAgdmFyIGNpcmNsZV9tYXJrZXJfNjlkY2VkYzdjYTQ5NDFjZDk4OTYwNThjNDBmMWMyMGYgPSBMLmNpcmNsZU1hcmtlcigKICAgICAgICAgICAgICAgIFstMjMuNTM0MiwgLTQ2LjU0MjldLAogICAgICAgICAgICAgICAgeyJidWJibGluZ01vdXNlRXZlbnRzIjogdHJ1ZSwgImNvbG9yIjogIiMyY2EwMmMiLCAiZGFzaEFycmF5IjogbnVsbCwgImRhc2hPZmZzZXQiOiBudWxsLCAiZmlsbCI6IHRydWUsICJmaWxsQ29sb3IiOiAiIzJjYTAyYyIsICJmaWxsT3BhY2l0eSI6IDAuMywgImZpbGxSdWxlIjogImV2ZW5vZGQiLCAibGluZUNhcCI6ICJyb3VuZCIsICJsaW5lSm9pbiI6ICJyb3VuZCIsICJvcGFjaXR5IjogMS4wLCAicmFkaXVzIjogNSwgInN0cm9rZSI6IHRydWUsICJ3ZWlnaHQiOiAzfQogICAgICAgICAgICApLmFkZFRvKG1hcF84Njk1Njk0NTJkZjU0MjI0YjVjNjdkMzZmNjAyMjkxMSk7CiAgICAgICAgCiAgICAKICAgICAgICB2YXIgcG9wdXBfYzVkZDQwYjFjZGMzNDcwN2IwMjY4NDZjNzE0MDJjOGEgPSBMLnBvcHVwKHsibWF4V2lkdGgiOiAiMTAwJSJ9KTsKCiAgICAgICAgCiAgICAgICAgICAgIHZhciBodG1sX2MwNGM0NjU2MGVlMjQwZjNhOGY4MGYwOTcyYTI0MWQwID0gJChgPGRpdiBpZD0iaHRtbF9jMDRjNDY1NjBlZTI0MGYzYThmODBmMDk3MmEyNDFkMCIgc3R5bGU9IndpZHRoOiAxMDAuMCU7IGhlaWdodDogMTAwLjAlOyI+UGVuaGEgKExlc3RlKTwvZGl2PmApWzBdOwogICAgICAgICAgICBwb3B1cF9jNWRkNDBiMWNkYzM0NzA3YjAyNjg0NmM3MTQwMmM4YS5zZXRDb250ZW50KGh0bWxfYzA0YzQ2NTYwZWUyNDBmM2E4ZjgwZjA5NzJhMjQxZDApOwogICAgICAgIAoKICAgICAgICBjaXJjbGVfbWFya2VyXzY5ZGNlZGM3Y2E0OTQxY2Q5ODk2MDU4YzQwZjFjMjBmLmJpbmRQb3B1cChwb3B1cF9jNWRkNDBiMWNkYzM0NzA3YjAyNjg0NmM3MTQwMmM4YSkKICAgICAgICA7CgogICAgICAgIAogICAgCiAgICAKICAgICAgICAgICAgdmFyIGNpcmNsZV9tYXJrZXJfYTY2OWI3Y2ZkM2YxNDhjNjhhZTI1ODdhZjIyN2NiYTEgPSBMLmNpcmNsZU1hcmtlcigKICAgICAgICAgICAgICAgIFstMjMuNTM2MiwgLTQ2LjUyNDZdLAogICAgICAgICAgICAgICAgeyJidWJibGluZ01vdXNlRXZlbnRzIjogdHJ1ZSwgImNvbG9yIjogIiMyY2EwMmMiLCAiZGFzaEFycmF5IjogbnVsbCwgImRhc2hPZmZzZXQiOiBudWxsLCAiZmlsbCI6IHRydWUsICJmaWxsQ29sb3IiOiAiIzJjYTAyYyIsICJmaWxsT3BhY2l0eSI6IDAuMywgImZpbGxSdWxlIjogImV2ZW5vZGQiLCAibGluZUNhcCI6ICJyb3VuZCIsICJsaW5lSm9pbiI6ICJyb3VuZCIsICJvcGFjaXR5IjogMS4wLCAicmFkaXVzIjogNSwgInN0cm9rZSI6IHRydWUsICJ3ZWlnaHQiOiAzfQogICAgICAgICAgICApLmFkZFRvKG1hcF84Njk1Njk0NTJkZjU0MjI0YjVjNjdkMzZmNjAyMjkxMSk7CiAgICAgICAgCiAgICAKICAgICAgICB2YXIgcG9wdXBfN2FlZGRkMjgyZjhkNDNlOTljNmZhMjQ2OGFlNjk4OTYgPSBMLnBvcHVwKHsibWF4V2lkdGgiOiAiMTAwJSJ9KTsKCiAgICAgICAgCiAgICAgICAgICAgIHZhciBodG1sXzhkZGU4OTkxMGQxMTRkNDBiM2U2MGVjMTA1MjVmNzAxID0gJChgPGRpdiBpZD0iaHRtbF84ZGRlODk5MTBkMTE0ZDQwYjNlNjBlYzEwNTI1ZjcwMSIgc3R5bGU9IndpZHRoOiAxMDAuMCU7IGhlaWdodDogMTAwLjAlOyI+VmlsYSBNYXRpbGRlIChMZXN0ZSk8L2Rpdj5gKVswXTsKICAgICAgICAgICAgcG9wdXBfN2FlZGRkMjgyZjhkNDNlOTljNmZhMjQ2OGFlNjk4OTYuc2V0Q29udGVudChodG1sXzhkZGU4OTkxMGQxMTRkNDBiM2U2MGVjMTA1MjVmNzAxKTsKICAgICAgICAKCiAgICAgICAgY2lyY2xlX21hcmtlcl9hNjY5YjdjZmQzZjE0OGM2OGFlMjU4N2FmMjI3Y2JhMS5iaW5kUG9wdXAocG9wdXBfN2FlZGRkMjgyZjhkNDNlOTljNmZhMjQ2OGFlNjk4OTYpCiAgICAgICAgOwoKICAgICAgICAKICAgIAogICAgCiAgICAgICAgICAgIHZhciBjaXJjbGVfbWFya2VyXzU5YTQwNzkwMWE3NTQyYjBiNzgwYWNjMWU5ZmU1NTk4ID0gTC5jaXJjbGVNYXJrZXIoCiAgICAgICAgICAgICAgICBbLTIzLjYxODIsIC00Ni40MTldLAogICAgICAgICAgICAgICAgeyJidWJibGluZ01vdXNlRXZlbnRzIjogdHJ1ZSwgImNvbG9yIjogIiMyY2EwMmMiLCAiZGFzaEFycmF5IjogbnVsbCwgImRhc2hPZmZzZXQiOiBudWxsLCAiZmlsbCI6IHRydWUsICJmaWxsQ29sb3IiOiAiIzJjYTAyYyIsICJmaWxsT3BhY2l0eSI6IDAuMywgImZpbGxSdWxlIjogImV2ZW5vZGQiLCAibGluZUNhcCI6ICJyb3VuZCIsICJsaW5lSm9pbiI6ICJyb3VuZCIsICJvcGFjaXR5IjogMS4wLCAicmFkaXVzIjogNSwgInN0cm9rZSI6IHRydWUsICJ3ZWlnaHQiOiAzfQogICAgICAgICAgICApLmFkZFRvKG1hcF84Njk1Njk0NTJkZjU0MjI0YjVjNjdkMzZmNjAyMjkxMSk7CiAgICAgICAgCiAgICAKICAgICAgICB2YXIgcG9wdXBfNDQ5Y2I3YjVlYTVjNDY1MWE0Y2MxMTNhMTg3ZmJiZWYgPSBMLnBvcHVwKHsibWF4V2lkdGgiOiAiMTAwJSJ9KTsKCiAgICAgICAgCiAgICAgICAgICAgIHZhciBodG1sXzE0ZDk0NGFjOGViZTRjZTM4MjEyNzA3NDExNGY0NmNhID0gJChgPGRpdiBpZD0iaHRtbF8xNGQ5NDRhYzhlYmU0Y2UzODIxMjcwNzQxMTRmNDZjYSIgc3R5bGU9IndpZHRoOiAxMDAuMCU7IGhlaWdodDogMTAwLjAlOyI+SWd1YXRlbWkgKExlc3RlKTwvZGl2PmApWzBdOwogICAgICAgICAgICBwb3B1cF80NDljYjdiNWVhNWM0NjUxYTRjYzExM2ExODdmYmJlZi5zZXRDb250ZW50KGh0bWxfMTRkOTQ0YWM4ZWJlNGNlMzgyMTI3MDc0MTE0ZjQ2Y2EpOwogICAgICAgIAoKICAgICAgICBjaXJjbGVfbWFya2VyXzU5YTQwNzkwMWE3NTQyYjBiNzgwYWNjMWU5ZmU1NTk4LmJpbmRQb3B1cChwb3B1cF80NDljYjdiNWVhNWM0NjUxYTRjYzExM2ExODdmYmJlZikKICAgICAgICA7CgogICAgICAgIAogICAgCiAgICAKICAgICAgICAgICAgdmFyIGNpcmNsZV9tYXJrZXJfNWZmMzA4NzIxYjJkNDBhZDlhNWM5NmM5Y2UxNzE0NWUgPSBMLmNpcmNsZU1hcmtlcigKICAgICAgICAgICAgICAgIFstMjMuNjEyMywgLTQ2LjQ3NzNdLAogICAgICAgICAgICAgICAgeyJidWJibGluZ01vdXNlRXZlbnRzIjogdHJ1ZSwgImNvbG9yIjogIiMyY2EwMmMiLCAiZGFzaEFycmF5IjogbnVsbCwgImRhc2hPZmZzZXQiOiBudWxsLCAiZmlsbCI6IHRydWUsICJmaWxsQ29sb3IiOiAiIzJjYTAyYyIsICJmaWxsT3BhY2l0eSI6IDAuMywgImZpbGxSdWxlIjogImV2ZW5vZGQiLCAibGluZUNhcCI6ICJyb3VuZCIsICJsaW5lSm9pbiI6ICJyb3VuZCIsICJvcGFjaXR5IjogMS4wLCAicmFkaXVzIjogNSwgInN0cm9rZSI6IHRydWUsICJ3ZWlnaHQiOiAzfQogICAgICAgICAgICApLmFkZFRvKG1hcF84Njk1Njk0NTJkZjU0MjI0YjVjNjdkMzZmNjAyMjkxMSk7CiAgICAgICAgCiAgICAKICAgICAgICB2YXIgcG9wdXBfOGJjNDA5MGNlYjgyNGEwZDgzMWQ3MTI2YjcyMjVjYjAgPSBMLnBvcHVwKHsibWF4V2lkdGgiOiAiMTAwJSJ9KTsKCiAgICAgICAgCiAgICAgICAgICAgIHZhciBodG1sXzRkNTQzYmZiODE1ZDRkOTRiNjljNDZhODZhMzhhZTY1ID0gJChgPGRpdiBpZD0iaHRtbF80ZDU0M2JmYjgxNWQ0ZDk0YjY5YzQ2YTg2YTM4YWU2NSIgc3R5bGU9IndpZHRoOiAxMDAuMCU7IGhlaWdodDogMTAwLjAlOyI+U8OjbyBNYXRldXMgKExlc3RlKTwvZGl2PmApWzBdOwogICAgICAgICAgICBwb3B1cF84YmM0MDkwY2ViODI0YTBkODMxZDcxMjZiNzIyNWNiMC5zZXRDb250ZW50KGh0bWxfNGQ1NDNiZmI4MTVkNGQ5NGI2OWM0NmE4NmEzOGFlNjUpOwogICAgICAgIAoKICAgICAgICBjaXJjbGVfbWFya2VyXzVmZjMwODcyMWIyZDQwYWQ5YTVjOTZjOWNlMTcxNDVlLmJpbmRQb3B1cChwb3B1cF84YmM0MDkwY2ViODI0YTBkODMxZDcxMjZiNzIyNWNiMCkKICAgICAgICA7CgogICAgICAgIAogICAgCiAgICAKICAgICAgICAgICAgdmFyIGNpcmNsZV9tYXJrZXJfY2FmZGFiYWZlNTMyNDY5MmE3ZGI5NDU2ZGVlYWU5MTAgPSBMLmNpcmNsZU1hcmtlcigKICAgICAgICAgICAgICAgIFstMjMuNjI3MiwgLTQ2LjQ1MzJdLAogICAgICAgICAgICAgICAgeyJidWJibGluZ01vdXNlRXZlbnRzIjogdHJ1ZSwgImNvbG9yIjogIiMyY2EwMmMiLCAiZGFzaEFycmF5IjogbnVsbCwgImRhc2hPZmZzZXQiOiBudWxsLCAiZmlsbCI6IHRydWUsICJmaWxsQ29sb3IiOiAiIzJjYTAyYyIsICJmaWxsT3BhY2l0eSI6IDAuMywgImZpbGxSdWxlIjogImV2ZW5vZGQiLCAibGluZUNhcCI6ICJyb3VuZCIsICJsaW5lSm9pbiI6ICJyb3VuZCIsICJvcGFjaXR5IjogMS4wLCAicmFkaXVzIjogNSwgInN0cm9rZSI6IHRydWUsICJ3ZWlnaHQiOiAzfQogICAgICAgICAgICApLmFkZFRvKG1hcF84Njk1Njk0NTJkZjU0MjI0YjVjNjdkMzZmNjAyMjkxMSk7CiAgICAgICAgCiAgICAKICAgICAgICB2YXIgcG9wdXBfNzdiZmQxYmE4MGFlNDIxZGE3MDEwNmIzZTc2Yjg0ZGYgPSBMLnBvcHVwKHsibWF4V2lkdGgiOiAiMTAwJSJ9KTsKCiAgICAgICAgCiAgICAgICAgICAgIHZhciBodG1sX2M5OGRjMzNkNzRkZDQ3MGY5MTQzOGY4ZTMxZDljYjU4ID0gJChgPGRpdiBpZD0iaHRtbF9jOThkYzMzZDc0ZGQ0NzBmOTE0MzhmOGUzMWQ5Y2I1OCIgc3R5bGU9IndpZHRoOiAxMDAuMCU7IGhlaWdodDogMTAwLjAlOyI+U8OjbyBSYWZhZWwgKExlc3RlKTwvZGl2PmApWzBdOwogICAgICAgICAgICBwb3B1cF83N2JmZDFiYTgwYWU0MjFkYTcwMTA2YjNlNzZiODRkZi5zZXRDb250ZW50KGh0bWxfYzk4ZGMzM2Q3NGRkNDcwZjkxNDM4ZjhlMzFkOWNiNTgpOwogICAgICAgIAoKICAgICAgICBjaXJjbGVfbWFya2VyX2NhZmRhYmFmZTUzMjQ2OTJhN2RiOTQ1NmRlZWFlOTEwLmJpbmRQb3B1cChwb3B1cF83N2JmZDFiYTgwYWU0MjFkYTcwMTA2YjNlNzZiODRkZikKICAgICAgICA7CgogICAgICAgIAogICAgCiAgICAKICAgICAgICAgICAgdmFyIGNpcmNsZV9tYXJrZXJfZTY3YjgyMzJmNjdjNDFlMzk5YTNjMTVmOWQyNDQ5NjEgPSBMLmNpcmNsZU1hcmtlcigKICAgICAgICAgICAgICAgIFstMjMuNTAyNywgLTQ2LjQzODNdLAogICAgICAgICAgICAgICAgeyJidWJibGluZ01vdXNlRXZlbnRzIjogdHJ1ZSwgImNvbG9yIjogIiMyY2EwMmMiLCAiZGFzaEFycmF5IjogbnVsbCwgImRhc2hPZmZzZXQiOiBudWxsLCAiZmlsbCI6IHRydWUsICJmaWxsQ29sb3IiOiAiIzJjYTAyYyIsICJmaWxsT3BhY2l0eSI6IDAuMywgImZpbGxSdWxlIjogImV2ZW5vZGQiLCAibGluZUNhcCI6ICJyb3VuZCIsICJsaW5lSm9pbiI6ICJyb3VuZCIsICJvcGFjaXR5IjogMS4wLCAicmFkaXVzIjogNSwgInN0cm9rZSI6IHRydWUsICJ3ZWlnaHQiOiAzfQogICAgICAgICAgICApLmFkZFRvKG1hcF84Njk1Njk0NTJkZjU0MjI0YjVjNjdkMzZmNjAyMjkxMSk7CiAgICAgICAgCiAgICAKICAgICAgICB2YXIgcG9wdXBfOTJkMWJjYWMxNmU2NDUxNWE1OGM5ZjQyZDg4NjAzMWIgPSBMLnBvcHVwKHsibWF4V2lkdGgiOiAiMTAwJSJ9KTsKCiAgICAgICAgCiAgICAgICAgICAgIHZhciBodG1sX2U1OTNmNjllOTc1NzRiNWM4MzhiYmQzMDg5YTA1M2UwID0gJChgPGRpdiBpZD0iaHRtbF9lNTkzZjY5ZTk3NTc0YjVjODM4YmJkMzA4OWEwNTNlMCIgc3R5bGU9IndpZHRoOiAxMDAuMCU7IGhlaWdodDogMTAwLjAlOyI+SmFyZGltIEhlbGVuYSAoTGVzdGUpPC9kaXY+YClbMF07CiAgICAgICAgICAgIHBvcHVwXzkyZDFiY2FjMTZlNjQ1MTVhNThjOWY0MmQ4ODYwMzFiLnNldENvbnRlbnQoaHRtbF9lNTkzZjY5ZTk3NTc0YjVjODM4YmJkMzA4OWEwNTNlMCk7CiAgICAgICAgCgogICAgICAgIGNpcmNsZV9tYXJrZXJfZTY3YjgyMzJmNjdjNDFlMzk5YTNjMTVmOWQyNDQ5NjEuYmluZFBvcHVwKHBvcHVwXzkyZDFiY2FjMTZlNjQ1MTVhNThjOWY0MmQ4ODYwMzFiKQogICAgICAgIDsKCiAgICAgICAgCiAgICAKICAgIAogICAgICAgICAgICB2YXIgY2lyY2xlX21hcmtlcl81YzMwZDYwNDg0ZDg0ZTgxYTcxNWIyMzkwOWU3NjhhYyA9IEwuY2lyY2xlTWFya2VyKAogICAgICAgICAgICAgICAgWy0yMy40OTQ5LCAtNDYuNDM5MV0sCiAgICAgICAgICAgICAgICB7ImJ1YmJsaW5nTW91c2VFdmVudHMiOiB0cnVlLCAiY29sb3IiOiAiIzJjYTAyYyIsICJkYXNoQXJyYXkiOiBudWxsLCAiZGFzaE9mZnNldCI6IG51bGwsICJmaWxsIjogdHJ1ZSwgImZpbGxDb2xvciI6ICIjMmNhMDJjIiwgImZpbGxPcGFjaXR5IjogMC4zLCAiZmlsbFJ1bGUiOiAiZXZlbm9kZCIsICJsaW5lQ2FwIjogInJvdW5kIiwgImxpbmVKb2luIjogInJvdW5kIiwgIm9wYWNpdHkiOiAxLjAsICJyYWRpdXMiOiA1LCAic3Ryb2tlIjogdHJ1ZSwgIndlaWdodCI6IDN9CiAgICAgICAgICAgICkuYWRkVG8obWFwXzg2OTU2OTQ1MmRmNTQyMjRiNWM2N2QzNmY2MDIyOTExKTsKICAgICAgICAKICAgIAogICAgICAgIHZhciBwb3B1cF83NmRmZDI1ODIwNmY0MjUwODhkMWY4MmQyNGYwY2VjNyA9IEwucG9wdXAoeyJtYXhXaWR0aCI6ICIxMDAlIn0pOwoKICAgICAgICAKICAgICAgICAgICAgdmFyIGh0bWxfOGY2MzNlM2RhMDUwNGY0OGI1NDc4MjIyZjMxNTNjMWEgPSAkKGA8ZGl2IGlkPSJodG1sXzhmNjMzZTNkYTA1MDRmNDhiNTQ3ODIyMmYzMTUzYzFhIiBzdHlsZT0id2lkdGg6IDEwMC4wJTsgaGVpZ2h0OiAxMDAuMCU7Ij5Tw6NvCiAgIE1pZ3VlbMKgIChMZXN0ZSk8L2Rpdj5gKVswXTsKICAgICAgICAgICAgcG9wdXBfNzZkZmQyNTgyMDZmNDI1MDg4ZDFmODJkMjRmMGNlYzcuc2V0Q29udGVudChodG1sXzhmNjMzZTNkYTA1MDRmNDhiNTQ3ODIyMmYzMTUzYzFhKTsKICAgICAgICAKCiAgICAgICAgY2lyY2xlX21hcmtlcl81YzMwZDYwNDg0ZDg0ZTgxYTcxNWIyMzkwOWU3NjhhYy5iaW5kUG9wdXAocG9wdXBfNzZkZmQyNTgyMDZmNDI1MDg4ZDFmODJkMjRmMGNlYzcpCiAgICAgICAgOwoKICAgICAgICAKICAgIAogICAgCiAgICAgICAgICAgIHZhciBjaXJjbGVfbWFya2VyXzJlZjQzNTNlMmRmODRhOTJiOTU2ZTM2NjYyZDg4YWQxID0gTC5jaXJjbGVNYXJrZXIoCiAgICAgICAgICAgICAgICBbLTIzLjUwMDMsIC00Ni40NTg3XSwKICAgICAgICAgICAgICAgIHsiYnViYmxpbmdNb3VzZUV2ZW50cyI6IHRydWUsICJjb2xvciI6ICIjMmNhMDJjIiwgImRhc2hBcnJheSI6IG51bGwsICJkYXNoT2Zmc2V0IjogbnVsbCwgImZpbGwiOiB0cnVlLCAiZmlsbENvbG9yIjogIiMyY2EwMmMiLCAiZmlsbE9wYWNpdHkiOiAwLjMsICJmaWxsUnVsZSI6ICJldmVub2RkIiwgImxpbmVDYXAiOiAicm91bmQiLCAibGluZUpvaW4iOiAicm91bmQiLCAib3BhY2l0eSI6IDEuMCwgInJhZGl1cyI6IDUsICJzdHJva2UiOiB0cnVlLCAid2VpZ2h0IjogM30KICAgICAgICAgICAgKS5hZGRUbyhtYXBfODY5NTY5NDUyZGY1NDIyNGI1YzY3ZDM2ZjYwMjI5MTEpOwogICAgICAgIAogICAgCiAgICAgICAgdmFyIHBvcHVwX2M5NzY3NjZlNTI2NjRlYWJiYmFkOTNiOGZiMjQ1ZDU5ID0gTC5wb3B1cCh7Im1heFdpZHRoIjogIjEwMCUifSk7CgogICAgICAgIAogICAgICAgICAgICB2YXIgaHRtbF9mMTZlMGMzNGI3MDM0YzNmODM5YjAyZjM3ODM4MzM3MiA9ICQoYDxkaXYgaWQ9Imh0bWxfZjE2ZTBjMzRiNzAzNGMzZjgzOWIwMmYzNzgzODMzNzIiIHN0eWxlPSJ3aWR0aDogMTAwLjAlOyBoZWlnaHQ6IDEwMC4wJTsiPlZpbGEgSmFjdcOtIChMZXN0ZSk8L2Rpdj5gKVswXTsKICAgICAgICAgICAgcG9wdXBfYzk3Njc2NmU1MjY2NGVhYmJiYWQ5M2I4ZmIyNDVkNTkuc2V0Q29udGVudChodG1sX2YxNmUwYzM0YjcwMzRjM2Y4MzliMDJmMzc4MzgzMzcyKTsKICAgICAgICAKCiAgICAgICAgY2lyY2xlX21hcmtlcl8yZWY0MzUzZTJkZjg0YTkyYjk1NmUzNjY2MmQ4OGFkMS5iaW5kUG9wdXAocG9wdXBfYzk3Njc2NmU1MjY2NGVhYmJiYWQ5M2I4ZmIyNDVkNTkpCiAgICAgICAgOwoKICAgICAgICAKICAgIAogICAgCiAgICAgICAgICAgIHZhciBjaXJjbGVfbWFya2VyXzhmZWY5NjMzNmU1NzQ4MTM4NzIzMTVlNDI0MTkyMjA5ID0gTC5jaXJjbGVNYXJrZXIoCiAgICAgICAgICAgICAgICBbLTIzLjYxNDcsIC00Ni41MDA4XSwKICAgICAgICAgICAgICAgIHsiYnViYmxpbmdNb3VzZUV2ZW50cyI6IHRydWUsICJjb2xvciI6ICIjMmNhMDJjIiwgImRhc2hBcnJheSI6IG51bGwsICJkYXNoT2Zmc2V0IjogbnVsbCwgImZpbGwiOiB0cnVlLCAiZmlsbENvbG9yIjogIiMyY2EwMmMiLCAiZmlsbE9wYWNpdHkiOiAwLjMsICJmaWxsUnVsZSI6ICJldmVub2RkIiwgImxpbmVDYXAiOiAicm91bmQiLCAibGluZUpvaW4iOiAicm91bmQiLCAib3BhY2l0eSI6IDEuMCwgInJhZGl1cyI6IDUsICJzdHJva2UiOiB0cnVlLCAid2VpZ2h0IjogM30KICAgICAgICAgICAgKS5hZGRUbyhtYXBfODY5NTY5NDUyZGY1NDIyNGI1YzY3ZDM2ZjYwMjI5MTEpOwogICAgICAgIAogICAgCiAgICAgICAgdmFyIHBvcHVwXzRlYWRlMGJiMDUwODQ4ZWZhODVhYTc2MDkzNTFhMjNiID0gTC5wb3B1cCh7Im1heFdpZHRoIjogIjEwMCUifSk7CgogICAgICAgIAogICAgICAgICAgICB2YXIgaHRtbF8yOTEyYzIyMWY2ZDM0Yjc5YTQwNzA2ZDUxZTIwMDFhNyA9ICQoYDxkaXYgaWQ9Imh0bWxfMjkxMmMyMjFmNmQzNGI3OWE0MDcwNmQ1MWUyMDAxYTciIHN0eWxlPSJ3aWR0aDogMTAwLjAlOyBoZWlnaHQ6IDEwMC4wJTsiPlNhcG9wZW1iYSAoTGVzdGUpPC9kaXY+YClbMF07CiAgICAgICAgICAgIHBvcHVwXzRlYWRlMGJiMDUwODQ4ZWZhODVhYTc2MDkzNTFhMjNiLnNldENvbnRlbnQoaHRtbF8yOTEyYzIyMWY2ZDM0Yjc5YTQwNzA2ZDUxZTIwMDFhNyk7CiAgICAgICAgCgogICAgICAgIGNpcmNsZV9tYXJrZXJfOGZlZjk2MzM2ZTU3NDgxMzg3MjMxNWU0MjQxOTIyMDkuYmluZFBvcHVwKHBvcHVwXzRlYWRlMGJiMDUwODQ4ZWZhODVhYTc2MDkzNTFhMjNiKQogICAgICAgIDsKCiAgICAgICAgCiAgICAKICAgIAogICAgICAgICAgICB2YXIgY2lyY2xlX21hcmtlcl9lMWMxN2VlOWU2ZWU0NGM2YTgxMjdlZGQ1NTYzMjM1ZSA9IEwuY2lyY2xlTWFya2VyKAogICAgICAgICAgICAgICAgWy0yMy41ODg5LCAtNDYuNTQ0Nl0sCiAgICAgICAgICAgICAgICB7ImJ1YmJsaW5nTW91c2VFdmVudHMiOiB0cnVlLCAiY29sb3IiOiAiIzJjYTAyYyIsICJkYXNoQXJyYXkiOiBudWxsLCAiZGFzaE9mZnNldCI6IG51bGwsICJmaWxsIjogdHJ1ZSwgImZpbGxDb2xvciI6ICIjMmNhMDJjIiwgImZpbGxPcGFjaXR5IjogMC4zLCAiZmlsbFJ1bGUiOiAiZXZlbm9kZCIsICJsaW5lQ2FwIjogInJvdW5kIiwgImxpbmVKb2luIjogInJvdW5kIiwgIm9wYWNpdHkiOiAxLjAsICJyYWRpdXMiOiA1LCAic3Ryb2tlIjogdHJ1ZSwgIndlaWdodCI6IDN9CiAgICAgICAgICAgICkuYWRkVG8obWFwXzg2OTU2OTQ1MmRmNTQyMjRiNWM2N2QzNmY2MDIyOTExKTsKICAgICAgICAKICAgIAogICAgICAgIHZhciBwb3B1cF9mYmRlNTkyMGJhOGU0YWNmOWIxYTVhZWM3ODFmYTIzOCA9IEwucG9wdXAoeyJtYXhXaWR0aCI6ICIxMDAlIn0pOwoKICAgICAgICAKICAgICAgICAgICAgdmFyIGh0bWxfYzM4NGQ0ZjgwZThlNDVkNTk3ZmVlMzMxN2IyMjc2M2YgPSAkKGA8ZGl2IGlkPSJodG1sX2MzODRkNGY4MGU4ZTQ1ZDU5N2ZlZTMzMTdiMjI3NjNmIiBzdHlsZT0id2lkdGg6IDEwMC4wJTsgaGVpZ2h0OiAxMDAuMCU7Ij5Tw6NvIEx1Y2FzIChMZXN0ZSk8L2Rpdj5gKVswXTsKICAgICAgICAgICAgcG9wdXBfZmJkZTU5MjBiYThlNGFjZjliMWE1YWVjNzgxZmEyMzguc2V0Q29udGVudChodG1sX2MzODRkNGY4MGU4ZTQ1ZDU5N2ZlZTMzMTdiMjI3NjNmKTsKICAgICAgICAKCiAgICAgICAgY2lyY2xlX21hcmtlcl9lMWMxN2VlOWU2ZWU0NGM2YTgxMjdlZGQ1NTYzMjM1ZS5iaW5kUG9wdXAocG9wdXBfZmJkZTU5MjBiYThlNGFjZjliMWE1YWVjNzgxZmEyMzgpCiAgICAgICAgOwoKICAgICAgICAKICAgIAogICAgCiAgICAgICAgICAgIHZhciBjaXJjbGVfbWFya2VyXzk3MzVjOWRkYmIxZjQyYzlhMDJjYmRmYjRlNGY3M2Y1ID0gTC5jaXJjbGVNYXJrZXIoCiAgICAgICAgICAgICAgICBbLTIzLjU4NDYsIC00Ni41ODM0XSwKICAgICAgICAgICAgICAgIHsiYnViYmxpbmdNb3VzZUV2ZW50cyI6IHRydWUsICJjb2xvciI6ICIjMmNhMDJjIiwgImRhc2hBcnJheSI6IG51bGwsICJkYXNoT2Zmc2V0IjogbnVsbCwgImZpbGwiOiB0cnVlLCAiZmlsbENvbG9yIjogIiMyY2EwMmMiLCAiZmlsbE9wYWNpdHkiOiAwLjMsICJmaWxsUnVsZSI6ICJldmVub2RkIiwgImxpbmVDYXAiOiAicm91bmQiLCAibGluZUpvaW4iOiAicm91bmQiLCAib3BhY2l0eSI6IDEuMCwgInJhZGl1cyI6IDUsICJzdHJva2UiOiB0cnVlLCAid2VpZ2h0IjogM30KICAgICAgICAgICAgKS5hZGRUbyhtYXBfODY5NTY5NDUyZGY1NDIyNGI1YzY3ZDM2ZjYwMjI5MTEpOwogICAgICAgIAogICAgCiAgICAgICAgdmFyIHBvcHVwX2YzZDM2ZjI1NjEwMjQzNTBiMTVjMjZkY2VhYjkxNjhiID0gTC5wb3B1cCh7Im1heFdpZHRoIjogIjEwMCUifSk7CgogICAgICAgIAogICAgICAgICAgICB2YXIgaHRtbF8zMWIwNjg1OGQ5YWI0NzhmOGY2NDY1Y2NlNDg0MTYxYSA9ICQoYDxkaXYgaWQ9Imh0bWxfMzFiMDY4NThkOWFiNDc4ZjhmNjQ2NWNjZTQ4NDE2MWEiIHN0eWxlPSJ3aWR0aDogMTAwLjAlOyBoZWlnaHQ6IDEwMC4wJTsiPlZpbGEgUHJ1ZGVudGUgKExlc3RlKTwvZGl2PmApWzBdOwogICAgICAgICAgICBwb3B1cF9mM2QzNmYyNTYxMDI0MzUwYjE1YzI2ZGNlYWI5MTY4Yi5zZXRDb250ZW50KGh0bWxfMzFiMDY4NThkOWFiNDc4ZjhmNjQ2NWNjZTQ4NDE2MWEpOwogICAgICAgIAoKICAgICAgICBjaXJjbGVfbWFya2VyXzk3MzVjOWRkYmIxZjQyYzlhMDJjYmRmYjRlNGY3M2Y1LmJpbmRQb3B1cChwb3B1cF9mM2QzNmYyNTYxMDI0MzUwYjE1YzI2ZGNlYWI5MTY4YikKICAgICAgICA7CgogICAgICAgIAogICAgCiAgICAKICAgICAgICAgICAgdmFyIGNpcmNsZV9tYXJrZXJfM2UxNjA5NzJjZWNhNGE3YWEyNGZhOGYzNGE3OTQ1MjQgPSBMLmNpcmNsZU1hcmtlcigKICAgICAgICAgICAgICAgIFstMjMuNDQ5NSwgLTQ2LjY2MzddLAogICAgICAgICAgICAgICAgeyJidWJibGluZ01vdXNlRXZlbnRzIjogdHJ1ZSwgImNvbG9yIjogIiM4YzU2NGIiLCAiZGFzaEFycmF5IjogbnVsbCwgImRhc2hPZmZzZXQiOiBudWxsLCAiZmlsbCI6IHRydWUsICJmaWxsQ29sb3IiOiAiIzhjNTY0YiIsICJmaWxsT3BhY2l0eSI6IDAuMywgImZpbGxSdWxlIjogImV2ZW5vZGQiLCAibGluZUNhcCI6ICJyb3VuZCIsICJsaW5lSm9pbiI6ICJyb3VuZCIsICJvcGFjaXR5IjogMS4wLCAicmFkaXVzIjogNSwgInN0cm9rZSI6IHRydWUsICJ3ZWlnaHQiOiAzfQogICAgICAgICAgICApLmFkZFRvKG1hcF84Njk1Njk0NTJkZjU0MjI0YjVjNjdkMzZmNjAyMjkxMSk7CiAgICAgICAgCiAgICAKICAgICAgICB2YXIgcG9wdXBfZmRlYzhkMTM5OGE4NDQwNTgxOTUwZjQ5OGM3ZDdlODYgPSBMLnBvcHVwKHsibWF4V2lkdGgiOiAiMTAwJSJ9KTsKCiAgICAgICAgCiAgICAgICAgICAgIHZhciBodG1sXzgwYjg5YzM2NmI2ZjQzNGE5ODIxNmE2OGRhOTY4ZjM0ID0gJChgPGRpdiBpZD0iaHRtbF84MGI4OWMzNjZiNmY0MzRhOTgyMTZhNjhkYTk2OGYzNCIgc3R5bGU9IndpZHRoOiAxMDAuMCU7IGhlaWdodDogMTAwLjAlOyI+Q2FjaG9laXJpbmhhIChOb3J0ZSk8L2Rpdj5gKVswXTsKICAgICAgICAgICAgcG9wdXBfZmRlYzhkMTM5OGE4NDQwNTgxOTUwZjQ5OGM3ZDdlODYuc2V0Q29udGVudChodG1sXzgwYjg5YzM2NmI2ZjQzNGE5ODIxNmE2OGRhOTY4ZjM0KTsKICAgICAgICAKCiAgICAgICAgY2lyY2xlX21hcmtlcl8zZTE2MDk3MmNlY2E0YTdhYTI0ZmE4ZjM0YTc5NDUyNC5iaW5kUG9wdXAocG9wdXBfZmRlYzhkMTM5OGE4NDQwNTgxOTUwZjQ5OGM3ZDdlODYpCiAgICAgICAgOwoKICAgICAgICAKICAgIAogICAgCiAgICAgICAgICAgIHZhciBjaXJjbGVfbWFya2VyXzc0NTgyNTcyYjQ5NTRhZmZhNGMwMjY2MzY5MDdmNzBlID0gTC5jaXJjbGVNYXJrZXIoCiAgICAgICAgICAgICAgICBbLTIzLjUwNTksIC00Ni42NTYxXSwKICAgICAgICAgICAgICAgIHsiYnViYmxpbmdNb3VzZUV2ZW50cyI6IHRydWUsICJjb2xvciI6ICIjOGM1NjRiIiwgImRhc2hBcnJheSI6IG51bGwsICJkYXNoT2Zmc2V0IjogbnVsbCwgImZpbGwiOiB0cnVlLCAiZmlsbENvbG9yIjogIiM4YzU2NGIiLCAiZmlsbE9wYWNpdHkiOiAwLjMsICJmaWxsUnVsZSI6ICJldmVub2RkIiwgImxpbmVDYXAiOiAicm91bmQiLCAibGluZUpvaW4iOiAicm91bmQiLCAib3BhY2l0eSI6IDEuMCwgInJhZGl1cyI6IDUsICJzdHJva2UiOiB0cnVlLCAid2VpZ2h0IjogM30KICAgICAgICAgICAgKS5hZGRUbyhtYXBfODY5NTY5NDUyZGY1NDIyNGI1YzY3ZDM2ZjYwMjI5MTEpOwogICAgICAgIAogICAgCiAgICAgICAgdmFyIHBvcHVwXzYzMDAxMjk4ODMxNjRjNWFhYzJhMzM1Y2JjY2Y5ZjRkID0gTC5wb3B1cCh7Im1heFdpZHRoIjogIjEwMCUifSk7CgogICAgICAgIAogICAgICAgICAgICB2YXIgaHRtbF9iZmEzMTc4MjgzMTM0Y2MwODBkYmVlYzdkOWU2NGE1YyA9ICQoYDxkaXYgaWQ9Imh0bWxfYmZhMzE3ODI4MzEzNGNjMDgwZGJlZWM3ZDllNjRhNWMiIHN0eWxlPSJ3aWR0aDogMTAwLjAlOyBoZWlnaHQ6IDEwMC4wJTsiPkNhc2EgVmVyZGUgKE5vcnRlKTwvZGl2PmApWzBdOwogICAgICAgICAgICBwb3B1cF82MzAwMTI5ODgzMTY0YzVhYWMyYTMzNWNiY2NmOWY0ZC5zZXRDb250ZW50KGh0bWxfYmZhMzE3ODI4MzEzNGNjMDgwZGJlZWM3ZDllNjRhNWMpOwogICAgICAgIAoKICAgICAgICBjaXJjbGVfbWFya2VyXzc0NTgyNTcyYjQ5NTRhZmZhNGMwMjY2MzY5MDdmNzBlLmJpbmRQb3B1cChwb3B1cF82MzAwMTI5ODgzMTY0YzVhYWMyYTMzNWNiY2NmOWY0ZCkKICAgICAgICA7CgogICAgICAgIAogICAgCiAgICAKICAgICAgICAgICAgdmFyIGNpcmNsZV9tYXJrZXJfMTUxZWM1ZGFlMDY0NGE3NTg5N2Y5MjhiMzQ4MmQyYmIgPSBMLmNpcmNsZU1hcmtlcigKICAgICAgICAgICAgICAgIFstMjMuNTAzMywgLTQ2LjY3NTNdLAogICAgICAgICAgICAgICAgeyJidWJibGluZ01vdXNlRXZlbnRzIjogdHJ1ZSwgImNvbG9yIjogIiM4YzU2NGIiLCAiZGFzaEFycmF5IjogbnVsbCwgImRhc2hPZmZzZXQiOiBudWxsLCAiZmlsbCI6IHRydWUsICJmaWxsQ29sb3IiOiAiIzhjNTY0YiIsICJmaWxsT3BhY2l0eSI6IDAuMywgImZpbGxSdWxlIjogImV2ZW5vZGQiLCAibGluZUNhcCI6ICJyb3VuZCIsICJsaW5lSm9pbiI6ICJyb3VuZCIsICJvcGFjaXR5IjogMS4wLCAicmFkaXVzIjogNSwgInN0cm9rZSI6IHRydWUsICJ3ZWlnaHQiOiAzfQogICAgICAgICAgICApLmFkZFRvKG1hcF84Njk1Njk0NTJkZjU0MjI0YjVjNjdkMzZmNjAyMjkxMSk7CiAgICAgICAgCiAgICAKICAgICAgICB2YXIgcG9wdXBfM2FkMjVjNDUzYWMxNGM3MTk4ODJhZTQ5ZjFhYzkzZmIgPSBMLnBvcHVwKHsibWF4V2lkdGgiOiAiMTAwJSJ9KTsKCiAgICAgICAgCiAgICAgICAgICAgIHZhciBodG1sXzg0NDgyZTQ3YmVlNzQwYTlhMzc2OTIyM2MyNTUxODEwID0gJChgPGRpdiBpZD0iaHRtbF84NDQ4MmU0N2JlZTc0MGE5YTM3NjkyMjNjMjU1MTgxMCIgc3R5bGU9IndpZHRoOiAxMDAuMCU7IGhlaWdodDogMTAwLjAlOyI+TGltw6NvIChOb3J0ZSk8L2Rpdj5gKVswXTsKICAgICAgICAgICAgcG9wdXBfM2FkMjVjNDUzYWMxNGM3MTk4ODJhZTQ5ZjFhYzkzZmIuc2V0Q29udGVudChodG1sXzg0NDgyZTQ3YmVlNzQwYTlhMzc2OTIyM2MyNTUxODEwKTsKICAgICAgICAKCiAgICAgICAgY2lyY2xlX21hcmtlcl8xNTFlYzVkYWUwNjQ0YTc1ODk3ZjkyOGIzNDgyZDJiYi5iaW5kUG9wdXAocG9wdXBfM2FkMjVjNDUzYWMxNGM3MTk4ODJhZTQ5ZjFhYzkzZmIpCiAgICAgICAgOwoKICAgICAgICAKICAgIAogICAgCiAgICAgICAgICAgIHZhciBjaXJjbGVfbWFya2VyX2Y2M2I2M2NjMGRhNTQ3ODA5MjIxNDgyNWY1ZTU3YTcwID0gTC5jaXJjbGVNYXJrZXIoCiAgICAgICAgICAgICAgICBbLTIzLjQ3MTcsIC00Ni43MDU5XSwKICAgICAgICAgICAgICAgIHsiYnViYmxpbmdNb3VzZUV2ZW50cyI6IHRydWUsICJjb2xvciI6ICIjOGM1NjRiIiwgImRhc2hBcnJheSI6IG51bGwsICJkYXNoT2Zmc2V0IjogbnVsbCwgImZpbGwiOiB0cnVlLCAiZmlsbENvbG9yIjogIiM4YzU2NGIiLCAiZmlsbE9wYWNpdHkiOiAwLjMsICJmaWxsUnVsZSI6ICJldmVub2RkIiwgImxpbmVDYXAiOiAicm91bmQiLCAibGluZUpvaW4iOiAicm91bmQiLCAib3BhY2l0eSI6IDEuMCwgInJhZGl1cyI6IDUsICJzdHJva2UiOiB0cnVlLCAid2VpZ2h0IjogM30KICAgICAgICAgICAgKS5hZGRUbyhtYXBfODY5NTY5NDUyZGY1NDIyNGI1YzY3ZDM2ZjYwMjI5MTEpOwogICAgICAgIAogICAgCiAgICAgICAgdmFyIHBvcHVwX2U1OGMyMDk1MDY1MTRjYTBhNGYzOWFiNGNhZDlmMmRhID0gTC5wb3B1cCh7Im1heFdpZHRoIjogIjEwMCUifSk7CgogICAgICAgIAogICAgICAgICAgICB2YXIgaHRtbF9jM2JkZDcxN2RlNDM0NjA2ODM0MmJmNzc0NTJjODg2MyA9ICQoYDxkaXYgaWQ9Imh0bWxfYzNiZGQ3MTdkZTQzNDYwNjgzNDJiZjc3NDUyYzg4NjMiIHN0eWxlPSJ3aWR0aDogMTAwLjAlOyBoZWlnaHQ6IDEwMC4wJTsiPkJyYXNpbMOibmRpYSAoTm9ydGUpPC9kaXY+YClbMF07CiAgICAgICAgICAgIHBvcHVwX2U1OGMyMDk1MDY1MTRjYTBhNGYzOWFiNGNhZDlmMmRhLnNldENvbnRlbnQoaHRtbF9jM2JkZDcxN2RlNDM0NjA2ODM0MmJmNzc0NTJjODg2Myk7CiAgICAgICAgCgogICAgICAgIGNpcmNsZV9tYXJrZXJfZjYzYjYzY2MwZGE1NDc4MDkyMjE0ODI1ZjVlNTdhNzAuYmluZFBvcHVwKHBvcHVwX2U1OGMyMDk1MDY1MTRjYTBhNGYzOWFiNGNhZDlmMmRhKQogICAgICAgIDsKCiAgICAgICAgCiAgICAKICAgIAogICAgICAgICAgICB2YXIgY2lyY2xlX21hcmtlcl85ZDQ3OTI1ZDk4YmI0OWRmYmIyOTA2YmM2YjVlZTRmYyA9IEwuY2lyY2xlTWFya2VyKAogICAgICAgICAgICAgICAgWy0yMy40NzE3LCAtNDYuNzA1OV0sCiAgICAgICAgICAgICAgICB7ImJ1YmJsaW5nTW91c2VFdmVudHMiOiB0cnVlLCAiY29sb3IiOiAiIzhjNTY0YiIsICJkYXNoQXJyYXkiOiBudWxsLCAiZGFzaE9mZnNldCI6IG51bGwsICJmaWxsIjogdHJ1ZSwgImZpbGxDb2xvciI6ICIjOGM1NjRiIiwgImZpbGxPcGFjaXR5IjogMC4zLCAiZmlsbFJ1bGUiOiAiZXZlbm9kZCIsICJsaW5lQ2FwIjogInJvdW5kIiwgImxpbmVKb2luIjogInJvdW5kIiwgIm9wYWNpdHkiOiAxLjAsICJyYWRpdXMiOiA1LCAic3Ryb2tlIjogdHJ1ZSwgIndlaWdodCI6IDN9CiAgICAgICAgICAgICkuYWRkVG8obWFwXzg2OTU2OTQ1MmRmNTQyMjRiNWM2N2QzNmY2MDIyOTExKTsKICAgICAgICAKICAgIAogICAgICAgIHZhciBwb3B1cF9iMGEzMWZkN2QwNjE0ZmUyYThjZDZhMjhhYWQxMGE0MyA9IEwucG9wdXAoeyJtYXhXaWR0aCI6ICIxMDAlIn0pOwoKICAgICAgICAKICAgICAgICAgICAgdmFyIGh0bWxfOTA0YjUyOTU3Y2FmNGYwZThkZmQwNWY5ZTBlN2E0M2MgPSAkKGA8ZGl2IGlkPSJodG1sXzkwNGI1Mjk1N2NhZjRmMGU4ZGZkMDVmOWUwZTdhNDNjIiBzdHlsZT0id2lkdGg6IDEwMC4wJTsgaGVpZ2h0OiAxMDAuMCU7Ij5GcmVndWVzaWEgZG8gw5MgKE5vcnRlKTwvZGl2PmApWzBdOwogICAgICAgICAgICBwb3B1cF9iMGEzMWZkN2QwNjE0ZmUyYThjZDZhMjhhYWQxMGE0My5zZXRDb250ZW50KGh0bWxfOTA0YjUyOTU3Y2FmNGYwZThkZmQwNWY5ZTBlN2E0M2MpOwogICAgICAgIAoKICAgICAgICBjaXJjbGVfbWFya2VyXzlkNDc5MjVkOThiYjQ5ZGZiYjI5MDZiYzZiNWVlNGZjLmJpbmRQb3B1cChwb3B1cF9iMGEzMWZkN2QwNjE0ZmUyYThjZDZhMjhhYWQxMGE0MykKICAgICAgICA7CgogICAgICAgIAogICAgCiAgICAKICAgICAgICAgICAgdmFyIGNpcmNsZV9tYXJrZXJfMDU0ZTNmODhhY2RjNGUyMjg5NDc1ODMwY2YzNDNjYmEgPSBMLmNpcmNsZU1hcmtlcigKICAgICAgICAgICAgICAgIFstMjMuNDA4MywgLTQ2LjU4MDRdLAogICAgICAgICAgICAgICAgeyJidWJibGluZ01vdXNlRXZlbnRzIjogdHJ1ZSwgImNvbG9yIjogIiM4YzU2NGIiLCAiZGFzaEFycmF5IjogbnVsbCwgImRhc2hPZmZzZXQiOiBudWxsLCAiZmlsbCI6IHRydWUsICJmaWxsQ29sb3IiOiAiIzhjNTY0YiIsICJmaWxsT3BhY2l0eSI6IDAuMywgImZpbGxSdWxlIjogImV2ZW5vZGQiLCAibGluZUNhcCI6ICJyb3VuZCIsICJsaW5lSm9pbiI6ICJyb3VuZCIsICJvcGFjaXR5IjogMS4wLCAicmFkaXVzIjogNSwgInN0cm9rZSI6IHRydWUsICJ3ZWlnaHQiOiAzfQogICAgICAgICAgICApLmFkZFRvKG1hcF84Njk1Njk0NTJkZjU0MjI0YjVjNjdkMzZmNjAyMjkxMSk7CiAgICAgICAgCiAgICAKICAgICAgICB2YXIgcG9wdXBfMzhhNWFjYTA3NDlhNDIyMzkyMmMxNDA3OTY1Y2VlMWYgPSBMLnBvcHVwKHsibWF4V2lkdGgiOiAiMTAwJSJ9KTsKCiAgICAgICAgCiAgICAgICAgICAgIHZhciBodG1sXzFlNTBjNjA1YmE3MTQyNWE4NzRlYjkxMDhiOGM1OGUzID0gJChgPGRpdiBpZD0iaHRtbF8xZTUwYzYwNWJhNzE0MjVhODc0ZWI5MTA4YjhjNThlMyIgc3R5bGU9IndpZHRoOiAxMDAuMCU7IGhlaWdodDogMTAwLjAlOyI+SmHDp2Fuw6MgKE5vcnRlKTwvZGl2PmApWzBdOwogICAgICAgICAgICBwb3B1cF8zOGE1YWNhMDc0OWE0MjIzOTIyYzE0MDc5NjVjZWUxZi5zZXRDb250ZW50KGh0bWxfMWU1MGM2MDViYTcxNDI1YTg3NGViOTEwOGI4YzU4ZTMpOwogICAgICAgIAoKICAgICAgICBjaXJjbGVfbWFya2VyXzA1NGUzZjg4YWNkYzRlMjI4OTQ3NTgzMGNmMzQzY2JhLmJpbmRQb3B1cChwb3B1cF8zOGE1YWNhMDc0OWE0MjIzOTIyYzE0MDc5NjVjZWUxZikKICAgICAgICA7CgogICAgICAgIAogICAgCiAgICAKICAgICAgICAgICAgdmFyIGNpcmNsZV9tYXJrZXJfNjY2NmE1NDY4ZGU4NGQwNGI0YTAzMzg3M2NkZWM5YTAgPSBMLmNpcmNsZU1hcmtlcigKICAgICAgICAgICAgICAgIFstMjMuNDA4MywgLTQ2LjU4MDRdLAogICAgICAgICAgICAgICAgeyJidWJibGluZ01vdXNlRXZlbnRzIjogdHJ1ZSwgImNvbG9yIjogIiM4YzU2NGIiLCAiZGFzaEFycmF5IjogbnVsbCwgImRhc2hPZmZzZXQiOiBudWxsLCAiZmlsbCI6IHRydWUsICJmaWxsQ29sb3IiOiAiIzhjNTY0YiIsICJmaWxsT3BhY2l0eSI6IDAuMywgImZpbGxSdWxlIjogImV2ZW5vZGQiLCAibGluZUNhcCI6ICJyb3VuZCIsICJsaW5lSm9pbiI6ICJyb3VuZCIsICJvcGFjaXR5IjogMS4wLCAicmFkaXVzIjogNSwgInN0cm9rZSI6IHRydWUsICJ3ZWlnaHQiOiAzfQogICAgICAgICAgICApLmFkZFRvKG1hcF84Njk1Njk0NTJkZjU0MjI0YjVjNjdkMzZmNjAyMjkxMSk7CiAgICAgICAgCiAgICAKICAgICAgICB2YXIgcG9wdXBfOTkxMGUxYTQ5OTI1NGZmYmFlNTIzOGJkZTdhOGEwMzQgPSBMLnBvcHVwKHsibWF4V2lkdGgiOiAiMTAwJSJ9KTsKCiAgICAgICAgCiAgICAgICAgICAgIHZhciBodG1sXzQ5NjIyNGE4YmMyZTQ5OGY4Nzk0OTJlM2ZhODFmZjViID0gJChgPGRpdiBpZD0iaHRtbF80OTYyMjRhOGJjMmU0OThmODc5NDkyZTNmYTgxZmY1YiIgc3R5bGU9IndpZHRoOiAxMDAuMCU7IGhlaWdodDogMTAwLjAlOyI+VHJlbWVtYsOpIChOb3J0ZSk8L2Rpdj5gKVswXTsKICAgICAgICAgICAgcG9wdXBfOTkxMGUxYTQ5OTI1NGZmYmFlNTIzOGJkZTdhOGEwMzQuc2V0Q29udGVudChodG1sXzQ5NjIyNGE4YmMyZTQ5OGY4Nzk0OTJlM2ZhODFmZjViKTsKICAgICAgICAKCiAgICAgICAgY2lyY2xlX21hcmtlcl82NjY2YTU0NjhkZTg0ZDA0YjRhMDMzODczY2RlYzlhMC5iaW5kUG9wdXAocG9wdXBfOTkxMGUxYTQ5OTI1NGZmYmFlNTIzOGJkZTdhOGEwMzQpCiAgICAgICAgOwoKICAgICAgICAKICAgIAogICAgCiAgICAgICAgICAgIHZhciBjaXJjbGVfbWFya2VyXzhiMDNiYmE1NDJkNjQzNTU4NTU5ZGExYzg1ZGY0ZGE2ID0gTC5jaXJjbGVNYXJrZXIoCiAgICAgICAgICAgICAgICBbLTIzLjQyNTIsIC00Ni43NzcxXSwKICAgICAgICAgICAgICAgIHsiYnViYmxpbmdNb3VzZUV2ZW50cyI6IHRydWUsICJjb2xvciI6ICIjOGM1NjRiIiwgImRhc2hBcnJheSI6IG51bGwsICJkYXNoT2Zmc2V0IjogbnVsbCwgImZpbGwiOiB0cnVlLCAiZmlsbENvbG9yIjogIiM4YzU2NGIiLCAiZmlsbE9wYWNpdHkiOiAwLjMsICJmaWxsUnVsZSI6ICJldmVub2RkIiwgImxpbmVDYXAiOiAicm91bmQiLCAibGluZUpvaW4iOiAicm91bmQiLCAib3BhY2l0eSI6IDEuMCwgInJhZGl1cyI6IDUsICJzdHJva2UiOiB0cnVlLCAid2VpZ2h0IjogM30KICAgICAgICAgICAgKS5hZGRUbyhtYXBfODY5NTY5NDUyZGY1NDIyNGI1YzY3ZDM2ZjYwMjI5MTEpOwogICAgICAgIAogICAgCiAgICAgICAgdmFyIHBvcHVwX2VmMjhmZWViNWY0YTQ4MWU5OGU2OTExODQ5YjcyMDFiID0gTC5wb3B1cCh7Im1heFdpZHRoIjogIjEwMCUifSk7CgogICAgICAgIAogICAgICAgICAgICB2YXIgaHRtbF8wYmY0NTczOTY3NzU0MjJjODE3NTZkMjQ3YjNiNGExNSA9ICQoYDxkaXYgaWQ9Imh0bWxfMGJmNDU3Mzk2Nzc1NDIyYzgxNzU2ZDI0N2IzYjRhMTUiIHN0eWxlPSJ3aWR0aDogMTAwLjAlOyBoZWlnaHQ6IDEwMC4wJTsiPkFuaGFuZ3VlcmEgKE5vcnRlKTwvZGl2PmApWzBdOwogICAgICAgICAgICBwb3B1cF9lZjI4ZmVlYjVmNGE0ODFlOThlNjkxMTg0OWI3MjAxYi5zZXRDb250ZW50KGh0bWxfMGJmNDU3Mzk2Nzc1NDIyYzgxNzU2ZDI0N2IzYjRhMTUpOwogICAgICAgIAoKICAgICAgICBjaXJjbGVfbWFya2VyXzhiMDNiYmE1NDJkNjQzNTU4NTU5ZGExYzg1ZGY0ZGE2LmJpbmRQb3B1cChwb3B1cF9lZjI4ZmVlYjVmNGE0ODFlOThlNjkxMTg0OWI3MjAxYikKICAgICAgICA7CgogICAgICAgIAogICAgCiAgICAKICAgICAgICAgICAgdmFyIGNpcmNsZV9tYXJrZXJfZGU2N2FiOGE0NjdmNDQ2NGJhZTJlYWJkZmE5ZTlkNjggPSBMLmNpcmNsZU1hcmtlcigKICAgICAgICAgICAgICAgIFstMjMuNDA3NCwgLTQ2Ljc1MjJdLAogICAgICAgICAgICAgICAgeyJidWJibGluZ01vdXNlRXZlbnRzIjogdHJ1ZSwgImNvbG9yIjogIiM4YzU2NGIiLCAiZGFzaEFycmF5IjogbnVsbCwgImRhc2hPZmZzZXQiOiBudWxsLCAiZmlsbCI6IHRydWUsICJmaWxsQ29sb3IiOiAiIzhjNTY0YiIsICJmaWxsT3BhY2l0eSI6IDAuMywgImZpbGxSdWxlIjogImV2ZW5vZGQiLCAibGluZUNhcCI6ICJyb3VuZCIsICJsaW5lSm9pbiI6ICJyb3VuZCIsICJvcGFjaXR5IjogMS4wLCAicmFkaXVzIjogNSwgInN0cm9rZSI6IHRydWUsICJ3ZWlnaHQiOiAzfQogICAgICAgICAgICApLmFkZFRvKG1hcF84Njk1Njk0NTJkZjU0MjI0YjVjNjdkMzZmNjAyMjkxMSk7CiAgICAgICAgCiAgICAKICAgICAgICB2YXIgcG9wdXBfMGU4YzNiNTM5NjBjNGRhMDkzNTFhODg5NTM2ODIwZmQgPSBMLnBvcHVwKHsibWF4V2lkdGgiOiAiMTAwJSJ9KTsKCiAgICAgICAgCiAgICAgICAgICAgIHZhciBodG1sXzJjZmIzOGUwZmU5ZTQzYmRiOGM0ZDk4NTc5ZWEwMTg2ID0gJChgPGRpdiBpZD0iaHRtbF8yY2ZiMzhlMGZlOWU0M2JkYjhjNGQ5ODU3OWVhMDE4NiIgc3R5bGU9IndpZHRoOiAxMDAuMCU7IGhlaWdodDogMTAwLjAlOyI+UGVydXMgKE5vcnRlKTwvZGl2PmApWzBdOwogICAgICAgICAgICBwb3B1cF8wZThjM2I1Mzk2MGM0ZGEwOTM1MWE4ODk1MzY4MjBmZC5zZXRDb250ZW50KGh0bWxfMmNmYjM4ZTBmZTllNDNiZGI4YzRkOTg1NzllYTAxODYpOwogICAgICAgIAoKICAgICAgICBjaXJjbGVfbWFya2VyX2RlNjdhYjhhNDY3ZjQ0NjRiYWUyZWFiZGZhOWU5ZDY4LmJpbmRQb3B1cChwb3B1cF8wZThjM2I1Mzk2MGM0ZGEwOTM1MWE4ODk1MzY4MjBmZCkKICAgICAgICA7CgogICAgICAgIAogICAgCiAgICAKICAgICAgICAgICAgdmFyIGNpcmNsZV9tYXJrZXJfZDkzZWExNjlkODVjNDJhNDk3Yzg0YzBkY2YwZjEwMDEgPSBMLmNpcmNsZU1hcmtlcigKICAgICAgICAgICAgICAgIFstMjMuNDQ3MiwgLTQ2LjcyMTldLAogICAgICAgICAgICAgICAgeyJidWJibGluZ01vdXNlRXZlbnRzIjogdHJ1ZSwgImNvbG9yIjogIiM4YzU2NGIiLCAiZGFzaEFycmF5IjogbnVsbCwgImRhc2hPZmZzZXQiOiBudWxsLCAiZmlsbCI6IHRydWUsICJmaWxsQ29sb3IiOiAiIzhjNTY0YiIsICJmaWxsT3BhY2l0eSI6IDAuMywgImZpbGxSdWxlIjogImV2ZW5vZGQiLCAibGluZUNhcCI6ICJyb3VuZCIsICJsaW5lSm9pbiI6ICJyb3VuZCIsICJvcGFjaXR5IjogMS4wLCAicmFkaXVzIjogNSwgInN0cm9rZSI6IHRydWUsICJ3ZWlnaHQiOiAzfQogICAgICAgICAgICApLmFkZFRvKG1hcF84Njk1Njk0NTJkZjU0MjI0YjVjNjdkMzZmNjAyMjkxMSk7CiAgICAgICAgCiAgICAKICAgICAgICB2YXIgcG9wdXBfOTMyNzUxMzliNzg3NGNmZDg2ZjhlNTIyYjFiMDkzYTggPSBMLnBvcHVwKHsibWF4V2lkdGgiOiAiMTAwJSJ9KTsKCiAgICAgICAgCiAgICAgICAgICAgIHZhciBodG1sXzk2MmExYTI1Y2UwNTQ2ZmE5MjgzZDNjY2RiMThiZmYwID0gJChgPGRpdiBpZD0iaHRtbF85NjJhMWEyNWNlMDU0NmZhOTI4M2QzY2NkYjE4YmZmMCIgc3R5bGU9IndpZHRoOiAxMDAuMCU7IGhlaWdodDogMTAwLjAlOyI+SmFyYWd1w6EgKE5vcnRlKTwvZGl2PmApWzBdOwogICAgICAgICAgICBwb3B1cF85MzI3NTEzOWI3ODc0Y2ZkODZmOGU1MjJiMWIwOTNhOC5zZXRDb250ZW50KGh0bWxfOTYyYTFhMjVjZTA1NDZmYTkyODNkM2NjZGIxOGJmZjApOwogICAgICAgIAoKICAgICAgICBjaXJjbGVfbWFya2VyX2Q5M2VhMTY5ZDg1YzQyYTQ5N2M4NGMwZGNmMGYxMDAxLmJpbmRQb3B1cChwb3B1cF85MzI3NTEzOWI3ODc0Y2ZkODZmOGU1MjJiMWIwOTNhOCkKICAgICAgICA7CgogICAgICAgIAogICAgCiAgICAKICAgICAgICAgICAgdmFyIGNpcmNsZV9tYXJrZXJfODYwMDVkZWQ2MjdkNGU1YTk3NjFjZTc4Njc3ODU0OTkgPSBMLmNpcmNsZU1hcmtlcigKICAgICAgICAgICAgICAgIFstMjMuNDg4NSwgLTQ2LjcyNl0sCiAgICAgICAgICAgICAgICB7ImJ1YmJsaW5nTW91c2VFdmVudHMiOiB0cnVlLCAiY29sb3IiOiAiIzhjNTY0YiIsICJkYXNoQXJyYXkiOiBudWxsLCAiZGFzaE9mZnNldCI6IG51bGwsICJmaWxsIjogdHJ1ZSwgImZpbGxDb2xvciI6ICIjOGM1NjRiIiwgImZpbGxPcGFjaXR5IjogMC4zLCAiZmlsbFJ1bGUiOiAiZXZlbm9kZCIsICJsaW5lQ2FwIjogInJvdW5kIiwgImxpbmVKb2luIjogInJvdW5kIiwgIm9wYWNpdHkiOiAxLjAsICJyYWRpdXMiOiA1LCAic3Ryb2tlIjogdHJ1ZSwgIndlaWdodCI6IDN9CiAgICAgICAgICAgICkuYWRkVG8obWFwXzg2OTU2OTQ1MmRmNTQyMjRiNWM2N2QzNmY2MDIyOTExKTsKICAgICAgICAKICAgIAogICAgICAgIHZhciBwb3B1cF84MDYzOTc0ZDYzZDI0ZDZlYjM1ZTI5ZjI2MWIwYjE3YSA9IEwucG9wdXAoeyJtYXhXaWR0aCI6ICIxMDAlIn0pOwoKICAgICAgICAKICAgICAgICAgICAgdmFyIGh0bWxfZjJmNWE4MzFkNjk3NGE1YzhmODc3YTA1ZTFlZDlkYTkgPSAkKGA8ZGl2IGlkPSJodG1sX2YyZjVhODMxZDY5NzRhNWM4Zjg3N2EwNWUxZWQ5ZGE5IiBzdHlsZT0id2lkdGg6IDEwMC4wJTsgaGVpZ2h0OiAxMDAuMCU7Ij5QaXJpdHViYSAoTm9ydGUpPC9kaXY+YClbMF07CiAgICAgICAgICAgIHBvcHVwXzgwNjM5NzRkNjNkMjRkNmViMzVlMjlmMjYxYjBiMTdhLnNldENvbnRlbnQoaHRtbF9mMmY1YTgzMWQ2OTc0YTVjOGY4NzdhMDVlMWVkOWRhOSk7CiAgICAgICAgCgogICAgICAgIGNpcmNsZV9tYXJrZXJfODYwMDVkZWQ2MjdkNGU1YTk3NjFjZTc4Njc3ODU0OTkuYmluZFBvcHVwKHBvcHVwXzgwNjM5NzRkNjNkMjRkNmViMzVlMjlmMjYxYjBiMTdhKQogICAgICAgIDsKCiAgICAgICAgCiAgICAKICAgIAogICAgICAgICAgICB2YXIgY2lyY2xlX21hcmtlcl9kZjk5Y2FmZmIyZjc0YzE4YmJkYzVmMTEzMTc4NGMzMiA9IEwuY2lyY2xlTWFya2VyKAogICAgICAgICAgICAgICAgWy0yMy40OTM4LCAtNDYuNzQ1Nl0sCiAgICAgICAgICAgICAgICB7ImJ1YmJsaW5nTW91c2VFdmVudHMiOiB0cnVlLCAiY29sb3IiOiAiIzhjNTY0YiIsICJkYXNoQXJyYXkiOiBudWxsLCAiZGFzaE9mZnNldCI6IG51bGwsICJmaWxsIjogdHJ1ZSwgImZpbGxDb2xvciI6ICIjOGM1NjRiIiwgImZpbGxPcGFjaXR5IjogMC4zLCAiZmlsbFJ1bGUiOiAiZXZlbm9kZCIsICJsaW5lQ2FwIjogInJvdW5kIiwgImxpbmVKb2luIjogInJvdW5kIiwgIm9wYWNpdHkiOiAxLjAsICJyYWRpdXMiOiA1LCAic3Ryb2tlIjogdHJ1ZSwgIndlaWdodCI6IDN9CiAgICAgICAgICAgICkuYWRkVG8obWFwXzg2OTU2OTQ1MmRmNTQyMjRiNWM2N2QzNmY2MDIyOTExKTsKICAgICAgICAKICAgIAogICAgICAgIHZhciBwb3B1cF83MjhkMzQ0NmQ5YjE0NzdkOWU2ODM1ZWQyYTczMTc2NCA9IEwucG9wdXAoeyJtYXhXaWR0aCI6ICIxMDAlIn0pOwoKICAgICAgICAKICAgICAgICAgICAgdmFyIGh0bWxfZDU3NDUzNDA1M2E1NDNjMWJlMjAyNzlkNWYyNGE3MWYgPSAkKGA8ZGl2IGlkPSJodG1sX2Q1NzQ1MzQwNTNhNTQzYzFiZTIwMjc5ZDVmMjRhNzFmIiBzdHlsZT0id2lkdGg6IDEwMC4wJTsgaGVpZ2h0OiAxMDAuMCU7Ij5Tw6NvIERvbWluZ29zIChOb3J0ZSk8L2Rpdj5gKVswXTsKICAgICAgICAgICAgcG9wdXBfNzI4ZDM0NDZkOWIxNDc3ZDllNjgzNWVkMmE3MzE3NjQuc2V0Q29udGVudChodG1sX2Q1NzQ1MzQwNTNhNTQzYzFiZTIwMjc5ZDVmMjRhNzFmKTsKICAgICAgICAKCiAgICAgICAgY2lyY2xlX21hcmtlcl9kZjk5Y2FmZmIyZjc0YzE4YmJkYzVmMTEzMTc4NGMzMi5iaW5kUG9wdXAocG9wdXBfNzI4ZDM0NDZkOWIxNDc3ZDllNjgzNWVkMmE3MzE3NjQpCiAgICAgICAgOwoKICAgICAgICAKICAgIAogICAgCiAgICAgICAgICAgIHZhciBjaXJjbGVfbWFya2VyX2ZiMmYyYzU0YjI3NTQwZGFhNTVjYWJhODk0YjMyZDZhID0gTC5jaXJjbGVNYXJrZXIoCiAgICAgICAgICAgICAgICBbLTIzLjQ3NzgsIC00Ni42MjA4XSwKICAgICAgICAgICAgICAgIHsiYnViYmxpbmdNb3VzZUV2ZW50cyI6IHRydWUsICJjb2xvciI6ICIjOGM1NjRiIiwgImRhc2hBcnJheSI6IG51bGwsICJkYXNoT2Zmc2V0IjogbnVsbCwgImZpbGwiOiB0cnVlLCAiZmlsbENvbG9yIjogIiM4YzU2NGIiLCAiZmlsbE9wYWNpdHkiOiAwLjMsICJmaWxsUnVsZSI6ICJldmVub2RkIiwgImxpbmVDYXAiOiAicm91bmQiLCAibGluZUpvaW4iOiAicm91bmQiLCAib3BhY2l0eSI6IDEuMCwgInJhZGl1cyI6IDUsICJzdHJva2UiOiB0cnVlLCAid2VpZ2h0IjogM30KICAgICAgICAgICAgKS5hZGRUbyhtYXBfODY5NTY5NDUyZGY1NDIyNGI1YzY3ZDM2ZjYwMjI5MTEpOwogICAgICAgIAogICAgCiAgICAgICAgdmFyIHBvcHVwXzdlY2FhZmI2Yjc0NTQ0ZmI4NmM4ODk0YzY4YzU3NjBlID0gTC5wb3B1cCh7Im1heFdpZHRoIjogIjEwMCUifSk7CgogICAgICAgIAogICAgICAgICAgICB2YXIgaHRtbF8zMmFiNDVmN2Q5NGQ0M2FkYWFlMTFiMDBkMjU5ZTAxOSA9ICQoYDxkaXYgaWQ9Imh0bWxfMzJhYjQ1ZjdkOTRkNDNhZGFhZTExYjAwZDI1OWUwMTkiIHN0eWxlPSJ3aWR0aDogMTAwLjAlOyBoZWlnaHQ6IDEwMC4wJTsiPk1hbmRhcXVpIChOb3J0ZSk8L2Rpdj5gKVswXTsKICAgICAgICAgICAgcG9wdXBfN2VjYWFmYjZiNzQ1NDRmYjg2Yzg4OTRjNjhjNTc2MGUuc2V0Q29udGVudChodG1sXzMyYWI0NWY3ZDk0ZDQzYWRhYWUxMWIwMGQyNTllMDE5KTsKICAgICAgICAKCiAgICAgICAgY2lyY2xlX21hcmtlcl9mYjJmMmM1NGIyNzU0MGRhYTU1Y2FiYTg5NGIzMmQ2YS5iaW5kUG9wdXAocG9wdXBfN2VjYWFmYjZiNzQ1NDRmYjg2Yzg4OTRjNjhjNTc2MGUpCiAgICAgICAgOwoKICAgICAgICAKICAgIAogICAgCiAgICAgICAgICAgIHZhciBjaXJjbGVfbWFya2VyXzYyZGFjMjFlYzQ4YTRjZDNhMWI4ZjhiZWQxZjgwODYwID0gTC5jaXJjbGVNYXJrZXIoCiAgICAgICAgICAgICAgICBbLTIzLjUwMjYsIC00Ni42MjUyXSwKICAgICAgICAgICAgICAgIHsiYnViYmxpbmdNb3VzZUV2ZW50cyI6IHRydWUsICJjb2xvciI6ICIjOGM1NjRiIiwgImRhc2hBcnJheSI6IG51bGwsICJkYXNoT2Zmc2V0IjogbnVsbCwgImZpbGwiOiB0cnVlLCAiZmlsbENvbG9yIjogIiM4YzU2NGIiLCAiZmlsbE9wYWNpdHkiOiAwLjMsICJmaWxsUnVsZSI6ICJldmVub2RkIiwgImxpbmVDYXAiOiAicm91bmQiLCAibGluZUpvaW4iOiAicm91bmQiLCAib3BhY2l0eSI6IDEuMCwgInJhZGl1cyI6IDUsICJzdHJva2UiOiB0cnVlLCAid2VpZ2h0IjogM30KICAgICAgICAgICAgKS5hZGRUbyhtYXBfODY5NTY5NDUyZGY1NDIyNGI1YzY3ZDM2ZjYwMjI5MTEpOwogICAgICAgIAogICAgCiAgICAgICAgdmFyIHBvcHVwXzBhMTUxNzdiNmJmNzQwNjM4MTk0ZWE2ZTY1ZTMxNjg3ID0gTC5wb3B1cCh7Im1heFdpZHRoIjogIjEwMCUifSk7CgogICAgICAgIAogICAgICAgICAgICB2YXIgaHRtbF82MzMxM2JhMjIyN2U0Yjk2YTY0MmE0ODExODNiMDAxNyA9ICQoYDxkaXYgaWQ9Imh0bWxfNjMzMTNiYTIyMjdlNGI5NmE2NDJhNDgxMTgzYjAwMTciIHN0eWxlPSJ3aWR0aDogMTAwLjAlOyBoZWlnaHQ6IDEwMC4wJTsiPlNhbnRhbmEgKE5vcnRlKTwvZGl2PmApWzBdOwogICAgICAgICAgICBwb3B1cF8wYTE1MTc3YjZiZjc0MDYzODE5NGVhNmU2NWUzMTY4Ny5zZXRDb250ZW50KGh0bWxfNjMzMTNiYTIyMjdlNGI5NmE2NDJhNDgxMTgzYjAwMTcpOwogICAgICAgIAoKICAgICAgICBjaXJjbGVfbWFya2VyXzYyZGFjMjFlYzQ4YTRjZDNhMWI4ZjhiZWQxZjgwODYwLmJpbmRQb3B1cChwb3B1cF8wYTE1MTc3YjZiZjc0MDYzODE5NGVhNmU2NWUzMTY4NykKICAgICAgICA7CgogICAgICAgIAogICAgCiAgICAKICAgICAgICAgICAgdmFyIGNpcmNsZV9tYXJrZXJfNDNkZWI4NjY3NzQ0NDgwOGFlMDA3NGVmYzk3YWZiOTMgPSBMLmNpcmNsZU1hcmtlcigKICAgICAgICAgICAgICAgIFstMjMuNDc3OCwgLTQ2LjYyMDhdLAogICAgICAgICAgICAgICAgeyJidWJibGluZ01vdXNlRXZlbnRzIjogdHJ1ZSwgImNvbG9yIjogIiM4YzU2NGIiLCAiZGFzaEFycmF5IjogbnVsbCwgImRhc2hPZmZzZXQiOiBudWxsLCAiZmlsbCI6IHRydWUsICJmaWxsQ29sb3IiOiAiIzhjNTY0YiIsICJmaWxsT3BhY2l0eSI6IDAuMywgImZpbGxSdWxlIjogImV2ZW5vZGQiLCAibGluZUNhcCI6ICJyb3VuZCIsICJsaW5lSm9pbiI6ICJyb3VuZCIsICJvcGFjaXR5IjogMS4wLCAicmFkaXVzIjogNSwgInN0cm9rZSI6IHRydWUsICJ3ZWlnaHQiOiAzfQogICAgICAgICAgICApLmFkZFRvKG1hcF84Njk1Njk0NTJkZjU0MjI0YjVjNjdkMzZmNjAyMjkxMSk7CiAgICAgICAgCiAgICAKICAgICAgICB2YXIgcG9wdXBfOTljYTVmNGY3ZTNkNGQyNzkyNWQzYjVjZGFlMDNiNjMgPSBMLnBvcHVwKHsibWF4V2lkdGgiOiAiMTAwJSJ9KTsKCiAgICAgICAgCiAgICAgICAgICAgIHZhciBodG1sX2E3NTNjNmJkZDU4NTRjNmI5OWYzYzBjMDgwMmIwNTdhID0gJChgPGRpdiBpZD0iaHRtbF9hNzUzYzZiZGQ1ODU0YzZiOTlmM2MwYzA4MDJiMDU3YSIgc3R5bGU9IndpZHRoOiAxMDAuMCU7IGhlaWdodDogMTAwLjAlOyI+VHVjdXJ1dmkgKE5vcnRlKTwvZGl2PmApWzBdOwogICAgICAgICAgICBwb3B1cF85OWNhNWY0ZjdlM2Q0ZDI3OTI1ZDNiNWNkYWUwM2I2My5zZXRDb250ZW50KGh0bWxfYTc1M2M2YmRkNTg1NGM2Yjk5ZjNjMGMwODAyYjA1N2EpOwogICAgICAgIAoKICAgICAgICBjaXJjbGVfbWFya2VyXzQzZGViODY2Nzc0NDQ4MDhhZTAwNzRlZmM5N2FmYjkzLmJpbmRQb3B1cChwb3B1cF85OWNhNWY0ZjdlM2Q0ZDI3OTI1ZDNiNWNkYWUwM2I2MykKICAgICAgICA7CgogICAgICAgIAogICAgCiAgICAKICAgICAgICAgICAgdmFyIGNpcmNsZV9tYXJrZXJfZDk4NzU5Nzg0YzI3NGU2MDg5NzQ5NWUyYjI5OGZlZDMgPSBMLmNpcmNsZU1hcmtlcigKICAgICAgICAgICAgICAgIFstMjMuNTE3MSwgLTQ2LjYwOF0sCiAgICAgICAgICAgICAgICB7ImJ1YmJsaW5nTW91c2VFdmVudHMiOiB0cnVlLCAiY29sb3IiOiAiIzhjNTY0YiIsICJkYXNoQXJyYXkiOiBudWxsLCAiZGFzaE9mZnNldCI6IG51bGwsICJmaWxsIjogdHJ1ZSwgImZpbGxDb2xvciI6ICIjOGM1NjRiIiwgImZpbGxPcGFjaXR5IjogMC4zLCAiZmlsbFJ1bGUiOiAiZXZlbm9kZCIsICJsaW5lQ2FwIjogInJvdW5kIiwgImxpbmVKb2luIjogInJvdW5kIiwgIm9wYWNpdHkiOiAxLjAsICJyYWRpdXMiOiA1LCAic3Ryb2tlIjogdHJ1ZSwgIndlaWdodCI6IDN9CiAgICAgICAgICAgICkuYWRkVG8obWFwXzg2OTU2OTQ1MmRmNTQyMjRiNWM2N2QzNmY2MDIyOTExKTsKICAgICAgICAKICAgIAogICAgICAgIHZhciBwb3B1cF83NTg2YWJjMTA2OWQ0ZWFlOWUyZTZkMDI5MmI5NDgxMCA9IEwucG9wdXAoeyJtYXhXaWR0aCI6ICIxMDAlIn0pOwoKICAgICAgICAKICAgICAgICAgICAgdmFyIGh0bWxfNzQ3MmNhMmI4YmE4NDNmZDgzMmJjMTc2ZDk4N2VmMTcgPSAkKGA8ZGl2IGlkPSJodG1sXzc0NzJjYTJiOGJhODQzZmQ4MzJiYzE3NmQ5ODdlZjE3IiBzdHlsZT0id2lkdGg6IDEwMC4wJTsgaGVpZ2h0OiAxMDAuMCU7Ij5WaWxhIEd1aWxoZXJtZSAoTm9ydGUpPC9kaXY+YClbMF07CiAgICAgICAgICAgIHBvcHVwXzc1ODZhYmMxMDY5ZDRlYWU5ZTJlNmQwMjkyYjk0ODEwLnNldENvbnRlbnQoaHRtbF83NDcyY2EyYjhiYTg0M2ZkODMyYmMxNzZkOTg3ZWYxNyk7CiAgICAgICAgCgogICAgICAgIGNpcmNsZV9tYXJrZXJfZDk4NzU5Nzg0YzI3NGU2MDg5NzQ5NWUyYjI5OGZlZDMuYmluZFBvcHVwKHBvcHVwXzc1ODZhYmMxMDY5ZDRlYWU5ZTJlNmQwMjkyYjk0ODEwKQogICAgICAgIDsKCiAgICAgICAgCiAgICAKICAgIAogICAgICAgICAgICB2YXIgY2lyY2xlX21hcmtlcl8yOTcxYmExMWMyZGQ0MGQ2ODBhM2RjYTNiYTkxMzUyYiA9IEwuY2lyY2xlTWFya2VyKAogICAgICAgICAgICAgICAgWy0yMy41MTMyLCAtNDYuNTg5Ml0sCiAgICAgICAgICAgICAgICB7ImJ1YmJsaW5nTW91c2VFdmVudHMiOiB0cnVlLCAiY29sb3IiOiAiIzhjNTY0YiIsICJkYXNoQXJyYXkiOiBudWxsLCAiZGFzaE9mZnNldCI6IG51bGwsICJmaWxsIjogdHJ1ZSwgImZpbGxDb2xvciI6ICIjOGM1NjRiIiwgImZpbGxPcGFjaXR5IjogMC4zLCAiZmlsbFJ1bGUiOiAiZXZlbm9kZCIsICJsaW5lQ2FwIjogInJvdW5kIiwgImxpbmVKb2luIjogInJvdW5kIiwgIm9wYWNpdHkiOiAxLjAsICJyYWRpdXMiOiA1LCAic3Ryb2tlIjogdHJ1ZSwgIndlaWdodCI6IDN9CiAgICAgICAgICAgICkuYWRkVG8obWFwXzg2OTU2OTQ1MmRmNTQyMjRiNWM2N2QzNmY2MDIyOTExKTsKICAgICAgICAKICAgIAogICAgICAgIHZhciBwb3B1cF9kYmQ4MThjMDE4ZGQ0YTgzYWYxM2MwZjBmNmM4MTY3NiA9IEwucG9wdXAoeyJtYXhXaWR0aCI6ICIxMDAlIn0pOwoKICAgICAgICAKICAgICAgICAgICAgdmFyIGh0bWxfMDQ1NGEzMTBiNzNmNGU0NjkyZmJiNWRmODU0ZWFkOTEgPSAkKGA8ZGl2IGlkPSJodG1sXzA0NTRhMzEwYjczZjRlNDY5MmZiYjVkZjg1NGVhZDkxIiBzdHlsZT0id2lkdGg6IDEwMC4wJTsgaGVpZ2h0OiAxMDAuMCU7Ij5WaWxhIE1hcmlhIChOb3J0ZSk8L2Rpdj5gKVswXTsKICAgICAgICAgICAgcG9wdXBfZGJkODE4YzAxOGRkNGE4M2FmMTNjMGYwZjZjODE2NzYuc2V0Q29udGVudChodG1sXzA0NTRhMzEwYjczZjRlNDY5MmZiYjVkZjg1NGVhZDkxKTsKICAgICAgICAKCiAgICAgICAgY2lyY2xlX21hcmtlcl8yOTcxYmExMWMyZGQ0MGQ2ODBhM2RjYTNiYTkxMzUyYi5iaW5kUG9wdXAocG9wdXBfZGJkODE4YzAxOGRkNGE4M2FmMTNjMGYwZjZjODE2NzYpCiAgICAgICAgOwoKICAgICAgICAKICAgIAogICAgCiAgICAgICAgICAgIHZhciBjaXJjbGVfbWFya2VyXzNmMGJhYWMyZDZkYzRjMDI4ODhhYjZhOTllZWJkZmRkID0gTC5jaXJjbGVNYXJrZXIoCiAgICAgICAgICAgICAgICBbLTIzLjQ4NzcsIC00Ni41ODQ1XSwKICAgICAgICAgICAgICAgIHsiYnViYmxpbmdNb3VzZUV2ZW50cyI6IHRydWUsICJjb2xvciI6ICIjOGM1NjRiIiwgImRhc2hBcnJheSI6IG51bGwsICJkYXNoT2Zmc2V0IjogbnVsbCwgImZpbGwiOiB0cnVlLCAiZmlsbENvbG9yIjogIiM4YzU2NGIiLCAiZmlsbE9wYWNpdHkiOiAwLjMsICJmaWxsUnVsZSI6ICJldmVub2RkIiwgImxpbmVDYXAiOiAicm91bmQiLCAibGluZUpvaW4iOiAicm91bmQiLCAib3BhY2l0eSI6IDEuMCwgInJhZGl1cyI6IDUsICJzdHJva2UiOiB0cnVlLCAid2VpZ2h0IjogM30KICAgICAgICAgICAgKS5hZGRUbyhtYXBfODY5NTY5NDUyZGY1NDIyNGI1YzY3ZDM2ZjYwMjI5MTEpOwogICAgICAgIAogICAgCiAgICAgICAgdmFyIHBvcHVwX2E3ZWRlNjdlN2Y3ZTQyNWFiMTFjZThlYzg4MTU0NTk0ID0gTC5wb3B1cCh7Im1heFdpZHRoIjogIjEwMCUifSk7CgogICAgICAgIAogICAgICAgICAgICB2YXIgaHRtbF83MTZhOWUzYTlhNjU0MDUxODU3MTFkMGM3N2I3MDc4OSA9ICQoYDxkaXYgaWQ9Imh0bWxfNzE2YTllM2E5YTY1NDA1MTg1NzExZDBjNzdiNzA3ODkiIHN0eWxlPSJ3aWR0aDogMTAwLjAlOyBoZWlnaHQ6IDEwMC4wJTsiPlZpbGEgTWVkZWlyb3MgKE5vcnRlKTwvZGl2PmApWzBdOwogICAgICAgICAgICBwb3B1cF9hN2VkZTY3ZTdmN2U0MjVhYjExY2U4ZWM4ODE1NDU5NC5zZXRDb250ZW50KGh0bWxfNzE2YTllM2E5YTY1NDA1MTg1NzExZDBjNzdiNzA3ODkpOwogICAgICAgIAoKICAgICAgICBjaXJjbGVfbWFya2VyXzNmMGJhYWMyZDZkYzRjMDI4ODhhYjZhOTllZWJkZmRkLmJpbmRQb3B1cChwb3B1cF9hN2VkZTY3ZTdmN2U0MjVhYjExY2U4ZWM4ODE1NDU5NCkKICAgICAgICA7CgogICAgICAgIAogICAgCiAgICAKICAgICAgICAgICAgdmFyIGNpcmNsZV9tYXJrZXJfYzg0OTQxYTU0YzAzNGQ2NmFiMTE5NjVlY2M5OTA2ZmQgPSBMLmNpcmNsZU1hcmtlcigKICAgICAgICAgICAgICAgIFstMjMuNTcxOSwgLTQ2LjcwODFdLAogICAgICAgICAgICAgICAgeyJidWJibGluZ01vdXNlRXZlbnRzIjogdHJ1ZSwgImNvbG9yIjogIiM3ZjdmN2YiLCAiZGFzaEFycmF5IjogbnVsbCwgImRhc2hPZmZzZXQiOiBudWxsLCAiZmlsbCI6IHRydWUsICJmaWxsQ29sb3IiOiAiIzdmN2Y3ZiIsICJmaWxsT3BhY2l0eSI6IDAuMywgImZpbGxSdWxlIjogImV2ZW5vZGQiLCAibGluZUNhcCI6ICJyb3VuZCIsICJsaW5lSm9pbiI6ICJyb3VuZCIsICJvcGFjaXR5IjogMS4wLCAicmFkaXVzIjogNSwgInN0cm9rZSI6IHRydWUsICJ3ZWlnaHQiOiAzfQogICAgICAgICAgICApLmFkZFRvKG1hcF84Njk1Njk0NTJkZjU0MjI0YjVjNjdkMzZmNjAyMjkxMSk7CiAgICAgICAgCiAgICAKICAgICAgICB2YXIgcG9wdXBfMTM0YjBhNGI0ODEzNDc3ZGIwOGE2ZTQyZjZiNjBmMGUgPSBMLnBvcHVwKHsibWF4V2lkdGgiOiAiMTAwJSJ9KTsKCiAgICAgICAgCiAgICAgICAgICAgIHZhciBodG1sXzlmYjM3MjQ1MmI4NDQzNTE4NTExOWMwZGJjZmU3MjkwID0gJChgPGRpdiBpZD0iaHRtbF85ZmIzNzI0NTJiODQ0MzUxODUxMTljMGRiY2ZlNzI5MCIgc3R5bGU9IndpZHRoOiAxMDAuMCU7IGhlaWdodDogMTAwLjAlOyI+QnV0YW50w6MgKE9lc3RlKTwvZGl2PmApWzBdOwogICAgICAgICAgICBwb3B1cF8xMzRiMGE0YjQ4MTM0NzdkYjA4YTZlNDJmNmI2MGYwZS5zZXRDb250ZW50KGh0bWxfOWZiMzcyNDUyYjg0NDM1MTg1MTE5YzBkYmNmZTcyOTApOwogICAgICAgIAoKICAgICAgICBjaXJjbGVfbWFya2VyX2M4NDk0MWE1NGMwMzRkNjZhYjExOTY1ZWNjOTkwNmZkLmJpbmRQb3B1cChwb3B1cF8xMzRiMGE0YjQ4MTM0NzdkYjA4YTZlNDJmNmI2MGYwZSkKICAgICAgICA7CgogICAgICAgIAogICAgCiAgICAKICAgICAgICAgICAgdmFyIGNpcmNsZV9tYXJrZXJfYzQ2MjI4YzU5ZTYzNDEwNjhkNzNmMjllYjhlNDU5YTUgPSBMLmNpcmNsZU1hcmtlcigKICAgICAgICAgICAgICAgIFstMjMuNTgyLCAtNDYuNzEyMl0sCiAgICAgICAgICAgICAgICB7ImJ1YmJsaW5nTW91c2VFdmVudHMiOiB0cnVlLCAiY29sb3IiOiAiIzdmN2Y3ZiIsICJkYXNoQXJyYXkiOiBudWxsLCAiZGFzaE9mZnNldCI6IG51bGwsICJmaWxsIjogdHJ1ZSwgImZpbGxDb2xvciI6ICIjN2Y3ZjdmIiwgImZpbGxPcGFjaXR5IjogMC4zLCAiZmlsbFJ1bGUiOiAiZXZlbm9kZCIsICJsaW5lQ2FwIjogInJvdW5kIiwgImxpbmVKb2luIjogInJvdW5kIiwgIm9wYWNpdHkiOiAxLjAsICJyYWRpdXMiOiA1LCAic3Ryb2tlIjogdHJ1ZSwgIndlaWdodCI6IDN9CiAgICAgICAgICAgICkuYWRkVG8obWFwXzg2OTU2OTQ1MmRmNTQyMjRiNWM2N2QzNmY2MDIyOTExKTsKICAgICAgICAKICAgIAogICAgICAgIHZhciBwb3B1cF9jODEzOWM0OTNmOGY0YTAyODVkMzQ2ZGIwNzU1ZjkxYiA9IEwucG9wdXAoeyJtYXhXaWR0aCI6ICIxMDAlIn0pOwoKICAgICAgICAKICAgICAgICAgICAgdmFyIGh0bWxfMzZkZDIwMDVjNWQ3NDJhZWI0OWRmZDFmMWUyY2M5NjkgPSAkKGA8ZGl2IGlkPSJodG1sXzM2ZGQyMDA1YzVkNzQyYWViNDlkZmQxZjFlMmNjOTY5IiBzdHlsZT0id2lkdGg6IDEwMC4wJTsgaGVpZ2h0OiAxMDAuMCU7Ij5Nb3J1bWJpIChPZXN0ZSk8L2Rpdj5gKVswXTsKICAgICAgICAgICAgcG9wdXBfYzgxMzljNDkzZjhmNGEwMjg1ZDM0NmRiMDc1NWY5MWIuc2V0Q29udGVudChodG1sXzM2ZGQyMDA1YzVkNzQyYWViNDlkZmQxZjFlMmNjOTY5KTsKICAgICAgICAKCiAgICAgICAgY2lyY2xlX21hcmtlcl9jNDYyMjhjNTllNjM0MTA2OGQ3M2YyOWViOGU0NTlhNS5iaW5kUG9wdXAocG9wdXBfYzgxMzljNDkzZjhmNGEwMjg1ZDM0NmRiMDc1NWY5MWIpCiAgICAgICAgOwoKICAgICAgICAKICAgIAogICAgCiAgICAgICAgICAgIHZhciBjaXJjbGVfbWFya2VyXzYxMmRkNWM0ZTc5YTRjN2RiYmRmNmRiNmJkYjgwMzE5ID0gTC5jaXJjbGVNYXJrZXIoCiAgICAgICAgICAgICAgICBbLTIzLjU5MTgsIC00Ni43ODA2XSwKICAgICAgICAgICAgICAgIHsiYnViYmxpbmdNb3VzZUV2ZW50cyI6IHRydWUsICJjb2xvciI6ICIjN2Y3ZjdmIiwgImRhc2hBcnJheSI6IG51bGwsICJkYXNoT2Zmc2V0IjogbnVsbCwgImZpbGwiOiB0cnVlLCAiZmlsbENvbG9yIjogIiM3ZjdmN2YiLCAiZmlsbE9wYWNpdHkiOiAwLjMsICJmaWxsUnVsZSI6ICJldmVub2RkIiwgImxpbmVDYXAiOiAicm91bmQiLCAibGluZUpvaW4iOiAicm91bmQiLCAib3BhY2l0eSI6IDEuMCwgInJhZGl1cyI6IDUsICJzdHJva2UiOiB0cnVlLCAid2VpZ2h0IjogM30KICAgICAgICAgICAgKS5hZGRUbyhtYXBfODY5NTY5NDUyZGY1NDIyNGI1YzY3ZDM2ZjYwMjI5MTEpOwogICAgICAgIAogICAgCiAgICAgICAgdmFyIHBvcHVwX2QyNmI5MDIwMWQ2ZjQzZTQ4NTk3MmQxMWQwN2RkYzQ4ID0gTC5wb3B1cCh7Im1heFdpZHRoIjogIjEwMCUifSk7CgogICAgICAgIAogICAgICAgICAgICB2YXIgaHRtbF9mZTkyZjA5MzdjMWI0MjYxOGMxN2MwZTg1MmIzNjVmMiA9ICQoYDxkaXYgaWQ9Imh0bWxfZmU5MmYwOTM3YzFiNDI2MThjMTdjMGU4NTJiMzY1ZjIiIHN0eWxlPSJ3aWR0aDogMTAwLjAlOyBoZWlnaHQ6IDEwMC4wJTsiPlJhcG9zbyBUYXZhcmVzIChPZXN0ZSk8L2Rpdj5gKVswXTsKICAgICAgICAgICAgcG9wdXBfZDI2YjkwMjAxZDZmNDNlNDg1OTcyZDExZDA3ZGRjNDguc2V0Q29udGVudChodG1sX2ZlOTJmMDkzN2MxYjQyNjE4YzE3YzBlODUyYjM2NWYyKTsKICAgICAgICAKCiAgICAgICAgY2lyY2xlX21hcmtlcl82MTJkZDVjNGU3OWE0YzdkYmJkZjZkYjZiZGI4MDMxOS5iaW5kUG9wdXAocG9wdXBfZDI2YjkwMjAxZDZmNDNlNDg1OTcyZDExZDA3ZGRjNDgpCiAgICAgICAgOwoKICAgICAgICAKICAgIAogICAgCiAgICAgICAgICAgIHZhciBjaXJjbGVfbWFya2VyXzY3Zjk1MTg4MzEzOTQzMDg4ZTE4Y2ZiMzY5MGFkZThiID0gTC5jaXJjbGVNYXJrZXIoCiAgICAgICAgICAgICAgICBbLTIzLjU2ODUsIC00Ni43NTY5XSwKICAgICAgICAgICAgICAgIHsiYnViYmxpbmdNb3VzZUV2ZW50cyI6IHRydWUsICJjb2xvciI6ICIjN2Y3ZjdmIiwgImRhc2hBcnJheSI6IG51bGwsICJkYXNoT2Zmc2V0IjogbnVsbCwgImZpbGwiOiB0cnVlLCAiZmlsbENvbG9yIjogIiM3ZjdmN2YiLCAiZmlsbE9wYWNpdHkiOiAwLjMsICJmaWxsUnVsZSI6ICJldmVub2RkIiwgImxpbmVDYXAiOiAicm91bmQiLCAibGluZUpvaW4iOiAicm91bmQiLCAib3BhY2l0eSI6IDEuMCwgInJhZGl1cyI6IDUsICJzdHJva2UiOiB0cnVlLCAid2VpZ2h0IjogM30KICAgICAgICAgICAgKS5hZGRUbyhtYXBfODY5NTY5NDUyZGY1NDIyNGI1YzY3ZDM2ZjYwMjI5MTEpOwogICAgICAgIAogICAgCiAgICAgICAgdmFyIHBvcHVwXzg3NjNjMjVkYzQzNDQ0NmRiOTVkMDUyN2E1ZTI4NzU1ID0gTC5wb3B1cCh7Im1heFdpZHRoIjogIjEwMCUifSk7CgogICAgICAgIAogICAgICAgICAgICB2YXIgaHRtbF8xZjY2OGQ1NmY4NzU0OTQ1Yjc1N2EwYWUzNDZkZTBkMiA9ICQoYDxkaXYgaWQ9Imh0bWxfMWY2NjhkNTZmODc1NDk0NWI3NTdhMGFlMzQ2ZGUwZDIiIHN0eWxlPSJ3aWR0aDogMTAwLjAlOyBoZWlnaHQ6IDEwMC4wJTsiPlJpbyBQZXF1ZW5vIChPZXN0ZSk8L2Rpdj5gKVswXTsKICAgICAgICAgICAgcG9wdXBfODc2M2MyNWRjNDM0NDQ2ZGI5NWQwNTI3YTVlMjg3NTUuc2V0Q29udGVudChodG1sXzFmNjY4ZDU2Zjg3NTQ5NDViNzU3YTBhZTM0NmRlMGQyKTsKICAgICAgICAKCiAgICAgICAgY2lyY2xlX21hcmtlcl82N2Y5NTE4ODMxMzk0MzA4OGUxOGNmYjM2OTBhZGU4Yi5iaW5kUG9wdXAocG9wdXBfODc2M2MyNWRjNDM0NDQ2ZGI5NWQwNTI3YTVlMjg3NTUpCiAgICAgICAgOwoKICAgICAgICAKICAgIAogICAgCiAgICAgICAgICAgIHZhciBjaXJjbGVfbWFya2VyX2FlMjQ5ZDg2Njg1MTQ2MmJiYTQ3YmMxZmEyYWQyZTQyID0gTC5jaXJjbGVNYXJrZXIoCiAgICAgICAgICAgICAgICBbLTIzLjU5OTksIC00Ni43MzkyXSwKICAgICAgICAgICAgICAgIHsiYnViYmxpbmdNb3VzZUV2ZW50cyI6IHRydWUsICJjb2xvciI6ICIjN2Y3ZjdmIiwgImRhc2hBcnJheSI6IG51bGwsICJkYXNoT2Zmc2V0IjogbnVsbCwgImZpbGwiOiB0cnVlLCAiZmlsbENvbG9yIjogIiM3ZjdmN2YiLCAiZmlsbE9wYWNpdHkiOiAwLjMsICJmaWxsUnVsZSI6ICJldmVub2RkIiwgImxpbmVDYXAiOiAicm91bmQiLCAibGluZUpvaW4iOiAicm91bmQiLCAib3BhY2l0eSI6IDEuMCwgInJhZGl1cyI6IDUsICJzdHJva2UiOiB0cnVlLCAid2VpZ2h0IjogM30KICAgICAgICAgICAgKS5hZGRUbyhtYXBfODY5NTY5NDUyZGY1NDIyNGI1YzY3ZDM2ZjYwMjI5MTEpOwogICAgICAgIAogICAgCiAgICAgICAgdmFyIHBvcHVwX2I2ODFjYWNmZjYxNTQ0MDg4MDIwMjIwYzJjNGRhN2M0ID0gTC5wb3B1cCh7Im1heFdpZHRoIjogIjEwMCUifSk7CgogICAgICAgIAogICAgICAgICAgICB2YXIgaHRtbF81MjI3YmViNzdkODg0YmI2YWM2ZWZkYTNmODMxYjIyZCA9ICQoYDxkaXYgaWQ9Imh0bWxfNTIyN2JlYjc3ZDg4NGJiNmFjNmVmZGEzZjgzMWIyMmQiIHN0eWxlPSJ3aWR0aDogMTAwLjAlOyBoZWlnaHQ6IDEwMC4wJTsiPlZpbGEgU8O0bmlhIChPZXN0ZSk8L2Rpdj5gKVswXTsKICAgICAgICAgICAgcG9wdXBfYjY4MWNhY2ZmNjE1NDQwODgwMjAyMjBjMmM0ZGE3YzQuc2V0Q29udGVudChodG1sXzUyMjdiZWI3N2Q4ODRiYjZhYzZlZmRhM2Y4MzFiMjJkKTsKICAgICAgICAKCiAgICAgICAgY2lyY2xlX21hcmtlcl9hZTI0OWQ4NjY4NTE0NjJiYmE0N2JjMWZhMmFkMmU0Mi5iaW5kUG9wdXAocG9wdXBfYjY4MWNhY2ZmNjE1NDQwODgwMjAyMjBjMmM0ZGE3YzQpCiAgICAgICAgOwoKICAgICAgICAKICAgIAogICAgCiAgICAgICAgICAgIHZhciBjaXJjbGVfbWFya2VyXzNkNmRlNDk4OTRjYzQ5Yzk5ODVjMDQyOGI1ZmQyNGM1ID0gTC5jaXJjbGVNYXJrZXIoCiAgICAgICAgICAgICAgICBbLTIzLjUyNTUsIC00Ni42Njc1XSwKICAgICAgICAgICAgICAgIHsiYnViYmxpbmdNb3VzZUV2ZW50cyI6IHRydWUsICJjb2xvciI6ICIjN2Y3ZjdmIiwgImRhc2hBcnJheSI6IG51bGwsICJkYXNoT2Zmc2V0IjogbnVsbCwgImZpbGwiOiB0cnVlLCAiZmlsbENvbG9yIjogIiM3ZjdmN2YiLCAiZmlsbE9wYWNpdHkiOiAwLjMsICJmaWxsUnVsZSI6ICJldmVub2RkIiwgImxpbmVDYXAiOiAicm91bmQiLCAibGluZUpvaW4iOiAicm91bmQiLCAib3BhY2l0eSI6IDEuMCwgInJhZGl1cyI6IDUsICJzdHJva2UiOiB0cnVlLCAid2VpZ2h0IjogM30KICAgICAgICAgICAgKS5hZGRUbyhtYXBfODY5NTY5NDUyZGY1NDIyNGI1YzY3ZDM2ZjYwMjI5MTEpOwogICAgICAgIAogICAgCiAgICAgICAgdmFyIHBvcHVwXzUyZmU1YjA1NDEzNzQwYjViYTM4ZGEwNDE5ZGFmNjM2ID0gTC5wb3B1cCh7Im1heFdpZHRoIjogIjEwMCUifSk7CgogICAgICAgIAogICAgICAgICAgICB2YXIgaHRtbF8zMDEzMDc4N2Y2MjE0ZWE4YTEyMTA5N2NmNzA5YmU3YyA9ICQoYDxkaXYgaWQ9Imh0bWxfMzAxMzA3ODdmNjIxNGVhOGExMjEwOTdjZjcwOWJlN2MiIHN0eWxlPSJ3aWR0aDogMTAwLjAlOyBoZWlnaHQ6IDEwMC4wJTsiPkJhcnJhIEZ1bmRhIChPZXN0ZSk8L2Rpdj5gKVswXTsKICAgICAgICAgICAgcG9wdXBfNTJmZTViMDU0MTM3NDBiNWJhMzhkYTA0MTlkYWY2MzYuc2V0Q29udGVudChodG1sXzMwMTMwNzg3ZjYyMTRlYThhMTIxMDk3Y2Y3MDliZTdjKTsKICAgICAgICAKCiAgICAgICAgY2lyY2xlX21hcmtlcl8zZDZkZTQ5ODk0Y2M0OWM5OTg1YzA0MjhiNWZkMjRjNS5iaW5kUG9wdXAocG9wdXBfNTJmZTViMDU0MTM3NDBiNWJhMzhkYTA0MTlkYWY2MzYpCiAgICAgICAgOwoKICAgICAgICAKICAgIAogICAgCiAgICAgICAgICAgIHZhciBjaXJjbGVfbWFya2VyXzhkNjUxNzA3NzAxNDQ4NGQ4MzVjMDdjMGU1YWViM2IyID0gTC5jaXJjbGVNYXJrZXIoCiAgICAgICAgICAgICAgICBbLTIzLjUwNzQsIC00Ni43NTUzXSwKICAgICAgICAgICAgICAgIHsiYnViYmxpbmdNb3VzZUV2ZW50cyI6IHRydWUsICJjb2xvciI6ICIjN2Y3ZjdmIiwgImRhc2hBcnJheSI6IG51bGwsICJkYXNoT2Zmc2V0IjogbnVsbCwgImZpbGwiOiB0cnVlLCAiZmlsbENvbG9yIjogIiM3ZjdmN2YiLCAiZmlsbE9wYWNpdHkiOiAwLjMsICJmaWxsUnVsZSI6ICJldmVub2RkIiwgImxpbmVDYXAiOiAicm91bmQiLCAibGluZUpvaW4iOiAicm91bmQiLCAib3BhY2l0eSI6IDEuMCwgInJhZGl1cyI6IDUsICJzdHJva2UiOiB0cnVlLCAid2VpZ2h0IjogM30KICAgICAgICAgICAgKS5hZGRUbyhtYXBfODY5NTY5NDUyZGY1NDIyNGI1YzY3ZDM2ZjYwMjI5MTEpOwogICAgICAgIAogICAgCiAgICAgICAgdmFyIHBvcHVwXzQ3MTIxZTU1YjZkYTQ5ZWRhZjA3ZmU0OTdlZjk2NWUxID0gTC5wb3B1cCh7Im1heFdpZHRoIjogIjEwMCUifSk7CgogICAgICAgIAogICAgICAgICAgICB2YXIgaHRtbF9kZWYzN2I5MGY5OTY0YWE2YWRlZmMxODhiMzM5OWNhNyA9ICQoYDxkaXYgaWQ9Imh0bWxfZGVmMzdiOTBmOTk2NGFhNmFkZWZjMTg4YjMzOTljYTciIHN0eWxlPSJ3aWR0aDogMTAwLjAlOyBoZWlnaHQ6IDEwMC4wJTsiPkphZ3VhcmEgKE9lc3RlKTwvZGl2PmApWzBdOwogICAgICAgICAgICBwb3B1cF80NzEyMWU1NWI2ZGE0OWVkYWYwN2ZlNDk3ZWY5NjVlMS5zZXRDb250ZW50KGh0bWxfZGVmMzdiOTBmOTk2NGFhNmFkZWZjMTg4YjMzOTljYTcpOwogICAgICAgIAoKICAgICAgICBjaXJjbGVfbWFya2VyXzhkNjUxNzA3NzAxNDQ4NGQ4MzVjMDdjMGU1YWViM2IyLmJpbmRQb3B1cChwb3B1cF80NzEyMWU1NWI2ZGE0OWVkYWYwN2ZlNDk3ZWY5NjVlMSkKICAgICAgICA7CgogICAgICAgIAogICAgCiAgICAKICAgICAgICAgICAgdmFyIGNpcmNsZV9tYXJrZXJfNGIzOGIwNjJmNThhNDZkMzlmZWIwY2E2YTE2NTNiMWQgPSBMLmNpcmNsZU1hcmtlcigKICAgICAgICAgICAgICAgIFstMjMuNTQyLCAtNDYuNzQ5NV0sCiAgICAgICAgICAgICAgICB7ImJ1YmJsaW5nTW91c2VFdmVudHMiOiB0cnVlLCAiY29sb3IiOiAiIzdmN2Y3ZiIsICJkYXNoQXJyYXkiOiBudWxsLCAiZGFzaE9mZnNldCI6IG51bGwsICJmaWxsIjogdHJ1ZSwgImZpbGxDb2xvciI6ICIjN2Y3ZjdmIiwgImZpbGxPcGFjaXR5IjogMC4zLCAiZmlsbFJ1bGUiOiAiZXZlbm9kZCIsICJsaW5lQ2FwIjogInJvdW5kIiwgImxpbmVKb2luIjogInJvdW5kIiwgIm9wYWNpdHkiOiAxLjAsICJyYWRpdXMiOiA1LCAic3Ryb2tlIjogdHJ1ZSwgIndlaWdodCI6IDN9CiAgICAgICAgICAgICkuYWRkVG8obWFwXzg2OTU2OTQ1MmRmNTQyMjRiNWM2N2QzNmY2MDIyOTExKTsKICAgICAgICAKICAgIAogICAgICAgIHZhciBwb3B1cF9hNDFkYzVmN2QxMjU0NzMzOTZkYWMzMjhjNzdhOTVhMyA9IEwucG9wdXAoeyJtYXhXaWR0aCI6ICIxMDAlIn0pOwoKICAgICAgICAKICAgICAgICAgICAgdmFyIGh0bWxfYjY0YWRmZmYzNTYzNGQ4ZDkzMDJiZmRhODljZDM1YTMgPSAkKGA8ZGl2IGlkPSJodG1sX2I2NGFkZmZmMzU2MzRkOGQ5MzAyYmZkYTg5Y2QzNWEzIiBzdHlsZT0id2lkdGg6IDEwMC4wJTsgaGVpZ2h0OiAxMDAuMCU7Ij5KYWd1YXLDqSAoT2VzdGUpPC9kaXY+YClbMF07CiAgICAgICAgICAgIHBvcHVwX2E0MWRjNWY3ZDEyNTQ3MzM5NmRhYzMyOGM3N2E5NWEzLnNldENvbnRlbnQoaHRtbF9iNjRhZGZmZjM1NjM0ZDhkOTMwMmJmZGE4OWNkMzVhMyk7CiAgICAgICAgCgogICAgICAgIGNpcmNsZV9tYXJrZXJfNGIzOGIwNjJmNThhNDZkMzlmZWIwY2E2YTE2NTNiMWQuYmluZFBvcHVwKHBvcHVwX2E0MWRjNWY3ZDEyNTQ3MzM5NmRhYzMyOGM3N2E5NWEzKQogICAgICAgIDsKCiAgICAgICAgCiAgICAKICAgIAogICAgICAgICAgICB2YXIgY2lyY2xlX21hcmtlcl8yODNlNjdjOTAyZWE0OGE3YTdkMTM1ZGVjMDNlOTE2MCA9IEwuY2lyY2xlTWFya2VyKAogICAgICAgICAgICAgICAgWy0yMy41MTQ2LCAtNDYuNzI0M10sCiAgICAgICAgICAgICAgICB7ImJ1YmJsaW5nTW91c2VFdmVudHMiOiB0cnVlLCAiY29sb3IiOiAiIzdmN2Y3ZiIsICJkYXNoQXJyYXkiOiBudWxsLCAiZGFzaE9mZnNldCI6IG51bGwsICJmaWxsIjogdHJ1ZSwgImZpbGxDb2xvciI6ICIjN2Y3ZjdmIiwgImZpbGxPcGFjaXR5IjogMC4zLCAiZmlsbFJ1bGUiOiAiZXZlbm9kZCIsICJsaW5lQ2FwIjogInJvdW5kIiwgImxpbmVKb2luIjogInJvdW5kIiwgIm9wYWNpdHkiOiAxLjAsICJyYWRpdXMiOiA1LCAic3Ryb2tlIjogdHJ1ZSwgIndlaWdodCI6IDN9CiAgICAgICAgICAgICkuYWRkVG8obWFwXzg2OTU2OTQ1MmRmNTQyMjRiNWM2N2QzNmY2MDIyOTExKTsKICAgICAgICAKICAgIAogICAgICAgIHZhciBwb3B1cF9lYzZiMmRjODBhYjI0ZGMzOGU0MjAwNWI2YTZjYjY2ZSA9IEwucG9wdXAoeyJtYXhXaWR0aCI6ICIxMDAlIn0pOwoKICAgICAgICAKICAgICAgICAgICAgdmFyIGh0bWxfYmQ3MzI1OGIyZjFjNDY3ZDhjOTkyMDZiNGZkOGVkZTIgPSAkKGA8ZGl2IGlkPSJodG1sX2JkNzMyNThiMmYxYzQ2N2Q4Yzk5MjA2YjRmZDhlZGUyIiBzdHlsZT0id2lkdGg6IDEwMC4wJTsgaGVpZ2h0OiAxMDAuMCU7Ij5MYXBhIChPZXN0ZSk8L2Rpdj5gKVswXTsKICAgICAgICAgICAgcG9wdXBfZWM2YjJkYzgwYWIyNGRjMzhlNDIwMDViNmE2Y2I2NmUuc2V0Q29udGVudChodG1sX2JkNzMyNThiMmYxYzQ2N2Q4Yzk5MjA2YjRmZDhlZGUyKTsKICAgICAgICAKCiAgICAgICAgY2lyY2xlX21hcmtlcl8yODNlNjdjOTAyZWE0OGE3YTdkMTM1ZGVjMDNlOTE2MC5iaW5kUG9wdXAocG9wdXBfZWM2YjJkYzgwYWIyNGRjMzhlNDIwMDViNmE2Y2I2NmUpCiAgICAgICAgOwoKICAgICAgICAKICAgIAogICAgCiAgICAgICAgICAgIHZhciBjaXJjbGVfbWFya2VyXzdkNTRlNTRiYWRlMTRkZjE4NzE2YTVlZGRhMjc3YzYyID0gTC5jaXJjbGVNYXJrZXIoCiAgICAgICAgICAgICAgICBbLTIzLjUzNzksIC00Ni42ODA3XSwKICAgICAgICAgICAgICAgIHsiYnViYmxpbmdNb3VzZUV2ZW50cyI6IHRydWUsICJjb2xvciI6ICIjN2Y3ZjdmIiwgImRhc2hBcnJheSI6IG51bGwsICJkYXNoT2Zmc2V0IjogbnVsbCwgImZpbGwiOiB0cnVlLCAiZmlsbENvbG9yIjogIiM3ZjdmN2YiLCAiZmlsbE9wYWNpdHkiOiAwLjMsICJmaWxsUnVsZSI6ICJldmVub2RkIiwgImxpbmVDYXAiOiAicm91bmQiLCAibGluZUpvaW4iOiAicm91bmQiLCAib3BhY2l0eSI6IDEuMCwgInJhZGl1cyI6IDUsICJzdHJva2UiOiB0cnVlLCAid2VpZ2h0IjogM30KICAgICAgICAgICAgKS5hZGRUbyhtYXBfODY5NTY5NDUyZGY1NDIyNGI1YzY3ZDM2ZjYwMjI5MTEpOwogICAgICAgIAogICAgCiAgICAgICAgdmFyIHBvcHVwXzM1ZjgwZWJlM2QyYjQ1OTNiYTQ1ZDNiYmU3MmJkYjAxID0gTC5wb3B1cCh7Im1heFdpZHRoIjogIjEwMCUifSk7CgogICAgICAgIAogICAgICAgICAgICB2YXIgaHRtbF9mYzliNjRlZGY5YmE0MjcxYjZkNGM2MDM0Y2Y5YjkzNCA9ICQoYDxkaXYgaWQ9Imh0bWxfZmM5YjY0ZWRmOWJhNDI3MWI2ZDRjNjAzNGNmOWI5MzQiIHN0eWxlPSJ3aWR0aDogMTAwLjAlOyBoZWlnaHQ6IDEwMC4wJTsiPlBlcmRpemVzIChPZXN0ZSk8L2Rpdj5gKVswXTsKICAgICAgICAgICAgcG9wdXBfMzVmODBlYmUzZDJiNDU5M2JhNDVkM2JiZTcyYmRiMDEuc2V0Q29udGVudChodG1sX2ZjOWI2NGVkZjliYTQyNzFiNmQ0YzYwMzRjZjliOTM0KTsKICAgICAgICAKCiAgICAgICAgY2lyY2xlX21hcmtlcl83ZDU0ZTU0YmFkZTE0ZGYxODcxNmE1ZWRkYTI3N2M2Mi5iaW5kUG9wdXAocG9wdXBfMzVmODBlYmUzZDJiNDU5M2JhNDVkM2JiZTcyYmRiMDEpCiAgICAgICAgOwoKICAgICAgICAKICAgIAogICAgCiAgICAgICAgICAgIHZhciBjaXJjbGVfbWFya2VyX2I0OTE2OTkyYzNkOTRjODBiMzRjYWEwM2IxMjBmNGYyID0gTC5jaXJjbGVNYXJrZXIoCiAgICAgICAgICAgICAgICBbLTIzLjUzMDEsIC00Ni43MzQzXSwKICAgICAgICAgICAgICAgIHsiYnViYmxpbmdNb3VzZUV2ZW50cyI6IHRydWUsICJjb2xvciI6ICIjN2Y3ZjdmIiwgImRhc2hBcnJheSI6IG51bGwsICJkYXNoT2Zmc2V0IjogbnVsbCwgImZpbGwiOiB0cnVlLCAiZmlsbENvbG9yIjogIiM3ZjdmN2YiLCAiZmlsbE9wYWNpdHkiOiAwLjMsICJmaWxsUnVsZSI6ICJldmVub2RkIiwgImxpbmVDYXAiOiAicm91bmQiLCAibGluZUpvaW4iOiAicm91bmQiLCAib3BhY2l0eSI6IDEuMCwgInJhZGl1cyI6IDUsICJzdHJva2UiOiB0cnVlLCAid2VpZ2h0IjogM30KICAgICAgICAgICAgKS5hZGRUbyhtYXBfODY5NTY5NDUyZGY1NDIyNGI1YzY3ZDM2ZjYwMjI5MTEpOwogICAgICAgIAogICAgCiAgICAgICAgdmFyIHBvcHVwX2M0N2NjYzQwMmVhZDRlZDY4ODM1ZmUyODkyZDJiNmZiID0gTC5wb3B1cCh7Im1heFdpZHRoIjogIjEwMCUifSk7CgogICAgICAgIAogICAgICAgICAgICB2YXIgaHRtbF8zMGY4MmQ3MmU2M2Q0NzRjYjUzN2IwMGQwNWQ5YzczNyA9ICQoYDxkaXYgaWQ9Imh0bWxfMzBmODJkNzJlNjNkNDc0Y2I1MzdiMDBkMDVkOWM3MzciIHN0eWxlPSJ3aWR0aDogMTAwLjAlOyBoZWlnaHQ6IDEwMC4wJTsiPlZpbGEgTGVvcG9sZGluYSAoT2VzdGUpPC9kaXY+YClbMF07CiAgICAgICAgICAgIHBvcHVwX2M0N2NjYzQwMmVhZDRlZDY4ODM1ZmUyODkyZDJiNmZiLnNldENvbnRlbnQoaHRtbF8zMGY4MmQ3MmU2M2Q0NzRjYjUzN2IwMGQwNWQ5YzczNyk7CiAgICAgICAgCgogICAgICAgIGNpcmNsZV9tYXJrZXJfYjQ5MTY5OTJjM2Q5NGM4MGIzNGNhYTAzYjEyMGY0ZjIuYmluZFBvcHVwKHBvcHVwX2M0N2NjYzQwMmVhZDRlZDY4ODM1ZmUyODkyZDJiNmZiKQogICAgICAgIDsKCiAgICAgICAgCiAgICAKICAgIAogICAgICAgICAgICB2YXIgY2lyY2xlX21hcmtlcl8xNWQ0NjI1YjY2YmI0NWUzYmQ0OThmZTYzN2I5N2YxNyA9IEwuY2lyY2xlTWFya2VyKAogICAgICAgICAgICAgICAgWy0yMy41NDk5LCAtNDYuNzA3Nl0sCiAgICAgICAgICAgICAgICB7ImJ1YmJsaW5nTW91c2VFdmVudHMiOiB0cnVlLCAiY29sb3IiOiAiIzdmN2Y3ZiIsICJkYXNoQXJyYXkiOiBudWxsLCAiZGFzaE9mZnNldCI6IG51bGwsICJmaWxsIjogdHJ1ZSwgImZpbGxDb2xvciI6ICIjN2Y3ZjdmIiwgImZpbGxPcGFjaXR5IjogMC4zLCAiZmlsbFJ1bGUiOiAiZXZlbm9kZCIsICJsaW5lQ2FwIjogInJvdW5kIiwgImxpbmVKb2luIjogInJvdW5kIiwgIm9wYWNpdHkiOiAxLjAsICJyYWRpdXMiOiA1LCAic3Ryb2tlIjogdHJ1ZSwgIndlaWdodCI6IDN9CiAgICAgICAgICAgICkuYWRkVG8obWFwXzg2OTU2OTQ1MmRmNTQyMjRiNWM2N2QzNmY2MDIyOTExKTsKICAgICAgICAKICAgIAogICAgICAgIHZhciBwb3B1cF82NGZkMzRkYWE4NDE0Mjc2OTEyZDg5NmNiMjk2ZTk3ZiA9IEwucG9wdXAoeyJtYXhXaWR0aCI6ICIxMDAlIn0pOwoKICAgICAgICAKICAgICAgICAgICAgdmFyIGh0bWxfZjgwYTFiYjNmMjZlNDJmZGI3NTJiZDI5OWQyY2VhNGQgPSAkKGA8ZGl2IGlkPSJodG1sX2Y4MGExYmIzZjI2ZTQyZmRiNzUyYmQyOTlkMmNlYTRkIiBzdHlsZT0id2lkdGg6IDEwMC4wJTsgaGVpZ2h0OiAxMDAuMCU7Ij5BbHRvIGRlIFBpbmhlaXJvcyAoT2VzdGUpPC9kaXY+YClbMF07CiAgICAgICAgICAgIHBvcHVwXzY0ZmQzNGRhYTg0MTQyNzY5MTJkODk2Y2IyOTZlOTdmLnNldENvbnRlbnQoaHRtbF9mODBhMWJiM2YyNmU0MmZkYjc1MmJkMjk5ZDJjZWE0ZCk7CiAgICAgICAgCgogICAgICAgIGNpcmNsZV9tYXJrZXJfMTVkNDYyNWI2NmJiNDVlM2JkNDk4ZmU2MzdiOTdmMTcuYmluZFBvcHVwKHBvcHVwXzY0ZmQzNGRhYTg0MTQyNzY5MTJkODk2Y2IyOTZlOTdmKQogICAgICAgIDsKCiAgICAgICAgCiAgICAKICAgIAogICAgICAgICAgICB2YXIgY2lyY2xlX21hcmtlcl9mNjFmMTk3YmJiZTg0YWViOTJjZDMzNzA2MmE4ZGRmZCA9IEwuY2lyY2xlTWFya2VyKAogICAgICAgICAgICAgICAgWy0yMy41ODQ0LCAtNDYuNjc4NF0sCiAgICAgICAgICAgICAgICB7ImJ1YmJsaW5nTW91c2VFdmVudHMiOiB0cnVlLCAiY29sb3IiOiAiIzdmN2Y3ZiIsICJkYXNoQXJyYXkiOiBudWxsLCAiZGFzaE9mZnNldCI6IG51bGwsICJmaWxsIjogdHJ1ZSwgImZpbGxDb2xvciI6ICIjN2Y3ZjdmIiwgImZpbGxPcGFjaXR5IjogMC4zLCAiZmlsbFJ1bGUiOiAiZXZlbm9kZCIsICJsaW5lQ2FwIjogInJvdW5kIiwgImxpbmVKb2luIjogInJvdW5kIiwgIm9wYWNpdHkiOiAxLjAsICJyYWRpdXMiOiA1LCAic3Ryb2tlIjogdHJ1ZSwgIndlaWdodCI6IDN9CiAgICAgICAgICAgICkuYWRkVG8obWFwXzg2OTU2OTQ1MmRmNTQyMjRiNWM2N2QzNmY2MDIyOTExKTsKICAgICAgICAKICAgIAogICAgICAgIHZhciBwb3B1cF9jNjUyN2E1YWYyMjY0NjQ2YjljZWZlMjFiMDhlMDcxZSA9IEwucG9wdXAoeyJtYXhXaWR0aCI6ICIxMDAlIn0pOwoKICAgICAgICAKICAgICAgICAgICAgdmFyIGh0bWxfNzI3MzI0OWY0M2Q1NGJmOGI4MTI3ZmQyNDY2ODUzMTkgPSAkKGA8ZGl2IGlkPSJodG1sXzcyNzMyNDlmNDNkNTRiZjhiODEyN2ZkMjQ2Njg1MzE5IiBzdHlsZT0id2lkdGg6IDEwMC4wJTsgaGVpZ2h0OiAxMDAuMCU7Ij5JdGFpbSBCaWJpIChPZXN0ZSk8L2Rpdj5gKVswXTsKICAgICAgICAgICAgcG9wdXBfYzY1MjdhNWFmMjI2NDY0NmI5Y2VmZTIxYjA4ZTA3MWUuc2V0Q29udGVudChodG1sXzcyNzMyNDlmNDNkNTRiZjhiODEyN2ZkMjQ2Njg1MzE5KTsKICAgICAgICAKCiAgICAgICAgY2lyY2xlX21hcmtlcl9mNjFmMTk3YmJiZTg0YWViOTJjZDMzNzA2MmE4ZGRmZC5iaW5kUG9wdXAocG9wdXBfYzY1MjdhNWFmMjI2NDY0NmI5Y2VmZTIxYjA4ZTA3MWUpCiAgICAgICAgOwoKICAgICAgICAKICAgIAogICAgCiAgICAgICAgICAgIHZhciBjaXJjbGVfbWFya2VyXzE3YjE1YTAyM2JlNzRlMDI4MThmM2E5ZjkzOTA4OTY0ID0gTC5jaXJjbGVNYXJrZXIoCiAgICAgICAgICAgICAgICBbLTIzLjU2NzQsIC00Ni42NjM3XSwKICAgICAgICAgICAgICAgIHsiYnViYmxpbmdNb3VzZUV2ZW50cyI6IHRydWUsICJjb2xvciI6ICIjN2Y3ZjdmIiwgImRhc2hBcnJheSI6IG51bGwsICJkYXNoT2Zmc2V0IjogbnVsbCwgImZpbGwiOiB0cnVlLCAiZmlsbENvbG9yIjogIiM3ZjdmN2YiLCAiZmlsbE9wYWNpdHkiOiAwLjMsICJmaWxsUnVsZSI6ICJldmVub2RkIiwgImxpbmVDYXAiOiAicm91bmQiLCAibGluZUpvaW4iOiAicm91bmQiLCAib3BhY2l0eSI6IDEuMCwgInJhZGl1cyI6IDUsICJzdHJva2UiOiB0cnVlLCAid2VpZ2h0IjogM30KICAgICAgICAgICAgKS5hZGRUbyhtYXBfODY5NTY5NDUyZGY1NDIyNGI1YzY3ZDM2ZjYwMjI5MTEpOwogICAgICAgIAogICAgCiAgICAgICAgdmFyIHBvcHVwXzVkYzllODk0Nzc2YzQ0ZWFiMmNkMzZiMzViYjJjNjE3ID0gTC5wb3B1cCh7Im1heFdpZHRoIjogIjEwMCUifSk7CgogICAgICAgIAogICAgICAgICAgICB2YXIgaHRtbF9iNDU4MmI4NmZjODM0NzYxOWQwMjQ2OGI1NWE4YTQ4ZSA9ICQoYDxkaXYgaWQ9Imh0bWxfYjQ1ODJiODZmYzgzNDc2MTlkMDI0NjhiNTVhOGE0OGUiIHN0eWxlPSJ3aWR0aDogMTAwLjAlOyBoZWlnaHQ6IDEwMC4wJTsiPkphcmRpbSBQYXVsaXN0YSAoT2VzdGUpPC9kaXY+YClbMF07CiAgICAgICAgICAgIHBvcHVwXzVkYzllODk0Nzc2YzQ0ZWFiMmNkMzZiMzViYjJjNjE3LnNldENvbnRlbnQoaHRtbF9iNDU4MmI4NmZjODM0NzYxOWQwMjQ2OGI1NWE4YTQ4ZSk7CiAgICAgICAgCgogICAgICAgIGNpcmNsZV9tYXJrZXJfMTdiMTVhMDIzYmU3NGUwMjgxOGYzYTlmOTM5MDg5NjQuYmluZFBvcHVwKHBvcHVwXzVkYzllODk0Nzc2YzQ0ZWFiMmNkMzZiMzViYjJjNjE3KQogICAgICAgIDsKCiAgICAgICAgCiAgICAKICAgIAogICAgICAgICAgICB2YXIgY2lyY2xlX21hcmtlcl84ZGI1YjMzNTkyNWE0OTI5YjFhMjYwM2UwNjcwMDQwZCA9IEwuY2lyY2xlTWFya2VyKAogICAgICAgICAgICAgICAgWy0yMy41NjcyLCAtNDYuNzAyXSwKICAgICAgICAgICAgICAgIHsiYnViYmxpbmdNb3VzZUV2ZW50cyI6IHRydWUsICJjb2xvciI6ICIjN2Y3ZjdmIiwgImRhc2hBcnJheSI6IG51bGwsICJkYXNoT2Zmc2V0IjogbnVsbCwgImZpbGwiOiB0cnVlLCAiZmlsbENvbG9yIjogIiM3ZjdmN2YiLCAiZmlsbE9wYWNpdHkiOiAwLjMsICJmaWxsUnVsZSI6ICJldmVub2RkIiwgImxpbmVDYXAiOiAicm91bmQiLCAibGluZUpvaW4iOiAicm91bmQiLCAib3BhY2l0eSI6IDEuMCwgInJhZGl1cyI6IDUsICJzdHJva2UiOiB0cnVlLCAid2VpZ2h0IjogM30KICAgICAgICAgICAgKS5hZGRUbyhtYXBfODY5NTY5NDUyZGY1NDIyNGI1YzY3ZDM2ZjYwMjI5MTEpOwogICAgICAgIAogICAgCiAgICAgICAgdmFyIHBvcHVwXzIyOThhM2RmNjZhZDRhNDBhOWM2ZmU0MTEyMGM3YjNlID0gTC5wb3B1cCh7Im1heFdpZHRoIjogIjEwMCUifSk7CgogICAgICAgIAogICAgICAgICAgICB2YXIgaHRtbF80OTk3Y2YxZWU4Mzc0NDYwOTI4NzM2YTIxMjcxOTJiNiA9ICQoYDxkaXYgaWQ9Imh0bWxfNDk5N2NmMWVlODM3NDQ2MDkyODczNmEyMTI3MTkyYjYiIHN0eWxlPSJ3aWR0aDogMTAwLjAlOyBoZWlnaHQ6IDEwMC4wJTsiPlBpbmhlaXJvcyAoT2VzdGUpPC9kaXY+YClbMF07CiAgICAgICAgICAgIHBvcHVwXzIyOThhM2RmNjZhZDRhNDBhOWM2ZmU0MTEyMGM3YjNlLnNldENvbnRlbnQoaHRtbF80OTk3Y2YxZWU4Mzc0NDYwOTI4NzM2YTIxMjcxOTJiNik7CiAgICAgICAgCgogICAgICAgIGNpcmNsZV9tYXJrZXJfOGRiNWIzMzU5MjVhNDkyOWIxYTI2MDNlMDY3MDA0MGQuYmluZFBvcHVwKHBvcHVwXzIyOThhM2RmNjZhZDRhNDBhOWM2ZmU0MTEyMGM3YjNlKQogICAgICAgIDsKCiAgICAgICAgCiAgICAKICAgIAogICAgICAgICAgICB2YXIgY2lyY2xlX21hcmtlcl9mZjZjZmM4M2Y0ZDM0NGFkOTM3ZTdjMmE2N2Y0NDEyZSA9IEwuY2lyY2xlTWFya2VyKAogICAgICAgICAgICAgICAgWy0yMy42NDkyLCAtNDYuNzU4OV0sCiAgICAgICAgICAgICAgICB7ImJ1YmJsaW5nTW91c2VFdmVudHMiOiB0cnVlLCAiY29sb3IiOiAiIzE3YmVjZiIsICJkYXNoQXJyYXkiOiBudWxsLCAiZGFzaE9mZnNldCI6IG51bGwsICJmaWxsIjogdHJ1ZSwgImZpbGxDb2xvciI6ICIjMTdiZWNmIiwgImZpbGxPcGFjaXR5IjogMC4zLCAiZmlsbFJ1bGUiOiAiZXZlbm9kZCIsICJsaW5lQ2FwIjogInJvdW5kIiwgImxpbmVKb2luIjogInJvdW5kIiwgIm9wYWNpdHkiOiAxLjAsICJyYWRpdXMiOiA1LCAic3Ryb2tlIjogdHJ1ZSwgIndlaWdodCI6IDN9CiAgICAgICAgICAgICkuYWRkVG8obWFwXzg2OTU2OTQ1MmRmNTQyMjRiNWM2N2QzNmY2MDIyOTExKTsKICAgICAgICAKICAgIAogICAgICAgIHZhciBwb3B1cF85MDRlNjI1YWJhN2U0YWI3YjZkZDJhNjJlOTI5NTVlMCA9IEwucG9wdXAoeyJtYXhXaWR0aCI6ICIxMDAlIn0pOwoKICAgICAgICAKICAgICAgICAgICAgdmFyIGh0bWxfMDI3ODQ1OWI0MzhhNDFmOWIzNzNiZGU3YTEwOGJjZWEgPSAkKGA8ZGl2IGlkPSJodG1sXzAyNzg0NTliNDM4YTQxZjliMzczYmRlN2ExMDhiY2VhIiBzdHlsZT0id2lkdGg6IDEwMC4wJTsgaGVpZ2h0OiAxMDAuMCU7Ij5DYW1wbyBMaW1wbyAoU3VsKTwvZGl2PmApWzBdOwogICAgICAgICAgICBwb3B1cF85MDRlNjI1YWJhN2U0YWI3YjZkZDJhNjJlOTI5NTVlMC5zZXRDb250ZW50KGh0bWxfMDI3ODQ1OWI0MzhhNDFmOWIzNzNiZGU3YTEwOGJjZWEpOwogICAgICAgIAoKICAgICAgICBjaXJjbGVfbWFya2VyX2ZmNmNmYzgzZjRkMzQ0YWQ5MzdlN2MyYTY3ZjQ0MTJlLmJpbmRQb3B1cChwb3B1cF85MDRlNjI1YWJhN2U0YWI3YjZkZDJhNjJlOTI5NTVlMCkKICAgICAgICA7CgogICAgICAgIAogICAgCiAgICAKICAgICAgICAgICAgdmFyIGNpcmNsZV9tYXJrZXJfYmRiMDQ1ZGZjMWNjNDNlNThhM2M1ZGFjNmU5ODA0OGEgPSBMLmNpcmNsZU1hcmtlcigKICAgICAgICAgICAgICAgIFstMjMuNjU5MiwgLTQ2Ljc2OF0sCiAgICAgICAgICAgICAgICB7ImJ1YmJsaW5nTW91c2VFdmVudHMiOiB0cnVlLCAiY29sb3IiOiAiIzE3YmVjZiIsICJkYXNoQXJyYXkiOiBudWxsLCAiZGFzaE9mZnNldCI6IG51bGwsICJmaWxsIjogdHJ1ZSwgImZpbGxDb2xvciI6ICIjMTdiZWNmIiwgImZpbGxPcGFjaXR5IjogMC4zLCAiZmlsbFJ1bGUiOiAiZXZlbm9kZCIsICJsaW5lQ2FwIjogInJvdW5kIiwgImxpbmVKb2luIjogInJvdW5kIiwgIm9wYWNpdHkiOiAxLjAsICJyYWRpdXMiOiA1LCAic3Ryb2tlIjogdHJ1ZSwgIndlaWdodCI6IDN9CiAgICAgICAgICAgICkuYWRkVG8obWFwXzg2OTU2OTQ1MmRmNTQyMjRiNWM2N2QzNmY2MDIyOTExKTsKICAgICAgICAKICAgIAogICAgICAgIHZhciBwb3B1cF82MzE2NDM2YTNjMzY0NTZlOWY1ZDU2YzkwODdiODk5NiA9IEwucG9wdXAoeyJtYXhXaWR0aCI6ICIxMDAlIn0pOwoKICAgICAgICAKICAgICAgICAgICAgdmFyIGh0bWxfNTgxMmU1YWJlNmNhNDJhYmE1MmExMzI1NzNhZjg4ODAgPSAkKGA8ZGl2IGlkPSJodG1sXzU4MTJlNWFiZTZjYTQyYWJhNTJhMTMyNTczYWY4ODgwIiBzdHlsZT0id2lkdGg6IDEwMC4wJTsgaGVpZ2h0OiAxMDAuMCU7Ij5DYXDDo28gUmVkb25kbyAoU3VsKTwvZGl2PmApWzBdOwogICAgICAgICAgICBwb3B1cF82MzE2NDM2YTNjMzY0NTZlOWY1ZDU2YzkwODdiODk5Ni5zZXRDb250ZW50KGh0bWxfNTgxMmU1YWJlNmNhNDJhYmE1MmExMzI1NzNhZjg4ODApOwogICAgICAgIAoKICAgICAgICBjaXJjbGVfbWFya2VyX2JkYjA0NWRmYzFjYzQzZTU4YTNjNWRhYzZlOTgwNDhhLmJpbmRQb3B1cChwb3B1cF82MzE2NDM2YTNjMzY0NTZlOWY1ZDU2YzkwODdiODk5NikKICAgICAgICA7CgogICAgICAgIAogICAgCiAgICAKICAgICAgICAgICAgdmFyIGNpcmNsZV9tYXJrZXJfNzE4NjdiMDZjZmMzNDY5MDgxZjQwYjEwMWMyMzdkN2QgPSBMLmNpcmNsZU1hcmtlcigKICAgICAgICAgICAgICAgIFstMjMuNjI1NywgLTQ2LjcyN10sCiAgICAgICAgICAgICAgICB7ImJ1YmJsaW5nTW91c2VFdmVudHMiOiB0cnVlLCAiY29sb3IiOiAiIzE3YmVjZiIsICJkYXNoQXJyYXkiOiBudWxsLCAiZGFzaE9mZnNldCI6IG51bGwsICJmaWxsIjogdHJ1ZSwgImZpbGxDb2xvciI6ICIjMTdiZWNmIiwgImZpbGxPcGFjaXR5IjogMC4zLCAiZmlsbFJ1bGUiOiAiZXZlbm9kZCIsICJsaW5lQ2FwIjogInJvdW5kIiwgImxpbmVKb2luIjogInJvdW5kIiwgIm9wYWNpdHkiOiAxLjAsICJyYWRpdXMiOiA1LCAic3Ryb2tlIjogdHJ1ZSwgIndlaWdodCI6IDN9CiAgICAgICAgICAgICkuYWRkVG8obWFwXzg2OTU2OTQ1MmRmNTQyMjRiNWM2N2QzNmY2MDIyOTExKTsKICAgICAgICAKICAgIAogICAgICAgIHZhciBwb3B1cF9jODQxOWZmMjFkMDA0Mzg5YjM2NzRhNmRlZDI1ZWNiYyA9IEwucG9wdXAoeyJtYXhXaWR0aCI6ICIxMDAlIn0pOwoKICAgICAgICAKICAgICAgICAgICAgdmFyIGh0bWxfMDM0ODYyOWM4ZjFjNGQ3ZmIyZDBmMWZiNjFlMjQ0NTggPSAkKGA8ZGl2IGlkPSJodG1sXzAzNDg2MjljOGYxYzRkN2ZiMmQwZjFmYjYxZTI0NDU4IiBzdHlsZT0id2lkdGg6IDEwMC4wJTsgaGVpZ2h0OiAxMDAuMCU7Ij5WaWxhIEFuZHJhZGUgKFN1bCk8L2Rpdj5gKVswXTsKICAgICAgICAgICAgcG9wdXBfYzg0MTlmZjIxZDAwNDM4OWIzNjc0YTZkZWQyNWVjYmMuc2V0Q29udGVudChodG1sXzAzNDg2MjljOGYxYzRkN2ZiMmQwZjFmYjYxZTI0NDU4KTsKICAgICAgICAKCiAgICAgICAgY2lyY2xlX21hcmtlcl83MTg2N2IwNmNmYzM0NjkwODFmNDBiMTAxYzIzN2Q3ZC5iaW5kUG9wdXAocG9wdXBfYzg0MTlmZjIxZDAwNDM4OWIzNjc0YTZkZWQyNWVjYmMpCiAgICAgICAgOwoKICAgICAgICAKICAgIAogICAgCiAgICAgICAgICAgIHZhciBjaXJjbGVfbWFya2VyXzgyNmM2ZjUyZWFmNzRlNjNhM2ZjM2ZiNzM2YTE1YThmID0gTC5jaXJjbGVNYXJrZXIoCiAgICAgICAgICAgICAgICBbLTIzLjcxNCwgLTQ2LjY5OTFdLAogICAgICAgICAgICAgICAgeyJidWJibGluZ01vdXNlRXZlbnRzIjogdHJ1ZSwgImNvbG9yIjogIiMxN2JlY2YiLCAiZGFzaEFycmF5IjogbnVsbCwgImRhc2hPZmZzZXQiOiBudWxsLCAiZmlsbCI6IHRydWUsICJmaWxsQ29sb3IiOiAiIzE3YmVjZiIsICJmaWxsT3BhY2l0eSI6IDAuMywgImZpbGxSdWxlIjogImV2ZW5vZGQiLCAibGluZUNhcCI6ICJyb3VuZCIsICJsaW5lSm9pbiI6ICJyb3VuZCIsICJvcGFjaXR5IjogMS4wLCAicmFkaXVzIjogNSwgInN0cm9rZSI6IHRydWUsICJ3ZWlnaHQiOiAzfQogICAgICAgICAgICApLmFkZFRvKG1hcF84Njk1Njk0NTJkZjU0MjI0YjVjNjdkMzZmNjAyMjkxMSk7CiAgICAgICAgCiAgICAKICAgICAgICB2YXIgcG9wdXBfMThlMTNiN2Q0YmM3NGY5MWJiMjAzZjg3ZDE0MDQzNzkgPSBMLnBvcHVwKHsibWF4V2lkdGgiOiAiMTAwJSJ9KTsKCiAgICAgICAgCiAgICAgICAgICAgIHZhciBodG1sX2E1ZDk5ZTIxMjgxMjQyNThiM2Q0Zjc4YTcxMzhiMTgxID0gJChgPGRpdiBpZD0iaHRtbF9hNWQ5OWUyMTI4MTI0MjU4YjNkNGY3OGE3MTM4YjE4MSIgc3R5bGU9IndpZHRoOiAxMDAuMCU7IGhlaWdodDogMTAwLjAlOyI+Q2lkYWRlIER1dHJhIChTdWwpPC9kaXY+YClbMF07CiAgICAgICAgICAgIHBvcHVwXzE4ZTEzYjdkNGJjNzRmOTFiYjIwM2Y4N2QxNDA0Mzc5LnNldENvbnRlbnQoaHRtbF9hNWQ5OWUyMTI4MTI0MjU4YjNkNGY3OGE3MTM4YjE4MSk7CiAgICAgICAgCgogICAgICAgIGNpcmNsZV9tYXJrZXJfODI2YzZmNTJlYWY3NGU2M2EzZmMzZmI3MzZhMTVhOGYuYmluZFBvcHVwKHBvcHVwXzE4ZTEzYjdkNGJjNzRmOTFiYjIwM2Y4N2QxNDA0Mzc5KQogICAgICAgIDsKCiAgICAgICAgCiAgICAKICAgIAogICAgICAgICAgICB2YXIgY2lyY2xlX21hcmtlcl9mMWQ4NjgxOTMwN2U0MjZkODNjMzc5YjczM2Y4Y2JiYiA9IEwuY2lyY2xlTWFya2VyKAogICAgICAgICAgICAgICAgWy0yMy43ODYyLCAtNDYuNjY1XSwKICAgICAgICAgICAgICAgIHsiYnViYmxpbmdNb3VzZUV2ZW50cyI6IHRydWUsICJjb2xvciI6ICIjMTdiZWNmIiwgImRhc2hBcnJheSI6IG51bGwsICJkYXNoT2Zmc2V0IjogbnVsbCwgImZpbGwiOiB0cnVlLCAiZmlsbENvbG9yIjogIiMxN2JlY2YiLCAiZmlsbE9wYWNpdHkiOiAwLjMsICJmaWxsUnVsZSI6ICJldmVub2RkIiwgImxpbmVDYXAiOiAicm91bmQiLCAibGluZUpvaW4iOiAicm91bmQiLCAib3BhY2l0eSI6IDEuMCwgInJhZGl1cyI6IDUsICJzdHJva2UiOiB0cnVlLCAid2VpZ2h0IjogM30KICAgICAgICAgICAgKS5hZGRUbyhtYXBfODY5NTY5NDUyZGY1NDIyNGI1YzY3ZDM2ZjYwMjI5MTEpOwogICAgICAgIAogICAgCiAgICAgICAgdmFyIHBvcHVwX2U0YmM5MjhjOGY5ODQ2ZDU5ZjhiNDRiMzI0MGRmNThhID0gTC5wb3B1cCh7Im1heFdpZHRoIjogIjEwMCUifSk7CgogICAgICAgIAogICAgICAgICAgICB2YXIgaHRtbF8wYzMyNjUxNGRlNzE0MWRmYWM5NmRlZjI2MTUxN2IxOSA9ICQoYDxkaXYgaWQ9Imh0bWxfMGMzMjY1MTRkZTcxNDFkZmFjOTZkZWYyNjE1MTdiMTkiIHN0eWxlPSJ3aWR0aDogMTAwLjAlOyBoZWlnaHQ6IDEwMC4wJTsiPkdyYWphw7ogKFN1bCk8L2Rpdj5gKVswXTsKICAgICAgICAgICAgcG9wdXBfZTRiYzkyOGM4Zjk4NDZkNTlmOGI0NGIzMjQwZGY1OGEuc2V0Q29udGVudChodG1sXzBjMzI2NTE0ZGU3MTQxZGZhYzk2ZGVmMjYxNTE3YjE5KTsKICAgICAgICAKCiAgICAgICAgY2lyY2xlX21hcmtlcl9mMWQ4NjgxOTMwN2U0MjZkODNjMzc5YjczM2Y4Y2JiYi5iaW5kUG9wdXAocG9wdXBfZTRiYzkyOGM4Zjk4NDZkNTlmOGI0NGIzMjQwZGY1OGEpCiAgICAgICAgOwoKICAgICAgICAKICAgIAogICAgCiAgICAgICAgICAgIHZhciBjaXJjbGVfbWFya2VyXzYxM2UwMzcyNmFhMDRiZmRhY2E2ZjczOWFkZTg3NzQyID0gTC5jaXJjbGVNYXJrZXIoCiAgICAgICAgICAgICAgICBbLTIyLjU5MDMsIC00Ni41MjQ5XSwKICAgICAgICAgICAgICAgIHsiYnViYmxpbmdNb3VzZUV2ZW50cyI6IHRydWUsICJjb2xvciI6ICIjMTdiZWNmIiwgImRhc2hBcnJheSI6IG51bGwsICJkYXNoT2Zmc2V0IjogbnVsbCwgImZpbGwiOiB0cnVlLCAiZmlsbENvbG9yIjogIiMxN2JlY2YiLCAiZmlsbE9wYWNpdHkiOiAwLjMsICJmaWxsUnVsZSI6ICJldmVub2RkIiwgImxpbmVDYXAiOiAicm91bmQiLCAibGluZUpvaW4iOiAicm91bmQiLCAib3BhY2l0eSI6IDEuMCwgInJhZGl1cyI6IDUsICJzdHJva2UiOiB0cnVlLCAid2VpZ2h0IjogM30KICAgICAgICAgICAgKS5hZGRUbyhtYXBfODY5NTY5NDUyZGY1NDIyNGI1YzY3ZDM2ZjYwMjI5MTEpOwogICAgICAgIAogICAgCiAgICAgICAgdmFyIHBvcHVwXzZhNTYzZTlkNjM1YTRiMThiYzViNGRiNDcxYTA5ODNiID0gTC5wb3B1cCh7Im1heFdpZHRoIjogIjEwMCUifSk7CgogICAgICAgIAogICAgICAgICAgICB2YXIgaHRtbF8zYmMxNTc4NTc0ZTU0NjhjOWU1ZWYxZGJjMzc5N2FkNyA9ICQoYDxkaXYgaWQ9Imh0bWxfM2JjMTU3ODU3NGU1NDY4YzllNWVmMWRiYzM3OTdhZDciIHN0eWxlPSJ3aWR0aDogMTAwLjAlOyBoZWlnaHQ6IDEwMC4wJTsiPlNvY29ycm8gKFN1bCk8L2Rpdj5gKVswXTsKICAgICAgICAgICAgcG9wdXBfNmE1NjNlOWQ2MzVhNGIxOGJjNWI0ZGI0NzFhMDk4M2Iuc2V0Q29udGVudChodG1sXzNiYzE1Nzg1NzRlNTQ2OGM5ZTVlZjFkYmMzNzk3YWQ3KTsKICAgICAgICAKCiAgICAgICAgY2lyY2xlX21hcmtlcl82MTNlMDM3MjZhYTA0YmZkYWNhNmY3MzlhZGU4Nzc0Mi5iaW5kUG9wdXAocG9wdXBfNmE1NjNlOWQ2MzVhNGIxOGJjNWI0ZGI0NzFhMDk4M2IpCiAgICAgICAgOwoKICAgICAgICAKICAgIAogICAgCiAgICAgICAgICAgIHZhciBjaXJjbGVfbWFya2VyXzMwNmEzNjMzNDk5OTRmNzJiMzZjOTRiMjZhOGVkMTFmID0gTC5jaXJjbGVNYXJrZXIoCiAgICAgICAgICAgICAgICBbLTIzLjY2NTIsIC00Ni42NTY2XSwKICAgICAgICAgICAgICAgIHsiYnViYmxpbmdNb3VzZUV2ZW50cyI6IHRydWUsICJjb2xvciI6ICIjMTdiZWNmIiwgImRhc2hBcnJheSI6IG51bGwsICJkYXNoT2Zmc2V0IjogbnVsbCwgImZpbGwiOiB0cnVlLCAiZmlsbENvbG9yIjogIiMxN2JlY2YiLCAiZmlsbE9wYWNpdHkiOiAwLjMsICJmaWxsUnVsZSI6ICJldmVub2RkIiwgImxpbmVDYXAiOiAicm91bmQiLCAibGluZUpvaW4iOiAicm91bmQiLCAib3BhY2l0eSI6IDEuMCwgInJhZGl1cyI6IDUsICJzdHJva2UiOiB0cnVlLCAid2VpZ2h0IjogM30KICAgICAgICAgICAgKS5hZGRUbyhtYXBfODY5NTY5NDUyZGY1NDIyNGI1YzY3ZDM2ZjYwMjI5MTEpOwogICAgICAgIAogICAgCiAgICAgICAgdmFyIHBvcHVwXzFiOGZjNTMwMGY4MzQ4NzlhMDQ1NjcxMDUxYmI3NDc0ID0gTC5wb3B1cCh7Im1heFdpZHRoIjogIjEwMCUifSk7CgogICAgICAgIAogICAgICAgICAgICB2YXIgaHRtbF9jNzJhNDAyYzJhMmU0N2EwYjc3OGNlOWUzZjUzYWE0OSA9ICQoYDxkaXYgaWQ9Imh0bWxfYzcyYTQwMmMyYTJlNDdhMGI3NzhjZTllM2Y1M2FhNDkiIHN0eWxlPSJ3aWR0aDogMTAwLjAlOyBoZWlnaHQ6IDEwMC4wJTsiPkNpZGFkZSBBZGVtYXIgKFN1bCk8L2Rpdj5gKVswXTsKICAgICAgICAgICAgcG9wdXBfMWI4ZmM1MzAwZjgzNDg3OWEwNDU2NzEwNTFiYjc0NzQuc2V0Q29udGVudChodG1sX2M3MmE0MDJjMmEyZTQ3YTBiNzc4Y2U5ZTNmNTNhYTQ5KTsKICAgICAgICAKCiAgICAgICAgY2lyY2xlX21hcmtlcl8zMDZhMzYzMzQ5OTk0ZjcyYjM2Yzk0YjI2YThlZDExZi5iaW5kUG9wdXAocG9wdXBfMWI4ZmM1MzAwZjgzNDg3OWEwNDU2NzEwNTFiYjc0NzQpCiAgICAgICAgOwoKICAgICAgICAKICAgIAogICAgCiAgICAgICAgICAgIHZhciBjaXJjbGVfbWFya2VyX2JkNjc2ZGNiNmZlZDRjMDk4ZDE1Njg5NGE1NDc3YWNhID0gTC5jaXJjbGVNYXJrZXIoCiAgICAgICAgICAgICAgICBbLTIzLjY1MTIsIC00Ni42Njk3XSwKICAgICAgICAgICAgICAgIHsiYnViYmxpbmdNb3VzZUV2ZW50cyI6IHRydWUsICJjb2xvciI6ICIjMTdiZWNmIiwgImRhc2hBcnJheSI6IG51bGwsICJkYXNoT2Zmc2V0IjogbnVsbCwgImZpbGwiOiB0cnVlLCAiZmlsbENvbG9yIjogIiMxN2JlY2YiLCAiZmlsbE9wYWNpdHkiOiAwLjMsICJmaWxsUnVsZSI6ICJldmVub2RkIiwgImxpbmVDYXAiOiAicm91bmQiLCAibGluZUpvaW4iOiAicm91bmQiLCAib3BhY2l0eSI6IDEuMCwgInJhZGl1cyI6IDUsICJzdHJva2UiOiB0cnVlLCAid2VpZ2h0IjogM30KICAgICAgICAgICAgKS5hZGRUbyhtYXBfODY5NTY5NDUyZGY1NDIyNGI1YzY3ZDM2ZjYwMjI5MTEpOwogICAgICAgIAogICAgCiAgICAgICAgdmFyIHBvcHVwX2Q3MDBjYmZlOWFjMjRkZmZiMjZjMTgwMDBlZWI2ZThjID0gTC5wb3B1cCh7Im1heFdpZHRoIjogIjEwMCUifSk7CgogICAgICAgIAogICAgICAgICAgICB2YXIgaHRtbF8xZTEwYTFiODZhYjE0Mjc4OTYyZDg5OWQ0YzgwYjBlMCA9ICQoYDxkaXYgaWQ9Imh0bWxfMWUxMGExYjg2YWIxNDI3ODk2MmQ4OTlkNGM4MGIwZTAiIHN0eWxlPSJ3aWR0aDogMTAwLjAlOyBoZWlnaHQ6IDEwMC4wJTsiPlBlZHJlaXJhIChTdWwpPC9kaXY+YClbMF07CiAgICAgICAgICAgIHBvcHVwX2Q3MDBjYmZlOWFjMjRkZmZiMjZjMTgwMDBlZWI2ZThjLnNldENvbnRlbnQoaHRtbF8xZTEwYTFiODZhYjE0Mjc4OTYyZDg5OWQ0YzgwYjBlMCk7CiAgICAgICAgCgogICAgICAgIGNpcmNsZV9tYXJrZXJfYmQ2NzZkY2I2ZmVkNGMwOThkMTU2ODk0YTU0NzdhY2EuYmluZFBvcHVwKHBvcHVwX2Q3MDBjYmZlOWFjMjRkZmZiMjZjMTgwMDBlZWI2ZThjKQogICAgICAgIDsKCiAgICAgICAgCiAgICAKICAgIAogICAgICAgICAgICB2YXIgY2lyY2xlX21hcmtlcl9mOTllNGRlOWRlOGE0YjhhYjZkMmQ4OWU0NjYyNjUxZCA9IEwuY2lyY2xlTWFya2VyKAogICAgICAgICAgICAgICAgWy0yMy42MzIzLCAtNDYuNjE5Nl0sCiAgICAgICAgICAgICAgICB7ImJ1YmJsaW5nTW91c2VFdmVudHMiOiB0cnVlLCAiY29sb3IiOiAiIzE3YmVjZiIsICJkYXNoQXJyYXkiOiBudWxsLCAiZGFzaE9mZnNldCI6IG51bGwsICJmaWxsIjogdHJ1ZSwgImZpbGxDb2xvciI6ICIjMTdiZWNmIiwgImZpbGxPcGFjaXR5IjogMC4zLCAiZmlsbFJ1bGUiOiAiZXZlbm9kZCIsICJsaW5lQ2FwIjogInJvdW5kIiwgImxpbmVKb2luIjogInJvdW5kIiwgIm9wYWNpdHkiOiAxLjAsICJyYWRpdXMiOiA1LCAic3Ryb2tlIjogdHJ1ZSwgIndlaWdodCI6IDN9CiAgICAgICAgICAgICkuYWRkVG8obWFwXzg2OTU2OTQ1MmRmNTQyMjRiNWM2N2QzNmY2MDIyOTExKTsKICAgICAgICAKICAgIAogICAgICAgIHZhciBwb3B1cF8zNzAyOWUxNjdmMGY0NDJjYmE0MWE3NDZhZGJiYmY4OSA9IEwucG9wdXAoeyJtYXhXaWR0aCI6ICIxMDAlIn0pOwoKICAgICAgICAKICAgICAgICAgICAgdmFyIGh0bWxfYzcyNzliN2VjMDBhNGM3N2I4MTEwOTc1YmFmNmY4NWEgPSAkKGA8ZGl2IGlkPSJodG1sX2M3Mjc5YjdlYzAwYTRjNzdiODExMDk3NWJhZjZmODVhIiBzdHlsZT0id2lkdGg6IDEwMC4wJTsgaGVpZ2h0OiAxMDAuMCU7Ij5DdXJzaW5vIChTdWwpPC9kaXY+YClbMF07CiAgICAgICAgICAgIHBvcHVwXzM3MDI5ZTE2N2YwZjQ0MmNiYTQxYTc0NmFkYmJiZjg5LnNldENvbnRlbnQoaHRtbF9jNzI3OWI3ZWMwMGE0Yzc3YjgxMTA5NzViYWY2Zjg1YSk7CiAgICAgICAgCgogICAgICAgIGNpcmNsZV9tYXJrZXJfZjk5ZTRkZTlkZThhNGI4YWI2ZDJkODllNDY2MjY1MWQuYmluZFBvcHVwKHBvcHVwXzM3MDI5ZTE2N2YwZjQ0MmNiYTQxYTc0NmFkYmJiZjg5KQogICAgICAgIDsKCiAgICAgICAgCiAgICAKICAgIAogICAgICAgICAgICB2YXIgY2lyY2xlX21hcmtlcl82YmZmZGIxMzQ0OTU0NGUxODk1ZmVmZDI5MmZhZWZkMCA9IEwuY2lyY2xlTWFya2VyKAogICAgICAgICAgICAgICAgWy0yMy41OTQ1LCAtNDYuNjAyN10sCiAgICAgICAgICAgICAgICB7ImJ1YmJsaW5nTW91c2VFdmVudHMiOiB0cnVlLCAiY29sb3IiOiAiIzE3YmVjZiIsICJkYXNoQXJyYXkiOiBudWxsLCAiZGFzaE9mZnNldCI6IG51bGwsICJmaWxsIjogdHJ1ZSwgImZpbGxDb2xvciI6ICIjMTdiZWNmIiwgImZpbGxPcGFjaXR5IjogMC4zLCAiZmlsbFJ1bGUiOiAiZXZlbm9kZCIsICJsaW5lQ2FwIjogInJvdW5kIiwgImxpbmVKb2luIjogInJvdW5kIiwgIm9wYWNpdHkiOiAxLjAsICJyYWRpdXMiOiA1LCAic3Ryb2tlIjogdHJ1ZSwgIndlaWdodCI6IDN9CiAgICAgICAgICAgICkuYWRkVG8obWFwXzg2OTU2OTQ1MmRmNTQyMjRiNWM2N2QzNmY2MDIyOTExKTsKICAgICAgICAKICAgIAogICAgICAgIHZhciBwb3B1cF81NWUyMjYyOTljYWY0MGZjYmE2MmRlYWQ1NDYzYWQxNiA9IEwucG9wdXAoeyJtYXhXaWR0aCI6ICIxMDAlIn0pOwoKICAgICAgICAKICAgICAgICAgICAgdmFyIGh0bWxfYzU4MzhjOTY3NmQ3NDczNWIyOWFiZGVmNmNmZTg1ZjYgPSAkKGA8ZGl2IGlkPSJodG1sX2M1ODM4Yzk2NzZkNzQ3MzViMjlhYmRlZjZjZmU4NWY2IiBzdHlsZT0id2lkdGg6IDEwMC4wJTsgaGVpZ2h0OiAxMDAuMCU7Ij5JcGlyYW5nYSAoU3VsKTwvZGl2PmApWzBdOwogICAgICAgICAgICBwb3B1cF81NWUyMjYyOTljYWY0MGZjYmE2MmRlYWQ1NDYzYWQxNi5zZXRDb250ZW50KGh0bWxfYzU4MzhjOTY3NmQ3NDczNWIyOWFiZGVmNmNmZTg1ZjYpOwogICAgICAgIAoKICAgICAgICBjaXJjbGVfbWFya2VyXzZiZmZkYjEzNDQ5NTQ0ZTE4OTVmZWZkMjkyZmFlZmQwLmJpbmRQb3B1cChwb3B1cF81NWUyMjYyOTljYWY0MGZjYmE2MmRlYWQ1NDYzYWQxNikKICAgICAgICA7CgogICAgICAgIAogICAgCiAgICAKICAgICAgICAgICAgdmFyIGNpcmNsZV9tYXJrZXJfN2U5MDk3OTkyOGE4NDc1YjhjOTQ4YzEzMjcxYmUwZDggPSBMLmNpcmNsZU1hcmtlcigKICAgICAgICAgICAgICAgIFstMjMuNjAxMywgLTQ2LjYwMjZdLAogICAgICAgICAgICAgICAgeyJidWJibGluZ01vdXNlRXZlbnRzIjogdHJ1ZSwgImNvbG9yIjogIiMxN2JlY2YiLCAiZGFzaEFycmF5IjogbnVsbCwgImRhc2hPZmZzZXQiOiBudWxsLCAiZmlsbCI6IHRydWUsICJmaWxsQ29sb3IiOiAiIzE3YmVjZiIsICJmaWxsT3BhY2l0eSI6IDAuMywgImZpbGxSdWxlIjogImV2ZW5vZGQiLCAibGluZUNhcCI6ICJyb3VuZCIsICJsaW5lSm9pbiI6ICJyb3VuZCIsICJvcGFjaXR5IjogMS4wLCAicmFkaXVzIjogNSwgInN0cm9rZSI6IHRydWUsICJ3ZWlnaHQiOiAzfQogICAgICAgICAgICApLmFkZFRvKG1hcF84Njk1Njk0NTJkZjU0MjI0YjVjNjdkMzZmNjAyMjkxMSk7CiAgICAgICAgCiAgICAKICAgICAgICB2YXIgcG9wdXBfMDY2NjQ5MDViYjliNGIzMThlZmFkYmVkYzcxYTgwODEgPSBMLnBvcHVwKHsibWF4V2lkdGgiOiAiMTAwJSJ9KTsKCiAgICAgICAgCiAgICAgICAgICAgIHZhciBodG1sXzI0YjZmNDUzNTIxMTRkM2Q5NzFmMmZjNTBhNGMxZDQ1ID0gJChgPGRpdiBpZD0iaHRtbF8yNGI2ZjQ1MzUyMTE0ZDNkOTcxZjJmYzUwYTRjMWQ0NSIgc3R5bGU9IndpZHRoOiAxMDAuMCU7IGhlaWdodDogMTAwLjAlOyI+U2Fjb23DoyAoU3VsKTwvZGl2PmApWzBdOwogICAgICAgICAgICBwb3B1cF8wNjY2NDkwNWJiOWI0YjMxOGVmYWRiZWRjNzFhODA4MS5zZXRDb250ZW50KGh0bWxfMjRiNmY0NTM1MjExNGQzZDk3MWYyZmM1MGE0YzFkNDUpOwogICAgICAgIAoKICAgICAgICBjaXJjbGVfbWFya2VyXzdlOTA5Nzk5MjhhODQ3NWI4Yzk0OGMxMzI3MWJlMGQ4LmJpbmRQb3B1cChwb3B1cF8wNjY2NDkwNWJiOWI0YjMxOGVmYWRiZWRjNzFhODA4MSkKICAgICAgICA7CgogICAgICAgIAogICAgCiAgICAKICAgICAgICAgICAgdmFyIGNpcmNsZV9tYXJrZXJfOGFlNmVkYjY2MmUyNGVlOTgyZjJhNTRlOTY2MWFmOGEgPSBMLmNpcmNsZU1hcmtlcigKICAgICAgICAgICAgICAgIFstMjMuNjQ2MywgLTQ2LjY0MV0sCiAgICAgICAgICAgICAgICB7ImJ1YmJsaW5nTW91c2VFdmVudHMiOiB0cnVlLCAiY29sb3IiOiAiIzE3YmVjZiIsICJkYXNoQXJyYXkiOiBudWxsLCAiZGFzaE9mZnNldCI6IG51bGwsICJmaWxsIjogdHJ1ZSwgImZpbGxDb2xvciI6ICIjMTdiZWNmIiwgImZpbGxPcGFjaXR5IjogMC4zLCAiZmlsbFJ1bGUiOiAiZXZlbm9kZCIsICJsaW5lQ2FwIjogInJvdW5kIiwgImxpbmVKb2luIjogInJvdW5kIiwgIm9wYWNpdHkiOiAxLjAsICJyYWRpdXMiOiA1LCAic3Ryb2tlIjogdHJ1ZSwgIndlaWdodCI6IDN9CiAgICAgICAgICAgICkuYWRkVG8obWFwXzg2OTU2OTQ1MmRmNTQyMjRiNWM2N2QzNmY2MDIyOTExKTsKICAgICAgICAKICAgIAogICAgICAgIHZhciBwb3B1cF85MjZmNzQxZjg4Y2Y0OTFkYjE0NjY2YWE3MjAyY2RkZSA9IEwucG9wdXAoeyJtYXhXaWR0aCI6ICIxMDAlIn0pOwoKICAgICAgICAKICAgICAgICAgICAgdmFyIGh0bWxfMTNmZTU4ZGViZWU0NDRlZmFhZTZhNjI3NGNmMGMyMDMgPSAkKGA8ZGl2IGlkPSJodG1sXzEzZmU1OGRlYmVlNDQ0ZWZhYWU2YTYyNzRjZjBjMjAzIiBzdHlsZT0id2lkdGg6IDEwMC4wJTsgaGVpZ2h0OiAxMDAuMCU7Ij5KYWJhcXVhcmEgKFN1bCk8L2Rpdj5gKVswXTsKICAgICAgICAgICAgcG9wdXBfOTI2Zjc0MWY4OGNmNDkxZGIxNDY2NmFhNzIwMmNkZGUuc2V0Q29udGVudChodG1sXzEzZmU1OGRlYmVlNDQ0ZWZhYWU2YTYyNzRjZjBjMjAzKTsKICAgICAgICAKCiAgICAgICAgY2lyY2xlX21hcmtlcl84YWU2ZWRiNjYyZTI0ZWU5ODJmMmE1NGU5NjYxYWY4YS5iaW5kUG9wdXAocG9wdXBfOTI2Zjc0MWY4OGNmNDkxZGIxNDY2NmFhNzIwMmNkZGUpCiAgICAgICAgOwoKICAgICAgICAKICAgIAogICAgCiAgICAgICAgICAgIHZhciBjaXJjbGVfbWFya2VyXzcwMzljZjU4YTdiOTQzNTBhZTQwNzhkNjQ1MDRlZGMwID0gTC5jaXJjbGVNYXJrZXIoCiAgICAgICAgICAgICAgICBbLTIzLjY3NjMsIC00Ni43NTc4XSwKICAgICAgICAgICAgICAgIHsiYnViYmxpbmdNb3VzZUV2ZW50cyI6IHRydWUsICJjb2xvciI6ICIjMTdiZWNmIiwgImRhc2hBcnJheSI6IG51bGwsICJkYXNoT2Zmc2V0IjogbnVsbCwgImZpbGwiOiB0cnVlLCAiZmlsbENvbG9yIjogIiMxN2JlY2YiLCAiZmlsbE9wYWNpdHkiOiAwLjMsICJmaWxsUnVsZSI6ICJldmVub2RkIiwgImxpbmVDYXAiOiAicm91bmQiLCAibGluZUpvaW4iOiAicm91bmQiLCAib3BhY2l0eSI6IDEuMCwgInJhZGl1cyI6IDUsICJzdHJva2UiOiB0cnVlLCAid2VpZ2h0IjogM30KICAgICAgICAgICAgKS5hZGRUbyhtYXBfODY5NTY5NDUyZGY1NDIyNGI1YzY3ZDM2ZjYwMjI5MTEpOwogICAgICAgIAogICAgCiAgICAgICAgdmFyIHBvcHVwXzEwMzIwNzRiMGY3NzQzNGU4OGQ0MTU3MmFjYWE2NDYzID0gTC5wb3B1cCh7Im1heFdpZHRoIjogIjEwMCUifSk7CgogICAgICAgIAogICAgICAgICAgICB2YXIgaHRtbF8zYjUzNWJmNzViMTI0MzEyOWM2OTFhZjIyNjAxOWQ1NiA9ICQoYDxkaXYgaWQ9Imh0bWxfM2I1MzViZjc1YjEyNDMxMjljNjkxYWYyMjYwMTlkNTYiIHN0eWxlPSJ3aWR0aDogMTAwLjAlOyBoZWlnaHQ6IDEwMC4wJTsiPkphcmRpbSDDgm5nZWxhIChTdWwpPC9kaXY+YClbMF07CiAgICAgICAgICAgIHBvcHVwXzEwMzIwNzRiMGY3NzQzNGU4OGQ0MTU3MmFjYWE2NDYzLnNldENvbnRlbnQoaHRtbF8zYjUzNWJmNzViMTI0MzEyOWM2OTFhZjIyNjAxOWQ1Nik7CiAgICAgICAgCgogICAgICAgIGNpcmNsZV9tYXJrZXJfNzAzOWNmNThhN2I5NDM1MGFlNDA3OGQ2NDUwNGVkYzAuYmluZFBvcHVwKHBvcHVwXzEwMzIwNzRiMGY3NzQzNGU4OGQ0MTU3MmFjYWE2NDYzKQogICAgICAgIDsKCiAgICAgICAgCiAgICAKICAgIAogICAgICAgICAgICB2YXIgY2lyY2xlX21hcmtlcl8xNzFkNzJkODY1ZWI0YTc0YjdkZGVhZDc2MTZiZjI2NiA9IEwuY2lyY2xlTWFya2VyKAogICAgICAgICAgICAgICAgWy0yMy42NzYzLCAtNDYuNzU3OF0sCiAgICAgICAgICAgICAgICB7ImJ1YmJsaW5nTW91c2VFdmVudHMiOiB0cnVlLCAiY29sb3IiOiAiIzE3YmVjZiIsICJkYXNoQXJyYXkiOiBudWxsLCAiZGFzaE9mZnNldCI6IG51bGwsICJmaWxsIjogdHJ1ZSwgImZpbGxDb2xvciI6ICIjMTdiZWNmIiwgImZpbGxPcGFjaXR5IjogMC4zLCAiZmlsbFJ1bGUiOiAiZXZlbm9kZCIsICJsaW5lQ2FwIjogInJvdW5kIiwgImxpbmVKb2luIjogInJvdW5kIiwgIm9wYWNpdHkiOiAxLjAsICJyYWRpdXMiOiA1LCAic3Ryb2tlIjogdHJ1ZSwgIndlaWdodCI6IDN9CiAgICAgICAgICAgICkuYWRkVG8obWFwXzg2OTU2OTQ1MmRmNTQyMjRiNWM2N2QzNmY2MDIyOTExKTsKICAgICAgICAKICAgIAogICAgICAgIHZhciBwb3B1cF81ZGJlNTNjODlkZDg0MWUxYmEzMjM5NGU1MWVhNGQxYiA9IEwucG9wdXAoeyJtYXhXaWR0aCI6ICIxMDAlIn0pOwoKICAgICAgICAKICAgICAgICAgICAgdmFyIGh0bWxfZWQ5NmE1YzEwZjcyNGYxNGJmNTI5MDAxMGZhYTA1YzMgPSAkKGA8ZGl2IGlkPSJodG1sX2VkOTZhNWMxMGY3MjRmMTRiZjUyOTAwMTBmYWEwNWMzIiBzdHlsZT0id2lkdGg6IDEwMC4wJTsgaGVpZ2h0OiAxMDAuMCU7Ij5KYXJkaW0gU8OjbyBMdcOtcyAoU3VsKTwvZGl2PmApWzBdOwogICAgICAgICAgICBwb3B1cF81ZGJlNTNjODlkZDg0MWUxYmEzMjM5NGU1MWVhNGQxYi5zZXRDb250ZW50KGh0bWxfZWQ5NmE1YzEwZjcyNGYxNGJmNTI5MDAxMGZhYTA1YzMpOwogICAgICAgIAoKICAgICAgICBjaXJjbGVfbWFya2VyXzE3MWQ3MmQ4NjVlYjRhNzRiN2RkZWFkNzYxNmJmMjY2LmJpbmRQb3B1cChwb3B1cF81ZGJlNTNjODlkZDg0MWUxYmEzMjM5NGU1MWVhNGQxYikKICAgICAgICA7CgogICAgICAgIAogICAgCiAgICAKICAgICAgICAgICAgdmFyIGNpcmNsZV9tYXJrZXJfMmM3ZTk1OTNjZDA3NGVmMmE2Yzk3M2U0MzYwODRiOGQgPSBMLmNpcmNsZU1hcmtlcigKICAgICAgICAgICAgICAgIFstMjMuODU0LCAtNDYuNzU1N10sCiAgICAgICAgICAgICAgICB7ImJ1YmJsaW5nTW91c2VFdmVudHMiOiB0cnVlLCAiY29sb3IiOiAiIzE3YmVjZiIsICJkYXNoQXJyYXkiOiBudWxsLCAiZGFzaE9mZnNldCI6IG51bGwsICJmaWxsIjogdHJ1ZSwgImZpbGxDb2xvciI6ICIjMTdiZWNmIiwgImZpbGxPcGFjaXR5IjogMC4zLCAiZmlsbFJ1bGUiOiAiZXZlbm9kZCIsICJsaW5lQ2FwIjogInJvdW5kIiwgImxpbmVKb2luIjogInJvdW5kIiwgIm9wYWNpdHkiOiAxLjAsICJyYWRpdXMiOiA1LCAic3Ryb2tlIjogdHJ1ZSwgIndlaWdodCI6IDN9CiAgICAgICAgICAgICkuYWRkVG8obWFwXzg2OTU2OTQ1MmRmNTQyMjRiNWM2N2QzNmY2MDIyOTExKTsKICAgICAgICAKICAgIAogICAgICAgIHZhciBwb3B1cF9iZDAxYjBjNzhmMjg0ZmI4YTEzZmM2NzdkODlkYzYwYyA9IEwucG9wdXAoeyJtYXhXaWR0aCI6ICIxMDAlIn0pOwoKICAgICAgICAKICAgICAgICAgICAgdmFyIGh0bWxfMTk0NjVlN2QyMzFkNGQ4ZDg1Y2E0Y2JhZjZkNjI2Y2EgPSAkKGA8ZGl2IGlkPSJodG1sXzE5NDY1ZTdkMjMxZDRkOGQ4NWNhNGNiYWY2ZDYyNmNhIiBzdHlsZT0id2lkdGg6IDEwMC4wJTsgaGVpZ2h0OiAxMDAuMCU7Ij5NYXJzaWxhYyAoU3VsKTwvZGl2PmApWzBdOwogICAgICAgICAgICBwb3B1cF9iZDAxYjBjNzhmMjg0ZmI4YTEzZmM2NzdkODlkYzYwYy5zZXRDb250ZW50KGh0bWxfMTk0NjVlN2QyMzFkNGQ4ZDg1Y2E0Y2JhZjZkNjI2Y2EpOwogICAgICAgIAoKICAgICAgICBjaXJjbGVfbWFya2VyXzJjN2U5NTkzY2QwNzRlZjJhNmM5NzNlNDM2MDg0YjhkLmJpbmRQb3B1cChwb3B1cF9iZDAxYjBjNzhmMjg0ZmI4YTEzZmM2NzdkODlkYzYwYykKICAgICAgICA7CgogICAgICAgIAogICAgCiAgICAKICAgICAgICAgICAgdmFyIGNpcmNsZV9tYXJrZXJfOWYxZjFiYjE1MDFjNDU3ODkwNDVmMDU0NGQyNjRkMGMgPSBMLmNpcmNsZU1hcmtlcigKICAgICAgICAgICAgICAgIFstMjMuODI3MywgLTQ2LjcyNzhdLAogICAgICAgICAgICAgICAgeyJidWJibGluZ01vdXNlRXZlbnRzIjogdHJ1ZSwgImNvbG9yIjogIiMxN2JlY2YiLCAiZGFzaEFycmF5IjogbnVsbCwgImRhc2hPZmZzZXQiOiBudWxsLCAiZmlsbCI6IHRydWUsICJmaWxsQ29sb3IiOiAiIzE3YmVjZiIsICJmaWxsT3BhY2l0eSI6IDAuMywgImZpbGxSdWxlIjogImV2ZW5vZGQiLCAibGluZUNhcCI6ICJyb3VuZCIsICJsaW5lSm9pbiI6ICJyb3VuZCIsICJvcGFjaXR5IjogMS4wLCAicmFkaXVzIjogNSwgInN0cm9rZSI6IHRydWUsICJ3ZWlnaHQiOiAzfQogICAgICAgICAgICApLmFkZFRvKG1hcF84Njk1Njk0NTJkZjU0MjI0YjVjNjdkMzZmNjAyMjkxMSk7CiAgICAgICAgCiAgICAKICAgICAgICB2YXIgcG9wdXBfNDgyMWM5ODhmZjhjNDgwMjk3ZTFhM2QxNGI2ZGRlOGQgPSBMLnBvcHVwKHsibWF4V2lkdGgiOiAiMTAwJSJ9KTsKCiAgICAgICAgCiAgICAgICAgICAgIHZhciBodG1sX2JhNjdlODcxOTU1MjQ3ZDg4MmFjZDIyYWJlNDBmNzNkID0gJChgPGRpdiBpZD0iaHRtbF9iYTY3ZTg3MTk1NTI0N2Q4ODJhY2QyMmFiZTQwZjczZCIgc3R5bGU9IndpZHRoOiAxMDAuMCU7IGhlaWdodDogMTAwLjAlOyI+UGFyZWxoZWlyb3MgKFN1bCk8L2Rpdj5gKVswXTsKICAgICAgICAgICAgcG9wdXBfNDgyMWM5ODhmZjhjNDgwMjk3ZTFhM2QxNGI2ZGRlOGQuc2V0Q29udGVudChodG1sX2JhNjdlODcxOTU1MjQ3ZDg4MmFjZDIyYWJlNDBmNzNkKTsKICAgICAgICAKCiAgICAgICAgY2lyY2xlX21hcmtlcl85ZjFmMWJiMTUwMWM0NTc4OTA0NWYwNTQ0ZDI2NGQwYy5iaW5kUG9wdXAocG9wdXBfNDgyMWM5ODhmZjhjNDgwMjk3ZTFhM2QxNGI2ZGRlOGQpCiAgICAgICAgOwoKICAgICAgICAKICAgIAogICAgCiAgICAgICAgICAgIHZhciBjaXJjbGVfbWFya2VyXzYzZWYwNWFjNDhlYjQ3ODU5YTQ4OTNjZWFkMGQyNGMzID0gTC5jaXJjbGVNYXJrZXIoCiAgICAgICAgICAgICAgICBbLTIzLjYyNjcsIC00Ni42Njk0XSwKICAgICAgICAgICAgICAgIHsiYnViYmxpbmdNb3VzZUV2ZW50cyI6IHRydWUsICJjb2xvciI6ICIjMTdiZWNmIiwgImRhc2hBcnJheSI6IG51bGwsICJkYXNoT2Zmc2V0IjogbnVsbCwgImZpbGwiOiB0cnVlLCAiZmlsbENvbG9yIjogIiMxN2JlY2YiLCAiZmlsbE9wYWNpdHkiOiAwLjMsICJmaWxsUnVsZSI6ICJldmVub2RkIiwgImxpbmVDYXAiOiAicm91bmQiLCAibGluZUpvaW4iOiAicm91bmQiLCAib3BhY2l0eSI6IDEuMCwgInJhZGl1cyI6IDUsICJzdHJva2UiOiB0cnVlLCAid2VpZ2h0IjogM30KICAgICAgICAgICAgKS5hZGRUbyhtYXBfODY5NTY5NDUyZGY1NDIyNGI1YzY3ZDM2ZjYwMjI5MTEpOwogICAgICAgIAogICAgCiAgICAgICAgdmFyIHBvcHVwX2ZkZGNmZTZjZmRhNTQ5YzNiNjY3M2UzNTVmMTA2ZjNlID0gTC5wb3B1cCh7Im1heFdpZHRoIjogIjEwMCUifSk7CgogICAgICAgIAogICAgICAgICAgICB2YXIgaHRtbF9mM2YxY2MxNWZhYmM0Y2JlOGMxOWE3NzJkNjc4MGZiMCA9ICQoYDxkaXYgaWQ9Imh0bWxfZjNmMWNjMTVmYWJjNGNiZThjMTlhNzcyZDY3ODBmYjAiIHN0eWxlPSJ3aWR0aDogMTAwLjAlOyBoZWlnaHQ6IDEwMC4wJTsiPkNhbXBvIEJlbG8gKFN1bCk8L2Rpdj5gKVswXTsKICAgICAgICAgICAgcG9wdXBfZmRkY2ZlNmNmZGE1NDljM2I2NjczZTM1NWYxMDZmM2Uuc2V0Q29udGVudChodG1sX2YzZjFjYzE1ZmFiYzRjYmU4YzE5YTc3MmQ2NzgwZmIwKTsKICAgICAgICAKCiAgICAgICAgY2lyY2xlX21hcmtlcl82M2VmMDVhYzQ4ZWI0Nzg1OWE0ODkzY2VhZDBkMjRjMy5iaW5kUG9wdXAocG9wdXBfZmRkY2ZlNmNmZGE1NDljM2I2NjczZTM1NWYxMDZmM2UpCiAgICAgICAgOwoKICAgICAgICAKICAgIAogICAgCiAgICAgICAgICAgIHZhciBjaXJjbGVfbWFya2VyXzFhZDZjNDQ3OGY3YTQyNmY5ZGNlYzA4ZWZkZTdkOWFjID0gTC5jaXJjbGVNYXJrZXIoCiAgICAgICAgICAgICAgICBbLTIzLjY1NzgsIC00Ni42OTg2XSwKICAgICAgICAgICAgICAgIHsiYnViYmxpbmdNb3VzZUV2ZW50cyI6IHRydWUsICJjb2xvciI6ICIjMTdiZWNmIiwgImRhc2hBcnJheSI6IG51bGwsICJkYXNoT2Zmc2V0IjogbnVsbCwgImZpbGwiOiB0cnVlLCAiZmlsbENvbG9yIjogIiMxN2JlY2YiLCAiZmlsbE9wYWNpdHkiOiAwLjMsICJmaWxsUnVsZSI6ICJldmVub2RkIiwgImxpbmVDYXAiOiAicm91bmQiLCAibGluZUpvaW4iOiAicm91bmQiLCAib3BhY2l0eSI6IDEuMCwgInJhZGl1cyI6IDUsICJzdHJva2UiOiB0cnVlLCAid2VpZ2h0IjogM30KICAgICAgICAgICAgKS5hZGRUbyhtYXBfODY5NTY5NDUyZGY1NDIyNGI1YzY3ZDM2ZjYwMjI5MTEpOwogICAgICAgIAogICAgCiAgICAgICAgdmFyIHBvcHVwXzAzNTJlZGE1M2YzZjQzMTBiYTg5NzQzNjc3NjU4NjdiID0gTC5wb3B1cCh7Im1heFdpZHRoIjogIjEwMCUifSk7CgogICAgICAgIAogICAgICAgICAgICB2YXIgaHRtbF9jYTAzMTFlMmFiOGY0NDFkYjNjYzFjN2VkODkwNDlhNyA9ICQoYDxkaXYgaWQ9Imh0bWxfY2EwMzExZTJhYjhmNDQxZGIzY2MxYzdlZDg5MDQ5YTciIHN0eWxlPSJ3aWR0aDogMTAwLjAlOyBoZWlnaHQ6IDEwMC4wJTsiPkNhbXBvIEdyYW5kZSAoU3VsKTwvZGl2PmApWzBdOwogICAgICAgICAgICBwb3B1cF8wMzUyZWRhNTNmM2Y0MzEwYmE4OTc0MzY3NzY1ODY3Yi5zZXRDb250ZW50KGh0bWxfY2EwMzExZTJhYjhmNDQxZGIzY2MxYzdlZDg5MDQ5YTcpOwogICAgICAgIAoKICAgICAgICBjaXJjbGVfbWFya2VyXzFhZDZjNDQ3OGY3YTQyNmY5ZGNlYzA4ZWZkZTdkOWFjLmJpbmRQb3B1cChwb3B1cF8wMzUyZWRhNTNmM2Y0MzEwYmE4OTc0MzY3NzY1ODY3YikKICAgICAgICA7CgogICAgICAgIAogICAgCiAgICAKICAgICAgICAgICAgdmFyIGNpcmNsZV9tYXJrZXJfOGQxMjNjZjBmYzFlNGRlZGFjNTQwNDkxYjg0YjY0MWUgPSBMLmNpcmNsZU1hcmtlcigKICAgICAgICAgICAgICAgIFstMjMuNjU2MiwgLTQ2LjcxOTFdLAogICAgICAgICAgICAgICAgeyJidWJibGluZ01vdXNlRXZlbnRzIjogdHJ1ZSwgImNvbG9yIjogIiMxN2JlY2YiLCAiZGFzaEFycmF5IjogbnVsbCwgImRhc2hPZmZzZXQiOiBudWxsLCAiZmlsbCI6IHRydWUsICJmaWxsQ29sb3IiOiAiIzE3YmVjZiIsICJmaWxsT3BhY2l0eSI6IDAuMywgImZpbGxSdWxlIjogImV2ZW5vZGQiLCAibGluZUNhcCI6ICJyb3VuZCIsICJsaW5lSm9pbiI6ICJyb3VuZCIsICJvcGFjaXR5IjogMS4wLCAicmFkaXVzIjogNSwgInN0cm9rZSI6IHRydWUsICJ3ZWlnaHQiOiAzfQogICAgICAgICAgICApLmFkZFRvKG1hcF84Njk1Njk0NTJkZjU0MjI0YjVjNjdkMzZmNjAyMjkxMSk7CiAgICAgICAgCiAgICAKICAgICAgICB2YXIgcG9wdXBfOTQ4ODA4ODliMmQ5NDZlODhiZjY3NTc0YjVlNzcyODMgPSBMLnBvcHVwKHsibWF4V2lkdGgiOiAiMTAwJSJ9KTsKCiAgICAgICAgCiAgICAgICAgICAgIHZhciBodG1sX2RjZmI2ZjYwMDRiODQ3Y2NiZmQ5ODFkNzU0NGRmMDY3ID0gJChgPGRpdiBpZD0iaHRtbF9kY2ZiNmY2MDA0Yjg0N2NjYmZkOTgxZDc1NDRkZjA2NyIgc3R5bGU9IndpZHRoOiAxMDAuMCU7IGhlaWdodDogMTAwLjAlOyI+U2FudG8gQW1hcm8gKFN1bCk8L2Rpdj5gKVswXTsKICAgICAgICAgICAgcG9wdXBfOTQ4ODA4ODliMmQ5NDZlODhiZjY3NTc0YjVlNzcyODMuc2V0Q29udGVudChodG1sX2RjZmI2ZjYwMDRiODQ3Y2NiZmQ5ODFkNzU0NGRmMDY3KTsKICAgICAgICAKCiAgICAgICAgY2lyY2xlX21hcmtlcl84ZDEyM2NmMGZjMWU0ZGVkYWM1NDA0OTFiODRiNjQxZS5iaW5kUG9wdXAocG9wdXBfOTQ4ODA4ODliMmQ5NDZlODhiZjY3NTc0YjVlNzcyODMpCiAgICAgICAgOwoKICAgICAgICAKICAgIAogICAgCiAgICAgICAgICAgIHZhciBjaXJjbGVfbWFya2VyXzFlZWVjOTYzNDNmMjQzZWNhMjk5OWZiNWMyZjFmOGU2ID0gTC5jaXJjbGVNYXJrZXIoCiAgICAgICAgICAgICAgICBbLTIzLjU4MjcsIC00Ni42NDldLAogICAgICAgICAgICAgICAgeyJidWJibGluZ01vdXNlRXZlbnRzIjogdHJ1ZSwgImNvbG9yIjogIiMxN2JlY2YiLCAiZGFzaEFycmF5IjogbnVsbCwgImRhc2hPZmZzZXQiOiBudWxsLCAiZmlsbCI6IHRydWUsICJmaWxsQ29sb3IiOiAiIzE3YmVjZiIsICJmaWxsT3BhY2l0eSI6IDAuMywgImZpbGxSdWxlIjogImV2ZW5vZGQiLCAibGluZUNhcCI6ICJyb3VuZCIsICJsaW5lSm9pbiI6ICJyb3VuZCIsICJvcGFjaXR5IjogMS4wLCAicmFkaXVzIjogNSwgInN0cm9rZSI6IHRydWUsICJ3ZWlnaHQiOiAzfQogICAgICAgICAgICApLmFkZFRvKG1hcF84Njk1Njk0NTJkZjU0MjI0YjVjNjdkMzZmNjAyMjkxMSk7CiAgICAgICAgCiAgICAKICAgICAgICB2YXIgcG9wdXBfODIxOWY2OWM2YjY0NDUxYzhkODdjNTJmNTExZWUwMjkgPSBMLnBvcHVwKHsibWF4V2lkdGgiOiAiMTAwJSJ9KTsKCiAgICAgICAgCiAgICAgICAgICAgIHZhciBodG1sXzFiOTQ5NTZlNjZlZjQ1OTVhMDQ4YzFmNjlhZTc2ZmQ2ID0gJChgPGRpdiBpZD0iaHRtbF8xYjk0OTU2ZTY2ZWY0NTk1YTA0OGMxZjY5YWU3NmZkNiIgc3R5bGU9IndpZHRoOiAxMDAuMCU7IGhlaWdodDogMTAwLjAlOyI+TW9lbWEgKFN1bCk8L2Rpdj5gKVswXTsKICAgICAgICAgICAgcG9wdXBfODIxOWY2OWM2YjY0NDUxYzhkODdjNTJmNTExZWUwMjkuc2V0Q29udGVudChodG1sXzFiOTQ5NTZlNjZlZjQ1OTVhMDQ4YzFmNjlhZTc2ZmQ2KTsKICAgICAgICAKCiAgICAgICAgY2lyY2xlX21hcmtlcl8xZWVlYzk2MzQzZjI0M2VjYTI5OTlmYjVjMmYxZjhlNi5iaW5kUG9wdXAocG9wdXBfODIxOWY2OWM2YjY0NDUxYzhkODdjNTJmNTExZWUwMjkpCiAgICAgICAgOwoKICAgICAgICAKICAgIAogICAgCiAgICAgICAgICAgIHZhciBjaXJjbGVfbWFya2VyX2FiNTgyMjJjMDViODQ1ODk5MWU5N2NjODk1MjNmN2YxID0gTC5jaXJjbGVNYXJrZXIoCiAgICAgICAgICAgICAgICBbLTIzLjU5NzMsIC00Ni42MzU5XSwKICAgICAgICAgICAgICAgIHsiYnViYmxpbmdNb3VzZUV2ZW50cyI6IHRydWUsICJjb2xvciI6ICIjMTdiZWNmIiwgImRhc2hBcnJheSI6IG51bGwsICJkYXNoT2Zmc2V0IjogbnVsbCwgImZpbGwiOiB0cnVlLCAiZmlsbENvbG9yIjogIiMxN2JlY2YiLCAiZmlsbE9wYWNpdHkiOiAwLjMsICJmaWxsUnVsZSI6ICJldmVub2RkIiwgImxpbmVDYXAiOiAicm91bmQiLCAibGluZUpvaW4iOiAicm91bmQiLCAib3BhY2l0eSI6IDEuMCwgInJhZGl1cyI6IDUsICJzdHJva2UiOiB0cnVlLCAid2VpZ2h0IjogM30KICAgICAgICAgICAgKS5hZGRUbyhtYXBfODY5NTY5NDUyZGY1NDIyNGI1YzY3ZDM2ZjYwMjI5MTEpOwogICAgICAgIAogICAgCiAgICAgICAgdmFyIHBvcHVwX2JhZjMzMWVmODcxOTRmN2U4OTRjYWVhZGRjNThkMDAxID0gTC5wb3B1cCh7Im1heFdpZHRoIjogIjEwMCUifSk7CgogICAgICAgIAogICAgICAgICAgICB2YXIgaHRtbF9hYTk3MTI5NTdlM2M0ZWY0YTg5NjY5MGQ0MjZkNzNkMyA9ICQoYDxkaXYgaWQ9Imh0bWxfYWE5NzEyOTU3ZTNjNGVmNGE4OTY2OTBkNDI2ZDczZDMiIHN0eWxlPSJ3aWR0aDogMTAwLjAlOyBoZWlnaHQ6IDEwMC4wJTsiPlNhw7pkZSAoU3VsKTwvZGl2PmApWzBdOwogICAgICAgICAgICBwb3B1cF9iYWYzMzFlZjg3MTk0ZjdlODk0Y2FlYWRkYzU4ZDAwMS5zZXRDb250ZW50KGh0bWxfYWE5NzEyOTU3ZTNjNGVmNGE4OTY2OTBkNDI2ZDczZDMpOwogICAgICAgIAoKICAgICAgICBjaXJjbGVfbWFya2VyX2FiNTgyMjJjMDViODQ1ODk5MWU5N2NjODk1MjNmN2YxLmJpbmRQb3B1cChwb3B1cF9iYWYzMzFlZjg3MTk0ZjdlODk0Y2FlYWRkYzU4ZDAwMSkKICAgICAgICA7CgogICAgICAgIAogICAgCiAgICAKICAgICAgICAgICAgdmFyIGNpcmNsZV9tYXJrZXJfYmQ4NjliNDQwZTY5NDk4N2FhY2NiYzUxMmZlMTE1ZTYgPSBMLmNpcmNsZU1hcmtlcigKICAgICAgICAgICAgICAgIFstMjMuNTg5MiwgLTQ2LjYzNDddLAogICAgICAgICAgICAgICAgeyJidWJibGluZ01vdXNlRXZlbnRzIjogdHJ1ZSwgImNvbG9yIjogIiMxN2JlY2YiLCAiZGFzaEFycmF5IjogbnVsbCwgImRhc2hPZmZzZXQiOiBudWxsLCAiZmlsbCI6IHRydWUsICJmaWxsQ29sb3IiOiAiIzE3YmVjZiIsICJmaWxsT3BhY2l0eSI6IDAuMywgImZpbGxSdWxlIjogImV2ZW5vZGQiLCAibGluZUNhcCI6ICJyb3VuZCIsICJsaW5lSm9pbiI6ICJyb3VuZCIsICJvcGFjaXR5IjogMS4wLCAicmFkaXVzIjogNSwgInN0cm9rZSI6IHRydWUsICJ3ZWlnaHQiOiAzfQogICAgICAgICAgICApLmFkZFRvKG1hcF84Njk1Njk0NTJkZjU0MjI0YjVjNjdkMzZmNjAyMjkxMSk7CiAgICAgICAgCiAgICAKICAgICAgICB2YXIgcG9wdXBfN2E2YmFkN2NmOThhNDhiNGFmYTM4MGUzMTcyODQ1ZDggPSBMLnBvcHVwKHsibWF4V2lkdGgiOiAiMTAwJSJ9KTsKCiAgICAgICAgCiAgICAgICAgICAgIHZhciBodG1sXzAwYzExYWNhZTU5MjRlMTM5M2Y2Mzc5YWZjYjZhZWE0ID0gJChgPGRpdiBpZD0iaHRtbF8wMGMxMWFjYWU1OTI0ZTEzOTNmNjM3OWFmY2I2YWVhNCIgc3R5bGU9IndpZHRoOiAxMDAuMCU7IGhlaWdodDogMTAwLjAlOyI+VmlsYSBNYXJpYW5hIChTdWwpPC9kaXY+YClbMF07CiAgICAgICAgICAgIHBvcHVwXzdhNmJhZDdjZjk4YTQ4YjRhZmEzODBlMzE3Mjg0NWQ4LnNldENvbnRlbnQoaHRtbF8wMGMxMWFjYWU1OTI0ZTEzOTNmNjM3OWFmY2I2YWVhNCk7CiAgICAgICAgCgogICAgICAgIGNpcmNsZV9tYXJrZXJfYmQ4NjliNDQwZTY5NDk4N2FhY2NiYzUxMmZlMTE1ZTYuYmluZFBvcHVwKHBvcHVwXzdhNmJhZDdjZjk4YTQ4YjRhZmEzODBlMzE3Mjg0NWQ4KQogICAgICAgIDsKCiAgICAgICAgCiAgICAKPC9zY3JpcHQ+ onload=\"this.contentDocument.open();this.contentDocument.write(atob(this.getAttribute('data-html')));this.contentDocument.close();\" allowfullscreen webkitallowfullscreen mozallowfullscreen></iframe></div></div>"
      ],
      "text/plain": [
       "<folium.folium.Map at 0x11672b748>"
      ]
     },
     "execution_count": 66,
     "metadata": {},
     "output_type": "execute_result"
    }
   ],
   "source": [
    "# create the map\n",
    "sp_map = folium.Map(location=[latsp, lngsp], width='70%', height='70%',\n",
    "                    min_zoom=9, max_zoom=12, zoom_start=10, control_scale=True)\n",
    "\n",
    "# run a loop through the dataframe creating the points (circle marks)\n",
    "for lat, lng, reg, dst, clr in zip(df_coord['latitude'], df_coord['longitude'], df_coord['region'],\n",
    "                                   df_coord['district'], df_coord['region_color']):\n",
    "    # create marker label\n",
    "    label = '{} ({})'.format(dst, reg)\n",
    "    label = folium.Popup(label, parse_html=True)\n",
    "    \n",
    "    # create the circle mark\n",
    "    folium.CircleMarker([lat, lng],\n",
    "                        popup = label, \n",
    "                        radius = 5,\n",
    "                        color = clr,\n",
    "                        fill = True,\n",
    "                        fill_color = clr,\n",
    "                        fill_opacity = 0.3,\n",
    "                        parse_html = False,\n",
    "                        no_touch=True).add_to(sp_map)\n",
    "\n",
    "# show the map\n",
    "sp_map"
   ]
  },
  {
   "cell_type": "markdown",
   "metadata": {},
   "source": [
    "---"
   ]
  },
  {
   "cell_type": "markdown",
   "metadata": {},
   "source": [
    "### Step 6 - Get Districts Venues Information"
   ]
  },
  {
   "cell_type": "markdown",
   "metadata": {},
   "source": [
    "Import addional libraries.\n",
    "1. __Credentials__: API credentials, local user defined package\n",
    "1. __Json__: manipulate files in _json_ format\n",
    "1. __Math__: mathematical formulas"
   ]
  },
  {
   "cell_type": "code",
   "execution_count": 67,
   "metadata": {},
   "outputs": [],
   "source": [
    "import credentials\n",
    "import json\n",
    "import math"
   ]
  },
  {
   "cell_type": "markdown",
   "metadata": {},
   "source": [
    "Search for districts venues. The __API Foursquare__ will be used to search venues based on the districts coordinates, for each district a request will be sent to the API using _requests.get_ method and responses will be interpreted with _json_ method.\n",
    "\n",
    "Get __API Foursquare credentials__. The connection to __API Foursquare__ requires private user credentials, they have previouly been requested and stored into the local user defined package _Credentials_."
   ]
  },
  {
   "cell_type": "code",
   "execution_count": 68,
   "metadata": {},
   "outputs": [],
   "source": [
    "# get the credentials, token will not be used\n",
    "client_id, client_secret, access_token = credentials.get_foursquare()"
   ]
  },
  {
   "cell_type": "markdown",
   "metadata": {},
   "source": [
    "Will also be defined the __API version__ (required), __limit of venues__ to be returned and the __search radius__ around the location.\n",
    "\n",
    "API version and limit of venues will be fixed, radius will be set according to each district area (km<sup>2</sup>) by the formula below, limited to 2000 meter radius.\n",
    "\n",
    "$$\\frac{\\sqrt{area {km}^2}{2}100 = \\sqrt{area {km}^2} * 50$$\n",
    "\n",
    "The search will be limited to the Relocator __Priority List__, the _dictionary indexes_ will be converted into a single string, having each of the _indexes_ separated by comma and without blank spaces to be used as input for the API request.\n"
   ]
  },
  {
   "cell_type": "code",
   "execution_count": 69,
   "metadata": {},
   "outputs": [
    {
     "name": "stdout",
     "output_type": "stream",
     "text": [
      "3679 venues returned.\n"
     ]
    }
   ],
   "source": [
    "# define API version and limit\n",
    "api_version = '20180605'\n",
    "limit = 50\n",
    "\n",
    "# convert priority list to a single string\n",
    "priocateg = str(list(prio_list.keys())).strip('[]').replace('\\'','').replace(' ','')\n",
    "\n",
    "# create an empty list to store venues information\n",
    "venueslist = []\n",
    "\n",
    "# run a loop through the dataframe\n",
    "for ndistrict, nlat, nlng, narea in zip(df_coord['district'], df_coord['latitude'], df_coord['longitude'], df_coord['area_sqkm']):\n",
    "    # define radius for current district\n",
    "    radius = int(math.sqrt(a)*500) if round(math.sqrt(a)*500,0)<=2000 else 2000\n",
    "    \n",
    "    # create the API Foursquare request URL\n",
    "    url='https://api.foursquare.com/v2/venues/search?&client_id={}&client_secret={}&v={}&ll={},{}&radius={}&limit={}&categoryId={}'.\\\n",
    "    format(client_id, client_secret, api_version, nlat, nlng, radius, limit, priocateg)\n",
    "    \n",
    "    # make the GET request and store in JSON format\n",
    "    vresponse = requests.get(url).json()['response']['venues']\n",
    "\n",
    "    # add to temporary list only relevant information for each venue\n",
    "    for v in vresponse:\n",
    "        venueslist.append([ndistrict,\n",
    "                            nlat,\n",
    "                            nlng,\n",
    "                            v['name'],\n",
    "                            v['location']['lat'],\n",
    "                            v['location']['lng'],\n",
    "                            v['categories'][0]['name']])\n",
    "\n",
    "# print the quantity of venues returned\n",
    "print('{} venues returned.'.format(len(venueslist)))"
   ]
  },
  {
   "cell_type": "markdown",
   "metadata": {},
   "source": [
    "Create the __Venues Dataframe__ to store the response form __API Foursquare__, using _pandas.DataFrame_."
   ]
  },
  {
   "cell_type": "code",
   "execution_count": 70,
   "metadata": {},
   "outputs": [
    {
     "data": {
      "text/html": [
       "<div>\n",
       "<style scoped>\n",
       "    .dataframe tbody tr th:only-of-type {\n",
       "        vertical-align: middle;\n",
       "    }\n",
       "\n",
       "    .dataframe tbody tr th {\n",
       "        vertical-align: top;\n",
       "    }\n",
       "\n",
       "    .dataframe thead th {\n",
       "        text-align: right;\n",
       "    }\n",
       "</style>\n",
       "<table border=\"1\" class=\"dataframe\">\n",
       "  <thead>\n",
       "    <tr style=\"text-align: right;\">\n",
       "      <th></th>\n",
       "      <th>district</th>\n",
       "      <th>district_latitude</th>\n",
       "      <th>district_longitude</th>\n",
       "      <th>venue_name</th>\n",
       "      <th>venue_latitude</th>\n",
       "      <th>venue_longitude</th>\n",
       "      <th>venue_category</th>\n",
       "    </tr>\n",
       "  </thead>\n",
       "  <tbody>\n",
       "    <tr>\n",
       "      <th>0</th>\n",
       "      <td>Bela Vista</td>\n",
       "      <td>-23.5622</td>\n",
       "      <td>-46.6478</td>\n",
       "      <td>Drograsil</td>\n",
       "      <td>-23.562127</td>\n",
       "      <td>-46.652414</td>\n",
       "      <td>Pharmacy</td>\n",
       "    </tr>\n",
       "    <tr>\n",
       "      <th>1</th>\n",
       "      <td>Bela Vista</td>\n",
       "      <td>-23.5622</td>\n",
       "      <td>-46.6478</td>\n",
       "      <td>Estação Brigadeiro (Metrô)</td>\n",
       "      <td>-23.568441</td>\n",
       "      <td>-46.647965</td>\n",
       "      <td>Metro Station</td>\n",
       "    </tr>\n",
       "    <tr>\n",
       "      <th>2</th>\n",
       "      <td>Bela Vista</td>\n",
       "      <td>-23.5622</td>\n",
       "      <td>-46.6478</td>\n",
       "      <td>Estação Vergueiro (Metrô)</td>\n",
       "      <td>-23.568846</td>\n",
       "      <td>-46.639957</td>\n",
       "      <td>Metro Station</td>\n",
       "    </tr>\n",
       "    <tr>\n",
       "      <th>3</th>\n",
       "      <td>Bela Vista</td>\n",
       "      <td>-23.5622</td>\n",
       "      <td>-46.6478</td>\n",
       "      <td>Estação São Joaquim (Metrô)</td>\n",
       "      <td>-23.561901</td>\n",
       "      <td>-46.638587</td>\n",
       "      <td>Metro Station</td>\n",
       "    </tr>\n",
       "    <tr>\n",
       "      <th>4</th>\n",
       "      <td>Bela Vista</td>\n",
       "      <td>-23.5622</td>\n",
       "      <td>-46.6478</td>\n",
       "      <td>Estação Liberdade (Metrô)</td>\n",
       "      <td>-23.555199</td>\n",
       "      <td>-46.635612</td>\n",
       "      <td>Metro Station</td>\n",
       "    </tr>\n",
       "    <tr>\n",
       "      <th>...</th>\n",
       "      <td>...</td>\n",
       "      <td>...</td>\n",
       "      <td>...</td>\n",
       "      <td>...</td>\n",
       "      <td>...</td>\n",
       "      <td>...</td>\n",
       "      <td>...</td>\n",
       "    </tr>\n",
       "    <tr>\n",
       "      <th>3674</th>\n",
       "      <td>Vila Mariana</td>\n",
       "      <td>-23.5892</td>\n",
       "      <td>-46.6347</td>\n",
       "      <td>Drogaria São Paulo</td>\n",
       "      <td>-23.598622</td>\n",
       "      <td>-46.639823</td>\n",
       "      <td>Pharmacy</td>\n",
       "    </tr>\n",
       "    <tr>\n",
       "      <th>3675</th>\n",
       "      <td>Vila Mariana</td>\n",
       "      <td>-23.5892</td>\n",
       "      <td>-46.6347</td>\n",
       "      <td>Praça Rosa Alves da Silva</td>\n",
       "      <td>-23.579476</td>\n",
       "      <td>-46.632390</td>\n",
       "      <td>Plaza</td>\n",
       "    </tr>\n",
       "    <tr>\n",
       "      <th>3676</th>\n",
       "      <td>Vila Mariana</td>\n",
       "      <td>-23.5892</td>\n",
       "      <td>-46.6347</td>\n",
       "      <td>Droga Raia</td>\n",
       "      <td>-23.592650</td>\n",
       "      <td>-46.621110</td>\n",
       "      <td>Pharmacy</td>\n",
       "    </tr>\n",
       "    <tr>\n",
       "      <th>3677</th>\n",
       "      <td>Vila Mariana</td>\n",
       "      <td>-23.5892</td>\n",
       "      <td>-46.6347</td>\n",
       "      <td>Praça Kant</td>\n",
       "      <td>-23.592505</td>\n",
       "      <td>-46.623091</td>\n",
       "      <td>Park</td>\n",
       "    </tr>\n",
       "    <tr>\n",
       "      <th>3678</th>\n",
       "      <td>Vila Mariana</td>\n",
       "      <td>-23.5892</td>\n",
       "      <td>-46.6347</td>\n",
       "      <td>Colégio Cristo Rei</td>\n",
       "      <td>-23.584890</td>\n",
       "      <td>-46.644444</td>\n",
       "      <td>School</td>\n",
       "    </tr>\n",
       "  </tbody>\n",
       "</table>\n",
       "<p>3679 rows × 7 columns</p>\n",
       "</div>"
      ],
      "text/plain": [
       "          district  district_latitude  district_longitude  \\\n",
       "0       Bela Vista           -23.5622            -46.6478   \n",
       "1       Bela Vista           -23.5622            -46.6478   \n",
       "2       Bela Vista           -23.5622            -46.6478   \n",
       "3       Bela Vista           -23.5622            -46.6478   \n",
       "4       Bela Vista           -23.5622            -46.6478   \n",
       "...            ...                ...                 ...   \n",
       "3674  Vila Mariana           -23.5892            -46.6347   \n",
       "3675  Vila Mariana           -23.5892            -46.6347   \n",
       "3676  Vila Mariana           -23.5892            -46.6347   \n",
       "3677  Vila Mariana           -23.5892            -46.6347   \n",
       "3678  Vila Mariana           -23.5892            -46.6347   \n",
       "\n",
       "                       venue_name  venue_latitude  venue_longitude  \\\n",
       "0                       Drograsil      -23.562127       -46.652414   \n",
       "1      Estação Brigadeiro (Metrô)      -23.568441       -46.647965   \n",
       "2       Estação Vergueiro (Metrô)      -23.568846       -46.639957   \n",
       "3     Estação São Joaquim (Metrô)      -23.561901       -46.638587   \n",
       "4       Estação Liberdade (Metrô)      -23.555199       -46.635612   \n",
       "...                           ...             ...              ...   \n",
       "3674           Drogaria São Paulo      -23.598622       -46.639823   \n",
       "3675    Praça Rosa Alves da Silva      -23.579476       -46.632390   \n",
       "3676                   Droga Raia      -23.592650       -46.621110   \n",
       "3677                   Praça Kant      -23.592505       -46.623091   \n",
       "3678           Colégio Cristo Rei      -23.584890       -46.644444   \n",
       "\n",
       "     venue_category  \n",
       "0          Pharmacy  \n",
       "1     Metro Station  \n",
       "2     Metro Station  \n",
       "3     Metro Station  \n",
       "4     Metro Station  \n",
       "...             ...  \n",
       "3674       Pharmacy  \n",
       "3675          Plaza  \n",
       "3676       Pharmacy  \n",
       "3677           Park  \n",
       "3678         School  \n",
       "\n",
       "[3679 rows x 7 columns]"
      ]
     },
     "execution_count": 70,
     "metadata": {},
     "output_type": "execute_result"
    }
   ],
   "source": [
    "# create Venues Dataframe\n",
    "df_venues = pd.DataFrame(data=venueslist, columns=['district',\n",
    "                                                   'district_latitude',\n",
    "                                                   'district_longitude',\n",
    "                                                   'venue_name',\n",
    "                                                   'venue_latitude',\n",
    "                                                   'venue_longitude',\n",
    "                                                   'venue_category'])\n",
    "\n",
    "# print results\n",
    "df_venues"
   ]
  },
  {
   "cell_type": "markdown",
   "metadata": {},
   "source": [
    "Check how many unique __categories__ have been returned, using _pandas.DataFrame.unique_ method."
   ]
  },
  {
   "cell_type": "code",
   "execution_count": 71,
   "metadata": {},
   "outputs": [
    {
     "name": "stdout",
     "output_type": "stream",
     "text": [
      "39 unique categories returned.\n"
     ]
    }
   ],
   "source": [
    "# print quantity of unique categories\n",
    "print('{} unique categories returned.'.format(len(df_venues['venue_category'].unique())))"
   ]
  },
  {
   "cell_type": "markdown",
   "metadata": {},
   "source": [
    "When specifying categories to __API Foursquare__, all the sub-categories are returned in response. For the 5 categories in __Priority List__, 39 venues categories have returned.\n",
    "\n",
    "Remove venues of not required categories, using _pandas.DataFrame.isin_ method, then create the __Summary Dataframe__ with the venues quantity for each district, using _pandas.pivot_table_ method."
   ]
  },
  {
   "cell_type": "code",
   "execution_count": 72,
   "metadata": {},
   "outputs": [
    {
     "data": {
      "text/html": [
       "<div>\n",
       "<style scoped>\n",
       "    .dataframe tbody tr th:only-of-type {\n",
       "        vertical-align: middle;\n",
       "    }\n",
       "\n",
       "    .dataframe tbody tr th {\n",
       "        vertical-align: top;\n",
       "    }\n",
       "\n",
       "    .dataframe thead th {\n",
       "        text-align: right;\n",
       "    }\n",
       "</style>\n",
       "<table border=\"1\" class=\"dataframe\">\n",
       "  <thead>\n",
       "    <tr style=\"text-align: right;\">\n",
       "      <th>venue_category</th>\n",
       "      <th>Elementary School</th>\n",
       "      <th>Metro Station</th>\n",
       "      <th>Park</th>\n",
       "      <th>Pharmacy</th>\n",
       "      <th>Supermarket</th>\n",
       "    </tr>\n",
       "    <tr>\n",
       "      <th>district</th>\n",
       "      <th></th>\n",
       "      <th></th>\n",
       "      <th></th>\n",
       "      <th></th>\n",
       "      <th></th>\n",
       "    </tr>\n",
       "  </thead>\n",
       "  <tbody>\n",
       "    <tr>\n",
       "      <th>Alto de Pinheiros</th>\n",
       "      <td>2.0</td>\n",
       "      <td>1.0</td>\n",
       "      <td>12.0</td>\n",
       "      <td>24.0</td>\n",
       "      <td>5.0</td>\n",
       "    </tr>\n",
       "    <tr>\n",
       "      <th>Anhanguera</th>\n",
       "      <td>1.0</td>\n",
       "      <td>NaN</td>\n",
       "      <td>2.0</td>\n",
       "      <td>NaN</td>\n",
       "      <td>NaN</td>\n",
       "    </tr>\n",
       "    <tr>\n",
       "      <th>Aricanduva</th>\n",
       "      <td>9.0</td>\n",
       "      <td>NaN</td>\n",
       "      <td>1.0</td>\n",
       "      <td>18.0</td>\n",
       "      <td>4.0</td>\n",
       "    </tr>\n",
       "    <tr>\n",
       "      <th>Artur Alvim</th>\n",
       "      <td>6.0</td>\n",
       "      <td>4.0</td>\n",
       "      <td>NaN</td>\n",
       "      <td>33.0</td>\n",
       "      <td>5.0</td>\n",
       "    </tr>\n",
       "    <tr>\n",
       "      <th>Barra Funda</th>\n",
       "      <td>3.0</td>\n",
       "      <td>3.0</td>\n",
       "      <td>2.0</td>\n",
       "      <td>21.0</td>\n",
       "      <td>16.0</td>\n",
       "    </tr>\n",
       "    <tr>\n",
       "      <th>...</th>\n",
       "      <td>...</td>\n",
       "      <td>...</td>\n",
       "      <td>...</td>\n",
       "      <td>...</td>\n",
       "      <td>...</td>\n",
       "    </tr>\n",
       "    <tr>\n",
       "      <th>Vila Matilde</th>\n",
       "      <td>6.0</td>\n",
       "      <td>2.0</td>\n",
       "      <td>3.0</td>\n",
       "      <td>25.0</td>\n",
       "      <td>11.0</td>\n",
       "    </tr>\n",
       "    <tr>\n",
       "      <th>Vila Medeiros</th>\n",
       "      <td>9.0</td>\n",
       "      <td>NaN</td>\n",
       "      <td>1.0</td>\n",
       "      <td>33.0</td>\n",
       "      <td>3.0</td>\n",
       "    </tr>\n",
       "    <tr>\n",
       "      <th>Vila Prudente</th>\n",
       "      <td>5.0</td>\n",
       "      <td>3.0</td>\n",
       "      <td>7.0</td>\n",
       "      <td>23.0</td>\n",
       "      <td>8.0</td>\n",
       "    </tr>\n",
       "    <tr>\n",
       "      <th>Vila Sônia</th>\n",
       "      <td>9.0</td>\n",
       "      <td>NaN</td>\n",
       "      <td>5.0</td>\n",
       "      <td>28.0</td>\n",
       "      <td>5.0</td>\n",
       "    </tr>\n",
       "    <tr>\n",
       "      <th>Água Rasa</th>\n",
       "      <td>5.0</td>\n",
       "      <td>1.0</td>\n",
       "      <td>3.0</td>\n",
       "      <td>28.0</td>\n",
       "      <td>10.0</td>\n",
       "    </tr>\n",
       "  </tbody>\n",
       "</table>\n",
       "<p>93 rows × 5 columns</p>\n",
       "</div>"
      ],
      "text/plain": [
       "venue_category     Elementary School  Metro Station  Park  Pharmacy  \\\n",
       "district                                                              \n",
       "Alto de Pinheiros                2.0            1.0  12.0      24.0   \n",
       "Anhanguera                       1.0            NaN   2.0       NaN   \n",
       "Aricanduva                       9.0            NaN   1.0      18.0   \n",
       "Artur Alvim                      6.0            4.0   NaN      33.0   \n",
       "Barra Funda                      3.0            3.0   2.0      21.0   \n",
       "...                              ...            ...   ...       ...   \n",
       "Vila Matilde                     6.0            2.0   3.0      25.0   \n",
       "Vila Medeiros                    9.0            NaN   1.0      33.0   \n",
       "Vila Prudente                    5.0            3.0   7.0      23.0   \n",
       "Vila Sônia                       9.0            NaN   5.0      28.0   \n",
       "Água Rasa                        5.0            1.0   3.0      28.0   \n",
       "\n",
       "venue_category     Supermarket  \n",
       "district                        \n",
       "Alto de Pinheiros          5.0  \n",
       "Anhanguera                 NaN  \n",
       "Aricanduva                 4.0  \n",
       "Artur Alvim                5.0  \n",
       "Barra Funda               16.0  \n",
       "...                        ...  \n",
       "Vila Matilde              11.0  \n",
       "Vila Medeiros              3.0  \n",
       "Vila Prudente              8.0  \n",
       "Vila Sônia                 5.0  \n",
       "Água Rasa                 10.0  \n",
       "\n",
       "[93 rows x 5 columns]"
      ]
     },
     "execution_count": 72,
     "metadata": {},
     "output_type": "execute_result"
    }
   ],
   "source": [
    "# remove venues of not required categories\n",
    "df_venues = df_venues[df_venues['venue_category'].isin(list(prio_list.values()))]\n",
    "\n",
    "# create Summary Dataframe\n",
    "df_summary = pd.pivot_table(df_venues, values='venue_name', index='district', columns='venue_category', aggfunc='count')\n",
    "\n",
    "# print results\n",
    "df_summary"
   ]
  },
  {
   "cell_type": "markdown",
   "metadata": {},
   "source": [
    "From the 96 districts, 3 of them have none of the __Priority List__ categories, merge the __Districts Dataframe__ with __Summary Dataframe__ to have all the 96 districts available for ranking, _pandas.merge_ will be used."
   ]
  },
  {
   "cell_type": "code",
   "execution_count": 73,
   "metadata": {},
   "outputs": [
    {
     "data": {
      "text/html": [
       "<div>\n",
       "<style scoped>\n",
       "    .dataframe tbody tr th:only-of-type {\n",
       "        vertical-align: middle;\n",
       "    }\n",
       "\n",
       "    .dataframe tbody tr th {\n",
       "        vertical-align: top;\n",
       "    }\n",
       "\n",
       "    .dataframe thead th {\n",
       "        text-align: right;\n",
       "    }\n",
       "</style>\n",
       "<table border=\"1\" class=\"dataframe\">\n",
       "  <thead>\n",
       "    <tr style=\"text-align: right;\">\n",
       "      <th></th>\n",
       "      <th>district</th>\n",
       "      <th>Elementary School</th>\n",
       "      <th>Metro Station</th>\n",
       "      <th>Park</th>\n",
       "      <th>Pharmacy</th>\n",
       "      <th>Supermarket</th>\n",
       "    </tr>\n",
       "  </thead>\n",
       "  <tbody>\n",
       "    <tr>\n",
       "      <th>0</th>\n",
       "      <td>Bela Vista</td>\n",
       "      <td>NaN</td>\n",
       "      <td>5.0</td>\n",
       "      <td>NaN</td>\n",
       "      <td>16.0</td>\n",
       "      <td>26.0</td>\n",
       "    </tr>\n",
       "    <tr>\n",
       "      <th>1</th>\n",
       "      <td>Bom Retiro</td>\n",
       "      <td>2.0</td>\n",
       "      <td>6.0</td>\n",
       "      <td>2.0</td>\n",
       "      <td>29.0</td>\n",
       "      <td>6.0</td>\n",
       "    </tr>\n",
       "    <tr>\n",
       "      <th>2</th>\n",
       "      <td>Cambuci</td>\n",
       "      <td>2.0</td>\n",
       "      <td>1.0</td>\n",
       "      <td>6.0</td>\n",
       "      <td>30.0</td>\n",
       "      <td>7.0</td>\n",
       "    </tr>\n",
       "    <tr>\n",
       "      <th>3</th>\n",
       "      <td>Consolação</td>\n",
       "      <td>NaN</td>\n",
       "      <td>5.0</td>\n",
       "      <td>1.0</td>\n",
       "      <td>20.0</td>\n",
       "      <td>20.0</td>\n",
       "    </tr>\n",
       "    <tr>\n",
       "      <th>4</th>\n",
       "      <td>Liberdade</td>\n",
       "      <td>NaN</td>\n",
       "      <td>8.0</td>\n",
       "      <td>1.0</td>\n",
       "      <td>16.0</td>\n",
       "      <td>21.0</td>\n",
       "    </tr>\n",
       "    <tr>\n",
       "      <th>...</th>\n",
       "      <td>...</td>\n",
       "      <td>...</td>\n",
       "      <td>...</td>\n",
       "      <td>...</td>\n",
       "      <td>...</td>\n",
       "      <td>...</td>\n",
       "    </tr>\n",
       "    <tr>\n",
       "      <th>91</th>\n",
       "      <td>Campo Grande</td>\n",
       "      <td>3.0</td>\n",
       "      <td>4.0</td>\n",
       "      <td>5.0</td>\n",
       "      <td>27.0</td>\n",
       "      <td>7.0</td>\n",
       "    </tr>\n",
       "    <tr>\n",
       "      <th>92</th>\n",
       "      <td>Santo Amaro</td>\n",
       "      <td>4.0</td>\n",
       "      <td>6.0</td>\n",
       "      <td>4.0</td>\n",
       "      <td>32.0</td>\n",
       "      <td>2.0</td>\n",
       "    </tr>\n",
       "    <tr>\n",
       "      <th>93</th>\n",
       "      <td>Moema</td>\n",
       "      <td>NaN</td>\n",
       "      <td>4.0</td>\n",
       "      <td>3.0</td>\n",
       "      <td>28.0</td>\n",
       "      <td>11.0</td>\n",
       "    </tr>\n",
       "    <tr>\n",
       "      <th>94</th>\n",
       "      <td>Saúde</td>\n",
       "      <td>1.0</td>\n",
       "      <td>7.0</td>\n",
       "      <td>2.0</td>\n",
       "      <td>30.0</td>\n",
       "      <td>8.0</td>\n",
       "    </tr>\n",
       "    <tr>\n",
       "      <th>95</th>\n",
       "      <td>Vila Mariana</td>\n",
       "      <td>1.0</td>\n",
       "      <td>5.0</td>\n",
       "      <td>2.0</td>\n",
       "      <td>26.0</td>\n",
       "      <td>12.0</td>\n",
       "    </tr>\n",
       "  </tbody>\n",
       "</table>\n",
       "<p>96 rows × 6 columns</p>\n",
       "</div>"
      ],
      "text/plain": [
       "        district  Elementary School  Metro Station  Park  Pharmacy  \\\n",
       "0     Bela Vista                NaN            5.0   NaN      16.0   \n",
       "1     Bom Retiro                2.0            6.0   2.0      29.0   \n",
       "2        Cambuci                2.0            1.0   6.0      30.0   \n",
       "3     Consolação                NaN            5.0   1.0      20.0   \n",
       "4      Liberdade                NaN            8.0   1.0      16.0   \n",
       "..           ...                ...            ...   ...       ...   \n",
       "91  Campo Grande                3.0            4.0   5.0      27.0   \n",
       "92   Santo Amaro                4.0            6.0   4.0      32.0   \n",
       "93         Moema                NaN            4.0   3.0      28.0   \n",
       "94         Saúde                1.0            7.0   2.0      30.0   \n",
       "95  Vila Mariana                1.0            5.0   2.0      26.0   \n",
       "\n",
       "    Supermarket  \n",
       "0          26.0  \n",
       "1           6.0  \n",
       "2           7.0  \n",
       "3          20.0  \n",
       "4          21.0  \n",
       "..          ...  \n",
       "91          7.0  \n",
       "92          2.0  \n",
       "93         11.0  \n",
       "94          8.0  \n",
       "95         12.0  \n",
       "\n",
       "[96 rows x 6 columns]"
      ]
     },
     "execution_count": 73,
     "metadata": {},
     "output_type": "execute_result"
    }
   ],
   "source": [
    "# merge Districts and Summary dataframes\n",
    "df_summary = pd.merge(left=df_districts['district'], right=df_summary, how='left', on='district')\n",
    "\n",
    "# print results\n",
    "df_summary"
   ]
  },
  {
   "cell_type": "markdown",
   "metadata": {},
   "source": [
    "Categories which have not been returned have been set as _NaN_ when creating the _Pivot Table_ dataframe. Replace _NaN_ entries by 0 (zero) using _pandas.DataFrame.fillna_ method."
   ]
  },
  {
   "cell_type": "code",
   "execution_count": 74,
   "metadata": {},
   "outputs": [
    {
     "data": {
      "text/html": [
       "<div>\n",
       "<style scoped>\n",
       "    .dataframe tbody tr th:only-of-type {\n",
       "        vertical-align: middle;\n",
       "    }\n",
       "\n",
       "    .dataframe tbody tr th {\n",
       "        vertical-align: top;\n",
       "    }\n",
       "\n",
       "    .dataframe thead th {\n",
       "        text-align: right;\n",
       "    }\n",
       "</style>\n",
       "<table border=\"1\" class=\"dataframe\">\n",
       "  <thead>\n",
       "    <tr style=\"text-align: right;\">\n",
       "      <th></th>\n",
       "      <th>district</th>\n",
       "      <th>Elementary School</th>\n",
       "      <th>Metro Station</th>\n",
       "      <th>Park</th>\n",
       "      <th>Pharmacy</th>\n",
       "      <th>Supermarket</th>\n",
       "    </tr>\n",
       "  </thead>\n",
       "  <tbody>\n",
       "    <tr>\n",
       "      <th>0</th>\n",
       "      <td>Bela Vista</td>\n",
       "      <td>0.0</td>\n",
       "      <td>5.0</td>\n",
       "      <td>0.0</td>\n",
       "      <td>16.0</td>\n",
       "      <td>26.0</td>\n",
       "    </tr>\n",
       "    <tr>\n",
       "      <th>1</th>\n",
       "      <td>Bom Retiro</td>\n",
       "      <td>2.0</td>\n",
       "      <td>6.0</td>\n",
       "      <td>2.0</td>\n",
       "      <td>29.0</td>\n",
       "      <td>6.0</td>\n",
       "    </tr>\n",
       "    <tr>\n",
       "      <th>2</th>\n",
       "      <td>Cambuci</td>\n",
       "      <td>2.0</td>\n",
       "      <td>1.0</td>\n",
       "      <td>6.0</td>\n",
       "      <td>30.0</td>\n",
       "      <td>7.0</td>\n",
       "    </tr>\n",
       "    <tr>\n",
       "      <th>3</th>\n",
       "      <td>Consolação</td>\n",
       "      <td>0.0</td>\n",
       "      <td>5.0</td>\n",
       "      <td>1.0</td>\n",
       "      <td>20.0</td>\n",
       "      <td>20.0</td>\n",
       "    </tr>\n",
       "    <tr>\n",
       "      <th>4</th>\n",
       "      <td>Liberdade</td>\n",
       "      <td>0.0</td>\n",
       "      <td>8.0</td>\n",
       "      <td>1.0</td>\n",
       "      <td>16.0</td>\n",
       "      <td>21.0</td>\n",
       "    </tr>\n",
       "    <tr>\n",
       "      <th>...</th>\n",
       "      <td>...</td>\n",
       "      <td>...</td>\n",
       "      <td>...</td>\n",
       "      <td>...</td>\n",
       "      <td>...</td>\n",
       "      <td>...</td>\n",
       "    </tr>\n",
       "    <tr>\n",
       "      <th>91</th>\n",
       "      <td>Campo Grande</td>\n",
       "      <td>3.0</td>\n",
       "      <td>4.0</td>\n",
       "      <td>5.0</td>\n",
       "      <td>27.0</td>\n",
       "      <td>7.0</td>\n",
       "    </tr>\n",
       "    <tr>\n",
       "      <th>92</th>\n",
       "      <td>Santo Amaro</td>\n",
       "      <td>4.0</td>\n",
       "      <td>6.0</td>\n",
       "      <td>4.0</td>\n",
       "      <td>32.0</td>\n",
       "      <td>2.0</td>\n",
       "    </tr>\n",
       "    <tr>\n",
       "      <th>93</th>\n",
       "      <td>Moema</td>\n",
       "      <td>0.0</td>\n",
       "      <td>4.0</td>\n",
       "      <td>3.0</td>\n",
       "      <td>28.0</td>\n",
       "      <td>11.0</td>\n",
       "    </tr>\n",
       "    <tr>\n",
       "      <th>94</th>\n",
       "      <td>Saúde</td>\n",
       "      <td>1.0</td>\n",
       "      <td>7.0</td>\n",
       "      <td>2.0</td>\n",
       "      <td>30.0</td>\n",
       "      <td>8.0</td>\n",
       "    </tr>\n",
       "    <tr>\n",
       "      <th>95</th>\n",
       "      <td>Vila Mariana</td>\n",
       "      <td>1.0</td>\n",
       "      <td>5.0</td>\n",
       "      <td>2.0</td>\n",
       "      <td>26.0</td>\n",
       "      <td>12.0</td>\n",
       "    </tr>\n",
       "  </tbody>\n",
       "</table>\n",
       "<p>96 rows × 6 columns</p>\n",
       "</div>"
      ],
      "text/plain": [
       "        district  Elementary School  Metro Station  Park  Pharmacy  \\\n",
       "0     Bela Vista                0.0            5.0   0.0      16.0   \n",
       "1     Bom Retiro                2.0            6.0   2.0      29.0   \n",
       "2        Cambuci                2.0            1.0   6.0      30.0   \n",
       "3     Consolação                0.0            5.0   1.0      20.0   \n",
       "4      Liberdade                0.0            8.0   1.0      16.0   \n",
       "..           ...                ...            ...   ...       ...   \n",
       "91  Campo Grande                3.0            4.0   5.0      27.0   \n",
       "92   Santo Amaro                4.0            6.0   4.0      32.0   \n",
       "93         Moema                0.0            4.0   3.0      28.0   \n",
       "94         Saúde                1.0            7.0   2.0      30.0   \n",
       "95  Vila Mariana                1.0            5.0   2.0      26.0   \n",
       "\n",
       "    Supermarket  \n",
       "0          26.0  \n",
       "1           6.0  \n",
       "2           7.0  \n",
       "3          20.0  \n",
       "4          21.0  \n",
       "..          ...  \n",
       "91          7.0  \n",
       "92          2.0  \n",
       "93         11.0  \n",
       "94          8.0  \n",
       "95         12.0  \n",
       "\n",
       "[96 rows x 6 columns]"
      ]
     },
     "execution_count": 74,
     "metadata": {},
     "output_type": "execute_result"
    }
   ],
   "source": [
    "# replace NaN entries by 0\n",
    "df_summary.fillna(value=0, inplace=True)\n",
    "\n",
    "# print results\n",
    "df_summary"
   ]
  },
  {
   "cell_type": "markdown",
   "metadata": {},
   "source": [
    "---"
   ]
  },
  {
   "cell_type": "markdown",
   "metadata": {},
   "source": [
    "### Step 7 - Create the _Districts Rank_ according to the _Relocator Profile_"
   ]
  }
 ],
 "metadata": {
  "kernelspec": {
   "display_name": "Python 3",
   "language": "python",
   "name": "python3"
  },
  "language_info": {
   "codemirror_mode": {
    "name": "ipython",
    "version": 3
   },
   "file_extension": ".py",
   "mimetype": "text/x-python",
   "name": "python",
   "nbconvert_exporter": "python",
   "pygments_lexer": "ipython3",
   "version": "3.6.8"
  }
 },
 "nbformat": 4,
 "nbformat_minor": 4
}
