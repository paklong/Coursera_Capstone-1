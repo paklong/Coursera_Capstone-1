{
 "cells": [
  {
   "cell_type": "markdown",
   "metadata": {},
   "source": [
    "# Capstone Project\n",
    "# Relocation Support\n",
    "### Sidclay da Silva\n",
    "### June 2020\n",
    "---"
   ]
  },
  {
   "cell_type": "markdown",
   "metadata": {},
   "source": [
    "### Introduction\n",
    "\n",
    "This notebook contains the Capstone Project as the Week 5 peer-graded assignment for the Course IBM Applied Data Science Capstone on Coursera, which requires to develop a solution for the problem proposed in the Project Proposal, the stablished condition requires to make use of __API Foursquare__ to solve the proposed problem.\n",
    "\n",
    "The proposed problem for this project is to support people to relocate giving directions by creating a neighborhood rank for the target location using the relocator profile.\n",
    "\n",
    "---"
   ]
  },
  {
   "cell_type": "markdown",
   "metadata": {},
   "source": [
    "### Step 1 - Define the _Relocator Profile_ and _Target Location_"
   ]
  },
  {
   "cell_type": "markdown",
   "metadata": {},
   "source": [
    "For this project the __Relocator Profile__ will be arbitrary defined to simulate a family relocating to also arbitrary defined __Target Location São Paulo, Brazil__.\n",
    "\n",
    "__Family components__;\n",
    "* 2 adults\n",
    "* 2 kids in primary school age\n",
    "* 1 dog as pet\n",
    "\n",
    "__Family priorities__;\n",
    "* Primary school for the kids\n",
    "* Outdoor park to go with the kids, walk with the dog and jogging\n",
    "* Supermarket for the daily life\n",
    "* Pharmacy in case of emergencies, specially having kids\n",
    "* Subway/metro station to avoid traffic\n",
    "\n",
    "__Housing wishes__;\n",
    "* Apartment\n",
    "* 2 or 3 bedrooms\n",
    "* 80 m<sup>2</sup> approximately\n",
    "* 1 garage spot\n",
    "\n",
    "__Rental budget__;\n",
    "* BRL 2,000.00 monthly\n",
    "\n",
    "Based on the Relocator Profile, define objects to rank the neighborhoods. Family priorities will be translated into a list object containing venues categories according API Foursquare, Housing wishes and Rental budget will be converted in a variable containg the rental budget per square meter - BRL/m<sup>2</sup>."
   ]
  },
  {
   "cell_type": "code",
   "execution_count": 18,
   "metadata": {},
   "outputs": [
    {
     "name": "stdout",
     "output_type": "stream",
     "text": [
      "Family priorities are: ['Elementary School', 'Park', 'Supermarket', 'Pharmacy', 'Metro Station']\n",
      "Monthly rental budget is BRL 2,000.00 for a 80 sqm apartment = BRL 25.00/sqm/month\n"
     ]
    }
   ],
   "source": [
    "# create a priorities list according to API Foursquare categories\n",
    "prio_list = ['Elementary School',\n",
    "             'Park',\n",
    "             'Supermarket',\n",
    "             'Pharmacy',\n",
    "             'Metro Station']\n",
    "target_area = 80\n",
    "target_budget = 2000\n",
    "\n",
    "budget_sqm = target_budget / target_area\n",
    "\n",
    "print('Family priorities are:', prio_list)\n",
    "print('Monthly rental budget is BRL {:,.2f} for a {} sqm apartment = BRL {:,.2f}/sqm/month'. \\\n",
    "      format(target_budget, target_area, budget_sqm))"
   ]
  },
  {
   "cell_type": "markdown",
   "metadata": {},
   "source": [
    "---"
   ]
  },
  {
   "cell_type": "markdown",
   "metadata": {},
   "source": [
    "### Step 2 - Create a Neighborhood Dataframe for the _Target Location_"
   ]
  },
  {
   "cell_type": "markdown",
   "metadata": {},
   "source": [
    "There are 5 regions and 96 neighborhoods in the city of São Paulo, the official city web site contains its regions and neighborhoods division, which is a table in  XLSX format into a HTML page.\n",
    "The current table is from 2017 and can be viewed at the following link;"
   ]
  },
  {
   "cell_type": "markdown",
   "metadata": {},
   "source": [
    "[Prefeitura de São Paulo (SP)](http://www.prefeitura.sp.gov.br/cidade/secretarias/upload/urbanismo/infocidade/htmls/3_regioes_prefeituras_regionais_e_distrito_2017_10895.html)"
   ]
  },
  {
   "cell_type": "markdown",
   "metadata": {},
   "source": [
    "To create a dataframe for the neighborhoods of São Paulo, a request to the above URL will be done, its content parsed, cleaned and organized, to be stored in __Neighborhoods Dataframe__.\n",
    "\n",
    "First thing, import required libraries;\n",
    "\n",
    "1. __Credentials__: user defined library to store API credential\n",
    "1. __Pandas__: manipulate dataframe objects\n",
    "1. __Requests__: send and receive url requests\n",
    "1. __BeautifulSoup__: parse url content"
   ]
  },
  {
   "cell_type": "code",
   "execution_count": 19,
   "metadata": {},
   "outputs": [],
   "source": [
    "import credentials\n",
    "import pandas as pd\n",
    "import requests\n",
    "from bs4 import BeautifulSoup as bs"
   ]
  },
  {
   "cell_type": "markdown",
   "metadata": {},
   "source": [
    "Send request to the above URL using _Requests_."
   ]
  },
  {
   "cell_type": "code",
   "execution_count": 20,
   "metadata": {},
   "outputs": [
    {
     "name": "stdout",
     "output_type": "stream",
     "text": [
      "Data loaded, status 200\n"
     ]
    }
   ],
   "source": [
    "# define a variable for the url\n",
    "url = 'http://www.prefeitura.sp.gov.br/cidade/secretarias/upload/urbanismo/infocidade/htmls/3_regioes_prefeituras_regionais_e_distrito_2017_10895.html'\n",
    "\n",
    "# send a request to the URL and store the response\n",
    "raw = requests.get(url)\n",
    "\n",
    "# check if data was loaded [status 200 means success]\n",
    "if raw:\n",
    "    print('Data loaded, status', raw.status_code)\n",
    "else:\n",
    "    print('Error loading data', raw.status_code)"
   ]
  },
  {
   "cell_type": "markdown",
   "metadata": {},
   "source": [
    "Parse the URL content using _BeautifulSoup_ with _html_ parser."
   ]
  },
  {
   "cell_type": "code",
   "execution_count": 21,
   "metadata": {},
   "outputs": [
    {
     "name": "stdout",
     "output_type": "stream",
     "text": [
      "URL content parsed.\n"
     ]
    }
   ],
   "source": [
    "# parse the raw data\n",
    "par = bs(raw.text, 'html.parser')\n",
    "print('URL content parsed.')"
   ]
  },
  {
   "cell_type": "markdown",
   "metadata": {},
   "source": [
    "Check the content returned from the URL, initially, how many tables it contains, the HTML tag _table_ will be the reference for counting."
   ]
  },
  {
   "cell_type": "code",
   "execution_count": 22,
   "metadata": {},
   "outputs": [
    {
     "name": "stdout",
     "output_type": "stream",
     "text": [
      "1 table(s) found in the parsed URL.\n"
     ]
    }
   ],
   "source": [
    "# print number of tables\n",
    "print('{} table(s) found in the parsed URL.'.format(len(par.find_all('table'))))"
   ]
  },
  {
   "cell_type": "markdown",
   "metadata": {},
   "source": [
    "As it is a table in XLSX format, all its content is stored in one unique table, including table description, headers, data, summary and footnotes. The data should be extract from this unique table, but, first get the table from the URL content, HTML tag _table_ will be the reference as well."
   ]
  },
  {
   "cell_type": "code",
   "execution_count": 23,
   "metadata": {},
   "outputs": [],
   "source": [
    "# get the table from the URL content\n",
    "par_table = par.find_all('table')[0]"
   ]
  },
  {
   "cell_type": "markdown",
   "metadata": {},
   "source": [
    "Check if there is any table header and how many rows the table contains. HTML tags _th_ and _tr_ will be respectively used for counting."
   ]
  },
  {
   "cell_type": "code",
   "execution_count": 24,
   "metadata": {},
   "outputs": [
    {
     "name": "stdout",
     "output_type": "stream",
     "text": [
      "0 header(s) and 110 row(s) found in the table.\n"
     ]
    }
   ],
   "source": [
    "# print the number of headers and rows\n",
    "print('{} header(s) and {} row(s) found in the table.'.format(len(par_table.find_all('th')),\n",
    "                                                              len(par_table.find_all('tr'))))"
   ]
  },
  {
   "cell_type": "markdown",
   "metadata": {},
   "source": [
    "From the 110 rows, 96 should be the required neighborhoods data, the remaining rows should be titles, summaries and footnotes rows."
   ]
  },
  {
   "cell_type": "markdown",
   "metadata": {},
   "source": [
    "Extract the data from the table to a list and check where the required data is located. This will be done running a nested loop through the rows, on the first level, and columns, on the second level. HTML tag _tr_ will be used to extract rows and _td_ to extract the columns."
   ]
  },
  {
   "cell_type": "code",
   "execution_count": 25,
   "metadata": {},
   "outputs": [
    {
     "name": "stdout",
     "output_type": "stream",
     "text": [
      "110 rows loaded.\n"
     ]
    }
   ],
   "source": [
    "# create an empty list for the entire table\n",
    "tabletmp = []\n",
    "\n",
    "# run a loop by row [tag 'tr']\n",
    "for i, row in enumerate(par_table.find_all('tr')):\n",
    "    # create an empty list for the current row\n",
    "    celltmp = []\n",
    "\n",
    "    # run a loop by column for the current row [tag 'td']\n",
    "    for j, column in enumerate(row.find_all('td')):\n",
    "        # append the text of current cell to the list\n",
    "        celltmp.append(column.get_text())\n",
    "\n",
    "    # append current line to the list\n",
    "    tabletmp.append(celltmp)\n",
    "        \n",
    "# inform the number of rows loaded\n",
    "print('{} rows loaded.'.format(len(tabletmp)))"
   ]
  },
  {
   "cell_type": "markdown",
   "metadata": {},
   "source": [
    "All the 110 rows have been loaded. Check the head and tail of the list to define the range of required data."
   ]
  },
  {
   "cell_type": "code",
   "execution_count": 26,
   "metadata": {},
   "outputs": [
    {
     "name": "stdout",
     "output_type": "stream",
     "text": [
      "Head 10 rows\n"
     ]
    },
    {
     "data": {
      "text/plain": [
       "[['Regiões, Prefeituras Regionais e Distritos Municipais',\n",
       "  '\\xa0',\n",
       "  '',\n",
       "  '',\n",
       "  '',\n",
       "  '',\n",
       "  ''],\n",
       " ['Município de São Paulo', '\\xa0', '', '', '', ''],\n",
       " ['2017', '\\xa0', '\\xa0', '', '', '', ''],\n",
       " ['', '', '', '', ''],\n",
       " ['Regiões',\n",
       "  'Prefeituras\\r\\n  Regionais',\n",
       "  'Distritos',\n",
       "  'Área (ha)',\n",
       "  'Área (km²)',\n",
       "  '',\n",
       "  '',\n",
       "  ''],\n",
       " ['Centro', 'Sé', 'Bela Vista', '271,77', '2,72', '', '', ''],\n",
       " ['Bom Retiro', '420,54', '4,21', '', '', ''],\n",
       " ['Cambuci', '392,42', '3,92', '', '', ''],\n",
       " ['Consolação', '381,51', '3,82', '', '', ''],\n",
       " ['Liberdade', '365,07', '3,65', '', '', '']]"
      ]
     },
     "execution_count": 26,
     "metadata": {},
     "output_type": "execute_result"
    }
   ],
   "source": [
    "# print the first 10 rows\n",
    "print('Head 10 rows')\n",
    "tabletmp[:10]"
   ]
  },
  {
   "cell_type": "markdown",
   "metadata": {},
   "source": [
    "The first 4 rows are the table titles and can be ignored, the 5<sup>th</sup> row contains the columns headers.\n",
    "\n",
    "Check the tail of the table."
   ]
  },
  {
   "cell_type": "code",
   "execution_count": 27,
   "metadata": {},
   "outputs": [
    {
     "name": "stdout",
     "output_type": "stream",
     "text": [
      "Tail 10 rows\n"
     ]
    },
    {
     "data": {
      "text/plain": [
       "[['Vila Mariana', '859,56', '8,60', '', '', '', ''],\n",
       " ['Município de São\\r\\n  Paulo', '', '152.753,58', '1.527,54', '', '', '', ''],\n",
       " ['', '', '', '', '', '', '', ''],\n",
       " ['Fonte:\\r\\n  Prefeitura do Município de São Paulo. /\\xa0\\r\\n  Instituto\\xa0 Geográfico e\\r\\n  Cartográfico\\xa0 do Estado de São Paulo.',\n",
       "  '\\xa0',\n",
       "  '',\n",
       "  '',\n",
       "  '\\xa0'],\n",
       " ['Elaboração:\\r\\n  SMUL/Deinfo', '\\xa0', '\\xa0', '', '', '\\xa0'],\n",
       " ['Nota: Distritos Lei\\r\\n  nº 11.220/1992', '', '', ''],\n",
       " ['Subprefeituras\\r\\n  Lei nº 13.399/2002, alterada pelas Leis nº 13.682/2003 e nº 15.764/2013',\n",
       "  '',\n",
       "  '',\n",
       "  ''],\n",
       " ['Base\\r\\n  de cálculo das áreas: Mapa Digital da Cidade (MDC) - UTM/SAD69-96.',\n",
       "  '',\n",
       "  '',\n",
       "  ''],\n",
       " ['', '', '', '', '', '', '', ''],\n",
       " ['', '', '', '', '', '', '', '', '']]"
      ]
     },
     "execution_count": 27,
     "metadata": {},
     "output_type": "execute_result"
    }
   ],
   "source": [
    "#print the last 10 rows\n",
    "print('Tail 10 rows')\n",
    "tabletmp[-10:]"
   ]
  },
  {
   "cell_type": "markdown",
   "metadata": {},
   "source": [
    "The last 8 rows are the columns summary and footnotes, will also be ignored.\n",
    "\n",
    "Check the columns headers, row 5 (index 4)."
   ]
  },
  {
   "cell_type": "code",
   "execution_count": 28,
   "metadata": {},
   "outputs": [
    {
     "data": {
      "text/plain": [
       "['Regiões',\n",
       " 'Prefeituras\\r\\n  Regionais',\n",
       " 'Distritos',\n",
       " 'Área (ha)',\n",
       " 'Área (km²)',\n",
       " '',\n",
       " '',\n",
       " '']"
      ]
     },
     "execution_count": 28,
     "metadata": {},
     "output_type": "execute_result"
    }
   ],
   "source": [
    "# check the columns headers\n",
    "tabletmp[4]"
   ]
  },
  {
   "cell_type": "markdown",
   "metadata": {},
   "source": [
    "There are 8 columns, but the last three are empty, for the five required ones an english header will be defined for the __Neighborhood Dataframe__ as following:\n",
    "\n",
    "* __region__ (Regiões), the first column is the city Region to which the neighborhood belongs to\n",
    "* __region_hall__ (Prefeituras Regionais), the second column is the location of the Regional Hall\n",
    "* __neighborhood__ (Distritos), the third column is the Neighborhood name\n",
    "* __area_ha__ (Área (ha)), the fourth column is the neighborhood land area in hectares\n",
    "* __area_sqkm__ (Área (km<sup>2</sup>)), the fifth column is the neighborhood land area in square kilometers"
   ]
  },
  {
   "cell_type": "code",
   "execution_count": 29,
   "metadata": {},
   "outputs": [],
   "source": [
    "# define the columns names\n",
    "column_names = ['region','region_hall','neighborhood','area_ha','area_sqkm']"
   ]
  },
  {
   "cell_type": "markdown",
   "metadata": {},
   "source": [
    "Beeing 4 title rows and 1 header row, the first 5 rows at the top will be ignored. At the bottom 8 row will be ignored, 1 summary and 7 footnotes rows. The neighborhoods data ranges from row 6 (index 5) to row 101 (index 100), counting 96 neighborhoods in São Paulo.\n",
    "\n",
    "Extract only the data rows from the table and count the number of rows left."
   ]
  },
  {
   "cell_type": "code",
   "execution_count": 30,
   "metadata": {},
   "outputs": [
    {
     "name": "stdout",
     "output_type": "stream",
     "text": [
      "96 rows left.\n"
     ]
    }
   ],
   "source": [
    "tabletmp = tabletmp[5:101]\n",
    "print('{} rows left.'.format(len(tabletmp)))"
   ]
  },
  {
   "cell_type": "markdown",
   "metadata": {},
   "source": [
    "Before extracting the data, check the head and tail to see how the data is stored."
   ]
  },
  {
   "cell_type": "code",
   "execution_count": 31,
   "metadata": {},
   "outputs": [
    {
     "name": "stdout",
     "output_type": "stream",
     "text": [
      "Head 10 rows\n"
     ]
    },
    {
     "data": {
      "text/plain": [
       "[['Centro', 'Sé', 'Bela Vista', '271,77', '2,72', '', '', ''],\n",
       " ['Bom Retiro', '420,54', '4,21', '', '', ''],\n",
       " ['Cambuci', '392,42', '3,92', '', '', ''],\n",
       " ['Consolação', '381,51', '3,82', '', '', ''],\n",
       " ['Liberdade', '365,07', '3,65', '', '', ''],\n",
       " ['República', '239,67', '2,40', '', '', ''],\n",
       " ['Santa Cecília', '375,92', '3,76', '', '', ''],\n",
       " ['Sé', '219,36', '2,19', '', '', ''],\n",
       " ['Leste',\n",
       "  'Aricanduva/Formosa/Carrão',\n",
       "  'Aricanduva',\n",
       "  '695,83',\n",
       "  '6,96',\n",
       "  '',\n",
       "  '',\n",
       "  ''],\n",
       " ['Carrão', '790,12', '7,90', '', '', '']]"
      ]
     },
     "execution_count": 31,
     "metadata": {},
     "output_type": "execute_result"
    }
   ],
   "source": [
    "# print the first 10 rows\n",
    "print('Head 10 rows')\n",
    "tabletmp[:10]"
   ]
  },
  {
   "cell_type": "markdown",
   "metadata": {},
   "source": [
    "Check the tail."
   ]
  },
  {
   "cell_type": "code",
   "execution_count": 32,
   "metadata": {},
   "outputs": [
    {
     "name": "stdout",
     "output_type": "stream",
     "text": [
      "Tail 10 rows\n"
     ]
    },
    {
     "data": {
      "text/plain": [
       "[[\"M'Boi Mirim\", 'Jardim Ângela', '3.741,13', '37,41', '', '', ''],\n",
       " ['Jardim São Luís', '2.604,72', '26,05', '', '', ''],\n",
       " ['Parelheiros', 'Marsilac', '20.818,52', '208,19', '', '', ''],\n",
       " ['Parelheiros', '15.260,75', '152,61', '', '', ''],\n",
       " ['Santo Amaro', 'Campo Belo', '876,98', '8,77', '', '', ''],\n",
       " ['Campo Grande', '1.295,08', '12,95', '', '', ''],\n",
       " ['Santo Amaro', '1.603,53', '16,04', '', '', '', ''],\n",
       " ['Vila Mariana', 'Moema', '907,87', '9,08', '', '', '', ''],\n",
       " ['Saúde', '931,12', '9,31', '', '', '', ''],\n",
       " ['Vila Mariana', '859,56', '8,60', '', '', '', '']]"
      ]
     },
     "execution_count": 32,
     "metadata": {},
     "output_type": "execute_result"
    }
   ],
   "source": [
    "#print the last 10 rows\n",
    "print('Tail 10 rows')\n",
    "tabletmp[-10:]"
   ]
  },
  {
   "cell_type": "markdown",
   "metadata": {},
   "source": [
    "The table seems to be structured in a group format, which is normally done for good visualization in XLSX format tables. The region names, e.g. __Centro__, appear only once at its first regional hall __Sé__, and so the Region Hall __Sé__ for its first neighborhood __Bela Vista__. There are rows with 5 columns, rows with 4 columns and rows with 3 columns, it makes things interesting.\n",
    "\n",
    "Something else to notice is that the columns are filled from left to right, in some of the rows the first column contains the region name, in some it contains the regional hall, and in many of them it contains the neighborhood, meaning that the columns are not at the same positions for all the rows. To extract the data the reading should be from right to left, and for the rows missing the region and/or regional hall, the group parent should be used, even more interesting.\n",
    "\n",
    "The last notice here is that the last columns are empty, for some rows 3 and for some 4 empty columns, the will be ignored.\n",
    "\n",
    "Extract the data to a temporary list, taking all the remarks above into consideration. This will be achieved by a nested loop, the first level runs through the rows, and second level runs through the columns. Actually there is one list object, which represents the source tables, it contains lists as well, representing the rows of the table, and each element of them represents the cells of the table."
   ]
  },
  {
   "cell_type": "code",
   "execution_count": 33,
   "metadata": {},
   "outputs": [],
   "source": [
    "# create an empty list to store temporary the data\n",
    "listtmp = []\n",
    "\n",
    "# run a loop through the rows\n",
    "# [actually it is a list object filled with lists]\n",
    "for i, row in enumerate(tabletmp):\n",
    "\n",
    "    # run a loop through the columns for the current row\n",
    "    # [actually items of each list inside the big list object]\n",
    "    for j in range(len(row)):\n",
    "        \n",
    "        # read the data from right [index -1] to left [index 0]\n",
    "        # skip the last 3 empty columns [actually items]\n",
    "        if row[len(row)-j-1] != '':\n",
    "            # store the numbner of features the current row contains (3,4,5) and break the inner loop\n",
    "            nfeatures = (len(row)-j)\n",
    "            break\n",
    "\n",
    "    # check the number of features\n",
    "    if nfeatures == 5:\n",
    "        # five features means complete row with region and regional hall, store them in variables\n",
    "        vregion = row[0]\n",
    "        vrghall = row[1]\n",
    "\n",
    "    elif nfeatures == 4:\n",
    "        # four features means region missing, but with regional hall, store it in a variable\n",
    "        vrghall = row[0]\n",
    "\n",
    "    # three features means region and regional hall missing, the variables above will be used\n",
    "\n",
    "    # append the current row to the temporary list\n",
    "    listtmp.append([vregion, vrghall, row[nfeatures-3], row[nfeatures-2], row[nfeatures-1]])"
   ]
  },
  {
   "cell_type": "markdown",
   "metadata": {},
   "source": [
    "Check the resulting list, head and tail."
   ]
  },
  {
   "cell_type": "code",
   "execution_count": 34,
   "metadata": {},
   "outputs": [
    {
     "name": "stdout",
     "output_type": "stream",
     "text": [
      "Head 10 rows\n"
     ]
    },
    {
     "data": {
      "text/plain": [
       "[['Centro', 'Sé', 'Bela Vista', '271,77', '2,72'],\n",
       " ['Centro', 'Sé', 'Bom Retiro', '420,54', '4,21'],\n",
       " ['Centro', 'Sé', 'Cambuci', '392,42', '3,92'],\n",
       " ['Centro', 'Sé', 'Consolação', '381,51', '3,82'],\n",
       " ['Centro', 'Sé', 'Liberdade', '365,07', '3,65'],\n",
       " ['Centro', 'Sé', 'República', '239,67', '2,40'],\n",
       " ['Centro', 'Sé', 'Santa Cecília', '375,92', '3,76'],\n",
       " ['Centro', 'Sé', 'Sé', '219,36', '2,19'],\n",
       " ['Leste', 'Aricanduva/Formosa/Carrão', 'Aricanduva', '695,83', '6,96'],\n",
       " ['Leste', 'Aricanduva/Formosa/Carrão', 'Carrão', '790,12', '7,90']]"
      ]
     },
     "execution_count": 34,
     "metadata": {},
     "output_type": "execute_result"
    }
   ],
   "source": [
    "# check the first 10 rows\n",
    "print('Head 10 rows')\n",
    "listtmp[:10]"
   ]
  },
  {
   "cell_type": "code",
   "execution_count": 35,
   "metadata": {},
   "outputs": [
    {
     "name": "stdout",
     "output_type": "stream",
     "text": [
      "Tail 10 rows\n"
     ]
    },
    {
     "data": {
      "text/plain": [
       "[['Sul', \"M'Boi Mirim\", 'Jardim Ângela', '3.741,13', '37,41'],\n",
       " ['Sul', \"M'Boi Mirim\", 'Jardim São Luís', '2.604,72', '26,05'],\n",
       " ['Sul', 'Parelheiros', 'Marsilac', '20.818,52', '208,19'],\n",
       " ['Sul', 'Parelheiros', 'Parelheiros', '15.260,75', '152,61'],\n",
       " ['Sul', 'Santo Amaro', 'Campo Belo', '876,98', '8,77'],\n",
       " ['Sul', 'Santo Amaro', 'Campo Grande', '1.295,08', '12,95'],\n",
       " ['Sul', 'Santo Amaro', 'Santo Amaro', '1.603,53', '16,04'],\n",
       " ['Sul', 'Vila Mariana', 'Moema', '907,87', '9,08'],\n",
       " ['Sul', 'Vila Mariana', 'Saúde', '931,12', '9,31'],\n",
       " ['Sul', 'Vila Mariana', 'Vila Mariana', '859,56', '8,60']]"
      ]
     },
     "execution_count": 35,
     "metadata": {},
     "output_type": "execute_result"
    }
   ],
   "source": [
    "#print the last 10 rows\n",
    "print('Tail 10 rows')\n",
    "listtmp[-10:]"
   ]
  },
  {
   "cell_type": "markdown",
   "metadata": {},
   "source": [
    "The list is ready to be stored in a dataframe, the columns names are defined, the data is cleaned and organized. Create the __Neighborhoods Dataframe__, using _Pandas_."
   ]
  },
  {
   "cell_type": "code",
   "execution_count": 36,
   "metadata": {},
   "outputs": [],
   "source": [
    "# create the dataframe\n",
    "df_neighborhoods = pd.DataFrame(data=listtmp, columns=column_names)"
   ]
  },
  {
   "cell_type": "markdown",
   "metadata": {},
   "source": [
    "Check the dataframe head, tail and shape."
   ]
  },
  {
   "cell_type": "code",
   "execution_count": 37,
   "metadata": {},
   "outputs": [
    {
     "data": {
      "text/html": [
       "<div>\n",
       "<style scoped>\n",
       "    .dataframe tbody tr th:only-of-type {\n",
       "        vertical-align: middle;\n",
       "    }\n",
       "\n",
       "    .dataframe tbody tr th {\n",
       "        vertical-align: top;\n",
       "    }\n",
       "\n",
       "    .dataframe thead th {\n",
       "        text-align: right;\n",
       "    }\n",
       "</style>\n",
       "<table border=\"1\" class=\"dataframe\">\n",
       "  <thead>\n",
       "    <tr style=\"text-align: right;\">\n",
       "      <th></th>\n",
       "      <th>region</th>\n",
       "      <th>region_hall</th>\n",
       "      <th>neighborhood</th>\n",
       "      <th>area_ha</th>\n",
       "      <th>area_sqkm</th>\n",
       "    </tr>\n",
       "  </thead>\n",
       "  <tbody>\n",
       "    <tr>\n",
       "      <th>0</th>\n",
       "      <td>Centro</td>\n",
       "      <td>Sé</td>\n",
       "      <td>Bela Vista</td>\n",
       "      <td>271,77</td>\n",
       "      <td>2,72</td>\n",
       "    </tr>\n",
       "    <tr>\n",
       "      <th>1</th>\n",
       "      <td>Centro</td>\n",
       "      <td>Sé</td>\n",
       "      <td>Bom Retiro</td>\n",
       "      <td>420,54</td>\n",
       "      <td>4,21</td>\n",
       "    </tr>\n",
       "    <tr>\n",
       "      <th>2</th>\n",
       "      <td>Centro</td>\n",
       "      <td>Sé</td>\n",
       "      <td>Cambuci</td>\n",
       "      <td>392,42</td>\n",
       "      <td>3,92</td>\n",
       "    </tr>\n",
       "    <tr>\n",
       "      <th>3</th>\n",
       "      <td>Centro</td>\n",
       "      <td>Sé</td>\n",
       "      <td>Consolação</td>\n",
       "      <td>381,51</td>\n",
       "      <td>3,82</td>\n",
       "    </tr>\n",
       "    <tr>\n",
       "      <th>4</th>\n",
       "      <td>Centro</td>\n",
       "      <td>Sé</td>\n",
       "      <td>Liberdade</td>\n",
       "      <td>365,07</td>\n",
       "      <td>3,65</td>\n",
       "    </tr>\n",
       "    <tr>\n",
       "      <th>...</th>\n",
       "      <td>...</td>\n",
       "      <td>...</td>\n",
       "      <td>...</td>\n",
       "      <td>...</td>\n",
       "      <td>...</td>\n",
       "    </tr>\n",
       "    <tr>\n",
       "      <th>91</th>\n",
       "      <td>Sul</td>\n",
       "      <td>Santo Amaro</td>\n",
       "      <td>Campo Grande</td>\n",
       "      <td>1.295,08</td>\n",
       "      <td>12,95</td>\n",
       "    </tr>\n",
       "    <tr>\n",
       "      <th>92</th>\n",
       "      <td>Sul</td>\n",
       "      <td>Santo Amaro</td>\n",
       "      <td>Santo Amaro</td>\n",
       "      <td>1.603,53</td>\n",
       "      <td>16,04</td>\n",
       "    </tr>\n",
       "    <tr>\n",
       "      <th>93</th>\n",
       "      <td>Sul</td>\n",
       "      <td>Vila Mariana</td>\n",
       "      <td>Moema</td>\n",
       "      <td>907,87</td>\n",
       "      <td>9,08</td>\n",
       "    </tr>\n",
       "    <tr>\n",
       "      <th>94</th>\n",
       "      <td>Sul</td>\n",
       "      <td>Vila Mariana</td>\n",
       "      <td>Saúde</td>\n",
       "      <td>931,12</td>\n",
       "      <td>9,31</td>\n",
       "    </tr>\n",
       "    <tr>\n",
       "      <th>95</th>\n",
       "      <td>Sul</td>\n",
       "      <td>Vila Mariana</td>\n",
       "      <td>Vila Mariana</td>\n",
       "      <td>859,56</td>\n",
       "      <td>8,60</td>\n",
       "    </tr>\n",
       "  </tbody>\n",
       "</table>\n",
       "<p>96 rows × 5 columns</p>\n",
       "</div>"
      ],
      "text/plain": [
       "    region   region_hall  neighborhood   area_ha area_sqkm\n",
       "0   Centro            Sé    Bela Vista    271,77      2,72\n",
       "1   Centro            Sé    Bom Retiro    420,54      4,21\n",
       "2   Centro            Sé       Cambuci    392,42      3,92\n",
       "3   Centro            Sé    Consolação    381,51      3,82\n",
       "4   Centro            Sé     Liberdade    365,07      3,65\n",
       "..     ...           ...           ...       ...       ...\n",
       "91     Sul   Santo Amaro  Campo Grande  1.295,08     12,95\n",
       "92     Sul   Santo Amaro   Santo Amaro  1.603,53     16,04\n",
       "93     Sul  Vila Mariana         Moema    907,87      9,08\n",
       "94     Sul  Vila Mariana         Saúde    931,12      9,31\n",
       "95     Sul  Vila Mariana  Vila Mariana    859,56      8,60\n",
       "\n",
       "[96 rows x 5 columns]"
      ]
     },
     "execution_count": 37,
     "metadata": {},
     "output_type": "execute_result"
    }
   ],
   "source": [
    "# check the head, tail and shape\n",
    "df_neighborhoods"
   ]
  },
  {
   "cell_type": "markdown",
   "metadata": {},
   "source": [
    "---"
   ]
  },
  {
   "cell_type": "markdown",
   "metadata": {},
   "source": [
    "### Step 3 - Create a Rental Prices Dataframe for the _Target Location_"
   ]
  },
  {
   "cell_type": "markdown",
   "metadata": {},
   "source": [
    "Searching on the internet, there are several real state websites in São Paulo, but to find a list by neighborhood showing the rental prices is quite hard, there are also economy and financial websites doing monthly analysis to show the prices variation, but the list with prices per neighborhood is also not available.\n",
    "\n",
    "The rental proces list per neighborhood was found in a real state agent website called __Blog SP Imóvel__ (www.spimovel.com.br), which provides real state services all around the city. It hosts additional four websites, one for each city region as follwing;\n",
    "\n",
    "* __Blog ZN Imóvel__ (www.znimovel.com.br) for region _Norte_\n",
    "* __Blog ZS Imóvel__ (www.zsimovel.com.br) for region _Sul_\n",
    "* __Blog ZL Imóvel__ (www.zlimovel.com.br) for region _Leste_\n",
    "* __Blog ZO Imóvel__ (www.zoimovel.com.br) for region _Oeste_"
   ]
  },
  {
   "cell_type": "markdown",
   "metadata": {},
   "source": [
    "To create the __Rental Prices Dataframe__ a request will be sent for each of the mentioned websites, their content parsed, cleaned and organized, to be combined and stored into a unique data frame.\n",
    "\n",
    "The lists can be viewed at the following links;\n",
    "\n",
    "[Blog ZN Imóvel](https://www.znimovel.com.br/blog/qual-o-valor-do-metro-quadrado-do-aluguel-dos-apartamentos-na-zona-norte-de-sao-paulo/2834/) list dated from 2020/02/26\n",
    "\n",
    "[Blog ZS Imóvel](https://www.zsimovel.com.br/blog/qual-o-valor-do-metro-quadrado-do-aluguel-dos-apartamentos-na-zona-sul-de-sao-paulo/2874/) list dated from 2020/03/06\n",
    "\n",
    "[Blog ZL Imóvel](https://www.zlimovel.com.br/blog/qual-o-valor-do-metro-quadrado-do-aluguel-dos-apartamentos-na-zona-leste-de-sao-paulo/2824/) list dated from 2020/02/28\n",
    "\n",
    "[Blog ZO Imóvel](https://www.zoimovel.com.br/blog/qual-o-valor-do-metro-quadrado-do-aluguel-dos-apartamentos-na-zona-oeste-de-sao-paulo/2851/) list dated from 2020/02/28\n"
   ]
  },
  {
   "cell_type": "markdown",
   "metadata": {},
   "source": [
    "Unfotunatelly they do not have the _Centro_ prices listed, to solve this gap, it will be used a monthly research per region by __O Sindicato da Habitação de São Paulo (SECOVI-SP)__ (https://secovi.com.br), which is a housing union. The research is available to download in PDF format. To be  fair with the prices, the research results from February 2020 will be used.\n",
    "\n",
    "Mentioned research results can be viewd at the following link;\n",
    "\n",
    "[SECOVI-SP Pesquisa Mensal de Valores de Locação Residencial Fevereiro 2020](https://secovi.com.br/downloads/pesquisas-e-indices/pml/2020/arquivos/locacao-2020_02_versao-1.pdf)"
   ]
  },
  {
   "cell_type": "markdown",
   "metadata": {},
   "source": [
    "__Region__ ___Norte___ - Send request to the URL using _Requests_."
   ]
  },
  {
   "cell_type": "code",
   "execution_count": 46,
   "metadata": {},
   "outputs": [
    {
     "name": "stdout",
     "output_type": "stream",
     "text": [
      "Data loaded, status 200\n"
     ]
    }
   ],
   "source": [
    "# define a variable for the url\n",
    "url = 'https://www.znimovel.com.br/blog/qual-o-valor-do-metro-quadrado-do-aluguel-dos-apartamentos-na-zona-norte-de-sao-paulo/2834/'\n",
    "\n",
    "# send a request to the URL and store the response\n",
    "raw = requests.get(url)\n",
    "\n",
    "# check if data was loaded [status 200 means success]\n",
    "if raw:\n",
    "    print('Data loaded, status', raw.status_code)\n",
    "else:\n",
    "    print('Error loading data', raw.status_code)"
   ]
  },
  {
   "cell_type": "markdown",
   "metadata": {},
   "source": [
    "Parse the URL content using _BeautifulSoup_ with _html_ parser."
   ]
  },
  {
   "cell_type": "code",
   "execution_count": 47,
   "metadata": {},
   "outputs": [
    {
     "name": "stdout",
     "output_type": "stream",
     "text": [
      "URL content parsed.\n"
     ]
    }
   ],
   "source": [
    "# parse the raw data\n",
    "par = bs(raw.text, 'html.parser')\n",
    "print('URL content parsed.')"
   ]
  },
  {
   "cell_type": "markdown",
   "metadata": {},
   "source": [
    "Check the content returned from the URL, initially, how many tables it contains, the HTML tag _table_ will be the reference for counting."
   ]
  },
  {
   "cell_type": "code",
   "execution_count": 48,
   "metadata": {},
   "outputs": [
    {
     "name": "stdout",
     "output_type": "stream",
     "text": [
      "3 table(s) found in the parsed URL.\n"
     ]
    }
   ],
   "source": [
    "# print number of tables\n",
    "print('{} table(s) found in the parsed URL.'.format(len(par.find_all('table'))))"
   ]
  },
  {
   "cell_type": "markdown",
   "metadata": {},
   "source": [
    "Check the titles of each table to know which of them is the relevant one to be used. The HTML tag _table_ will be used to select the tables, and the tag _tr_ to select the first row form the table."
   ]
  },
  {
   "cell_type": "code",
   "execution_count": 49,
   "metadata": {},
   "outputs": [
    {
     "name": "stdout",
     "output_type": "stream",
     "text": [
      "Title of Table 0\n",
      "\n",
      "Valor médio do metro quadrado do Aluguel\n",
      "\t\t\tApartamentos 1, 2 e 3 dormitórios \n",
      "1 Vaga de Garagem\n",
      "\t\t\tZona Norte - São Paulo\n",
      "\n",
      "Title of Table 1\n",
      "\n",
      "Valor médio do metro quadrado do Aluguel\n",
      "\t\t\tApartamentos 2 e 3 dormitórios \n",
      "2 Vagas de Garagem\n",
      "\t\t\tZona Norte - São Paulo\n",
      "\n",
      "Title of Table 2\n",
      "\n",
      "Valor médio do metro quadrado do Aluguel\n",
      "\t\t\tApartamentos Alto Padrão com 3 SUÌTES ou 4 dormitórios\n",
      "3 ou mais  Vagas de Garagem\n",
      "\t\t\tZona Norte - São Paulo\n",
      "\n"
     ]
    }
   ],
   "source": [
    "# run a loop through the tables [tag table]\n",
    "for i, title in enumerate(par.find_all('table')):\n",
    "    # print the first row [tag tr]\n",
    "    print('Title of Table', i)\n",
    "    print(title.find_all('tr')[0].get_text())"
   ]
  },
  {
   "cell_type": "markdown",
   "metadata": {},
   "source": [
    "Translating results.\n",
    "\n",
    "__Table 0__ contains the mean rental prices per square meter (BRL/m<sup>2</sup>) for apartments with 1, 2 or 3 bedrooms and 1 garage spot\n",
    "\n",
    "__Table 1__ contains the mean rental prices per square meter (BRL/m<sup>2</sup>) for apartments with 2 or 3 bedrooms and 2 garage spots\n",
    "\n",
    "__Table 2__ contains the mean rental prices per square meter (BRL/m<sup>2</sup>) for high standard apartments with 3 bedrooms with private suites or 4 bedrooms and 3 or more garage spots\n",
    "\n",
    " Get the table from the URL content, count the number rows it contains and check its content, the HTML _table_ will be used."
   ]
  },
  {
   "cell_type": "markdown",
   "metadata": {},
   "source": [
    "For this project the __Table 0__ will be used, just to sitck to the basic. Extract the data from the table to a list and check where the required data is located. This will be done running a nested loop through the rows, on the first level, and columns, on the second level. HTML tag _tr_ will be used to extract rows and _td_ to extract the columns."
   ]
  },
  {
   "cell_type": "code",
   "execution_count": 50,
   "metadata": {},
   "outputs": [
    {
     "name": "stdout",
     "output_type": "stream",
     "text": [
      "28 rows loaded.\n"
     ]
    }
   ],
   "source": [
    "# get the table from the URL content\n",
    "par_table = par.find_all('table')[0]\n",
    "\n",
    "# create an empty list for the entire table\n",
    "tabletmp = []\n",
    "\n",
    "# run a loop by row [tag 'tr']\n",
    "for i, row in enumerate(par_table.find_all('tr')):\n",
    "    # create an empty list for the current row\n",
    "    celltmp = []\n",
    "\n",
    "    # run a loop by column for the current row [tag 'td']\n",
    "    for j, column in enumerate(row.find_all('td')):\n",
    "        # append the text of current cell to the list\n",
    "        celltmp.append(column.get_text())\n",
    "\n",
    "    # append current line to the list\n",
    "    tabletmp.append(celltmp)\n",
    "        \n",
    "# inform the number of rows loaded\n",
    "print('{} rows loaded.'.format(len(tabletmp)))"
   ]
  },
  {
   "cell_type": "markdown",
   "metadata": {},
   "source": [
    "Check the head and tail of the list to define the range of required data."
   ]
  },
  {
   "cell_type": "code",
   "execution_count": 51,
   "metadata": {},
   "outputs": [
    {
     "name": "stdout",
     "output_type": "stream",
     "text": [
      "Head 10 rows\n"
     ]
    },
    {
     "data": {
      "text/plain": [
       "[['Valor médio do metro quadrado do Aluguel\\r\\n\\t\\t\\tApartamentos 1, 2 e 3 dormitórios\\xa0\\n1 Vaga de Garagem\\r\\n\\t\\t\\tZona Norte - São Paulo'],\n",
       " ['Bairros', 'Valor médio do m² Aluguel'],\n",
       " ['Santana', 'R$ 23,80'],\n",
       " ['Lauzane Paulista', 'R$ 22,10'],\n",
       " ['Mandaqui', 'R$ 21,70'],\n",
       " ['Tucuruvi', 'R$ 23,00'],\n",
       " ['Parada Inglesa', 'R$ 27,00'],\n",
       " ['Vila Guilherme', 'R$ 25,80'],\n",
       " ['Jardim São Paulo', 'R$ 22,40'],\n",
       " ['Vila Mazzei', 'R$ 23,60']]"
      ]
     },
     "execution_count": 51,
     "metadata": {},
     "output_type": "execute_result"
    }
   ],
   "source": [
    "# print the first 10 rows\n",
    "print('Head 10 rows')\n",
    "tabletmp[:10]"
   ]
  },
  {
   "cell_type": "markdown",
   "metadata": {},
   "source": [
    "The first row contains the table title, the second row the columns headers.\n",
    "\n",
    "Check the tail of the table."
   ]
  },
  {
   "cell_type": "code",
   "execution_count": 52,
   "metadata": {},
   "outputs": [
    {
     "name": "stdout",
     "output_type": "stream",
     "text": [
      "Tail 10 rows\n"
     ]
    },
    {
     "data": {
      "text/plain": [
       "[['Cachoeirinha', 'R$ 21,00'],\n",
       " ['Vila Amália', 'R$ 22,30'],\n",
       " ['Vila Gustavo', 'R$ 23,70'],\n",
       " ['Limão', 'R$ 23,30'],\n",
       " ['Vila Medeiros', 'R$ 22,20'],\n",
       " ['Vila Nova Cachoeirinha', 'R$ 21,80'],\n",
       " ['Tremembé', 'R$ 20,10'],\n",
       " ['Horto Florestal', 'R$ 20,40'],\n",
       " ['Alto de Santana', 'R$ 23,80'],\n",
       " ['Dados Fevereiro 2020\\r\\n\\t\\t\\tPortal ZN Imóvel']]"
      ]
     },
     "execution_count": 52,
     "metadata": {},
     "output_type": "execute_result"
    }
   ],
   "source": [
    "#print the last 10 rows\n",
    "print('Tail 10 rows')\n",
    "tabletmp[-10:]"
   ]
  },
  {
   "cell_type": "markdown",
   "metadata": {},
   "source": [
    "The row 28, the last one, contais the footnote.\n",
    "\n",
    "Check the columns headers in row 2."
   ]
  },
  {
   "cell_type": "code",
   "execution_count": 53,
   "metadata": {},
   "outputs": [
    {
     "data": {
      "text/plain": [
       "['Bairros', 'Valor médio do m² Aluguel']"
      ]
     },
     "execution_count": 53,
     "metadata": {},
     "output_type": "execute_result"
    }
   ],
   "source": [
    "tabletmp[1]"
   ]
  },
  {
   "cell_type": "markdown",
   "metadata": {},
   "source": [
    "There are 2 columns, an english header will be defined for the __Rental Prices Dataframe__ as following:\n",
    "\n",
    "* __neighborhood__ (Bairros), the first column is the Neighborhood name\n",
    "* __mean_price_sqm__ (Valor médio do m<sup>2</sup> Aluguel), the second column is the mean rental price per m<sup>2</sup> in BRL (BRL/m<sup>2</sup>)"
   ]
  },
  {
   "cell_type": "code",
   "execution_count": 54,
   "metadata": {},
   "outputs": [],
   "source": [
    "# define the columns names\n",
    "column_names = ['neighborhood','mean_price_sqm']"
   ]
  },
  {
   "cell_type": "markdown",
   "metadata": {},
   "source": [
    "There are 1 title row and 1 header row, the first 2 rows at the top will be ignored. At the bottom 1 footnote row  will be ignored. The data ranges from row 3 (index 2) to row 27 (index 26), counting 25 neighborhoods in region _Norte_.\n",
    "\n",
    "Extract only the data rows from the table and count the number of rows left."
   ]
  },
  {
   "cell_type": "code",
   "execution_count": 55,
   "metadata": {},
   "outputs": [
    {
     "name": "stdout",
     "output_type": "stream",
     "text": [
      "25 rows left.\n"
     ]
    }
   ],
   "source": [
    "tabletmp = tabletmp[2:27]\n",
    "print('{} rows left.'.format(len(tabletmp)))"
   ]
  },
  {
   "cell_type": "markdown",
   "metadata": {},
   "source": [
    "The list is ready to be stored in a dataframe. Create the __Rental Prices Norte Dataframe__, using _Pandas_."
   ]
  },
  {
   "cell_type": "code",
   "execution_count": 87,
   "metadata": {},
   "outputs": [],
   "source": [
    "# create the dataframe\n",
    "df_rentalpricesN = pd.DataFrame(data=tabletmp, columns=column_names)"
   ]
  },
  {
   "cell_type": "markdown",
   "metadata": {},
   "source": [
    "Check the dataframe head."
   ]
  },
  {
   "cell_type": "code",
   "execution_count": 63,
   "metadata": {},
   "outputs": [
    {
     "data": {
      "text/html": [
       "<div>\n",
       "<style scoped>\n",
       "    .dataframe tbody tr th:only-of-type {\n",
       "        vertical-align: middle;\n",
       "    }\n",
       "\n",
       "    .dataframe tbody tr th {\n",
       "        vertical-align: top;\n",
       "    }\n",
       "\n",
       "    .dataframe thead th {\n",
       "        text-align: right;\n",
       "    }\n",
       "</style>\n",
       "<table border=\"1\" class=\"dataframe\">\n",
       "  <thead>\n",
       "    <tr style=\"text-align: right;\">\n",
       "      <th></th>\n",
       "      <th>neighborhood</th>\n",
       "      <th>mean_price_sqm</th>\n",
       "    </tr>\n",
       "  </thead>\n",
       "  <tbody>\n",
       "    <tr>\n",
       "      <th>0</th>\n",
       "      <td>Santana</td>\n",
       "      <td>R$ 23,80</td>\n",
       "    </tr>\n",
       "    <tr>\n",
       "      <th>1</th>\n",
       "      <td>Lauzane Paulista</td>\n",
       "      <td>R$ 22,10</td>\n",
       "    </tr>\n",
       "    <tr>\n",
       "      <th>2</th>\n",
       "      <td>Mandaqui</td>\n",
       "      <td>R$ 21,70</td>\n",
       "    </tr>\n",
       "    <tr>\n",
       "      <th>3</th>\n",
       "      <td>Tucuruvi</td>\n",
       "      <td>R$ 23,00</td>\n",
       "    </tr>\n",
       "    <tr>\n",
       "      <th>4</th>\n",
       "      <td>Parada Inglesa</td>\n",
       "      <td>R$ 27,00</td>\n",
       "    </tr>\n",
       "  </tbody>\n",
       "</table>\n",
       "</div>"
      ],
      "text/plain": [
       "       neighborhood mean_price_sqm\n",
       "0           Santana       R$ 23,80\n",
       "1  Lauzane Paulista       R$ 22,10\n",
       "2          Mandaqui       R$ 21,70\n",
       "3          Tucuruvi       R$ 23,00\n",
       "4    Parada Inglesa       R$ 27,00"
      ]
     },
     "execution_count": 63,
     "metadata": {},
     "output_type": "execute_result"
    }
   ],
   "source": [
    "# check the head\n",
    "df_rentalpricesN.head()"
   ]
  },
  {
   "cell_type": "markdown",
   "metadata": {},
   "source": [
    "Actually data at the price column doesn't have a good fit, as it contains the currency symbol and the decimal separator is comma, the Brazilian standard. Convert the price string to float format. This will be done firstly removing the currency symbol, then replacing the decimal separator, both using _Pandas apply_ metohd, and finally converting string to float in the dataframe."
   ]
  },
  {
   "cell_type": "code",
   "execution_count": 102,
   "metadata": {},
   "outputs": [
    {
     "data": {
      "text/html": [
       "<div>\n",
       "<style scoped>\n",
       "    .dataframe tbody tr th:only-of-type {\n",
       "        vertical-align: middle;\n",
       "    }\n",
       "\n",
       "    .dataframe tbody tr th {\n",
       "        vertical-align: top;\n",
       "    }\n",
       "\n",
       "    .dataframe thead th {\n",
       "        text-align: right;\n",
       "    }\n",
       "</style>\n",
       "<table border=\"1\" class=\"dataframe\">\n",
       "  <thead>\n",
       "    <tr style=\"text-align: right;\">\n",
       "      <th></th>\n",
       "      <th>neighborhood</th>\n",
       "      <th>mean_price_sqm</th>\n",
       "    </tr>\n",
       "  </thead>\n",
       "  <tbody>\n",
       "    <tr>\n",
       "      <th>0</th>\n",
       "      <td>Santana</td>\n",
       "      <td>23.80</td>\n",
       "    </tr>\n",
       "    <tr>\n",
       "      <th>1</th>\n",
       "      <td>Lauzane Paulista</td>\n",
       "      <td>22.10</td>\n",
       "    </tr>\n",
       "    <tr>\n",
       "      <th>2</th>\n",
       "      <td>Mandaqui</td>\n",
       "      <td>21.70</td>\n",
       "    </tr>\n",
       "    <tr>\n",
       "      <th>3</th>\n",
       "      <td>Tucuruvi</td>\n",
       "      <td>23.00</td>\n",
       "    </tr>\n",
       "    <tr>\n",
       "      <th>4</th>\n",
       "      <td>Parada Inglesa</td>\n",
       "      <td>27.00</td>\n",
       "    </tr>\n",
       "  </tbody>\n",
       "</table>\n",
       "</div>"
      ],
      "text/plain": [
       "       neighborhood mean_price_sqm\n",
       "0           Santana          23.80\n",
       "1  Lauzane Paulista          22.10\n",
       "2          Mandaqui          21.70\n",
       "3          Tucuruvi          23.00\n",
       "4    Parada Inglesa          27.00"
      ]
     },
     "execution_count": 102,
     "metadata": {},
     "output_type": "execute_result"
    }
   ],
   "source": [
    "# remove currency symbol\n",
    "df_rentalpricesN['mean_price_sqm'] = df_rentalpricesN['mean_price_sqm'].apply(lambda x : x.replace('R$ ', ''))\n",
    "\n",
    "# change decimal separator\n",
    "df_rentalpricesN['mean_price_sqm'] = df_rentalpricesN['mean_price_sqm'].apply(lambda x : x.replace(',', '.'))\n",
    "\n",
    "# check the head\n",
    "df_rentalpricesN.head()"
   ]
  },
  {
   "cell_type": "markdown",
   "metadata": {},
   "source": [
    "Check the dataframe columns data types."
   ]
  },
  {
   "cell_type": "code",
   "execution_count": 103,
   "metadata": {},
   "outputs": [
    {
     "data": {
      "text/plain": [
       "neighborhood      object\n",
       "mean_price_sqm    object\n",
       "dtype: object"
      ]
     },
     "execution_count": 103,
     "metadata": {},
     "output_type": "execute_result"
    }
   ],
   "source": [
    "# print the columns data types\n",
    "df_rentalpricesN.dtypes"
   ]
  },
  {
   "cell_type": "markdown",
   "metadata": {},
   "source": [
    "Change the type for the __mean_price_sqm__ from _object_ to _float_."
   ]
  },
  {
   "cell_type": "code",
   "execution_count": 107,
   "metadata": {},
   "outputs": [
    {
     "data": {
      "text/plain": [
       "neighborhood       object\n",
       "mean_price_sqm    float64\n",
       "dtype: object"
      ]
     },
     "execution_count": 107,
     "metadata": {},
     "output_type": "execute_result"
    }
   ],
   "source": [
    "# convert the price column to float\n",
    "df_rentalpricesN = df_rentalpricesN.astype({'mean_price_sqm': 'float64'})\n",
    "\n",
    "# print the columns data types\n",
    "df_rentalpricesN.dtypes"
   ]
  },
  {
   "cell_type": "code",
   "execution_count": 108,
   "metadata": {},
   "outputs": [
    {
     "data": {
      "text/html": [
       "<div>\n",
       "<style scoped>\n",
       "    .dataframe tbody tr th:only-of-type {\n",
       "        vertical-align: middle;\n",
       "    }\n",
       "\n",
       "    .dataframe tbody tr th {\n",
       "        vertical-align: top;\n",
       "    }\n",
       "\n",
       "    .dataframe thead th {\n",
       "        text-align: right;\n",
       "    }\n",
       "</style>\n",
       "<table border=\"1\" class=\"dataframe\">\n",
       "  <thead>\n",
       "    <tr style=\"text-align: right;\">\n",
       "      <th></th>\n",
       "      <th>neighborhood</th>\n",
       "      <th>mean_price_sqm</th>\n",
       "    </tr>\n",
       "  </thead>\n",
       "  <tbody>\n",
       "    <tr>\n",
       "      <th>0</th>\n",
       "      <td>Santana</td>\n",
       "      <td>23.8</td>\n",
       "    </tr>\n",
       "    <tr>\n",
       "      <th>1</th>\n",
       "      <td>Lauzane Paulista</td>\n",
       "      <td>22.1</td>\n",
       "    </tr>\n",
       "    <tr>\n",
       "      <th>2</th>\n",
       "      <td>Mandaqui</td>\n",
       "      <td>21.7</td>\n",
       "    </tr>\n",
       "    <tr>\n",
       "      <th>3</th>\n",
       "      <td>Tucuruvi</td>\n",
       "      <td>23.0</td>\n",
       "    </tr>\n",
       "    <tr>\n",
       "      <th>4</th>\n",
       "      <td>Parada Inglesa</td>\n",
       "      <td>27.0</td>\n",
       "    </tr>\n",
       "  </tbody>\n",
       "</table>\n",
       "</div>"
      ],
      "text/plain": [
       "       neighborhood  mean_price_sqm\n",
       "0           Santana            23.8\n",
       "1  Lauzane Paulista            22.1\n",
       "2          Mandaqui            21.7\n",
       "3          Tucuruvi            23.0\n",
       "4    Parada Inglesa            27.0"
      ]
     },
     "execution_count": 108,
     "metadata": {},
     "output_type": "execute_result"
    }
   ],
   "source": [
    "df_rentalpricesN.head()"
   ]
  },
  {
   "cell_type": "markdown",
   "metadata": {},
   "source": [
    "For regions _Sul_, _Leste_ and _Oeste_ the task should be the same, but they will be performed less didatically as it is only repetition."
   ]
  }
 ],
 "metadata": {
  "kernelspec": {
   "display_name": "Python 3",
   "language": "python",
   "name": "python3"
  },
  "language_info": {
   "codemirror_mode": {
    "name": "ipython",
    "version": 3
   },
   "file_extension": ".py",
   "mimetype": "text/x-python",
   "name": "python",
   "nbconvert_exporter": "python",
   "pygments_lexer": "ipython3",
   "version": "3.6.8"
  }
 },
 "nbformat": 4,
 "nbformat_minor": 4
}
